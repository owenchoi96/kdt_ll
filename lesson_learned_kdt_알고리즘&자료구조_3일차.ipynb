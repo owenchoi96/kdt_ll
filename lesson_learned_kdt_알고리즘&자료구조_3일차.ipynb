{
 "cells": [
  {
   "cell_type": "code",
   "execution_count": 1,
   "id": "3ed3658f",
   "metadata": {},
   "outputs": [],
   "source": [
    "# 자료구조, 알고리즘을 할 때 항상 전반적인 사야가 넓어야 함\n",
    "# (IT 분야에)시야가 넓으면 좋은점:\n",
    "    # 다른 분야에 적용 가능\n",
    "# 디테일만 강하면:\n",
    "    # 다른 분야에 적용을 잘하지 못함.     \n",
    "    \n",
    "# 알고리즘을 잘 알수록, 자료 구조를 잘 알수록 이해가 더 깊어지고 발전 가능성이 있다고 봄. \n",
    "# ---> 전체적인 구조를 잘 보자!"
   ]
  },
  {
   "cell_type": "code",
   "execution_count": null,
   "id": "73bacd50",
   "metadata": {},
   "outputs": [],
   "source": [
    "## 자료구조 (요리의 재료 + 재료를 다듬는 방법)\n",
    "    # 선형 (한줄로 되어있는 형태)\n",
    "        # 리스트\n",
    "            # 순차 리스트 : 배열\n",
    "            # 단순 연결 리스트 : 노드 (=데이터 + 링크), 링크가 비어있는게 마지막 노드\n",
    "            # 원형 연결 리스트 : 마지막 노드가 다시 head를 가리킴\n",
    "        # 스택 (한쪽이 막힌 파이프)\n",
    "            # push, pop, top\n",
    "        # 큐\n",
    "            # 순차 큐 : 양쪽이 뚫린 파이프 --> 오버헤드가 발생된 소지가 있음 --> 데이터가 적을 때 사용\n",
    "            # 원형 큐 : 꼬리와 머리를 연결한 구조 (%SIZE) --> 데이터가 많을 때 사용 \n",
    "    # 비선형 (갈라지는 형태)\n",
    "        # 트리\n",
    "            # 이진 트리 (차수가 최대 2/자식이 최대 2)\n",
    "                # 이진 탐색 트리 : 작은 거 왼쪽 큰거 오른쪽 \n",
    "                    # : 트리를 생성하고 다른 디스크에 저장을 하고, 검색을 할 때만 다시 불러오기 \n",
    "        # 그래프\n",
    "\n",
    "## 알고리즘 (요리법) --> 개념 30% + 구현 70% \n",
    "    # 정렬\n",
    "        # 선택 정렬\n",
    "        # 버블 정렬\n",
    "        # 퀵 정렬 : 성능 짱! --> 현실은 퀵 정렬이 느릴 때도 있음. \n",
    "                                # 그 때는 버블정렬을 쓸 수도 있음. (가끔)\n",
    "    # 검색\n",
    "        # 순차 검색\n",
    "        # 이진 검색 (성능 좋고 많이 사용됨.)\n",
    "    # 재귀 (30분 이상 실습~) --> 안 써도 되기는 함. 반복문으로 구현이 가능. "
   ]
  },
  {
   "cell_type": "markdown",
   "id": "4b0a3f7d",
   "metadata": {},
   "source": [
    "## 그래프"
   ]
  },
  {
   "cell_type": "code",
   "execution_count": null,
   "id": "c6d9b35a",
   "metadata": {},
   "outputs": [],
   "source": [
    "# 그래프 개념 : 여러 노드가 서로 연결된 자료구조\n",
    "# 트리는 그래프의 한 종류 --> 트리는 명확한 상하 관계를 가지고 있음.\n",
    "# 그래프를 활용한 예 : 지하철 노선도, KTX 노선도, 도시 도로망, 전기 회로도...\n",
    "\n",
    "# 무방향 그래프 : 간선에 방향성이 없는 그래프 \n",
    "# 정점 -- vertex (노드가 아님)\n",
    "\n",
    "# 깊이 우선 탐색의 작동\n",
    "    # 그래프의 모든 정점을 한 번씩 방문하는 것을 그래프의 순회(Graph Traversal)라고 함.\n",
    "    # 차수에 제한이 없음. \n",
    "    # 그래프 순회 방식은 깊이 우선 탐색, 너비 우선 탐색이 대표적 \n",
    "    # 그래프는 루트가 없음, 그래프는 모든 정점이 동일 \n",
    "    # 방문할 정점이 더이상 없으면 다시 돌아감. \n",
    "    \n",
    "# 그래프의 인접 행렬 표현 (2차 배열로 표현)\n",
    "    # 그래프를 코드로 구현할 때는 인접 행렬을 사용\n",
    "    # 인접 행렬은 정방형으로 구성된 행렬로 정점이 4개인 그래프는 4x4로 표현함. "
   ]
  },
  {
   "cell_type": "markdown",
   "id": "49864881",
   "metadata": {},
   "source": [
    "**구현**"
   ]
  },
  {
   "cell_type": "code",
   "execution_count": 4,
   "id": "d0bc78af",
   "metadata": {},
   "outputs": [
    {
     "name": "stdout",
     "output_type": "stream",
     "text": [
      "0 1 1 1 \n",
      "1 0 1 0 \n",
      "1 1 0 1 \n",
      "1 0 1 0 \n",
      "\n"
     ]
    }
   ],
   "source": [
    "## 함수\n",
    "class Graph():\n",
    "    def __init__(self, size):\n",
    "        self.graph = [[0 for _ in range(size)] for _i in range(size)]\n",
    "        \n",
    "\n",
    "\n",
    "## 전역\n",
    "G1 = None\n",
    "SIZE=4\n",
    "A, B, C, D = 0, 1, 2, 3\n",
    "\n",
    "\n",
    "## 메인\n",
    "G1 = Graph(SIZE)\n",
    "G1.graph[A][B] = 1; G1.graph[A][C] = 1; G1.graph[A][D] = 1\n",
    "G1.graph[B][A] = 1; G1.graph[C][A] = 1; G1.graph[D][A] = 1\n",
    "G1.graph[B][C] = 1; G1.graph[D][C] = 1\n",
    "G1.graph[C][B] = 1; G1.graph[C][D] = 1\n",
    "\n",
    "\n",
    "\n",
    "for row in range(SIZE):\n",
    "    for col in range(SIZE):\n",
    "        print(G1.graph[row][col], end=' ')\n",
    "    print()\n",
    "print()"
   ]
  },
  {
   "cell_type": "code",
   "execution_count": 5,
   "id": "f0358b12",
   "metadata": {},
   "outputs": [],
   "source": [
    "# 이후 실제 그래프를 하면 책 한권이상이 됨 // 여기까지"
   ]
  },
  {
   "cell_type": "code",
   "execution_count": null,
   "id": "fbd0ed1f",
   "metadata": {},
   "outputs": [],
   "source": []
  },
  {
   "cell_type": "markdown",
   "id": "6a686eff",
   "metadata": {},
   "source": [
    "# 알고리즘"
   ]
  },
  {
   "cell_type": "code",
   "execution_count": 6,
   "id": "4bd00237",
   "metadata": {},
   "outputs": [],
   "source": [
    "# 개념은 쉬운데 구현이 어려움"
   ]
  },
  {
   "cell_type": "markdown",
   "id": "60f337a3",
   "metadata": {},
   "source": [
    "**정렬**"
   ]
  },
  {
   "cell_type": "code",
   "execution_count": null,
   "id": "eed5973a",
   "metadata": {},
   "outputs": [],
   "source": [
    "# 학교 출석부 또는 종류에 따라 가지런히 놓여 잇는 칼들처럼 순서대로 데이터가 나열되어 있는 것. \n",
    "# 정렬의 개념: (크게 두가지)\n",
    "    # 작은 키에서 큰 키 순으로 오름차순 정렬 \n",
    "    # 무거운 순에서 가벼운 순으로 내림차순 정렬\n",
    "    \n",
    "# 정렬 알고리즘의 종류 --> 결과는 동일함. \n",
    "    # 선택 정렬\n",
    "    # 삽입 정렬\n",
    "    # 버블 정렬\n",
    "    # 퀵 정렬"
   ]
  },
  {
   "cell_type": "markdown",
   "id": "e122f195",
   "metadata": {},
   "source": [
    "## 선택 정렬"
   ]
  },
  {
   "cell_type": "code",
   "execution_count": null,
   "id": "a8e9cee6",
   "metadata": {},
   "outputs": [],
   "source": [
    "# 개념 : 여러 데이터 중에서 가장 작은 값을 뽑는 작동을 반복하여 값을 정렬\n",
    "    # ex) 가족을 선택 정렬 방법으로 키 순으로 세우는 과정.\n",
    "    #     제일 작은 가족 구성원부터 빈 방으로 들어감. \n",
    "    # --> 우리 중에 제일 작은 구성원 먼저 찾기\n",
    "    \n",
    "# 최솟값을 찾는 방법\n",
    "    # 1. 배열의 첫 번째 값을 가장 작은 값으로 지정\n",
    "    # 2. 가장 작은 값으로 지정한 값을 다음 차례의 값과 비교하여 가장 작은 값을 변경하거나\n",
    "    #    그대로 두는 방법 \n",
    "    # 3. 마지막 값까지 비교를 마친 후 현재 가장 작은 값으로 지정된 값을 가장 작은 값으로 결정. "
   ]
  },
  {
   "cell_type": "markdown",
   "id": "f690be54",
   "metadata": {},
   "source": [
    "**구현 예시 1**"
   ]
  },
  {
   "cell_type": "code",
   "execution_count": 15,
   "id": "be0f7d69",
   "metadata": {},
   "outputs": [
    {
     "name": "stdout",
     "output_type": "stream",
     "text": [
      "min value :  33\n"
     ]
    }
   ],
   "source": [
    "## 함수\n",
    "def findMinIndex(ary):\n",
    "    minIdex = 0\n",
    "    for i in range(1, len(ary)):\n",
    "        if (ary[minIdex] > ary[i]):\n",
    "            minIdx = i\n",
    "    return minIdx   \n",
    "\n",
    "\n",
    "## 전역\n",
    "dataAry = [55, 88, 33, 77] # 배열 준비\n",
    "\n",
    "\n",
    "\n",
    "## 메인\n",
    "minPos = findMinIndex(dataAry)\n",
    "print('min value : ', dataAry[minPos])"
   ]
  },
  {
   "cell_type": "markdown",
   "id": "630e0463",
   "metadata": {},
   "source": [
    "**구현 예시 2**"
   ]
  },
  {
   "cell_type": "code",
   "execution_count": 18,
   "id": "1f5e6809",
   "metadata": {},
   "outputs": [
    {
     "name": "stdout",
     "output_type": "stream",
     "text": [
      "[184, 32, 115, 162, 87, 71, 66, 116, 110, 143, 158, 49, 147, 89, 166, 40, 45, 133, 112, 117]\n",
      "min value :  32\n"
     ]
    }
   ],
   "source": [
    "## 함수\n",
    "import random\n",
    "\n",
    "def findMinIndex(ary):\n",
    "    minIdx = 0\n",
    "    for i in range(1, len(ary)):\n",
    "        if (ary[minIdx] > ary[i]):\n",
    "            minIdx = i\n",
    "    return minIdx   \n",
    "\n",
    "\n",
    "## 전역\n",
    "dataAry = [random.randint(30,200) for _ in range(20)]\n",
    "\n",
    "\n",
    "\n",
    "## 메인\n",
    "print(dataAry)\n",
    "minPos = findMinIndex(dataAry)\n",
    "print('min value : ', dataAry[minPos])"
   ]
  },
  {
   "cell_type": "markdown",
   "id": "0a04675f",
   "metadata": {},
   "source": [
    "**선택 정렬 실무 코드**"
   ]
  },
  {
   "cell_type": "code",
   "execution_count": 23,
   "id": "36e408c0",
   "metadata": {},
   "outputs": [
    {
     "name": "stdout",
     "output_type": "stream",
     "text": [
      "정렬 전 --->  [36, 178, 176, 67, 71, 130, 198, 69, 155, 137, 101, 68, 59, 102, 177, 170, 56, 176, 195, 174, 170, 198, 190, 50, 185, 193, 68, 79, 141, 188, 66, 155, 56, 177, 145, 38, 128, 157, 77, 153, 188, 55, 117, 57, 53, 116, 70, 146, 34, 62, 98, 70, 37, 131, 37, 170, 127, 193, 167, 179, 72, 97, 186, 121, 130, 141, 196, 73, 180, 50, 115, 96, 196, 147, 44, 113, 143, 123, 68, 156, 43, 114, 104, 85, 30, 107, 115, 143, 162]\n",
      "정렬 후 ---> [30, 34, 36, 37, 37, 38, 43, 44, 50, 50, 53, 55, 56, 56, 57, 59, 62, 66, 67, 68, 68, 68, 69, 70, 70, 71, 72, 73, 77, 79, 85, 96, 97, 98, 101, 102, 104, 107, 113, 114, 115, 115, 116, 117, 121, 123, 127, 128, 130, 130, 131, 137, 141, 141, 143, 143, 145, 146, 147, 153, 155, 155, 156, 157, 162, 167, 170, 170, 170, 174, 176, 176, 177, 177, 178, 179, 180, 185, 186, 188, 188, 190, 193, 193, 195, 196, 196, 198, 198]\n"
     ]
    }
   ],
   "source": [
    "## 함수\n",
    "import random\n",
    "\n",
    "def findMinIndex(ary):\n",
    "    minIdx = 0\n",
    "    for i in range(1, len(ary)):\n",
    "        if (ary[minIdx] > ary[i]):\n",
    "            minIdx = i\n",
    "    return minIdx   \n",
    "\n",
    "\n",
    "## 전역 변수\n",
    "before = [random.randint(30,200) for _ in range(89)] # 정렬 전의 방\n",
    "after = [] # 정렬 후의 방\n",
    "\n",
    "\n",
    "## 메인 코드\n",
    "print('정렬 전 ---> ', before)\n",
    "for _ in range(len(before)): # 파이썬에서 권장이 i를 안쓸거면 underscore 쓰기 \n",
    "    minPos = findMinIndex(before)\n",
    "    after.append(before[minPos]) # 작은 값을 찾은 후 after 방으로 옮기기 \n",
    "    del (before[minPos]) # 옮겨지면 지우기 \n",
    "\n",
    "print('정렬 후 --->', after)\n"
   ]
  },
  {
   "cell_type": "code",
   "execution_count": 29,
   "id": "8a852e02",
   "metadata": {},
   "outputs": [
    {
     "name": "stdout",
     "output_type": "stream",
     "text": [
      "original array [108, 39, 177, 109, 75, 167, 79, 163]\n",
      "sorted array [39, 75, 79, 108, 109, 163, 167, 177]\n"
     ]
    }
   ],
   "source": [
    "# ------------------ 나홀로 practice ------------------ \n",
    "## 전역 변수\n",
    "before = [random.randint(30,200) for _ in range(8)] # 정렬 전의 방\n",
    "after = [] # 정렬 후의 방\n",
    "\n",
    "## 함수\n",
    "\n",
    "def find_min_index(array):\n",
    "    min_idx = 0\n",
    "    for i in range(len(array)):\n",
    "        if before[min_idx] > before[i]:\n",
    "            min_idx = i\n",
    "    return min_idx\n",
    "\n",
    "\n",
    "## main\n",
    "print('original array', before)\n",
    "for _ in range(len(before)):\n",
    "    min_pos = find_min_index(before)\n",
    "    after.append(before[min_pos]) \n",
    "    del before[min_pos] # 작은 값을 찾아서 after array에 넣어주었다면 혼동을 주지 않기 위해\n",
    "                        # before에서 작은 값을 빼주기 \n",
    "\n",
    "print('sorted array', after)"
   ]
  },
  {
   "cell_type": "code",
   "execution_count": null,
   "id": "637d7fd6",
   "metadata": {},
   "outputs": [],
   "source": [
    "## 선택 정렬을 안쓰는 이유\n",
    "    # 왜 두방을 쓰지?\n",
    "    # 개념은 쉽고 좋으나, 한방에 해결하기 어려울 수 있음\n",
    "    # 때문에 한방에 해결하기 위한 실전 코드 아래"
   ]
  },
  {
   "cell_type": "markdown",
   "id": "b1e61722",
   "metadata": {},
   "source": [
    "**완전한 실전 실무 코드**"
   ]
  },
  {
   "cell_type": "code",
   "execution_count": 30,
   "id": "37b91b78",
   "metadata": {},
   "outputs": [],
   "source": [
    "# 한개방에서 해결하기\n",
    "# 데이터가 4개이면 총 3회의 사이클이 필요함. \n",
    "# 사이클 수 = 데이터 개수 - 1\n",
    "# --> 이중 반복문이 나와야 됨. "
   ]
  },
  {
   "cell_type": "code",
   "execution_count": 33,
   "id": "e957c04e",
   "metadata": {},
   "outputs": [
    {
     "name": "stdout",
     "output_type": "stream",
     "text": [
      "정렬 전 -->  [91, 30, 138, 119]\n",
      "정렬 후 --> [30, 91, 119, 138]\n"
     ]
    }
   ],
   "source": [
    "import random\n",
    "## 함수 선언\n",
    "def selectionSort(Ary):\n",
    "    n = len(Ary) # 데이터 개수\n",
    "    for i in range(0, n-1):\n",
    "        min_idx = i\n",
    "        for j in range(i+1, n):\n",
    "            if (Ary[min_idx] > Ary[j]):\n",
    "                min_idx = j\n",
    "        Ary[i], Ary[min_idx] = Ary[min_idx], Ary[i] # 사이클의 맨 앞인 i 인덱스와 값을 바꿔줘야 됨. \n",
    "    return Ary\n",
    "\n",
    "\n",
    "## 전역 변수\n",
    "dataAry = [random.randint(30,200) for _ in range(4)]\n",
    "\n",
    "\n",
    "\n",
    "## 메인 코드 \n",
    "print('정렬 전 --> ', dataAry)\n",
    "dataAry = selectionSort(dataAry)\n",
    "\n",
    "\n",
    "print('정렬 후 -->', dataAry)"
   ]
  },
  {
   "cell_type": "code",
   "execution_count": null,
   "id": "f072bb7c",
   "metadata": {},
   "outputs": [],
   "source": [
    "# --- practice ---\n",
    "def selectionSort(dataAry):\n",
    "    n = len(dataAry)\n",
    "    for i in range(0, n-1):\n",
    "        min_idx = i\n",
    "        for j in range(i+1, n):\n",
    "            if dataAry[min_idx] > dataAry[j]: # 사실상 dataAry[min_idx] 자리는 고정이고, j만 바뀌면서 비교\n",
    "                min_idx = j                   # 마지막에 min_idx가 된 j 인덱스의 dataAry 값을\n",
    "                                              # i 인덱스 자리의 값과 바꿔줌\n",
    "        dataAry[i], dataAry[min_idx] = dataAry[min_idx], dataAry[i]\n",
    "        \n",
    "    return dataAry"
   ]
  },
  {
   "cell_type": "code",
   "execution_count": null,
   "id": "31557fcc",
   "metadata": {},
   "outputs": [],
   "source": [
    "# 삽입정렬은 성능도 똑같고 따로 다른 것이 없기 때문에\n",
    "# 우선 선택정렬 하나를 파는 것으로 굳히기"
   ]
  },
  {
   "cell_type": "code",
   "execution_count": null,
   "id": "46f65558",
   "metadata": {},
   "outputs": [],
   "source": []
  },
  {
   "cell_type": "markdown",
   "id": "a46805d1",
   "metadata": {},
   "source": [
    "## 검색"
   ]
  },
  {
   "cell_type": "code",
   "execution_count": null,
   "id": "e7a27809",
   "metadata": {},
   "outputs": [],
   "source": [
    "# '검색'은 정렬된 상태에서 빠르게 원하는 것을 찾을 수 있음. \n",
    "\n",
    "# 순차 검색 ==> 하나씩 처음부터 찾아봄 (뒤죽박죽 되어있는 것에는)\n",
    "# 이진 검색 ==> 성능이 굉장히 좋음. (카카오톡 검색은 이진 검색때문에 빠르게 검색됨.) \n",
    "\n",
    "# 검색 알고리즘의 종류\n",
    "    # 순차 검색\n",
    "        # 검색할 집합이 정렬되어 있지 않을 상태일 때\n",
    "        # 비효율적\n",
    "        # 집합의 데이터가 정렬되어 있지 않다면 이 검색 외에 특별한 방법 없음\n",
    "    # 이진 검색\n",
    "        # 데이터가 정렬되어 있다면 이진 검색도 가능\n",
    "        # 순차 검색에 비해 월등히 효율적임\n",
    "    # 트리 검색\n",
    "        # 데이터 검색에는 상당히 효율적이지만 트리의 삽입, 삭제 등에는 부담. \n",
    "        "
   ]
  },
  {
   "cell_type": "markdown",
   "id": "4a0dc4b3",
   "metadata": {},
   "source": [
    "**순차 검색 01**"
   ]
  },
  {
   "cell_type": "code",
   "execution_count": 37,
   "id": "836358e5",
   "metadata": {},
   "outputs": [
    {
     "name": "stdout",
     "output_type": "stream",
     "text": [
      "배열 --->  [33, 197, 109, 61, 58, 44, 112, 113]\n",
      "197 가 1 번째 있어요\n"
     ]
    }
   ],
   "source": [
    "import random\n",
    "## 함수\n",
    "def seqSearch(ary, fData):\n",
    "    pos = -1\n",
    "    size = len(ary)\n",
    "    for i in range(size):\n",
    "        if (ary[i] == fData):\n",
    "            pos = i\n",
    "    return pos\n",
    "\n",
    "\n",
    "## 변수\n",
    "dataAry = [random.randint(30,200) for _ in range(8)]\n",
    "findData = random.choice(dataAry) # dataAry 중에 하나 찾기. \n",
    "\n",
    "## 메인\n",
    "print('배열 ---> ', dataAry)\n",
    "position = seqSearch(dataAry, findData)\n",
    "if (position == -1): # 못 찾으면 -1을 반환함. \n",
    "    print ('검색실패')\n",
    "else:\n",
    "    print(findData, '가', position, '번째 있어요')"
   ]
  },
  {
   "cell_type": "markdown",
   "id": "2bfd9b45",
   "metadata": {},
   "source": [
    "**순차 검색 02 (정렬된 상태에서 찾기)**"
   ]
  },
  {
   "cell_type": "code",
   "execution_count": 46,
   "id": "6e659bd8",
   "metadata": {},
   "outputs": [
    {
     "name": "stdout",
     "output_type": "stream",
     "text": [
      "배열 --->  [34, 40, 62, 115, 156, 178, 183, 198]\n",
      "비교 34\n",
      "비교 40\n",
      "비교 62\n",
      "비교 115\n",
      "비교 156\n",
      "비교 178\n",
      "비교 183\n",
      "비교 198\n",
      "검색실패\n"
     ]
    }
   ],
   "source": [
    "import random\n",
    "## 함수\n",
    "def seqSearch2(ary, fData):\n",
    "    pos = -1\n",
    "    size = len(ary)\n",
    "    for i in range(size):\n",
    "        print('비교', ary[i])\n",
    "        if (ary[i] == fData):\n",
    "            pos = i\n",
    "            break\n",
    "        elif (ary[i] > fData): # fData가 리스트 범위 안에 없으면 ary[i] > fData 일수가 없음. \n",
    "                               # why? --> randint의 범위가 30~200 이기 때문에\n",
    "            break\n",
    "    return pos\n",
    "    \n",
    "\n",
    "\n",
    "## 전역\n",
    "dataAry = [random.randint(30,200) for _ in range(8)]\n",
    "findData = random.choice(dataAry)\n",
    "dataAry.sort()\n",
    "findData = 444\n",
    "\n",
    "\n",
    "## 메인\n",
    "print('배열 ---> ', dataAry)\n",
    "position = seqSearch2(dataAry, findData)\n",
    "if (position == -1): # 못 찾으면 -1을 반환함. \n",
    "    print ('검색실패')\n",
    "else:\n",
    "    print(findData, '가', position, '번째 있어요')"
   ]
  },
  {
   "cell_type": "markdown",
   "id": "0f889337",
   "metadata": {},
   "source": [
    "**이진 검색**"
   ]
  },
  {
   "cell_type": "code",
   "execution_count": null,
   "id": "c5d50ac0",
   "metadata": {},
   "outputs": [],
   "source": [
    "# 이진 검색의 핵심 ==> 반 자르기\n",
    "\n",
    "# 이진 검색의 원리와 시간 복잡도\n",
    "    # 이진 검색은 전체를 반씩 잘라 내서 한쪽을 버리는 방식을 사용.\n",
    "    # 빅오 표기법의 log n \n",
    "    # 반씩 없으면 금방금방 사라짐 \n",
    "    # 일상생활에서 이미 사용 중에 있음. \n",
    "    \n",
    "# 이진 검색 구현\n",
    "    # \"정렬된\" 가족 데이터에서 '할머니'와 키가 같은 사람을 찾는 과정을 이진 탐색으로 구현하는 예\n",
    "    # 1. 전체의 첫 데이터를 '시작'으로 지정하고, 마지막 데이터를 '끝'으로 지정한 후 시작과 끝의 중앙인 \n",
    "    #    누나를 할머니와 비교. \n",
    "    # 2. 끝은 그대로 두고 시작을 중앙(누나)의 바로 오른쪽 이모로 옮김. \n",
    "    #    중앙(누나)의 오른쪽 그룹에서 다시 시작과 끝의 1/2위치인 새 중앙(엄마)을 할머니와 비교.\n",
    "    # 3. 시작은 그대로 두고 끝을 중앙(엄마)의 바로 왼쪽인 할머니로 옮김.\n",
    "    #    중앙(엄마)의 왼쪽 그룹에서 다시 시작과 끝의 1/2 위치인 새 중앙(이모)을 할머니와 비교. \n",
    "    # 4. 끝은 그대로 두고 시작을 중앙(이모)의 바로 오른쪽으로 옮김. \n",
    "    #    중앙(이모)의 오른쪽 그룹에서 ~~ "
   ]
  },
  {
   "cell_type": "markdown",
   "id": "f514960a",
   "metadata": {},
   "source": [
    "**이진 검색 구현**"
   ]
  },
  {
   "cell_type": "code",
   "execution_count": 58,
   "id": "a1f685f7",
   "metadata": {},
   "outputs": [
    {
     "name": "stdout",
     "output_type": "stream",
     "text": [
      "배열 --->  [40, 44, 113, 143, 154, 156, 169, 171, 172, 195]\n",
      "195 가 9 번째 있어요\n"
     ]
    }
   ],
   "source": [
    "import random\n",
    "## 함수\n",
    "def binarySearch(ary, fData):\n",
    "    pos = -1\n",
    "    start = 0\n",
    "    end = len(ary) - 1\n",
    "    while (start <= end): # end과 start이전으로 가면 멈춤. \n",
    "        mid = (start + end) // 2\n",
    "        if (ary[mid] == fData):\n",
    "            pos = mid\n",
    "            break\n",
    "        elif (ary[mid] < fData):\n",
    "            start = mid+1 # 시작을 mid의 오른쪽으로 옮김 \n",
    "        else:\n",
    "            end = mid-1\n",
    "    \n",
    "    return pos\n",
    "\n",
    "\n",
    "## 전역\n",
    "dataAry = [random.randint(30,200) for _ in range(10)]\n",
    "findData = random.choice(dataAry)\n",
    "dataAry.sort()\n",
    "\n",
    "\n",
    "\n",
    "## 메인\n",
    "print('배열 ---> ', dataAry)\n",
    "position = binarySearch(dataAry, findData)\n",
    "if (position == -1): # 못 찾으면 -1을 반환함. \n",
    "    print ('검색실패')\n",
    "else:\n",
    "    print(findData, '가', position, '번째 있어요')\n"
   ]
  },
  {
   "cell_type": "code",
   "execution_count": 71,
   "id": "8e72c276",
   "metadata": {},
   "outputs": [
    {
     "name": "stdout",
     "output_type": "stream",
     "text": [
      "8414749 가 84147855 번째 있어요 --->  22 번\n",
      "걸린 시간:  0.0002541542053222656\n"
     ]
    }
   ],
   "source": [
    "# ----------- practice ------------------\n",
    "# 더 많은 데이터로 테스트\n",
    "\n",
    "import time\n",
    "def binarySearch(ary, fData):\n",
    "    global count\n",
    "    pos = -1\n",
    "    start = 0\n",
    "    end = len(ary)-1\n",
    "    while start <= end: # 엇갈리면 끝남. \n",
    "        count += 1\n",
    "        mid = (start+end)//2\n",
    "        if (ary[mid] == fData):\n",
    "            pos = mid\n",
    "            break\n",
    "        elif (ary[mid] < fData):\n",
    "            start = mid+1\n",
    "        else:\n",
    "            end = mid-1\n",
    "    return pos\n",
    "\n",
    "count = 0\n",
    "dataAry = [random.randint(0, 10000000) for _ in range(100000000)]\n",
    "findData = random.choice(dataAry)\n",
    "dataAry.sort() # 정렬에 시간이 오래 걸림 \n",
    "\n",
    "# print('배열 ---> ', dataAry)\n",
    "start_time = time.time()\n",
    "position = binarySearch(dataAry, findData)\n",
    "end_time = time.time()\n",
    "if (position == -1): # 못 찾으면 -1을 반환함. \n",
    "    print ('검색실패')\n",
    "else:\n",
    "    print(findData, '가', position, '번째 있어요 ---> ', count, '번')\n",
    "print('걸린 시간: ', end_time - start_time)"
   ]
  },
  {
   "cell_type": "code",
   "execution_count": null,
   "id": "6b177d03",
   "metadata": {},
   "outputs": [],
   "source": []
  },
  {
   "cell_type": "markdown",
   "id": "d8db918b",
   "metadata": {},
   "source": [
    "## 재귀"
   ]
  },
  {
   "cell_type": "code",
   "execution_count": null,
   "id": "da97a3d2",
   "metadata": {},
   "outputs": [],
   "source": [
    "# 재귀 호출은 자신을 다시 호출하는 것 (recursion)"
   ]
  },
  {
   "cell_type": "markdown",
   "id": "549dd41a",
   "metadata": {},
   "source": [
    "**코드**"
   ]
  },
  {
   "cell_type": "code",
   "execution_count": 76,
   "id": "32310910",
   "metadata": {},
   "outputs": [
    {
     "name": "stdout",
     "output_type": "stream",
     "text": [
      "상자를 엽니다~~\n",
      "상자를 엽니다~~\n",
      "상자를 엽니다~~\n",
      "상자를 엽니다~~\n",
      "상자를 엽니다~~\n",
      "상자를 엽니다~~\n",
      "상자를 엽니다~~\n",
      "상자를 엽니다~~\n",
      "상자를 엽니다~~\n",
      "상자를 엽니다~~\n",
      " ** 선물 넣기 **\n",
      "** 상자를 닫습니다 **\n",
      "** 상자를 닫습니다 **\n",
      "** 상자를 닫습니다 **\n",
      "** 상자를 닫습니다 **\n",
      "** 상자를 닫습니다 **\n",
      "** 상자를 닫습니다 **\n",
      "** 상자를 닫습니다 **\n",
      "** 상자를 닫습니다 **\n",
      "** 상자를 닫습니다 **\n"
     ]
    }
   ],
   "source": [
    "## 함수\n",
    "def openBox():\n",
    "    global count\n",
    "    print('상자를 엽니다~~')\n",
    "    count -= 1\n",
    "    if count == 0:\n",
    "        print(' ** 선물 넣기 **')\n",
    "        return\n",
    "    openBox() \n",
    "    print('** 상자를 닫습니다 **')\n",
    "\n",
    "## 메인\n",
    "count = 10\n",
    "openBox()"
   ]
  },
  {
   "cell_type": "code",
   "execution_count": 82,
   "id": "33902eb6",
   "metadata": {},
   "outputs": [
    {
     "name": "stdout",
     "output_type": "stream",
     "text": [
      "5050\n"
     ]
    }
   ],
   "source": [
    "## 함수\n",
    "def addNumber(num):\n",
    "    if num == 1: \n",
    "        return 1\n",
    "    \n",
    "    return num + addNumber(num-1)\n",
    "\n",
    "\n",
    "## 메인\n",
    "print(addNumber(100))"
   ]
  },
  {
   "cell_type": "markdown",
   "id": "df4209c2",
   "metadata": {},
   "source": [
    "# 전체 정리"
   ]
  },
  {
   "cell_type": "code",
   "execution_count": null,
   "id": "2c32c22c",
   "metadata": {},
   "outputs": [],
   "source": [
    "## 자료구조 (요리의 재료들 + 재료를 다듬는 법)\n",
    "    # 선형\n",
    "        # 리스트\n",
    "            # 순차 리스트 : 배열. 빈틈없다. ==> 시간 순서대로 발생되는 데이터에 좋음. (입력/삭제가 크게 필요없을 때)\n",
    "                # 장점 - 공간 절약, 전체 접근이 빠름\n",
    "                # 단점 - 삽입/삭제시 오버헤드 발생. \n",
    "            # (단순) 연결 리스트 : 노드(=데이터+링크). 링크가 핵심. 논리적으로는 빈틈 X, 물리적으로는 멀리. \n",
    "                            # 마지막 노드는 링크가 없음. \n",
    "                            # ==> \n",
    "                # 장점 - 삽입/삭제시 오버헤드 발생 X\n",
    "                # 단점 - 공간 더 필요. 속도 느림. \n",
    "            # 원형 연결 리스트\n",
    "                # 마지막 노드? 링크 == Head\n",
    "        # 스택 --> 함수 호출 (재귀 함수가 지속된 함수 호출로 느려지는 이유 --> 반복문을 쓰는 것이 더 나음.)\n",
    "            # --> 괄호 검사 \n",
    "            # push, pop, top\n",
    "                # isStackFull() : Top == SIZE-1\n",
    "                # isStackEmpty() : Top = -1 \n",
    "            # 한쪽이 막힌 파이프 (LIFO, FILO)\n",
    "        # 큐\n",
    "            # 순차 큐 : 양쪽이 뚫린 파이프. 입구와 출구가 따로따로 있음. FIFO ==> 오버헤드 발생\n",
    "                # enQueue()\n",
    "                    # isQueueFull() : rear == SIZE-1\n",
    "                                                # 3가지 케이스: rear != SIZE -1\n",
    "                                                #            (rear==SIZE-1 & front == -1)\n",
    "                                                #             (rear==SIZE-1 & front != -1)\n",
    "                # deQueue()\n",
    "                    # isQueueEmpty()\n",
    "                # front : 머리로 나옴 \n",
    "                # rear : 꼬리로 들어감\n",
    "            # 원형 큐 ==> 오버헤드 발생 해결을 위해. rear가 front로 이어지는... %SIZE\n",
    "                                                            # 1칸을 사용 못함 (단점이 아닌 특징)\n",
    "                                                            # ==> 꽉찬 것과 빈 것을 구분하기 위하여\n",
    "    \n",
    "    # 비선형 --> 시험용에 가까움\n",
    "        # 트리 : root\n",
    "            # 이진 트리 : 차수가 최대 2인 트리 \n",
    "                # 이진 탐색 트리 : \"작은 거 왼쪽 큰거 오른쪽\"\n",
    "        # 그래프 : 인접 행렬 (2차원 배열)\n",
    "\n",
    "\n",
    "\n",
    "## 알고리즘 (어떤 문제를 해결하는 논리적인 과정) ==> 개념보다 구현이 중요함. \n",
    "    # 정렬 ==> 오름차순/내림차순\n",
    "        # 선택 정렬 : 최솟값 찾기. (2개방 ==> 비효율적), 1개방에서 하기 위해 2차원 반복. \n",
    "        # 버블 정렬 : 거의 다 정렬되어 있을 때 좋음. \n",
    "            # 누가 중간에 끼어들었을 때 선택 정렬은 처음부터 시작해야함\n",
    "            # 하지만 버블 정렬은 바로 할 수 있음. ==> 다시 정렬할 때 좋음. (버블 정렬이 짱임.)\n",
    "        # 퀵 정렬 : 일반적으로 빠름. (10번 중에 8번 빠름.)\n",
    "    # 검색\n",
    "        # 순차 검색 : 정렬이 안되어있을 때 사용.\n",
    "            # 한번 검색하고 말거면 순차 검색쓰면 됨\n",
    "            # 하지만 지속적으로 검색이 필요할 때는 아래에 이진 검색 사용. \n",
    "        # 이진 검색 : 정렬이 되어있을 때 사용. 반자르기 O(log n)\n",
    "            # \n",
    "    # 재귀 : 다양한 사례 \n",
    "        # 반복문으로 모두 가능. 프로그래밍 적으로 간단하게 되는 경우에 유용. \n",
    "        # 퀵정렬은 보통 재귀로 함. "
   ]
  },
  {
   "cell_type": "code",
   "execution_count": null,
   "id": "b2329612",
   "metadata": {},
   "outputs": [],
   "source": []
  },
  {
   "cell_type": "code",
   "execution_count": null,
   "id": "345f9fe6",
   "metadata": {},
   "outputs": [],
   "source": []
  },
  {
   "cell_type": "code",
   "execution_count": null,
   "id": "08fa34f8",
   "metadata": {},
   "outputs": [],
   "source": []
  },
  {
   "cell_type": "code",
   "execution_count": null,
   "id": "6c569227",
   "metadata": {},
   "outputs": [],
   "source": []
  },
  {
   "cell_type": "code",
   "execution_count": null,
   "id": "77dacbb2",
   "metadata": {},
   "outputs": [],
   "source": []
  },
  {
   "cell_type": "code",
   "execution_count": null,
   "id": "eed620a2",
   "metadata": {},
   "outputs": [],
   "source": []
  },
  {
   "cell_type": "code",
   "execution_count": null,
   "id": "ce9cbc28",
   "metadata": {},
   "outputs": [],
   "source": []
  },
  {
   "cell_type": "code",
   "execution_count": null,
   "id": "5adb47ed",
   "metadata": {},
   "outputs": [],
   "source": []
  },
  {
   "cell_type": "markdown",
   "id": "1078f60f",
   "metadata": {},
   "source": [
    "# 취업특강"
   ]
  },
  {
   "cell_type": "code",
   "execution_count": 35,
   "id": "104a4be4",
   "metadata": {},
   "outputs": [],
   "source": [
    "# 대기업 : 급여/복지, 안뽑음, 경력직만 뽑음. --> 많이 어려움 \n",
    "# 차선책?\n",
    "    # 중소기업(중소기업) : 다양한 경력을 쌓기 >> 좋은 경력은 3년 >> 이직 (대기업) : 쉬움\n",
    "    # LG : 경력직 (50% 넘음) 중소기업 --> 이직. 성적증명서 요구 X. >> 기술력 << \n",
    "# 3년 : 1+1+1 (X) --> 비선호\n",
    "# 선생님 같으면 때려칠거면 빨리 때려치고, 아니면 길게 오래하기 \n",
    "\n",
    "# 회사 고르는 기준 (개인):\n",
    "# 집이 먼 사람~ ==> 회사는 천국이 아니다\n",
    "# 가면 안되는 회사\n",
    "    # 비전있는 회사(내 비전) ==> 은행권. (안 그만두는 회사 why? 갈 데가 없어서. )\n",
    "    # 사람 자주뽑는 회사 (같은 업무) ==> 취업 사이트 자주 보기. 지난 것도 같이 보기. \n",
    "    "
   ]
  },
  {
   "cell_type": "code",
   "execution_count": null,
   "id": "712469d0",
   "metadata": {},
   "outputs": [],
   "source": []
  },
  {
   "cell_type": "code",
   "execution_count": null,
   "id": "0ee3d14b",
   "metadata": {},
   "outputs": [],
   "source": []
  },
  {
   "cell_type": "code",
   "execution_count": null,
   "id": "ad7c5c0e",
   "metadata": {},
   "outputs": [],
   "source": []
  },
  {
   "cell_type": "code",
   "execution_count": null,
   "id": "7dad4009",
   "metadata": {},
   "outputs": [],
   "source": []
  },
  {
   "cell_type": "code",
   "execution_count": null,
   "id": "371c07a7",
   "metadata": {},
   "outputs": [],
   "source": []
  },
  {
   "cell_type": "code",
   "execution_count": null,
   "id": "da3b8ff8",
   "metadata": {},
   "outputs": [],
   "source": []
  },
  {
   "cell_type": "code",
   "execution_count": null,
   "id": "fbd5f8d7",
   "metadata": {},
   "outputs": [],
   "source": []
  },
  {
   "cell_type": "code",
   "execution_count": null,
   "id": "426d621b",
   "metadata": {},
   "outputs": [],
   "source": []
  },
  {
   "cell_type": "code",
   "execution_count": null,
   "id": "4f53a195",
   "metadata": {},
   "outputs": [],
   "source": []
  },
  {
   "cell_type": "code",
   "execution_count": null,
   "id": "24263b3b",
   "metadata": {},
   "outputs": [],
   "source": []
  },
  {
   "cell_type": "code",
   "execution_count": null,
   "id": "15f8b040",
   "metadata": {},
   "outputs": [],
   "source": []
  },
  {
   "cell_type": "code",
   "execution_count": null,
   "id": "be39b7ad",
   "metadata": {},
   "outputs": [],
   "source": []
  },
  {
   "cell_type": "code",
   "execution_count": null,
   "id": "55039bfe",
   "metadata": {},
   "outputs": [],
   "source": []
  },
  {
   "cell_type": "code",
   "execution_count": null,
   "id": "733728cb",
   "metadata": {},
   "outputs": [],
   "source": []
  },
  {
   "cell_type": "code",
   "execution_count": null,
   "id": "0b578d80",
   "metadata": {},
   "outputs": [],
   "source": []
  },
  {
   "cell_type": "code",
   "execution_count": null,
   "id": "8447ccd0",
   "metadata": {},
   "outputs": [],
   "source": []
  }
 ],
 "metadata": {
  "kernelspec": {
   "display_name": "Python 3 (ipykernel)",
   "language": "python",
   "name": "python3"
  },
  "language_info": {
   "codemirror_mode": {
    "name": "ipython",
    "version": 3
   },
   "file_extension": ".py",
   "mimetype": "text/x-python",
   "name": "python",
   "nbconvert_exporter": "python",
   "pygments_lexer": "ipython3",
   "version": "3.9.12"
  },
  "toc": {
   "base_numbering": 1,
   "nav_menu": {},
   "number_sections": true,
   "sideBar": true,
   "skip_h1_title": false,
   "title_cell": "Table of Contents",
   "title_sidebar": "Contents",
   "toc_cell": false,
   "toc_position": {},
   "toc_section_display": true,
   "toc_window_display": false
  },
  "varInspector": {
   "cols": {
    "lenName": 16,
    "lenType": 16,
    "lenVar": 40
   },
   "kernels_config": {
    "python": {
     "delete_cmd_postfix": "",
     "delete_cmd_prefix": "del ",
     "library": "var_list.py",
     "varRefreshCmd": "print(var_dic_list())"
    },
    "r": {
     "delete_cmd_postfix": ") ",
     "delete_cmd_prefix": "rm(",
     "library": "var_list.r",
     "varRefreshCmd": "cat(var_dic_list()) "
    }
   },
   "types_to_exclude": [
    "module",
    "function",
    "builtin_function_or_method",
    "instance",
    "_Feature"
   ],
   "window_display": false
  }
 },
 "nbformat": 4,
 "nbformat_minor": 5
}
