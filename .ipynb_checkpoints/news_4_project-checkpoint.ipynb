{
 "cells": [
  {
   "cell_type": "markdown",
   "id": "c42e57cc",
   "metadata": {},
   "source": [
    "***데이터 가져오기***"
   ]
  },
  {
   "cell_type": "code",
   "execution_count": 270,
   "id": "46f2cc79",
   "metadata": {},
   "outputs": [
    {
     "name": "stdout",
     "output_type": "stream",
     "text": [
      "(17494, 9)\n"
     ]
    },
    {
     "data": {
      "text/html": [
       "<div>\n",
       "<style scoped>\n",
       "    .dataframe tbody tr th:only-of-type {\n",
       "        vertical-align: middle;\n",
       "    }\n",
       "\n",
       "    .dataframe tbody tr th {\n",
       "        vertical-align: top;\n",
       "    }\n",
       "\n",
       "    .dataframe thead th {\n",
       "        text-align: right;\n",
       "    }\n",
       "</style>\n",
       "<table border=\"1\" class=\"dataframe\">\n",
       "  <thead>\n",
       "    <tr style=\"text-align: right;\">\n",
       "      <th></th>\n",
       "      <th>news_id</th>\n",
       "      <th>title</th>\n",
       "      <th>writer</th>\n",
       "      <th>content</th>\n",
       "      <th>writed_at</th>\n",
       "      <th>url</th>\n",
       "      <th>main_category</th>\n",
       "      <th>sub_category</th>\n",
       "      <th>platform</th>\n",
       "    </tr>\n",
       "  </thead>\n",
       "  <tbody>\n",
       "    <tr>\n",
       "      <th>0</th>\n",
       "      <td>346630</td>\n",
       "      <td>정부, '우주항공청' 연내 개청…백지신탁 예외 등 특혜 쏟는다</td>\n",
       "      <td>NaN</td>\n",
       "      <td>\\n [서울=뉴시스] 정부가 올해 중 우리나라의 우주항공 분야 연구개발(R&amp;D)을 ...</td>\n",
       "      <td>2023-03-02 00:00:00</td>\n",
       "      <td>NaN</td>\n",
       "      <td>IT/과학</td>\n",
       "      <td>IT 일반</td>\n",
       "      <td>네이버</td>\n",
       "    </tr>\n",
       "    <tr>\n",
       "      <th>1</th>\n",
       "      <td>346633</td>\n",
       "      <td>우주항공청 전문가 영입 `연봉 10억·외국인 허용`</td>\n",
       "      <td>이준기</td>\n",
       "      <td>\\n '한국형 NASA(미 항공우주국)'로 출범하는 우주항공청이 최고의 민간 전문가...</td>\n",
       "      <td>2023-03-02 00:00:00</td>\n",
       "      <td>NaN</td>\n",
       "      <td>IT/과학</td>\n",
       "      <td>IT 일반</td>\n",
       "      <td>네이버</td>\n",
       "    </tr>\n",
       "    <tr>\n",
       "      <th>2</th>\n",
       "      <td>347804</td>\n",
       "      <td>박정호의 투자유치 '매직'…\"SK쉴더스 IPO보다 더 이득\"</td>\n",
       "      <td>선한결</td>\n",
       "      <td>\\n \"SK쉴더스의 기업공개(IPO)를 철회해서 아쉬웠는데, IPO보다 더 높은 가...</td>\n",
       "      <td>2023-03-01 18:03:05</td>\n",
       "      <td>NaN</td>\n",
       "      <td>IT/과학</td>\n",
       "      <td>IT 일반</td>\n",
       "      <td>네이버</td>\n",
       "    </tr>\n",
       "    <tr>\n",
       "      <th>3</th>\n",
       "      <td>347806</td>\n",
       "      <td>글·그림·로고 제작·번역...인공지능에 다 맡겨 보니</td>\n",
       "      <td>NaN</td>\n",
       "      <td>\\n 최근 텍스트 생성 인공지능(AI) 챗봇 챗GPT(ChatGPT)를 이용해 만든...</td>\n",
       "      <td>2023-03-01 18:02:03</td>\n",
       "      <td>NaN</td>\n",
       "      <td>IT/과학</td>\n",
       "      <td>IT 일반</td>\n",
       "      <td>네이버</td>\n",
       "    </tr>\n",
       "    <tr>\n",
       "      <th>4</th>\n",
       "      <td>347807</td>\n",
       "      <td>LG엔솔-혼다, 美 배터리 공장 '첫삽'…기공식 개최</td>\n",
       "      <td>이한얼</td>\n",
       "      <td>\\n LG에너지솔루션은 28일(현지시간) 오하이오 주 파이에트 카운티 제퍼슨빌 인근...</td>\n",
       "      <td>2023-03-01 18:26:01</td>\n",
       "      <td>NaN</td>\n",
       "      <td>IT/과학</td>\n",
       "      <td>IT 일반</td>\n",
       "      <td>네이버</td>\n",
       "    </tr>\n",
       "  </tbody>\n",
       "</table>\n",
       "</div>"
      ],
      "text/plain": [
       "   news_id                               title writer  \\\n",
       "0   346630  정부, '우주항공청' 연내 개청…백지신탁 예외 등 특혜 쏟는다    NaN   \n",
       "1   346633        우주항공청 전문가 영입 `연봉 10억·외국인 허용`    이준기   \n",
       "2   347804   박정호의 투자유치 '매직'…\"SK쉴더스 IPO보다 더 이득\"    선한결   \n",
       "3   347806       글·그림·로고 제작·번역...인공지능에 다 맡겨 보니    NaN   \n",
       "4   347807       LG엔솔-혼다, 美 배터리 공장 '첫삽'…기공식 개최    이한얼   \n",
       "\n",
       "                                             content            writed_at  \\\n",
       "0  \\n [서울=뉴시스] 정부가 올해 중 우리나라의 우주항공 분야 연구개발(R&D)을 ...  2023-03-02 00:00:00   \n",
       "1  \\n '한국형 NASA(미 항공우주국)'로 출범하는 우주항공청이 최고의 민간 전문가...  2023-03-02 00:00:00   \n",
       "2  \\n \"SK쉴더스의 기업공개(IPO)를 철회해서 아쉬웠는데, IPO보다 더 높은 가...  2023-03-01 18:03:05   \n",
       "3  \\n 최근 텍스트 생성 인공지능(AI) 챗봇 챗GPT(ChatGPT)를 이용해 만든...  2023-03-01 18:02:03   \n",
       "4  \\n LG에너지솔루션은 28일(현지시간) 오하이오 주 파이에트 카운티 제퍼슨빌 인근...  2023-03-01 18:26:01   \n",
       "\n",
       "   url main_category sub_category platform  \n",
       "0  NaN         IT/과학        IT 일반      네이버  \n",
       "1  NaN         IT/과학        IT 일반      네이버  \n",
       "2  NaN         IT/과학        IT 일반      네이버  \n",
       "3  NaN         IT/과학        IT 일반      네이버  \n",
       "4  NaN         IT/과학        IT 일반      네이버  "
      ]
     },
     "execution_count": 270,
     "metadata": {},
     "output_type": "execute_result"
    }
   ],
   "source": [
    "import pandas as pd\n",
    "it_general = pd.read_csv('/Users/wonbinchoi/AutoNewsDB/뉴스.csv')\n",
    "print(it_general.shape)\n",
    "it_general.head()"
   ]
  },
  {
   "cell_type": "markdown",
   "id": "8eb0303e",
   "metadata": {},
   "source": [
    "# 클러스터링으로 문장 요약"
   ]
  },
  {
   "cell_type": "markdown",
   "id": "2fd376de",
   "metadata": {},
   "source": [
    "***토큰화***"
   ]
  },
  {
   "cell_type": "code",
   "execution_count": 4,
   "id": "a3945567",
   "metadata": {
    "scrolled": true
   },
   "outputs": [
    {
     "data": {
      "text/plain": [
       "['바르셀로나 스페인 김현일 기자 SK텔레콤의 메타버스 플랫폼 이프랜드 ifland 가 미주와 유럽 동남아 시장으로 본격 진출한다',\n",
       " 'SK텔레콤은 세계 최대 이동통신 박람회 모바일 월드 콩그레스 MWC 2023 이 열리고 있는 스페인 바르셀로나에서 독일의 도이치텔레콤 미국의 티모바일US 동남아 11개국 사업자 악시아타 Axiata 말레이시아의 셀콤디지 Celcomdigi 와 메타버스 관련 협약을 체결했다고 1일 밝혔다',\n",
       " '지난해 11월 메타버스 플랫폼 이프랜드를 북미 유럽 중동 아시아 등 49개국에 동시 출시한 SK텔레콤은 이번 협약으로 주요 글로벌 통신사와 함께 각 국가에 최적화된 형태로 진출한다는 계획이다',\n",
       " 'SKT와 이번에 손잡은 통신사들은 각각 1억명 이상의 가입자를 보유하고 있다',\n",
       " '그만큼 이프랜드가 전 세계 사용자들에게 보다 쉽게 다가갈 것으로 기대하고 있다',\n",
       " 'SKT는 도이치텔레콤 티모바일US와 각각 이프랜드의 독일 미국 진출에 합의했다',\n",
       " '3사는 도이치텔레콤 티모바일US 고객을 대상으로 이프랜드의 마켓 테스트를 함께 진행하고 각 지역에 특화된 메타버스 콘텐츠 발굴 및 공동 마케팅을 추진하기로 했다',\n",
       " '도이치텔레콤과 함께 독일의 특정 도시를 본뜬 가상공간과 전용 아바타 의상 등을 함께 개발해 도이치텔레콤 고객에게 제공하고 이를 SKT와 도이치텔레콤이 공동으로 마케팅 하는 식이다',\n",
       " '마켓 테스트는 이프랜드 독일어 버전이 출시되는 2분기를 기점으로 3개월 간 진행할 예정이다',\n",
       " 'SKT와 도이치텔레콤 티모바일US는 이번 고객 대상 마켓 테스트를 통해 유럽과 미국에서 더 다양한 메타버스 서비스를 선보일 수 있을 것으로 기대하고 있다',\n",
       " '이어 SKT는 28일 현지시간 11개의 동남아시아 국가 및 남아시아 국가 말레이시아 인도네시아 스리랑카 캄보디아 방글라데시 네팔 등 에서 약 2억명의 가입자를 보유한 악시아타 말레이시아 1위 사업자인 셀콤디지와 각각 메타버스 관련 협약을 체결했다',\n",
       " 'SKT는 악시아타의 전체 자회사를 대상으로 이프랜드 서비스 확장 메타버스 플랫폼 관련 비즈니스 창출 및 상호 경쟁력 강화를 위한 인공지능 AI 기반 사업 협력 등에 합의했다',\n",
       " '또한 셀콤디지와 말레이시아 시장 내 이프랜드 이용자 규모 증대 및 신사업 기회 모색을 위한 업무협약을 체결했다',\n",
       " 'SKT는 K 콘텐츠 인기가 높은 동남아에서 메타버스 서비스로 이프랜드의 영역 확장 및 다양한 사업 기회 발굴을 기대하고 있다',\n",
       " '유영상 SKT 사장은 각국 주요 통신사들은 이프랜드의 글로벌 진출을 위한 중요 파트너 라며 앞으로도 다양한 글로벌 사업자들과의 협력을 통해 SKT 메타버스 서비스의 사업 영역을 확대해 나갈 것 이라고 밝혔다',\n",
       " '']"
      ]
     },
     "execution_count": 4,
     "metadata": {},
     "output_type": "execute_result"
    }
   ],
   "source": [
    "# 문장 토큰화\n",
    "text = docs[0]\n",
    "sent_list = text.split('.')\n",
    "sentences = [s.strip() for s in sent_list]\n",
    "sentences\n",
    "   "
   ]
  },
  {
   "cell_type": "markdown",
   "id": "af900e2a",
   "metadata": {},
   "source": [
    "***mecab으로 전처리***"
   ]
  },
  {
   "cell_type": "code",
   "execution_count": null,
   "id": "681f63a5",
   "metadata": {},
   "outputs": [],
   "source": [
    "# 현재 전처리 코드는 gensim에서는 사용하지 않고 나중에 사용할 예정 "
   ]
  },
  {
   "cell_type": "code",
   "execution_count": 45,
   "id": "939798ae",
   "metadata": {},
   "outputs": [
    {
     "data": {
      "text/plain": [
       "['텔레콤 은 세계 최대 이동 통신 박람회 모바일 월드 콩 레스 열리 있 스페인 바르셀로나 독일 의 도이치 텔레콤 미국 의 티 모바일 동남아 개국 사업자 악시 아타 말레 이시아 의 셀 콤 디지 와 메타 버스 관련 협약 체결 했 일 밝혔 와 도이치 텔레콤 티 모바일 이번 고객 대상 마켓 테스트 통해 유럽 과 미국 다양 메타 버스 서비스 선보일 수 있 것 기대 하 있',\n",
       " '에픽 서버 시장 인텔 제온 의 점유 율 잠식 하 있 으며 소비자 용 시장 도 라 이젠 인텔 의 독점 구조 무너뜨리 있 하 위 캐시 추가 탑재 하 캐시 통해 기존 의 활용 성능 제품 만들 수 있 방법 개발 했',\n",
       " '',\n",
       " '샘 뱅크 먼 프리드 의 측근 알려진 의 전 기술 사도 의 간부 자신 의 혐의 인정 하 창업자 샘 뱅크 먼 프리드 의 측근 알려진 니 샤드 싱 전 사 증권 사기 공모 와 자금 세탁 공모 선거 자금 법 위반 공모 등 개 혐의 기소 됐 자신 의 측근 혐의 인정 하 개 혐의 기소 된 뱅크 먼 프리드 의 입지 좁 지 게 됐',\n",
       " '외신 따르 면 이날 줌 회의 통해 루이지애나 위치 바론 루지 사무소 직원 여 명 게 해고 통보 전한 것 알려졌 이번 정리 해고 의 대상자 일 의 퇴직금 받 게 될 것 알려졌 의 에이펙스 레전드 팀 대량 해고 최근 발생 에이펙스 레전드 모바일 서비스 중단 과 도 연관 있 것 보인다',\n",
       " '솔트룩스 자사 베트남 법인 솔트룩스 테크놀로지 와 이스라엘 데이터 전문 기업 브라이트 데이터 와 사업 협력 체결 했 밝혔 이번 협약 통해 솔트룩스 고객 세계 적 인 수준 의 데이터 수집 분석 서비스 제공 하 인공지능 빅 데이터 사업 의 글로벌 시장 진출 도 가속 화 될 것 기대 한다',\n",
       " '박정호 스퀘어 부회장 은 스페인 바르셀로나 모바일 월드 콩 레스 현장 기자 간담회 열 쉴더 스 의 추가 성장 만들 내 와 글로벌 나가 전략 펼치 밝혔 박 부회장 은 재무 적 투자자 와 의 약속 지키 기 위해 쉴 스 시도 했 태풍 부 는데 낚싯대 나가 것 과 같 은 상황 투자자 찾 과정 가치 보 높 은 가격 제시 하 발렌베리 가문 과 얘기 했 한국 자본 시장 대한 외국 투자자 의 신뢰 만들 낸 결과 말 했',\n",
       " '시장 조사 기업 암페어 애 널 라 이시스 의 보 인용 보도 따르 면 년 글로벌 콘솔 시장 규모 전년 대비 감소 했 콘솔 게임 매출 은 억 달러 약 조 천 억 원 전년 대비 줄어들 콘솔 게임 판매량 은 전년 대비 게임 내 수익 화 매출 은 약 감소 했 반면 게임 서비스 지출 은 억 달러 약 조 천 억 원 전년 대비 증가 했',\n",
       " '통신사 공정 성 카드 꺼내 네트워크 투자 비용 분담 요구 하 가운데 그렉 피터스 넷플릭스 공동 최고 경영자 넷플릭스 가 통신사 콘텐츠 제작 비용 부담 하 라 요구 할 수 있 맞수 뒀 콘텐츠 제공 사업자 기금 조성 해 통신사 네트워크 인프라 투자 비용 일부 분담 해야 한다는 주장 대해서 거대 통신사 와 엔터 테 인 먼 트 기업 사이 양자택일 할 문제 가 말 했',\n",
       " '스퀘어 이번 투자 쉴더 스 의 기업 가치 조 원 이상 평가 됐 밝혔 와 스퀘어 공동 경영 통해 쉴더 스 글로벌 종합 보안 회사 키우 목표 쉴더 스 의 지분 매각 스퀘어 투자 전문 회사 출범 지 년 여 빅 딜 사례 기록 하 게 됐 이날 기자 간담회 박 부회장 은 쉴더 스 의 인수 기업 공개 철회 지분 매각 르 기 과정 소개 하 기 도 했',\n",
       " '하 과정 모두 가 선택 하 것 은 부모 가 처음 인 어른 도 수 많 은 교육 항목 중 학습 시키 방법 조차 난제 일 것 디지털 된 요즘 시대 의 다양 삶 의 태도 수많 은 의 오리지널 시리즈 과 드라마 가 보여준다 무엇 보 스스로 선택 하 결과 책임 지 과정 의 반복 통해 태도 학습 하 방법 은 단언 게임 최고 가 될 것',\n",
       " '크기 형 종 라인업 아래 위치 해 상대 적 렴 하 게 판매 될 것 보인다 삼성전자 가 상대 적 렴 신규 라인업 추가 하 시장 의 가격 경쟁 가열 될 것 전망 된다 보 렴 라인업 출시 될 경우 원 대 가격 형성 될 것 예상 된다 이달 중순 년 형 신 제품 출시 앞둔 전자 도 영향 받 것 보인다',\n",
       " '미국 상무부 일 같 은 내용 의 반도체 지원 법 의 반도체 생산 보조금 신청 절차 와 기준 공개 했 미 상무부 전망 치 크 게 상회 할 경우 해당 하 공 유분 은 지원금 지 않 것 부연 했 보조금 한도 없 해당 사업 의 총 설비 투자 금액 수준 일 것 미 상무부 설명 했',\n",
       " '미국 상무부 가 억 달러 반도체 보조금 수령 기업 대해 년 동안 중국 시설 확충 하 지 않 약속 요구 하 있 아스 테크니카 가 일 현지 시간 보도 했 지나 레이몬도 상무부 장관 은 이날 반도체 보조금 지원 조건 공식 발표 하 프로그램 남용 되 지 않 도록 하 안전판 가동 할 것 강조 했 레이몬도 장관 은 보조금 수령 기업 은 년 동안 외국 반도체 시설 확장 제한 하 데 동의 해야 한다 밝혔',\n",
       " '일 텔레콤 은 지난달 일 나흘 간 스페인 바르셀로나 열리 세계 최대 통신 기술 전시회 모바일 월드 콩 레스 독일 도이치 텔레콤 미국 티 모바일 말레 이시아 악시 아타 셀 콤 디지 등 통신사 곳 과 메타 버스 관련 협약 체결 했 밝혔 텔레콤 은 지난 일 주 전시 장인 피 라 그란 비아 도이치 텔레콤 과 이프 랜드 업무 협약 체결 했 텔레콤 은 세계 통신사 중 기업 가치 위 인 티 모바일 과 도 이프 랜드 미국 진출 대해 내용 합의 했',\n",
       " '하 넷플릭스 망 사용료 가 소비자 로서 이중 과금 가깝 다 망 사용료 부과 대한 반대 입장 공식 화 했 그렉 피터스 넷플릭스 최고 경영자 일 현지 시간 스페인 바르셀로나 열린 모바일 월드 콩 레스 기조연설 엔터 테 인 먼 트 회사 와 이동 통신사 가 각자 하 것 최선 하 탄 배 올릴 수 있 밀물 만드 것 좋 은 접근 방식 라 믿 는다 말 했',\n",
       " '안순홍 한화 비전 대표 핵심 경쟁력 인 비전 기술 혁신 해 고객 당면 문제 해결 하 새로운 가치 하 비전 솔루션 제공 하 고자 한다 빅 데이터 분석 통한 맞춤 형 정보 와 솔루션 제공 하 예방 실시간 대응 가능 액션 솔루션 연계 비즈니스 운영 전략 수립 할 수 있 도록 지원 할 것 말 했',\n",
       " '도 방역 시큐리티 보안 업체 갖 있 기 때문 시너지 만들 성장 기회 가 있 것 본 거 같 미래 성장 대해선 우리 가 가진 영상 카메라 기술 발전 시켜 나가 것 도 중요 하 한국 추가 성장 만들 나가 것 과 동시 와 글로벌 전략 지금 전개 해야 한다 반도체 생태 계 가 힘들 지 투자 기회 가 나오 있 는데 스퀘어 가질 수 있 좋 은 기회',\n",
       " '스퀘어 가 보유 지분 일부 와 맥쿼리 자산 운용 컨소시엄 의 지분 전체 약 조 원 인수 하 추가 신주 취득 하 기 했 스퀘어 지분 보유 포트폴리오 기업 내 사회 의 독립 경영 중요 시 하 한국 의 공동체 와 공존 하 것 경영 철학 삼 있 설명 했 스퀘어 와 공동 경영 통해 국내 위 보안 업체 인 쉴더 스 글로벌 종합 보안 기업 키우 전략',\n",
       " '년 전 스퀘어 출범 당시 의 도전 적 목표 박 부회장 은 투자 회사 로서 다운 사이드 하방 가 기회 라며 여전 자신감 드러냈 발렌베리 새 주인 쉴더 스 번가 도 새로운 투자자 물색 중 반도체 생태 계 기업 투자 할 기회 강조 했 투자 관심 분야 반도체 생태 계 기업 꼽 박 부회장 은 목표 수정 은 않 말 했',\n",
       " '신세계 영림 원 소프트 랩 과 손잡 클라우드 기반 전자 데이터 교환 서비스 스파 로스 클라우드 사업 확대 나선다고 밝혔 양사 사업 제휴 체결 하 스파 로스 클라우드 와 영림 원 소프트 랩 의 전사 자원 관리 시스템 간 시너지 극대 화 할 수 있 도록 협업 강화 한다는 계획',\n",
       " '너 지 솔루션 은 일 현지 시간 미국 오하이오주 파이 트 카운티 제퍼슨빌 인근 혼다 와 의 배터리 합작 공장 착공식 열 일 밝혔 전기차 대 분량 쓸 수 있 기가 와 트시 규모 배터리 가 생산 될 계획 너 지 솔루션 은 혼다 와 지난해 하반기 미국 시장 진출 하 기 결정 하 올해 월 합작사 설립 했 너 지 솔루션 은 미국 자동차 업체 제너럴 모터스 스텔란 티스 포드 와 합작사 세웠',\n",
       " '대해 그렉 피터스 넷플릭스 공동 네트워크 인프라 증설 비용 콘텐츠 제공 사업자 물리 것 은 콘텐츠 대한 투자 감소 창작 커뮤니티 의 발전 저하 이어질 수 있 인해 고가 의 통신사 요금제 가 가진 매력 반감 시키 궁극 적 소비자 피해 보 게 된다 밝혔',\n",
       " '기존 최 대주주 인 스퀘어 와 쉴더 스 공동 경영 해 글로벌 토털 시큐리티 컴퍼니 키우 방침 스퀘어 보유 지분 일부 와 맥쿼리 자산 운용 컨소시엄 지분 전체 약 조 원 인수 하 추가 신주 취득 해 쉴더 스 품 게 됐 한편 쉴 스 정보 보안 업체 인포섹 지난 년 물리 보안 기업 캡스 흡수 합병 해 출범 된 보안 기업',\n",
       " '와 스퀘어 양사 가 대 주주 대 주주 공동 경영 하 글로벌 토털 시큐리티 컴퍼니 키운다는 전략 박 부회장 은 스퀘어 출범 후 투자 풀 사이클 성과 시작 주주 가치 본격 제고 하 국내 보안 산업 의 글로벌 경쟁력 끌 올리 계기 가 될 것 밝혔 박 부회장 은 한국 쉴더 스 의 추가 성장 만들 가 동시 와 글로벌 시장 나가 전략 전개 해야 한다 밝혔',\n",
       " '유 플러스 가 글로벌 통신 장비 제조사 인 노키아 와 상용 망 오픈 랜 장비 성능 검증 할 수 있 테스트 베드 공동 구축 한다고 일 밝혔 유 플러스 와 노키아 삼 전자 앞서 오픈 랜 글로벌 표준 시험 망 구성 성공 했 현지 회의 참석 김대희 인프라 기술 그룹 장 상무 은 노키아 등 글로벌 경쟁력 갖춘 메이저 제조사 와 지속 협업 해 오픈 랜 경쟁력 확보 할 것 밝혔',\n",
       " '컴투스 프로 야구 해 컴투스 프로 야구 매니저 낚시 의 신 퀴즈 게임 참여 등 참여 삼일절 의 의미 기념 하 도록 이벤트 준비 했 삼일절 의 의미 되새기 기 위해 진행 하 이번 벤트 질문 대한 답 댓글 응모 하 방식 참여 할 수 있 낚시 의 신 은 삼일절 기념 해 선물 푸시 이벤트 개최 한다',\n",
       " '',\n",
       " '이번 벤트 컴투스 의 야구 게임 시리즈 인 컴투스 프로 야구 이하 컴 프 과 컴투스 프로 야구 이하 컴 프 유저 대상 진행 된다 한편 컴투스 지난해 월 컴투스 프로 야구 유저 대상 최강 몬스터즈 와 국가 대표 간 경기 의 티켓 제공 하 이벤트 열 폭발 적 인 호응 얻 이번 시즌 경기 직관 이벤트 통해 유저 번 최강 몬스터즈 의 경기 직접 볼 수 있 기회 선물 한다',\n",
       " '가 삼일절 맞 자사 인기 스포츠 게임 종 이벤트 실시 한다 컴투스 컴투스 프로 야구 컴투스 프로 야구 매니저 낚시 의 신 퀴즈 등 삼일절 의 의미 기념 하 이벤트 준비 했 일 밝혔 낚시 의 신 은 삼일절 기념 해 선물 푸시 이벤트 개최 한다 오 일 이벤트 진행 하 정해진 시간 게임 접속 하 면 에너지 무지개 진주 게임 내 사용 가능 재화 아이템 등 받 수 있',\n",
       " '유 플러스 가 글로벌 통신 장비 제조사 인 노키아 와 상용 망 환경 오픈 랜 장비 성능 검증 할 수 있 테스트 베드 공동 구축 한다 유 플러스 오픈 랜 테스트 베드 통해 장비 성능 품질 모니터링 기존 망 대비 품질 수준 확인 안정 성 확보 방안 경제 성 검토 등 오픈 랜 상용 망 운영 필요 사항 도출 할 예정',\n",
       " '이중 과금 움직임 은 콘텐츠 대한 투자 감소 창작 저하 이어져 고가 의 통신사 요금제 가 가진 매력 반감 시킴 과 동시 소비자 피해 초래 할 것 일 넷플릭스 따르 면 세계 최대 이동 통신 전시회 모바일 월드 콩 레스 참석 그레그 피터스 공동 최고 경영자 가 개막 둘째 날 기조연설 말 했',\n",
       " '고배 투자 유치 반전 스퀘어 박정호 외국인 의 韓 테크 기업 신뢰 확인 스퀘어 가 스웨덴 발렌베리 가문 쉴더 스 의 최대 주주 지위 넘겼 박정호 스퀘어 부회장 은 지난달 일 현지 시간 오후 세계 최대 모바일 박람회 모바일 월드 콩 레스 가 열리 있 스페인 바르셀로나 기자 간담회 열 글로벌 보안 사업 대해 인사이트 보유 새로운 주주 모시 작년 올해 통틀 국내 큰 딜 완성 했 밝혔',\n",
       " '컴투스 대표 송재준 이주환 리얼 야구 게임 컴투스 프로 야구 이하 컴 프 의 새로운 시즌 업데이트 앞 총괄 의 인터뷰 영상 통해 새로워 지 게임 의 매력 소개 했 외 도 유저 현실 야구 같 은 몰 입감 가질 수 있 도록 새로운 카메라 시점 과 경기 후 리플레이 가 추가 되 타 구 캐치 모션 배트 플립 등 현실 야구 경기 의 요소 해 발전 리얼 야구 게임 컴 프 영상 담',\n",
       " '',\n",
       " '스퀘어 측 은 이번 투자 유치 통해 쉴더 스 의 기업 가치 조 원 이상 인정받 인수 추진 당시 기업 가치 조 원대 배 키워 낸 것 밝혔 박 부회장 은 애초 가 쉴더 스 의 진행 때 관심 보여 왔 자신 국제 물리 보안 정보 보안 기업 보유 하 있 기 때문 시너지 효과 통해 회사 빠르 게 키울 수 있 생각 것 라 본다 밝혔',\n",
       " '필립 포지 안티 사진 퀄컴 사업 개발 부사장 은 지난 일 현지 시간 스페인 바르셀로나 모바일 월드 콩 레스 국내 기자 과 가진 인터뷰 밝혔 포지 안티 부사장 은 초고주파 전 없 서비스 제공 하 게 라 중대 역 주파수 등 과 활용 하 면 고속도 차선 늘려 막힌 교통 상황 해결 하 듯 통신 성능 높일 수 있 초고주파 와 중대 역 상호 보완 적 인 관계 발전 할 수 있 말 했',\n",
       " '겨울철 난방 에너지 수입 늘어난 반면 수출 은 줄어든 탓 산업 통상 자원 부 지난달 수출액 년 전 같 은 기간 보 줄어든 억 달러 잠정 집계 됐 일 밝혔 지역 별 보 면 한국 핵심 수출 시장 인 중국 의 수출액 억 달러 감소 했 원유 가스 석탄 대 에너지 수입액 억 달러 최근 년 년 의 월 평균 억 달러 보 억 달러 게 많',\n",
       " '구현모 케이티 대표 의 자진 사퇴 연임 물 건너가 디 지코 디지털 컴퍼니 나 목표 아래 구 대표 가 펼쳐 놓 은 사업 다음 대표 이사 때 도 살아남 수 있 임직원 과 협 력사 사이 위기감 퍼지 있 전시회 개막 일 나흘 앞둔 지난달 일 구 대표 가 차기 대표 이사 후보 지원 사퇴 뜻 케이티 임직원 과 협 력사 관계자 멘붕 빠졌',\n",
       " '오노레 라보 레드햇 통신 미디어 엔터 테 인 먼 트 지에코 시스템 글로벌 부사장 은 단일 업체 도 진화 하 기술 대한 요구 독자 적 충족 시킬 수 없 글로벌 시장 선도 하 삼성전자 와 의 강화 된 협력 통해 통신 사업자 필요 하 차세대 무선 네트워크 의 규모 와 효율 성 제공 할 수 있 것 말 했',\n",
       " '한국 원자력 연구원 첨단 방사선 연구소 전자선 이용 해 미세먼지 유발 물질 인 질소 산화물 과 황산화물 동시 제거 할 수 있 기술 친환경 소재 개발 기업 인 앱 스필 이전 하 기술 실시 계약 했 일 밝혔 질소 산화물 과 황산화물 대용량 동시 빠른 속도 처리 할 수 있 기존 기술 비해 처리 비용 도 연간 줄 일 수 있 연구 팀 은 설명 했',\n",
       " '접속 뒤 어떻 관리 하 느 냐 가 중요 한데 머신 러닝 바탕 자동 화 된 아이덴티티 보안 구현 할 수 있 도록 돕 것 세일 포인트 의 특장 점 말 했 아이덴티티 보안 관점 말 되 일 라며 환경 모두 우르 세일 포인트 솔루션 강점 가질 수 있 배경 강조 했',\n",
       " '구현모 현 대표 가 여권 의 압박 결국 물러나 정치 권 유력 설 가시 화 됐 고집 스럽 게 맞서 원칙 지켰 평가 받 는다 업계 관계자 사회 가 차례 경선 과정 무산 되 과정 정치 권 압박 상당 반감 가진 것 같 인선 자 문위 현 정권 과 인연 있 주관 강한 인사 포진 시켰 하 게 원칙 과 명분 세워 외부 인사 합리 적 쳐낸 것 같 말 했',\n",
       " '빅 테크 기업 개발 초 거대 모델 다양 서비스 녹여 내 사업 적 기회 잡 취지 기반 기술 꼽히 초 거대 구현 하 데 필요 비용 천문학 적 기 때문 잡 브레인 은 네이버 하이퍼 클 로바 기반 자소 서 생 성 서비스 지난해 말 시범 론 칭했 스 켈 터 랩스 대화 형 기술 챗 봇 보이스 봇 인공지능 컨 택 센터 디지털 휴먼 등 다양 영역 서비스 제공 하 있',\n",
       " '유튜브 콘텐츠 추천 모델 예 면 모델 의 목적 은 플랫 폼 머물 게 하 것 일 텐데 만들 면 필터 버블 용자 맞춤 형 정보 제공 해 필터링 된 정보 이용자 도달 하 현상 이나 이용자 중독 빠뜨릴 위험 도 있 것 아닌가 씨 윤리 적 딜레마 놓 측면 존재 한다 윤리 적 편향 담긴 데이터 의도 적 학습 시킨 것 인데 문제 계속 새로운 데이터 가 모델 입력 돼 학습 될 텐데 어떻 데이터 정제 해 학습 시킬 지 가 고민 될 것',\n",
       " '월 일 론 칭한 삼성전자 의 신 제품 갤럭시 은 기술력 면 끝판 왕 급 무엇 보 갤럭시 울트라 모델 탑재 후면 카메라 성능 억 화소 은 압도 적 란 평가 받 있 엔 삼성전자 와 동일 모델 스냅드래곤 세대 탑재 했 년 분기 애플 따돌리 치솟 점유 은 줄어들 더니 지난해 분기 포인트 고꾸라졌 수년 째 정체기 겪 삼성전자 와 위기 의 늪 빠진 샤오미',\n",
       " '미국 달러화 강세 와 미국 연방 준비 제도 연준 의 통화 긴축 정책 지속 된다는 관측 금 값 떨어졌 일 현지 시간 따르 면 월 금 가격 하폭 은 년 월 이후 년 개월 최대 떨어졌 미국 연준 의 주요 인사 은 인플레이션 억제 하 기 위한 중앙은행 의 통화 정책 이어져야 한다는 필요 성 역설 하 있',\n",
       " '하 수요 비해 공급 은 부족 하 바이오 업계 따르 면 현재 필요 바이오산업 인력 명 추산 하 있 본궤도 오르 지 않 통해 인재 수급 받 기 까진 상당 시간 소요 될 전망 의대 쏠 리 이공 계 인력 설령 지금 바이오 전문 인력 키운다고 해도 실제 현장 배치 하 학부 전공 수준 불 가능 하 기 때문 인재 공급 은 부족 한데 인재 수요 해 마다 급증 하 있',\n",
       " '전시 연구 장비 분야 특화 단지 조성 하 앞 년 동안 관련 기업 백 곳 늘려 산업 규모 해 조 원 수준 키우 목표 내놨 전시 년 연구 장비 기업 곳 늘려 현재 천 백억 원 인 산업 규모 조 원 일자리 천 개 천 개 끌 올릴 계획 입니다',\n",
       " '세 종시 스마트 도시 안전망 과 소방청 첨단 시스템 간 연계 체계 가 구축 돼 도시 안전망 강화 될 것 보인다 이번 연계 체계 구축 세 종시 도시 통합 정보 센터 의 폐쇄 회로 사건 사고 가 발견 될 경우 전화 신고 했 기존 과 앞 시스템 간 연계 통합 플랫 폼 신고 가 가능 해진다']"
      ]
     },
     "execution_count": 45,
     "metadata": {},
     "output_type": "execute_result"
    }
   ],
   "source": [
    "from konlpy.tag import Mecab\n",
    "\n",
    "# 토큰화 => pos tagging => 품사 중 N과 V만 가져오는 함수. \n",
    "def mecab_preprocessor(text):\n",
    "    mecab = Mecab()\n",
    "    tokens = mecab.morphs(text)\n",
    "    \n",
    "    posed_list = []\n",
    "    for token in tokens:\n",
    "        posed_list += mecab.pos(token)\n",
    "        \n",
    "    return \" \".join([token[0] for token in posed_list if token[1][0] in ['N', 'V']])\n",
    "    \n",
    "def return_preprocessed_docs(docs):\n",
    "    preprocessed_docs = []\n",
    "    for doc in docs:\n",
    "        preprocessed_docs.append(mecab_preprocessor(doc))\n",
    "    return preprocessed_docs\n",
    "\n",
    "preprocessed_docs = return_preprocessed_docs(summed_docs)\n",
    "preprocessed_docs"
   ]
  },
  {
   "cell_type": "markdown",
   "id": "467c6b7b",
   "metadata": {},
   "source": [
    "***feature vectorization***"
   ]
  },
  {
   "cell_type": "code",
   "execution_count": 46,
   "id": "98e96cd2",
   "metadata": {},
   "outputs": [],
   "source": [
    "def sort_keywords(keywords):\n",
    "    return sorted(zip(keywords.col, keywords.data), key=lambda x: (x[1], x[0]), reverse=True)\n",
    " \n",
    "def extract_keywords(feature_names, sorted_keywords, n=5):\n",
    "    return [(feature_names[idx], score) for idx, score in sorted_keywords[:n]]"
   ]
  },
  {
   "cell_type": "code",
   "execution_count": 49,
   "id": "8b3643c2",
   "metadata": {},
   "outputs": [
    {
     "data": {
      "text/plain": [
       "['기술',\n",
       " '달러',\n",
       " '데이터',\n",
       " '미국',\n",
       " '게임',\n",
       " '연계',\n",
       " '솔루션',\n",
       " '상무부',\n",
       " '텔레콤',\n",
       " '삼성전자',\n",
       " '솔루션',\n",
       " '기술',\n",
       " '컴투스',\n",
       " '학습',\n",
       " '미국']"
      ]
     },
     "execution_count": 49,
     "metadata": {},
     "output_type": "execute_result"
    }
   ],
   "source": [
    "from sklearn.feature_extraction.text import TfidfVectorizer\n",
    "\n",
    "stop_words = [\n",
    "    '대표', '야구', '부회장', '자신', '대비'\n",
    "]\n",
    "\n",
    "tfidf_vect = TfidfVectorizer(stop_words=stop_words, max_df=.95, min_df=2, max_features=10000)\n",
    "ftr_vect = tfidf_vect.fit_transform(preprocessed_docs)\n",
    "sorted_keywords = sort_keywords(ftr_vect.tocoo())\n",
    "feature_names = tfidf_vect.get_feature_names_out()\n",
    "\n",
    "keywords = extract_keywords(feature_names, sorted_keywords, 15)\n",
    "keywords_list = [keyword_tuple[0] for keyword_tuple in keywords]\n",
    "keywords_list"
   ]
  },
  {
   "cell_type": "code",
   "execution_count": 230,
   "id": "d4c27101",
   "metadata": {},
   "outputs": [],
   "source": [
    "def remove_punct(text):\n",
    "    \"\"\"\n",
    "    지우지 않는 punctuation 빼고 나머지 삭제 \n",
    "    \"\"\"\n",
    "    \n",
    "    # string의 translate() 메소드를 사용하여 punctuation 제거\n",
    "    remove_punct_dict = dict((ord(i), \" \") for i in string.punctuation \\\n",
    "                             if i not in [\".\"])\n",
    "    \n",
    "    return text.translate(remove_punct_dict)\n",
    "\n",
    "temp_content = temp['content'].apply(lambda x : remove_punct(x))"
   ]
  },
  {
   "cell_type": "markdown",
   "id": "2c67e379",
   "metadata": {},
   "source": [
    "***클렌징 코드***"
   ]
  },
  {
   "cell_type": "code",
   "execution_count": 415,
   "id": "4ee76f8a",
   "metadata": {
    "scrolled": true
   },
   "outputs": [],
   "source": [
    "import re\n",
    "import gc\n",
    "import warnings\n",
    "warnings.filterwarnings('ignore')\n",
    "\n",
    "def clean_up_contents(text):\n",
    "    \"\"\"not preprocessing\"\"\"\n",
    "    \n",
    "    text = re.sub('[▶△▶️◀️▲▷ⓒ■◆●©️]', '', str(text)) # remove unnecessary markers\n",
    "    text = re.sub('(\\[?\\[\\w+)\\s?\\w{2,}?\\s?(\\w+\\]\\]?)\\s+?(\\[?\\w{2,}?\\]?)', '', text) # remove_reporter_01, [KBS 창원] [앵커], [이코노미스트 정두용 기자] 온라인 \n",
    "    text = re.sub('(\\[\\w+\\s+\\w+.\\s+\\w+\\s+\\w+\\s+\\w+\\s+\\w+])', \"\", text) # '[산업통상자원부 제공. 재판매 및 DB 금지]'\n",
    "    text = re.sub('(\\(\\w+)=(\\w+\\))(\\s+\\w+\\s+\\w+\\s+)=', '', text) # remove_reporter_02\n",
    "    text = re.sub('(\\【)\\w+\\(\\w+\\)=\\w+\\s+\\w+(\\】)', '', text) # remove_reporter_03\n",
    "    text = re.sub('(\\[\\w+\\s?)(\\(\\w+\\))?=(\\s?\\w+\\s?\\w+?\\s?\\w+?\\])(\\w{2,}?\\s+?\\w{2,}?\\s+?)=?', ' ', text) # remove_reporter_04 revised, [서울=뉴시스]최은수 기자 = \n",
    "    #text = re.sub('(\\[\\w+\\s?)=?(\\s?\\w+\\])', ' ', text) # remove_reporter_04\n",
    "    text = re.sub(\"(\\[\\w+\\s+\\w+in\\s+\\w+\\s+\\w+\\])\", \"\", text)# [이코노미스트 마켓in 허지은 기자] \n",
    "    text = re.sub('(\\w+\\(\\w+\\))=', ' ', text)\n",
    "    text = re.sub('(\\<)\\w+\\s*\\d-?\\d?(\\>)', \"\", text)\n",
    "    text = re.sub('(\\<\\w+\\s+?\\w+?\\s+?):?(\\w+\\s+?\\w+?\\s+?\\w+?\\>)', \"\", text) # <삼성전자 OLED TV 라인업 현황> \n",
    "    text = re.sub('(\\[\\w+\\s+\\w+):(\\s+\\w+)-(\\w+\\]).*', '', text)\n",
    "    text = re.sub('(\\w+\\(?=\\w+\\s?\\w{2,}?\\(?)', \"\", text) # 바르셀로나=선한결 기자, 바르셀로나(=스페인), 바르셀로나(=스페인)= \n",
    "    text = re.sub('(\\w+\\s+\\w+\\s+)기자', \"\", text) # 이혁기 더스쿠프 기자\n",
    "    text = re.sub('KBS(\\s+\\w+\\s+\\w+).\\s+(\\w+:\\w+\\/\\w+:\\w+)', \"\", text) # KBS 뉴스 천현수입니다. 촬영기자:지승환/그래픽:박재희\n",
    "    text = re.sub('(\\[\\w+\\],\\[\\w+\\])', \"\", text) # [뉴스리뷰],[앵커]\n",
    "    text = re.sub('(연합뉴스TV\\s+\\w+)', \"\", text) # 연합뉴스TV 김장현입니다.\n",
    "    text = re.sub('(\\w+\\s+기자)', \"\", text) # 손봉석 기자\n",
    "    \n",
    "    \n",
    "    text = re.sub('(\\w+)@(\\w+).(\\w+).(\\w+)', ' ', text) # remove emails\n",
    "    text = re.sub(\"(트위터\\s+)(@)(\\w+)\", \" \", text) # remove twitter accounts\n",
    "#     text = re.sub(\"(\\w+).(\\w+)/(\\w+)\", \" \", text) # remove facebook accounts\n",
    "    text = text.replace('페이스북 /LeYN1', '')\n",
    "    \n",
    "    text = re.sub('(더 많은 글로벌투자).*', ' ', text) # remove uncessary words\n",
    "    text = re.sub(\"(#[\\w+]).*\", \"\", text)\n",
    "    text = text.replace(\".,\", \". \")\n",
    "    \n",
    "    \n",
    "    text = re.sub('[ ]{2,}', ' ', text) # remove redundant empty spaces\n",
    "    text = text.strip() # strip empty spaces\n",
    "    if text[0] == ',':\n",
    "        text = text.strip(',')\n",
    "        \n",
    "        \n",
    "    return text\n",
    "\n",
    "\n",
    "# 빈 콘텐츠 삭제 함수\n",
    "def remove_empty_contents(df):\n",
    "    \n",
    "    for idx, content in enumerate(df['content_cleaned']):\n",
    "        if content == '':\n",
    "            df.drop(index=[idx], axis=0, inplace=True) \n",
    "        if content.count('.') < 2: # '.'이 없는 경우 관련없는 콘텐츠가 있었음. \n",
    "            df.drop(index=[idx], axis=0, inplace=True)\n",
    "            \n",
    "    df = df.reset_index(drop=True)\n",
    "    return df\n",
    "\n",
    "# 글자수가 일정 숫자 아래면 제거 -> why? 사진이 메인이고 사진을 설명하는 description일 가능성이 높음. \n",
    "def remove_contents_less_than_280(df):\n",
    "    for ind, content in enumerate(df['content_cleaned']):\n",
    "        if len(content) < 280:\n",
    "            df.drop(index=[ind], axis=0, inplace=True)\n",
    "    df = df.reset_index(drop=True)\n",
    "    return df\n",
    "\n",
    "\n",
    "# 최종 클렌징 코드\n",
    "def cleanse_contents(df):\n",
    "    \n",
    "    df['content_cleaned'] = df['content'].apply(lambda x : clean_up_contents(x)) # content 클렌징 함수\n",
    "    df = remove_empty_contents(df) # 컨텐츠가 빈 row 제거 \n",
    "    df = remove_contents_less_than_280(df)\n",
    "    \n",
    "    gc.collect()\n",
    "    \n",
    "    return df\n",
    "\n",
    "\n",
    "it_general = cleanse_contents(it_general)\n"
   ]
  },
  {
   "cell_type": "markdown",
   "id": "4b8c6f57",
   "metadata": {},
   "source": [
    "***KMeans로 클러스터링 summarize 하기***"
   ]
  },
  {
   "cell_type": "markdown",
   "id": "efca52e1",
   "metadata": {},
   "source": [
    "***요약된 문장 가져오기***"
   ]
  },
  {
   "cell_type": "code",
   "execution_count": 376,
   "id": "4148e10b",
   "metadata": {
    "scrolled": true
   },
   "outputs": [],
   "source": [
    "from sklearn.feature_extraction.text import TfidfVectorizer\n",
    "from sklearn.cluster import KMeans\n",
    "from konlpy.tag import Mecab\n",
    "from gensim.summarization import summarize\n",
    "import numpy as np\n",
    "import gc\n",
    "import warnings\n",
    "warnings.filterwarnings('ignore')\n",
    "\n",
    "# tokenizer\n",
    "def mecab_tokenizer(doc):\n",
    "    mecab = Mecab()\n",
    "    sentences = [sentences.strip() for sentences in doc.split('.')]\n",
    "    pos_list = []\n",
    "    for sent in sentences:\n",
    "        for pos in mecab.pos(sent):\n",
    "            if pos[1][0] in ['N']:\n",
    "                if len(pos[0]) > 1:\n",
    "                    pos_list.append(pos[0])\n",
    "\n",
    "    return pos_list\n",
    "\n",
    "\n",
    "\n",
    "def create_summarized_sentences(docs_df, n_clusters, n_top_words=7):\n",
    "    \n",
    "    docs = docs_df['content_cleaned']\n",
    "    \n",
    "\n",
    "    stop_words_list = ['대표이사', '대표', '이벤트', '컴투스', '넷마블', '프라시아 전기', '렐름',\n",
    "        '사진공동취재단', \n",
    "        '산업통상자원부 제공',]\n",
    "\n",
    "    tfidf_vect = TfidfVectorizer(\n",
    "                                 tokenizer=mecab_tokenizer,\n",
    "                                 max_df=.95,\n",
    "                                 min_df=2, \n",
    "                                 ngram_range=(1,3), \n",
    "                                 stop_words=stop_words_list\n",
    "                                 )\n",
    "    ftr_vect = tfidf_vect.fit_transform(docs)\n",
    "    \n",
    "\n",
    "    # KMeans 사용하여 클러스터링 (문서 군집화)\n",
    "    km_cluster = KMeans(n_clusters=3, max_iter=1000, random_state=0)\n",
    "    km_cluster.fit(ftr_vect)\n",
    "    \n",
    "    # 문서를 label로 나누기 위해 km_cluster.labels_를 데이터프레임에 컬럼으로 넣어주기 \n",
    "    docs_df['label'] = km_cluster.labels_\n",
    "    \n",
    "    # 요약된 문장 한 리스트 안에 넣어주기 \n",
    "    summed_list = []\n",
    "    for n in range(n_clusters):\n",
    "        summed_list.append(\" \".join(summarize(\"\\n\\n\".join(docs_df[docs_df['label'] == n]['content_cleaned'].values.tolist()), \n",
    "                              ratio=.3, word_count=50, split=True)))\n",
    "        \n",
    "    for idx, results in enumerate(summed_list):\n",
    "        print (\"\\n{} 번째 군집화의 요약된 문장 ==> {}\".format(idx, results))\n",
    "    \n",
    "    gc.collect()\n",
    "    \n",
    "    return summed_list\n",
    "\n",
    "it_general_summed_list = create_summarized_sentences(it_general, n_clusters=3, n_top_words=5) \n",
    "it_general_summed_list\n",
    "\n"
   ]
  },
  {
   "cell_type": "code",
   "execution_count": null,
   "id": "b4f9b72c",
   "metadata": {},
   "outputs": [],
   "source": []
  },
  {
   "cell_type": "markdown",
   "id": "f4daa244",
   "metadata": {},
   "source": [
    "# 토픽모델링으로 문장 요약"
   ]
  },
  {
   "cell_type": "markdown",
   "id": "42682dff",
   "metadata": {},
   "source": [
    "***하이퍼 파라미터 튜닝 + 문서 요약***"
   ]
  },
  {
   "cell_type": "code",
   "execution_count": 462,
   "id": "56b66854",
   "metadata": {
    "scrolled": true
   },
   "outputs": [
    {
     "name": "stdout",
     "output_type": "stream",
     "text": [
      "--------------------------------------------------------------------------------------------------------------\n",
      "박 부회장은 \"2025년까지 SK스퀘어 NAV 75조원 달성 목표를 수정할 생각은 없다\"며 \"반도체 경기가 회복하면 수요도 급히 탄력을 받기 때문에 (SK하이닉스의 반도체) 추가 감산에 들어가지도 않을 것\"이라고 강조했다.최근 텍스트 생성 인공지능(AI) 챗봇 챗GPT(ChatGPT)를 이용해 만든 도서가 우후죽순 생겨나고 있습니다.\n",
      "--------------------------------------------------------------------------------------------------------------\n",
      "대부분 오프라인 중심 유통 시장은 여전히 가격도 높고 상품도 제한적\"이라며 \"고객에게 더 다양한 상품군, 더 낮은 가격, 특별한 서비스를 만들면 향후 수년간 유통시장에서 상당히 성장할 것\"이라고 자신했다.과학기술정보통신부는 중소·중견 정보통신기술(ICT) 기업 내 직무 프로젝트 기반 인턴십을 지원하는 'ICT학점연계프로젝트 인턴십'사업을 실시한다고 1일 밝혔다.\n",
      "--------------------------------------------------------------------------------------------------------------\n",
      "이어 \"그간 정부는 다양한 채널을 통해 미 상무부에 가드레일 조항과 관련한 입장을 개진해 왔으며 앞으로도 세부 규정 마련 과정에서 우리 기업 입장이 반영되도록 협의를 이어갈 것\"이라고 강조했다.[ 김현일·] \"삼성 잡겠다고 만든 55만원 짜리 '뚜껑시계'\" 중국 화웨이(Huawei)가 스페인 바르셀로나에서 열린 세계 최대 이동통신 박람회 '모바일 월드 콩그레스(MWC) 2023'에서 독특한 콘셉트의 스마트 워치를 선보여 눈길을 끌었다.\n"
     ]
    }
   ],
   "source": [
    "from sklearn.model_selection import GridSearchCV\n",
    "from sklearn.pipeline import Pipeline\n",
    "from sklearn.feature_extraction.text import TfidfVectorizer\n",
    "\n",
    "\"\"\"토큰화 함수\"\"\"\n",
    "def mecab_tokenizer(doc):\n",
    "    mecab = Mecab()\n",
    "    sentences = [sentences.strip() for sentences in doc.split('.')]\n",
    "    pos_list = []\n",
    "    for sent in sentences:\n",
    "        for pos in mecab.pos(sent):\n",
    "            if pos[1][0] in ['N']: # 우선 명사만 토큰화 \n",
    "                if len(pos[0]) > 1:\n",
    "                    pos_list.append(pos[0])\n",
    "\n",
    "    return pos_list\n",
    "\n",
    "\"\"\"하이퍼 파라미터 튜닝 함수\"\"\"\n",
    "def hyperparms_tuning(train_data, n_jobs=1):\n",
    "    lda_pipeline = Pipeline([               # tokenizer 바꿔서 써보기 \n",
    "        ('tfidf_vect', TfidfVectorizer(tokenizer=mecab_tokenizer, max_df=.95, min_df=2, stop_words=['휘센', '대표'])),\n",
    "        ('lda', LatentDirichletAllocation(max_iter=10, random_state=0, learning_method='online'))\n",
    "    ])\n",
    "    \n",
    "    search_params = {\n",
    "        'tfidf_vect__ngram_range' : [(1,1), (1,2), (1,3)],\n",
    "        'tfidf_vect__use_idf' : (True, False),\n",
    "        'lda__n_components' : [3,4,5]\n",
    "    }\n",
    "    \n",
    "    gs_lda = GridSearchCV(lda_pipeline, param_grid=search_params, n_jobs=n_jobs)\n",
    "    gs_lda = gs_lda.fit(train_data)\n",
    "#     print('best score : {}'.format(gs_lda.best_score_))\n",
    "    best_parameters = gs_lda.best_estimator_.get_params()\n",
    "#     for params_name in sorted(list(best_parameters.keys())):\n",
    "#         print('\\t{0}: {1}'.format(params_name, best_parameters[params_name]))\n",
    "    return gs_lda.best_estimator_\n",
    "\n",
    "\n",
    "\"\"\"문장 요약 함수\"\"\"\n",
    "def extract_summarized_sentences(df, column_name='content'):\n",
    "    lda_fitted = hyperparms_tuning(df[column_name][:100]) # 여기서 [:100]는 나중에 빼주기 \n",
    "    new_topics = lda_fitted.transform(df[column_name][:100])\n",
    "    topic_names = ['Topic #' + str(i) for i in range(lda_fitted.get_params()['lda__n_components'])] # n_components 수만큼 Topic 가져오기 \n",
    "    topic_df = pd.DataFrame(data=news_topics, index=df.title[:100], columns = topic_names)\n",
    "    temp_df = topic_df.join(df[:100][[column_name, 'title']].set_index('title'), on='title')\n",
    "\n",
    "\n",
    "    # 임계값 기준으로 토픽 나누기 \n",
    "    threshold=0.5 # 임계값은 임의로 .5로 먼저 설정 \n",
    "    topic_classfication_dict = dict()\n",
    "\n",
    "    for topic in temp_df.columns[:-1].tolist(): # 마지막 컬럼 빼고 \n",
    "        idx_list = [idx for idx, value in enumerate(temp_df[topic].values) if value > .5]\n",
    "        value_list = [value for idx, value in enumerate(temp_df[topic].values) if value > .5]\n",
    "        topic_classfication_dict[topic] = {}\n",
    "        topic_classfication_dict[topic]['idx'] = idx_list\n",
    "        topic_classfication_dict[topic]['value'] = value_list\n",
    "\n",
    "    # 토픽별 인덱스 값으로 뉴스 요약 출력하기 \n",
    "    for com_num in range(lda_fitted.get_params()['lda__n_components']):\n",
    "        topic_idx = [idx for idx in topic_classfication_dict[f'Topic #{com_num}']['idx']]\n",
    "        print (\"-\"*110)            \n",
    "        print (summarize(\"\".join(temp_df.iloc[topic_idx][column_name].tolist()), word_count=30, ratio=.2))\n",
    "                                                                                        # 문장길이 조절 가능 \n",
    "    return\n",
    "\n",
    "\n",
    "extract_summarized_sentences(it_general, column_name = 'reduced_content')\n",
    "\n",
    "# \"\"\"마지막으로 요약된 문장 내 이메일로 보내는 함수\"\"\"\n",
    "\n",
    "\n"
   ]
  },
  {
   "cell_type": "markdown",
   "id": "655f15d4",
   "metadata": {},
   "source": [
    "***문장 길이 조절 후 요약해보기***"
   ]
  },
  {
   "cell_type": "code",
   "execution_count": 418,
   "id": "6915a12f",
   "metadata": {},
   "outputs": [],
   "source": [
    "from gensim.summarization import summarize\n",
    "import string\n",
    "import matplotlib.pyplot as plt\n",
    "import seaborn as sns\n",
    "%matplotlib inline\n",
    "\n",
    "def remove_punct(text):\n",
    "    remove_punct_dict = dict((ord(punct), None) for punct in string.punctuation if punct not in ['.'])\n",
    "    return text.translate(remove_punct_dict)\n",
    "    \n",
    "len_list = [len(content) for content in it_general['content_cleaned'].apply(lambda x : remove_punct(x))]\n",
    "\n",
    "new_content_list = []\n",
    "for content in it_general['content_cleaned']:\n",
    "    if len(remove_punct(content)) > np.median(len_list):\n",
    "        new_content_list.append(summarize(content, word_count=np.median(len_list)))\n",
    "    else:\n",
    "        new_content_list.append(content)"
   ]
  },
  {
   "cell_type": "code",
   "execution_count": 461,
   "id": "8e4eafcc",
   "metadata": {},
   "outputs": [],
   "source": [
    "it_general['reduced_content'] = new_content_list"
   ]
  },
  {
   "cell_type": "code",
   "execution_count": 423,
   "id": "6067ff65",
   "metadata": {},
   "outputs": [
    {
     "data": {
      "image/png": "[encoded data removed]",
      "text/plain": [
       "<Figure size 640x480 with 1 Axes>"
      ]
     },
     "metadata": {},
     "output_type": "display_data"
    }
   ],
   "source": [
    "# 문장 길이 변화전 문장 길이 분포도 \n",
    "len_list = [len(content) for content in it_general['content_cleaned']]\n",
    "plt.hist(len_list, bins=50)\n",
    "plt.show()"
   ]
  },
  {
   "cell_type": "code",
   "execution_count": 424,
   "id": "bc643594",
   "metadata": {},
   "outputs": [
    {
     "data": {
      "image/png": "[encoded data removed]",
      "text/plain": [
       "<Figure size 640x480 with 1 Axes>"
      ]
     },
     "metadata": {},
     "output_type": "display_data"
    }
   ],
   "source": [
    "# 문장 길이 변화 후 분포도 \n",
    "new_len_list = [len(content) for content in new_content_list]\n",
    "\n",
    "plt.hist(new_len_list, bins=50)\n",
    "plt.show()"
   ]
  },
  {
   "cell_type": "code",
   "execution_count": null,
   "id": "56b63c7a",
   "metadata": {},
   "outputs": [],
   "source": [
    "\"\"\"문장 길이 변화후 결론 ==> 요약에 크게 변화된 점이 발견되지 않음. \"\"\""
   ]
  },
  {
   "cell_type": "markdown",
   "id": "f1a359a8",
   "metadata": {},
   "source": [
    "***문장별 전처리 코드 (여기서는 사용하지 않음)***"
   ]
  },
  {
   "cell_type": "code",
   "execution_count": 456,
   "id": "34fcb8bc",
   "metadata": {},
   "outputs": [
    {
     "data": {
      "text/plain": [
       "'\"SK쉴더스의 기업공개(IPO)를 철회해서 아쉬웠는데, IPO보다 더 높은 가격으로 외국 자본을 투자받았습니다. 대주주와 공동경영을 하며 기업가치를 더 끌어올릴 것입니다. \" 박정호 SK스퀘어 부회장 겸 SK하이닉스 부회장(사진)은 28일(현지시간) 모바일월드콩그레스(MWC) 2023 간담회를 열고 \"이번 투자 유치로 국내 기술시장에 대한 외국 투자자의 신뢰를 끌어냈다\"며 이같이 말했다. 박 부회장은 이날 SK스퀘어 자회사로 국내 2위 보안업체인 SK쉴더스의 경영권과 지분 일부를 EQT파트너스에 매각한다고 밝혔다. EQT파트너스는 스웨덴 발렌베리그룹 계열 사모펀드(PEF) 운용사다. EQT는 SK스퀘어가 보유한 지분 일부와 맥쿼리자산운용 컨소시엄의 지분 전체를 약 2조원에 인수한다. 여기에 신주를 추가 취득해 SK쉴더스의 최대주주( )로 올라선다. 박 부회장은 \"지난 4년간 SK쉴더스 지분가치를 1조2000억원에서 3조원 가까이로 끌어올렸다\"라며 \"SK쉴더스를 글로벌 종합 보안기업으로 만들 것\"이라고 밝혔다. 이번 투자 유치 과정에서 신주 발행으로 생기는 약 2000억원을 SK쉴더스 신사업 투자 재원으로 쓴다. 이번 거래로 SK스퀘어는 8646억원 규모 신규 투자 재원을 확보하게 됐다. 박 부회장은 \"시장을 보면서 새 투자처를 고를 것\"이라며 \"반도체 생태계가 하락세여서 투자 기회는 많이 나오고 있다\"고 했다. 그간 SK스퀘어의 사실상 유일한 재원은 자회사 SK하이닉스로부터 받는 배당금이었다. 최근 SK하이닉스의 부진으로 SK스퀘어의 순자산가치(NAV)는 줄었다. 박 부회장은 \"2025년까지 SK스퀘어 NAV 75조원 달성 목표를 수정할 생각은 없다\"며 \"반도체 경기가 회복하면 수요도 급히 탄력을 받기 때문에 (SK하이닉스의 반도체) 추가 감산에 들어가지도 않을 것\"이라고 강조했다. '"
      ]
     },
     "execution_count": 456,
     "metadata": {},
     "output_type": "execute_result"
    }
   ],
   "source": [
    "import string\n",
    "def remove_punct(sent):\n",
    "    remove_punct_dict = dict((ord(punct), \" \") for punct in string.punctuation if punct not in ['(', ')', ',', '&', '\"'])\n",
    "    return sent.translate(remove_punct_dict)\n",
    "\n",
    "doc = it_general['content_cleaned'][2]\n",
    "sentence = ''\n",
    "for sent in doc.split('.'):\n",
    "    sent = sent.strip()\n",
    "    sent = remove_punct(sent)\n",
    "    if len(sent) == 0:\n",
    "        continue\n",
    "    sent = sent.strip()\n",
    "    sent += '. '\n",
    "    sentence += sent\n",
    "    \n",
    "re.sub('[ ]{2,}',' ',sentence)"
   ]
  },
  {
   "cell_type": "markdown",
   "id": "600a0f55",
   "metadata": {},
   "source": [
    "***잠깐 전처리***"
   ]
  },
  {
   "cell_type": "code",
   "execution_count": null,
   "id": "017eca21",
   "metadata": {},
   "outputs": [],
   "source": [
    "# [ 김현일·] 없애기 "
   ]
  },
  {
   "cell_type": "code",
   "execution_count": null,
   "id": "deb02866",
   "metadata": {},
   "outputs": [],
   "source": []
  },
  {
   "cell_type": "code",
   "execution_count": null,
   "id": "e787f80d",
   "metadata": {},
   "outputs": [],
   "source": []
  },
  {
   "cell_type": "code",
   "execution_count": null,
   "id": "8d470642",
   "metadata": {},
   "outputs": [],
   "source": []
  },
  {
   "cell_type": "code",
   "execution_count": null,
   "id": "68c6e2e8",
   "metadata": {},
   "outputs": [],
   "source": []
  }
 ],
 "metadata": {
  "kernelspec": {
   "display_name": "Python 3 (ipykernel)",
   "language": "python",
   "name": "python3"
  },
  "language_info": {
   "codemirror_mode": {
    "name": "ipython",
    "version": 3
   },
   "file_extension": ".py",
   "mimetype": "text/x-python",
   "name": "python",
   "nbconvert_exporter": "python",
   "pygments_lexer": "ipython3",
   "version": "3.9.16"
  },
  "toc": {
   "base_numbering": 1,
   "nav_menu": {},
   "number_sections": true,
   "sideBar": true,
   "skip_h1_title": false,
   "title_cell": "Table of Contents",
   "title_sidebar": "Contents",
   "toc_cell": false,
   "toc_position": {},
   "toc_section_display": true,
   "toc_window_display": false
  },
  "varInspector": {
   "cols": {
    "lenName": 16,
    "lenType": 16,
    "lenVar": 40
   },
   "kernels_config": {
    "python": {
     "delete_cmd_postfix": "",
     "delete_cmd_prefix": "del ",
     "library": "var_list.py",
     "varRefreshCmd": "print(var_dic_list())"
    },
    "r": {
     "delete_cmd_postfix": ") ",
     "delete_cmd_prefix": "rm(",
     "library": "var_list.r",
     "varRefreshCmd": "cat(var_dic_list()) "
    }
   },
   "types_to_exclude": [
    "module",
    "function",
    "builtin_function_or_method",
    "instance",
    "_Feature"
   ],
   "window_display": false
  }
 },
 "nbformat": 4,
 "nbformat_minor": 5
}
