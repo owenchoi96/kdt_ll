{
 "cells": [
  {
   "cell_type": "markdown",
   "id": "51edd92e",
   "metadata": {},
   "source": [
    "***리뷰 뽑아오는 코드***"
   ]
  },
  {
   "cell_type": "markdown",
   "id": "90d4e0cf",
   "metadata": {},
   "source": [
    "***requests,json으로 한 최종코드***"
   ]
  },
  {
   "cell_type": "code",
   "execution_count": 196,
   "id": "86dca123",
   "metadata": {},
   "outputs": [],
   "source": [
    "import time\n",
    "import pandas as pd\n",
    "import numpy as np\n",
    "import requests\n",
    "import json\n",
    "import os\n",
    "\n",
    "# json파일 불러오기 ==> json파일 다운로드 및 경로는 바꿔야될 수 있습니다. \n",
    "def make_oliveyoung_skincare_csv():\n",
    "    file_path='./goodsNo_dict.json' # 현재 경로에 goodsNo_dict.json파일이 있어야 합니다. \n",
    "    with open(file_path, 'r', encoding='utf-8-sig') as file:\n",
    "        goodsNo_json = json.load(file)\n",
    "\n",
    "    # review와 관련된 정보들을 가져올 dictionary\n",
    "    review_dict = {\n",
    "        'brand_name' : [], # 브랜드 이름\n",
    "        'goodsNo' : [], # 상품 고유 번호\n",
    "        'gdasCont' : [], # 상품 리뷰\n",
    "        'goodsNm' : [], # 상품 이름\n",
    "        'dispRegDate' : [], # 리뷰날짜\n",
    "        'gdasSeq' : [], # 리뷰 구분하기 위한 리뷰 순서?\n",
    "        'subcategory' : [], # 상품 카테고리 번호 \n",
    "    #     'review_star' : []  # 리뷰 별점 \n",
    "    }\n",
    "\n",
    "    start_time = time.time()\n",
    "    brand_list = ['닥터지', '라운드랩', '라네즈', '아이소이', '아누아', '에스트라'] # 올리브영 기준 top 5 스킨케어 브랜드 (0426 기준)\n",
    "    for brand in brand_list:\n",
    "        for sub_cat, goodsNo in goodsNo_json[brand].items(): \n",
    "            for goods_num in goodsNo: \n",
    "                page_num = 1\n",
    "                while True:\n",
    "                    headers = {'X-Requested-With' : 'XMLHttpRequest'}\n",
    "                    tmp_url = 'https://www.oliveyoung.co.kr/store/goods/getGdasNewListJson.do?'+\\\n",
    "                    'goodsNo={}&gdasSort=02&itemNo=all_search&'.format(goods_num) +\\\n",
    "                    'pageIdx={}&cTypeLength=0'.format(str(page_num)) \n",
    "\n",
    "                    res = requests.get(tmp_url, headers=headers)\n",
    "                    crawled_data = json.loads(res.text)\n",
    "\n",
    "                    if crawled_data == {}:\n",
    "                        break\n",
    "\n",
    "                    for review_idx in range(len(crawled_data['gdasList'])):\n",
    "                        # review_dict에 결과물 넣기 \n",
    "                        review_dict['goodsNo'].append(goods_num) # goodsNo\n",
    "                        review_dict['goodsNm'].append(crawled_data['gdasList'][review_idx]['goodsNm']) # 상품이름\n",
    "                        review_dict['gdasCont'].append(crawled_data['gdasList'][review_idx]['gdasCont']) # 상품리뷰\n",
    "                        review_dict['dispRegDate'].append(crawled_data['gdasList'][review_idx]['dispRegDate']) # 상품리뷰 날짜\n",
    "                        review_dict['gdasSeq'].append(crawled_data['gdasList'][review_idx]['gdasSeq']) # 상품 구별을 위한 seq number\n",
    "                        review_dict['subcategory'].append(sub_cat) # subcategory 넘버\n",
    "                        review_dict['brand_name'].append(brand) # 브랜드 이름 \n",
    "\n",
    "                    page_num+=1\n",
    "\n",
    "                    time.sleep(0.08) # 혹시나 블락을 당할 수 있기 때문에 time.sleep()을 조금 길게 잡아두었습니다. \n",
    "    \n",
    "    df = pd.DataFrame(review_dict)\n",
    "    df.to_csv('./oliveyoung_skincare.csv', index=False, encoding='utf-8-sig') # 인코딩의 경우 수정 가능합니다. \n",
    "    \n",
    "    end_time = time.time()\n",
    "    time_elapsed = end_time - start_time\n",
    "    print('걸린시간 : ', time_elapsed)\n",
    "    \n",
    "    return "
   ]
  },
  {
   "cell_type": "code",
   "execution_count": null,
   "id": "b3375547",
   "metadata": {},
   "outputs": [],
   "source": []
  },
  {
   "cell_type": "markdown",
   "id": "a8039a0f",
   "metadata": {},
   "source": [
    "***more info***"
   ]
  },
  {
   "cell_type": "code",
   "execution_count": 307,
   "id": "bd0d3fb8",
   "metadata": {},
   "outputs": [],
   "source": [
    "import time\n",
    "import pandas as pd\n",
    "import numpy as np\n",
    "import requests\n",
    "import json\n",
    "import os\n",
    "\n",
    "# json파일 불러오기 ==> json파일 다운로드 및 경로는 바꿔야될 수 있습니다. \n",
    "def make_oliveyoung_skincare_csv_version2():\n",
    "    file_path='./goodsNo_dict.json' # 현재 경로에 goodsNo_dict.json파일이 있어야 합니다. \n",
    "    with open(file_path, 'r', encoding='utf-8-sig') as file:\n",
    "        goodsNo_json = json.load(file)\n",
    "\n",
    "    # review와 관련된 정보들을 가져올 dictionary\n",
    "    review_dict = {\n",
    "        'brand_name' : [], # 브랜드 이름\n",
    "        'goodsNo' : [], # 상품 고유 번호\n",
    "        'gdasCont' : [], # 상품 리뷰\n",
    "        'goodsNm' : [], # 상품 이름\n",
    "        'dispRegDate' : [], # 리뷰날짜\n",
    "        'gdasSeq' : [], # 리뷰 구분하기 위한 리뷰 순서?\n",
    "        'subcategory' : [], # 상품 카테고리 번호 \n",
    "        'reviewerMbrNo' : [], # 나중에 리뷰 쓴 사람 구분을 위한 멤버 넘버\n",
    "        'gdasScrVal' : [],  # 리뷰 별점 \n",
    "        'skin_type' : [], # 피부 타입 (evalQstCont) \n",
    "        'skin_usage' : [], # 피부 고민 (evalQstCont)\n",
    "        'skin_irritation' : [] # 피부 자극 (evalQstCont)\n",
    "        \n",
    "        \n",
    "    }\n",
    "\n",
    "    start_time = time.time()\n",
    "    brand_list = ['닥터지', '라운드랩', '라네즈', '아이소이', '아누아', '에스트라'] # 올리브영 기준 top 5 스킨케어 브랜드 (0426 기준)\n",
    "    for brand in brand_list:\n",
    "        for sub_cat, goodsNo in goodsNo_json[brand].items(): \n",
    "            for goods_num in goodsNo: \n",
    "                page_num = 1\n",
    "                while True:\n",
    "                    headers = {'X-Requested-With' : 'XMLHttpRequest'}\n",
    "                    tmp_url = 'https://www.oliveyoung.co.kr/store/goods/getGdasNewListJson.do?'+\\\n",
    "                    'goodsNo={}&gdasSort=02&itemNo=all_search&'.format(goods_num) +\\\n",
    "                    'pageIdx={}&cTypeLength=0'.format(str(page_num)) \n",
    "\n",
    "                    res = requests.get(tmp_url, headers=headers)\n",
    "                    crawled_data = json.loads(res.text)\n",
    "\n",
    "                    if crawled_data == {}:\n",
    "                        break\n",
    "\n",
    "                    for review_idx in range(len(crawled_data['gdasList'])):\n",
    "                        # review_dict에 결과물 넣기 \n",
    "                        review_dict['subcategory'].append(sub_cat) # subcategory 넘버\n",
    "                        review_dict['brand_name'].append(brand) # 브랜드 이름 \n",
    "                        review_dict['goodsNo'].append(goods_num) # goodsNo\n",
    "                        review_dict['goodsNm'].append(crawled_data['gdasList'][review_idx]['goodsNm']) # 상품이름\n",
    "                        review_dict['gdasCont'].append(crawled_data['gdasList'][review_idx]['gdasCont']) # 상품리뷰\n",
    "                        review_dict['dispRegDate'].append(crawled_data['gdasList'][review_idx]['dispRegDate']) # 상품리뷰 날짜\n",
    "                        review_dict['gdasSeq'].append(crawled_data['gdasList'][review_idx]['gdasSeq']) # 상품 구별을 위한 seq number\n",
    "                        review_dict['reviewerMbrNo'].append(crawled_data['gdasList'][review_idx]['reviewerMbrNo']) # review 고유 넘버\n",
    "                        review_dict['gdasScrVal'].append(crawled_data['gdasList'][review_idx]['gdasScrVal']) # 상품 별점 점수 나누기 2 해야됨. \n",
    "                        \n",
    "                        if crawled_data['gdasList'][review_idx]['evalList'] != None: # 피부타입, 피부고민, 피부자극 정보가 없은 경우가 있음. \n",
    "                            \n",
    "                            try: # 피부 타입 등이 없는 경우가 있음. \n",
    "                                review_dict['skin_type'].append(crawled_data['gdasList'][review_idx]['evalList'][0]['evalAnsCont']) # 피부 타입\n",
    "                                try:\n",
    "                                    review_dict['skin_usage'].append(crawled_data['gdasList'][review_idx]['evalList'][1]['evalAnsCont']) # 피부 고민\n",
    "                                    try:\n",
    "                                        review_dict['skin_irritation'].append(crawled_data['gdasList'][review_idx]['evalList'][2]['evalAnsCont']) # 피부 자극\n",
    "                                    except:\n",
    "                                        review_dict['skin_irritation'].append(None)\n",
    "                                except:\n",
    "                                    review_dict['skin_usage'].append(None)\n",
    "                            except:\n",
    "                                review_dict['skin_type'].append(None)\n",
    "                                \n",
    "                        elif crawled_data['gdasList'][review_idx]['evalList'] == None: # 정보가 없는 경우는 전부 None으로 처리 \n",
    "                            review_dict['skin_type'].append(None)\n",
    "                            review_dict['skin_usage'].append(None)\n",
    "                            review_dict['skin_irritation'].append(None)\n",
    "                        \n",
    "                    page_num+=1\n",
    "\n",
    "                    time.sleep(0.08) # 혹시나 블락을 당할 수 있기 때문에 time.sleep()을 조금 길게 잡아두었습니다. \n",
    "    \n",
    "    df = pd.DataFrame(review_dict)\n",
    "    df.to_csv('./oliveyoung_skincare.csv', index=False, encoding='utf-8-sig') # 인코딩의 경우 수정 가능합니다. \n",
    "    \n",
    "    end_time = time.time()\n",
    "    time_elapsed = end_time - start_time\n",
    "    print('걸린시간 : ', time_elapsed)\n",
    "    \n",
    "    return "
   ]
  },
  {
   "cell_type": "code",
   "execution_count": 308,
   "id": "c265faaf",
   "metadata": {},
   "outputs": [
    {
     "ename": "ValueError",
     "evalue": "All arrays must be of the same length",
     "output_type": "error",
     "traceback": [
      "\u001b[0;31m---------------------------------------------------------------------------\u001b[0m",
      "\u001b[0;31mValueError\u001b[0m                                Traceback (most recent call last)",
      "Cell \u001b[0;32mIn[308], line 1\u001b[0m\n\u001b[0;32m----> 1\u001b[0m \u001b[43mmake_oliveyoung_skincare_csv_version2\u001b[49m\u001b[43m(\u001b[49m\u001b[43m)\u001b[49m\n",
      "Cell \u001b[0;32mIn[307], line 86\u001b[0m, in \u001b[0;36mmake_oliveyoung_skincare_csv_version2\u001b[0;34m()\u001b[0m\n\u001b[1;32m     82\u001b[0m                 page_num\u001b[38;5;241m+\u001b[39m\u001b[38;5;241m=\u001b[39m\u001b[38;5;241m1\u001b[39m\n\u001b[1;32m     84\u001b[0m                 time\u001b[38;5;241m.\u001b[39msleep(\u001b[38;5;241m0.08\u001b[39m) \u001b[38;5;66;03m# 혹시나 블락을 당할 수 있기 때문에 time.sleep()을 조금 길게 잡아두었습니다. \u001b[39;00m\n\u001b[0;32m---> 86\u001b[0m df \u001b[38;5;241m=\u001b[39m \u001b[43mpd\u001b[49m\u001b[38;5;241;43m.\u001b[39;49m\u001b[43mDataFrame\u001b[49m\u001b[43m(\u001b[49m\u001b[43mreview_dict\u001b[49m\u001b[43m)\u001b[49m\n\u001b[1;32m     87\u001b[0m df\u001b[38;5;241m.\u001b[39mto_csv(\u001b[38;5;124m'\u001b[39m\u001b[38;5;124m./oliveyoung_skincare.csv\u001b[39m\u001b[38;5;124m'\u001b[39m, index\u001b[38;5;241m=\u001b[39m\u001b[38;5;28;01mFalse\u001b[39;00m, encoding\u001b[38;5;241m=\u001b[39m\u001b[38;5;124m'\u001b[39m\u001b[38;5;124mutf-8-sig\u001b[39m\u001b[38;5;124m'\u001b[39m) \u001b[38;5;66;03m# 인코딩의 경우 수정 가능합니다. \u001b[39;00m\n\u001b[1;32m     89\u001b[0m end_time \u001b[38;5;241m=\u001b[39m time\u001b[38;5;241m.\u001b[39mtime()\n",
      "File \u001b[0;32m~/opt/anaconda3/envs/semi_pjt_5/lib/python3.8/site-packages/pandas/core/frame.py:664\u001b[0m, in \u001b[0;36mDataFrame.__init__\u001b[0;34m(self, data, index, columns, dtype, copy)\u001b[0m\n\u001b[1;32m    658\u001b[0m     mgr \u001b[38;5;241m=\u001b[39m \u001b[38;5;28mself\u001b[39m\u001b[38;5;241m.\u001b[39m_init_mgr(\n\u001b[1;32m    659\u001b[0m         data, axes\u001b[38;5;241m=\u001b[39m{\u001b[38;5;124m\"\u001b[39m\u001b[38;5;124mindex\u001b[39m\u001b[38;5;124m\"\u001b[39m: index, \u001b[38;5;124m\"\u001b[39m\u001b[38;5;124mcolumns\u001b[39m\u001b[38;5;124m\"\u001b[39m: columns}, dtype\u001b[38;5;241m=\u001b[39mdtype, copy\u001b[38;5;241m=\u001b[39mcopy\n\u001b[1;32m    660\u001b[0m     )\n\u001b[1;32m    662\u001b[0m \u001b[38;5;28;01melif\u001b[39;00m \u001b[38;5;28misinstance\u001b[39m(data, \u001b[38;5;28mdict\u001b[39m):\n\u001b[1;32m    663\u001b[0m     \u001b[38;5;66;03m# GH#38939 de facto copy defaults to False only in non-dict cases\u001b[39;00m\n\u001b[0;32m--> 664\u001b[0m     mgr \u001b[38;5;241m=\u001b[39m \u001b[43mdict_to_mgr\u001b[49m\u001b[43m(\u001b[49m\u001b[43mdata\u001b[49m\u001b[43m,\u001b[49m\u001b[43m \u001b[49m\u001b[43mindex\u001b[49m\u001b[43m,\u001b[49m\u001b[43m \u001b[49m\u001b[43mcolumns\u001b[49m\u001b[43m,\u001b[49m\u001b[43m \u001b[49m\u001b[43mdtype\u001b[49m\u001b[38;5;241;43m=\u001b[39;49m\u001b[43mdtype\u001b[49m\u001b[43m,\u001b[49m\u001b[43m \u001b[49m\u001b[43mcopy\u001b[49m\u001b[38;5;241;43m=\u001b[39;49m\u001b[43mcopy\u001b[49m\u001b[43m,\u001b[49m\u001b[43m \u001b[49m\u001b[43mtyp\u001b[49m\u001b[38;5;241;43m=\u001b[39;49m\u001b[43mmanager\u001b[49m\u001b[43m)\u001b[49m\n\u001b[1;32m    665\u001b[0m \u001b[38;5;28;01melif\u001b[39;00m \u001b[38;5;28misinstance\u001b[39m(data, ma\u001b[38;5;241m.\u001b[39mMaskedArray):\n\u001b[1;32m    666\u001b[0m     \u001b[38;5;28;01mimport\u001b[39;00m \u001b[38;5;21;01mnumpy\u001b[39;00m\u001b[38;5;21;01m.\u001b[39;00m\u001b[38;5;21;01mma\u001b[39;00m\u001b[38;5;21;01m.\u001b[39;00m\u001b[38;5;21;01mmrecords\u001b[39;00m \u001b[38;5;28;01mas\u001b[39;00m \u001b[38;5;21;01mmrecords\u001b[39;00m\n",
      "File \u001b[0;32m~/opt/anaconda3/envs/semi_pjt_5/lib/python3.8/site-packages/pandas/core/internals/construction.py:493\u001b[0m, in \u001b[0;36mdict_to_mgr\u001b[0;34m(data, index, columns, dtype, typ, copy)\u001b[0m\n\u001b[1;32m    489\u001b[0m     \u001b[38;5;28;01melse\u001b[39;00m:\n\u001b[1;32m    490\u001b[0m         \u001b[38;5;66;03m# dtype check to exclude e.g. range objects, scalars\u001b[39;00m\n\u001b[1;32m    491\u001b[0m         arrays \u001b[38;5;241m=\u001b[39m [x\u001b[38;5;241m.\u001b[39mcopy() \u001b[38;5;28;01mif\u001b[39;00m \u001b[38;5;28mhasattr\u001b[39m(x, \u001b[38;5;124m\"\u001b[39m\u001b[38;5;124mdtype\u001b[39m\u001b[38;5;124m\"\u001b[39m) \u001b[38;5;28;01melse\u001b[39;00m x \u001b[38;5;28;01mfor\u001b[39;00m x \u001b[38;5;129;01min\u001b[39;00m arrays]\n\u001b[0;32m--> 493\u001b[0m \u001b[38;5;28;01mreturn\u001b[39;00m \u001b[43marrays_to_mgr\u001b[49m\u001b[43m(\u001b[49m\u001b[43marrays\u001b[49m\u001b[43m,\u001b[49m\u001b[43m \u001b[49m\u001b[43mcolumns\u001b[49m\u001b[43m,\u001b[49m\u001b[43m \u001b[49m\u001b[43mindex\u001b[49m\u001b[43m,\u001b[49m\u001b[43m \u001b[49m\u001b[43mdtype\u001b[49m\u001b[38;5;241;43m=\u001b[39;49m\u001b[43mdtype\u001b[49m\u001b[43m,\u001b[49m\u001b[43m \u001b[49m\u001b[43mtyp\u001b[49m\u001b[38;5;241;43m=\u001b[39;49m\u001b[43mtyp\u001b[49m\u001b[43m,\u001b[49m\u001b[43m \u001b[49m\u001b[43mconsolidate\u001b[49m\u001b[38;5;241;43m=\u001b[39;49m\u001b[43mcopy\u001b[49m\u001b[43m)\u001b[49m\n",
      "File \u001b[0;32m~/opt/anaconda3/envs/semi_pjt_5/lib/python3.8/site-packages/pandas/core/internals/construction.py:118\u001b[0m, in \u001b[0;36marrays_to_mgr\u001b[0;34m(arrays, columns, index, dtype, verify_integrity, typ, consolidate)\u001b[0m\n\u001b[1;32m    115\u001b[0m \u001b[38;5;28;01mif\u001b[39;00m verify_integrity:\n\u001b[1;32m    116\u001b[0m     \u001b[38;5;66;03m# figure out the index, if necessary\u001b[39;00m\n\u001b[1;32m    117\u001b[0m     \u001b[38;5;28;01mif\u001b[39;00m index \u001b[38;5;129;01mis\u001b[39;00m \u001b[38;5;28;01mNone\u001b[39;00m:\n\u001b[0;32m--> 118\u001b[0m         index \u001b[38;5;241m=\u001b[39m \u001b[43m_extract_index\u001b[49m\u001b[43m(\u001b[49m\u001b[43marrays\u001b[49m\u001b[43m)\u001b[49m\n\u001b[1;32m    119\u001b[0m     \u001b[38;5;28;01melse\u001b[39;00m:\n\u001b[1;32m    120\u001b[0m         index \u001b[38;5;241m=\u001b[39m ensure_index(index)\n",
      "File \u001b[0;32m~/opt/anaconda3/envs/semi_pjt_5/lib/python3.8/site-packages/pandas/core/internals/construction.py:666\u001b[0m, in \u001b[0;36m_extract_index\u001b[0;34m(data)\u001b[0m\n\u001b[1;32m    664\u001b[0m lengths \u001b[38;5;241m=\u001b[39m \u001b[38;5;28mlist\u001b[39m(\u001b[38;5;28mset\u001b[39m(raw_lengths))\n\u001b[1;32m    665\u001b[0m \u001b[38;5;28;01mif\u001b[39;00m \u001b[38;5;28mlen\u001b[39m(lengths) \u001b[38;5;241m>\u001b[39m \u001b[38;5;241m1\u001b[39m:\n\u001b[0;32m--> 666\u001b[0m     \u001b[38;5;28;01mraise\u001b[39;00m \u001b[38;5;167;01mValueError\u001b[39;00m(\u001b[38;5;124m\"\u001b[39m\u001b[38;5;124mAll arrays must be of the same length\u001b[39m\u001b[38;5;124m\"\u001b[39m)\n\u001b[1;32m    668\u001b[0m \u001b[38;5;28;01mif\u001b[39;00m have_dicts:\n\u001b[1;32m    669\u001b[0m     \u001b[38;5;28;01mraise\u001b[39;00m \u001b[38;5;167;01mValueError\u001b[39;00m(\n\u001b[1;32m    670\u001b[0m         \u001b[38;5;124m\"\u001b[39m\u001b[38;5;124mMixing dicts with non-Series may lead to ambiguous ordering.\u001b[39m\u001b[38;5;124m\"\u001b[39m\n\u001b[1;32m    671\u001b[0m     )\n",
      "\u001b[0;31mValueError\u001b[0m: All arrays must be of the same length"
     ]
    }
   ],
   "source": [
    "make_oliveyoung_skincare_csv_version2()"
   ]
  },
  {
   "cell_type": "code",
   "execution_count": null,
   "id": "a08ed670",
   "metadata": {},
   "outputs": [],
   "source": []
  },
  {
   "cell_type": "code",
   "execution_count": 304,
   "id": "02637c65",
   "metadata": {},
   "outputs": [
    {
     "data": {
      "text/plain": [
       "2362"
      ]
     },
     "execution_count": 304,
     "metadata": {},
     "output_type": "execute_result"
    }
   ],
   "source": [
    "import gc \n",
    "gc.collect()"
   ]
  },
  {
   "cell_type": "code",
   "execution_count": null,
   "id": "4ff1947a",
   "metadata": {},
   "outputs": [],
   "source": []
  },
  {
   "cell_type": "code",
   "execution_count": null,
   "id": "8af071d3",
   "metadata": {},
   "outputs": [],
   "source": []
  }
 ],
 "metadata": {
  "kernelspec": {
   "display_name": "Python 3 (ipykernel)",
   "language": "python",
   "name": "python3"
  },
  "language_info": {
   "codemirror_mode": {
    "name": "ipython",
    "version": 3
   },
   "file_extension": ".py",
   "mimetype": "text/x-python",
   "name": "python",
   "nbconvert_exporter": "python",
   "pygments_lexer": "ipython3",
   "version": "3.8.16"
  }
 },
 "nbformat": 4,
 "nbformat_minor": 5
}
