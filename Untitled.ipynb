{
 "cells": [
  {
   "cell_type": "markdown",
   "id": "b7c3fac4",
   "metadata": {},
   "source": [
    "***데이터 가져오기***"
   ]
  },
  {
   "cell_type": "code",
   "execution_count": 3,
   "id": "23c1c29c",
   "metadata": {},
   "outputs": [
    {
     "name": "stdout",
     "output_type": "stream",
     "text": [
      "(17494, 9)\n"
     ]
    },
    {
     "data": {
      "text/html": [
       "<div>\n",
       "<style scoped>\n",
       "    .dataframe tbody tr th:only-of-type {\n",
       "        vertical-align: middle;\n",
       "    }\n",
       "\n",
       "    .dataframe tbody tr th {\n",
       "        vertical-align: top;\n",
       "    }\n",
       "\n",
       "    .dataframe thead th {\n",
       "        text-align: right;\n",
       "    }\n",
       "</style>\n",
       "<table border=\"1\" class=\"dataframe\">\n",
       "  <thead>\n",
       "    <tr style=\"text-align: right;\">\n",
       "      <th></th>\n",
       "      <th>news_id</th>\n",
       "      <th>title</th>\n",
       "      <th>writer</th>\n",
       "      <th>content</th>\n",
       "      <th>writed_at</th>\n",
       "      <th>url</th>\n",
       "      <th>main_category</th>\n",
       "      <th>sub_category</th>\n",
       "      <th>platform</th>\n",
       "    </tr>\n",
       "  </thead>\n",
       "  <tbody>\n",
       "    <tr>\n",
       "      <th>0</th>\n",
       "      <td>346630</td>\n",
       "      <td>정부, '우주항공청' 연내 개청…백지신탁 예외 등 특혜 쏟는다</td>\n",
       "      <td>NaN</td>\n",
       "      <td>\\n [서울=뉴시스] 정부가 올해 중 우리나라의 우주항공 분야 연구개발(R&amp;D)을 ...</td>\n",
       "      <td>2023-03-02 00:00:00</td>\n",
       "      <td>NaN</td>\n",
       "      <td>IT/과학</td>\n",
       "      <td>IT 일반</td>\n",
       "      <td>네이버</td>\n",
       "    </tr>\n",
       "    <tr>\n",
       "      <th>1</th>\n",
       "      <td>346633</td>\n",
       "      <td>우주항공청 전문가 영입 `연봉 10억·외국인 허용`</td>\n",
       "      <td>이준기</td>\n",
       "      <td>\\n '한국형 NASA(미 항공우주국)'로 출범하는 우주항공청이 최고의 민간 전문가...</td>\n",
       "      <td>2023-03-02 00:00:00</td>\n",
       "      <td>NaN</td>\n",
       "      <td>IT/과학</td>\n",
       "      <td>IT 일반</td>\n",
       "      <td>네이버</td>\n",
       "    </tr>\n",
       "    <tr>\n",
       "      <th>2</th>\n",
       "      <td>347804</td>\n",
       "      <td>박정호의 투자유치 '매직'…\"SK쉴더스 IPO보다 더 이득\"</td>\n",
       "      <td>선한결</td>\n",
       "      <td>\\n \"SK쉴더스의 기업공개(IPO)를 철회해서 아쉬웠는데, IPO보다 더 높은 가...</td>\n",
       "      <td>2023-03-01 18:03:05</td>\n",
       "      <td>NaN</td>\n",
       "      <td>IT/과학</td>\n",
       "      <td>IT 일반</td>\n",
       "      <td>네이버</td>\n",
       "    </tr>\n",
       "    <tr>\n",
       "      <th>3</th>\n",
       "      <td>347806</td>\n",
       "      <td>글·그림·로고 제작·번역...인공지능에 다 맡겨 보니</td>\n",
       "      <td>NaN</td>\n",
       "      <td>\\n 최근 텍스트 생성 인공지능(AI) 챗봇 챗GPT(ChatGPT)를 이용해 만든...</td>\n",
       "      <td>2023-03-01 18:02:03</td>\n",
       "      <td>NaN</td>\n",
       "      <td>IT/과학</td>\n",
       "      <td>IT 일반</td>\n",
       "      <td>네이버</td>\n",
       "    </tr>\n",
       "    <tr>\n",
       "      <th>4</th>\n",
       "      <td>347807</td>\n",
       "      <td>LG엔솔-혼다, 美 배터리 공장 '첫삽'…기공식 개최</td>\n",
       "      <td>이한얼</td>\n",
       "      <td>\\n LG에너지솔루션은 28일(현지시간) 오하이오 주 파이에트 카운티 제퍼슨빌 인근...</td>\n",
       "      <td>2023-03-01 18:26:01</td>\n",
       "      <td>NaN</td>\n",
       "      <td>IT/과학</td>\n",
       "      <td>IT 일반</td>\n",
       "      <td>네이버</td>\n",
       "    </tr>\n",
       "  </tbody>\n",
       "</table>\n",
       "</div>"
      ],
      "text/plain": [
       "   news_id                               title writer  \\\n",
       "0   346630  정부, '우주항공청' 연내 개청…백지신탁 예외 등 특혜 쏟는다    NaN   \n",
       "1   346633        우주항공청 전문가 영입 `연봉 10억·외국인 허용`    이준기   \n",
       "2   347804   박정호의 투자유치 '매직'…\"SK쉴더스 IPO보다 더 이득\"    선한결   \n",
       "3   347806       글·그림·로고 제작·번역...인공지능에 다 맡겨 보니    NaN   \n",
       "4   347807       LG엔솔-혼다, 美 배터리 공장 '첫삽'…기공식 개최    이한얼   \n",
       "\n",
       "                                             content            writed_at  \\\n",
       "0  \\n [서울=뉴시스] 정부가 올해 중 우리나라의 우주항공 분야 연구개발(R&D)을 ...  2023-03-02 00:00:00   \n",
       "1  \\n '한국형 NASA(미 항공우주국)'로 출범하는 우주항공청이 최고의 민간 전문가...  2023-03-02 00:00:00   \n",
       "2  \\n \"SK쉴더스의 기업공개(IPO)를 철회해서 아쉬웠는데, IPO보다 더 높은 가...  2023-03-01 18:03:05   \n",
       "3  \\n 최근 텍스트 생성 인공지능(AI) 챗봇 챗GPT(ChatGPT)를 이용해 만든...  2023-03-01 18:02:03   \n",
       "4  \\n LG에너지솔루션은 28일(현지시간) 오하이오 주 파이에트 카운티 제퍼슨빌 인근...  2023-03-01 18:26:01   \n",
       "\n",
       "   url main_category sub_category platform  \n",
       "0  NaN         IT/과학        IT 일반      네이버  \n",
       "1  NaN         IT/과학        IT 일반      네이버  \n",
       "2  NaN         IT/과학        IT 일반      네이버  \n",
       "3  NaN         IT/과학        IT 일반      네이버  \n",
       "4  NaN         IT/과학        IT 일반      네이버  "
      ]
     },
     "execution_count": 3,
     "metadata": {},
     "output_type": "execute_result"
    }
   ],
   "source": [
    "import pandas as pd\n",
    "temp = pd.read_csv('/Users/wonbinchoi/AutoNewsDB/뉴스.csv')\n",
    "print(temp.shape)\n",
    "temp.head()"
   ]
  },
  {
   "cell_type": "markdown",
   "id": "d97ff820",
   "metadata": {},
   "source": [
    "***전처리 코드***"
   ]
  },
  {
   "cell_type": "code",
   "execution_count": 56,
   "id": "4b8cd76e",
   "metadata": {},
   "outputs": [
    {
     "name": "stdout",
     "output_type": "stream",
     "text": [
      "100\n"
     ]
    }
   ],
   "source": [
    "import re\n",
    "import string\n",
    "import numpy as np\n",
    "\n",
    "temp = temp[temp['content'].notnull()] # content가 null 인 경우가 있음. \n",
    "\n",
    "def remove_punct(text):\n",
    "    \"\"\"\n",
    "    지우지 않는 punctuation 빼고 나머지 삭제 \n",
    "    \"\"\"\n",
    "    \n",
    "    # string의 translate() 메소드를 사용하여 punctuation 제거\n",
    "    remove_punct_dict = dict((ord(i), \" \") for i in string.punctuation \\\n",
    "                             if i not in [\".\",])\n",
    "    \n",
    "    return text.translate(remove_punct_dict)\n",
    "\n",
    "def remove_unrelated_contents(text):\n",
    "    \n",
    "    if '별세' in text:\n",
    "        text = ' '\n",
    "    else:\n",
    "        text = text\n",
    "    return text\n",
    "\n",
    "def preprocessing_contents(text):\n",
    "    \n",
    "    text = remove_unrelated_contents(text)\n",
    "    \n",
    "    text = re.sub('[▶△▶️◀️▲▷ⓒ■◆●©️]', '', text) # remove unnecessary markers\n",
    "    text = re.sub('(\\[\\w+)\\s?\\w+\\s?(\\w+\\])', '', text) # remove_reporter_01\n",
    "    text = re.sub('(\\(\\w+)=(\\w+\\))(\\s+\\w+\\s+\\w+\\s+)=', '', text) # remove_reporter_02\n",
    "    text = re.sub('(\\【)\\w+\\(\\w+\\)=\\w+\\s+\\w+(\\】)', '', text) # remove_reporter_03\n",
    "    text = re.sub('(\\[\\w+\\s?)=?(\\s?\\w+\\])', ' ', text) # remove_reporter_03\n",
    "    text = re.sub('(\\<)\\w+\\s*\\d-?\\d?(\\>)', \"\", text)\n",
    "    text = re.sub('(\\<.+):(.+\\>)', \"\", text)\n",
    "    \n",
    "    text = re.sub('(\\w+)@(\\w+).(\\w+).(\\w+)', ' ', text) # remove emails\n",
    "    text = re.sub(\"(트위터\\s+)(@)(\\w+)\", \" \", text) # remove twitter accounts\n",
    "#     text = re.sub(\"(\\w+).(\\w+)/(\\w+)\", \" \", text) # remove facebook accounts\n",
    "    text = text.replace('페이스북 /LeYN1', '')\n",
    "    \n",
    "    text = re.sub('(더 많은 글로벌투자).*', ' ', text) # remove uncessary words\n",
    "    text = re.sub(\"(#[\\w+]).*\", \"\", text)\n",
    "    \n",
    "    # last steps\n",
    "    text = remove_punct(text) # remove punctuation\n",
    "    text = re.sub('[ ]{2,}', ' ', text) # remove redundant empty spaces\n",
    "    text = text.strip() # strip empty spaces \n",
    "        \n",
    "    return text\n",
    "\n",
    "def remove_useless_docs():\n",
    "    \"\"\"\n",
    "    중복되는 문서 혹은 빈 문서들을 없애는 함수입니다.\n",
    "    \"\"\"\n",
    "    \n",
    "    \n",
    "    \n",
    "    \n",
    "    \n",
    "# remove_unrelated_contents 사용\n",
    "docs = temp['content'][100:200].apply(lambda x: preprocessing_contents(x)).tolist()\n",
    "print(len(docs))\n"
   ]
  },
  {
   "cell_type": "markdown",
   "id": "da87258a",
   "metadata": {},
   "source": [
    "***토큰화 코드***"
   ]
  },
  {
   "cell_type": "code",
   "execution_count": null,
   "id": "8a02ec1a",
   "metadata": {},
   "outputs": [],
   "source": [
    "from konlpy.tag import Mecab\n",
    "from sklearn.feature_extraction.text import TfidfVectorizer\n",
    "\n",
    "# 토큰화 => pos tagging => 품사 중 N과 V만 가져오는 함수. \n",
    "def mecab_preprocessor(text):\n",
    "    mecab = Mecab()\n",
    "    tokens = mecab.morphs(text)\n",
    "    \n",
    "    posed_list = []\n",
    "    for token in tokens:\n",
    "        posed_list += mecab.pos(token)\n",
    "        \n",
    "    return \" \".join([token[0] for token in posed_list if token[1][0] in ['N', 'V']])\n",
    "    \n",
    "def return_preprocessed_docs(doc):\n",
    "    preprocessed_docs = []\n",
    "    for doc in docs:\n",
    "        preprocessed_docs.append(mecab_preprocessor(doc))\n",
    "    return preprocessed_docs\n",
    "\n",
    "preprocessed_docs = return_preprocessed_docs(docs)"
   ]
  },
  {
   "cell_type": "markdown",
   "id": "4f30eea7",
   "metadata": {},
   "source": [
    "***피처 벡터화 코드***"
   ]
  },
  {
   "cell_type": "code",
   "execution_count": 57,
   "id": "36f5a7d4",
   "metadata": {},
   "outputs": [
    {
     "data": {
      "text/plain": [
       "['배터리', '우주', '개발자', '게임', '바이오']"
      ]
     },
     "execution_count": 57,
     "metadata": {},
     "output_type": "execute_result"
    }
   ],
   "source": [
    "def sort_keywords(keywords):\n",
    "    return sorted(zip(keywords.col, keywords.data), key=lambda x: (x[1], x[0]), reverse=True)\n",
    " \n",
    "def extract_keywords(feature_names, sorted_keywords, n=5):\n",
    "    return [(feature_names[idx], score) for idx, score in sorted_keywords[:n]]\n",
    "\n",
    "\n",
    "# def tfidf_pipeline():\n",
    "    \n",
    "stop_words = [\n",
    "    '대표', '야구'\n",
    "]\n",
    "\n",
    "tfidf_vect = TfidfVectorizer(stop_words=stop_words, min_df=2, max_df=.96, max_features=10000,\n",
    "                             ngram_range=(1,2))\n",
    "ftr_vect = tfidf_vect.fit_transform(preprocessed_docs)\n",
    "sorted_keywords = sort_keywords(ftr_vect.tocoo())\n",
    "feature_names = tfidf_vect.get_feature_names_out()\n",
    "\n",
    "keywords = extract_keywords(feature_names, sorted_keywords, 5)\n",
    "keywords_list = [keyword_tuple[0] for keyword_tuple in keywords]\n",
    "keywords_list"
   ]
  },
  {
   "cell_type": "code",
   "execution_count": null,
   "id": "3fa785c2",
   "metadata": {},
   "outputs": [],
   "source": []
  },
  {
   "cell_type": "code",
   "execution_count": null,
   "id": "d291e7e9",
   "metadata": {},
   "outputs": [],
   "source": []
  },
  {
   "cell_type": "code",
   "execution_count": null,
   "id": "d9259b8b",
   "metadata": {},
   "outputs": [],
   "source": []
  }
 ],
 "metadata": {
  "kernelspec": {
   "display_name": "Python 3 (ipykernel)",
   "language": "python",
   "name": "python3"
  },
  "language_info": {
   "codemirror_mode": {
    "name": "ipython",
    "version": 3
   },
   "file_extension": ".py",
   "mimetype": "text/x-python",
   "name": "python",
   "nbconvert_exporter": "python",
   "pygments_lexer": "ipython3",
   "version": "3.9.16"
  },
  "toc": {
   "base_numbering": 1,
   "nav_menu": {},
   "number_sections": true,
   "sideBar": true,
   "skip_h1_title": false,
   "title_cell": "Table of Contents",
   "title_sidebar": "Contents",
   "toc_cell": false,
   "toc_position": {},
   "toc_section_display": true,
   "toc_window_display": false
  },
  "varInspector": {
   "cols": {
    "lenName": 16,
    "lenType": 16,
    "lenVar": 40
   },
   "kernels_config": {
    "python": {
     "delete_cmd_postfix": "",
     "delete_cmd_prefix": "del ",
     "library": "var_list.py",
     "varRefreshCmd": "print(var_dic_list())"
    },
    "r": {
     "delete_cmd_postfix": ") ",
     "delete_cmd_prefix": "rm(",
     "library": "var_list.r",
     "varRefreshCmd": "cat(var_dic_list()) "
    }
   },
   "types_to_exclude": [
    "module",
    "function",
    "builtin_function_or_method",
    "instance",
    "_Feature"
   ],
   "window_display": false
  }
 },
 "nbformat": 4,
 "nbformat_minor": 5
}
