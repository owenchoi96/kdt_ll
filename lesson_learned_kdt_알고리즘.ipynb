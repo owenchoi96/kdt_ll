{
 "cells": [
  {
   "cell_type": "markdown",
   "id": "f276930c",
   "metadata": {},
   "source": [
    "# 알고리즘 특강 1일차"
   ]
  },
  {
   "cell_type": "code",
   "execution_count": 1,
   "id": "1f663c5e",
   "metadata": {},
   "outputs": [],
   "source": [
    "# 부제: 자료구조와 알고리즘 기본을 탄탄하게 \n",
    "# 알고리즘은 요리의 방법 \n",
    "# 자료구조는 요리의 재료들 \n",
    "\n",
    "# 만약에 다른 언어를 만나더라도 사용할 수 있음. -> 자료구조, 알고리즘은 동일하다\n",
    "# 수업목표\n",
    "    # 자료구조 및 알고리즘에 대한 개념 이해 -> 아무리 쉽게 해도 어려움 why? 구현이 어려움. \n",
    "        # 개념을 파악하면 70점 먹고 들어감\n",
    "    # 파이썬 코딩을 통한 알고리즘 구현\n",
    "        # 구현이 잘되면 30점 \n",
    "        \n",
    "# 교육 내용\n",
    "    # 자료구조 기본 개념\n",
    "    # 기본 알고리즘 (원래 긴 과정이기 때문에 기본적인 알고리즘까지만 알 수 있도록.)\n",
    "    # 파이썬 프로그래밍\n",
    "    # 현업 알고리즘 문제 테스트 (기존 직원 승진 할때 코딩 테스트를 보도록 함.) -> 데이터 분석가도 개발자로 침. \n",
    "    \n",
    "# 실습 환경 : 파이썬만 있으면 됨. OS의 영향을 받지 않음. + (파이참: 개발쪽에서 선호를 함)\n",
    "# 대상 : 자료구조/알고리즘을 처음 만나는 수강생 \n",
    "\n",
    "# 모든 IT에는 자료구조와 알고리즘이 깔려있음 -> 알고 쓰는 것이 중요함. \n",
    "\n",
    "# <특강 in 특강>\n",
    "# 1. 현업 알고리즘 테스트 문제\n",
    "# 2. 취업 전략 (개인 의견) \n",
    "\n",
    "# IT 전문가 : 도메인 지식 + \"프로그래밍 실력\" + 4차 산업(데이터, 인공지는, 메타버스....) \n",
    "# 프로그래밍 실력 -> 스포츠 선수의 체력!! \n",
    "\n",
    "# 자료구조, 알고리즘을 공부하면 나중에 머신러닝 코드를 이해할 수 있게됨. "
   ]
  },
  {
   "cell_type": "code",
   "execution_count": 2,
   "id": "41f88cc4",
   "metadata": {},
   "outputs": [],
   "source": [
    "### 개념파악이 중요 ###\n",
    "# 자료구조 : 자료를 효율적으로 관리하는 방법\n",
    "# 알고리즘 : 목적지까지 최적의 이동 경로를 찾는 방법 \n",
    "\n",
    "# 자료구조의 종류\n",
    "# 단순 자료구조 (우리가 이야기하는 자료구조에서는 해당 자료 구조를 뺌)\n",
    "    # 정수 \n",
    "    # 실수\n",
    "    # 문자\n",
    "    # 문자열\n",
    "### 선형 자료구조 ###\n",
    "    # 리스트\n",
    "    # 스택\n",
    "    # 큐\n",
    "### 비선형 자료구조 ###\n",
    "    # 트리\n",
    "    # 그래프\n",
    "# 파일 자료구조 (일반적인 자료구조에서는 파일 자료구조를 잘 이야기하지 않음)\n",
    "    # 순차 파일\n",
    "    # 색인 파일\n",
    "    # 직접 파일 \n",
    "    \n",
    "#### 자료구조 -> 선형, 비선형 ###\n",
    "# 선형 자료구조 : 한줄로 된 애들\n",
    "    # 데이터를 한 줄로 순차적으로 표현한 형태 : 어떻게 한줄로 나타냈는지에 따라 -> 리스트, 스택, 큐\n",
    "# 비선형 자료구조 : 한줄로 되지 않은 애들\n",
    "    # 하나의 데이터 뒤에 여러 개가 이어지는 형태 : 트리, 그래프\n",
    "    \n",
    "# 파이썬 리스트(list) -> 배열 (array)"
   ]
  },
  {
   "cell_type": "code",
   "execution_count": null,
   "id": "d11628aa",
   "metadata": {},
   "outputs": [],
   "source": [
    "# 알고리즘\n",
    "# 어떤 문제를 해결해 가는 논리적인 과정. \n",
    "\n",
    "###  알고리즘 성능 : 알고리즘 소요 시간을 기준으로 알고리즘 성능 분석 방법 -> 시간 복잡도 (time complexity)\n",
    "# 현실적으로 시간 측정이 안됨 -> why? 컴퓨터마다 성능이 달라서 \n",
    "# 실제로는 \"연산수\" (몇번 계산했는지?)\n",
    "\n",
    "# 알고리즘 성능 \n",
    "# 알고리즘 성능 표기 : 빅-오 표기법 (Big-Oh Notation)으로 O(f(n)) 형태\n",
    "# 대표적인 함수 : O(1), O(log n), O(n), O(n log n), O(n**2), O(n**3), O(2**n)"
   ]
  },
  {
   "cell_type": "markdown",
   "id": "e1fa88bc",
   "metadata": {},
   "source": [
    "## 선형 리스트"
   ]
  },
  {
   "cell_type": "code",
   "execution_count": 4,
   "id": "e9b3d8d8",
   "metadata": {},
   "outputs": [
    {
     "name": "stdout",
     "output_type": "stream",
     "text": [
      "['다현', '정현', '쯔위', '사나', '지효']\n",
      "['다현', '정현', '쯔위', '사나', '지효', '모모']\n",
      "['다현', '정현', '쯔위', '미나', '사나', '지효', '모모']\n"
     ]
    }
   ],
   "source": [
    "## 선형 리스트 ##\n",
    "# : 맛집이나 마트에서 줄을 서는 것처럼 데이터를 일정한 순서로 나열한 것. \n",
    "# 개념 : 데이터를 일정한 순서로 나열한 자료구조\n",
    "#     : 순차 리스트라고도 함 (Ordered list)\n",
    "#  선형 리스트는 입력 순서대로 저장하는 데이터에 적당. ex) 카톡으로 연락 온 친구를 배열을 이용하여 표현. \n",
    "#  선형 리스트는 틈이 없이 배열되어 있음 ex) 100번지, 104번지, 108번지, ...\n",
    "#    -> 빈틈이 없다. \n",
    "\n",
    "# 데이터 삽입 \n",
    "\n",
    "### 구현 ###\n",
    "## 함수\n",
    "\n",
    "\n",
    "## 전역\n",
    "katok = ['다현', '정현', '쯔위', '사나', '지효']\n",
    "\n",
    "## 메인\n",
    "\n",
    "# 데이터의 추가 : 새로운 친구 '모모' (1회)\n",
    "print(katok)\n",
    "katok.append(None) # 빈칸추가\n",
    "katok[5] = '모모'\n",
    "print(katok)\n",
    "\n",
    "# 데이터의 삽입 : 미나에게 30번 카톡이 -> 미나가 3등이 되어야 함. \n",
    "# 1단계\n",
    "katok.append(None) # 빈칸 추가\n",
    "# 2단계\n",
    "katok[6] = katok[5] # 모모 이동\n",
    "katok[5] = None # 모모가 이동하고 깔끔하게 그 칸 비우기\n",
    "katok[5] = katok[4] # 지효 이동\n",
    "katok[4] = None # 지효가 이동하고 깔끔하게 그 칸 비우기\n",
    "katok[4] = katok[3]\n",
    "katok[3] = None\n",
    "# 3단계\n",
    "katok[3] = '미나'\n",
    "print('미나 추가: ', katok)\n",
    "\n",
    "\n",
    "# 데이터 삭제 : 사나가 더 이상 친구가 아님\n",
    "# 1단계 : 사나 연락처에서 지우기\n",
    "katok[4] = None\n",
    "# 2단계\n",
    "katok[4] = katok[5] # 지효 승진\n",
    "katok[5] = None\n",
    "katok[5] = katok[6]\n",
    "katok[6] = None\n",
    "# 3단계 : 빈칸 없애기\n",
    "del (katok[6])\n",
    "print(katok)\n",
    "\n",
    "\n",
    "## 함수\n",
    "def add_data(friend): # 데이터 추가 함수. \n",
    "    katok.append(None) # 빈칸추가\n",
    "    kLen = len(katok)\n",
    "    katok[kLen-1] = friend\n",
    "    \n",
    "\n",
    "## 전역\n",
    "katok = [] # 선형 리스트 \n",
    "\n",
    "## 메인\n",
    "add_data('다현')\n",
    "add_data('정연')\n",
    "add_data('쯔위')\n",
    "add_data('사나')\n",
    "add_data('지효')\n",
    "print(katok)\n",
    "add_data('모모')\n",
    "print(katok) # 모모가 추가된 katok 리스트. "
   ]
  },
  {
   "cell_type": "code",
   "execution_count": 14,
   "id": "0d12afc4",
   "metadata": {},
   "outputs": [
    {
     "name": "stdout",
     "output_type": "stream",
     "text": [
      "['다현', '정연', '쯔위', '미나', '사나', '지효', '모모']\n"
     ]
    }
   ],
   "source": [
    "### insert ###\n",
    "\n",
    "## 함수\n",
    "def insert_data(position, friend): # 데이터 삽입 함수\n",
    "    # 1단계\n",
    "    katok.append(None)\n",
    "    kLen = len(katok)\n",
    "    # 2단계\n",
    "    for i in range(kLen-1, position, -1):\n",
    "        katok[i] = katok[i-1]\n",
    "        katok[i-1] = None\n",
    "    \n",
    "    katok[position] = friend\n",
    "\n",
    "## 전역 변수 (global)\n",
    "katok = [] # 선형 리스트 \n",
    "\n",
    "## 메인\n",
    "insert_data(3, '미나')\n",
    "print(katok)\n"
   ]
  },
  {
   "cell_type": "code",
   "execution_count": 19,
   "id": "965fa3c8",
   "metadata": {},
   "outputs": [
    {
     "name": "stdout",
     "output_type": "stream",
     "text": [
      "['다현', '정연', '쯔위', '미나', '사나', 'hyosun', '지효', '모모']\n"
     ]
    }
   ],
   "source": [
    "# insert 함수\n",
    "katok = ['다현', '정연', '쯔위', '미나', '사나', '지효', '모모']\n",
    "def insert_data(position, friend):\n",
    "    katok.append(None)\n",
    "    kLen = len(katok)\n",
    "    \n",
    "    for i in range(kLen-1, position, -1):\n",
    "        katok[i] = katok[i-1]\n",
    "        katok[i-1] = None\n",
    "    \n",
    "    katok[position] = friend\n",
    "    \n",
    "insert_data(5, 'hyosun')\n",
    "print(katok)"
   ]
  },
  {
   "cell_type": "code",
   "execution_count": 23,
   "id": "27de0196",
   "metadata": {},
   "outputs": [
    {
     "name": "stdout",
     "output_type": "stream",
     "text": [
      "['다현', '정연', '쯔위', '미나', 'hyosun', '지효', '모모']\n"
     ]
    }
   ],
   "source": [
    "# delete 함수. \n",
    "def delete_data(position):\n",
    "    katok[position] = None\n",
    "    kLen = len(katok)\n",
    "    \n",
    "    for i in range(position+1, kLen, 1):\n",
    "        katok[i-1] = katok[i]\n",
    "        katok[i] = None\n",
    "    \n",
    "    del katok[kLen-1] # 마지막 칸 삭제\n",
    "\n",
    "delete_data(4)\n",
    "print(katok)"
   ]
  },
  {
   "cell_type": "code",
   "execution_count": 29,
   "id": "9703d46b",
   "metadata": {},
   "outputs": [
    {
     "name": "stdout",
     "output_type": "stream",
     "text": [
      "선택하세요(1: 추가, 2:삽입, 3:삭제, 4:종료-->1\n",
      "추가할 데이터-->오동우\n",
      "['오동우']\n",
      "선택하세요(1: 추가, 2:삽입, 3:삭제, 4:종료-->2\n",
      "삽입할 위치-->2\n",
      "추가할 데이터-->김재연\n"
     ]
    },
    {
     "ename": "IndexError",
     "evalue": "list assignment index out of range",
     "output_type": "error",
     "traceback": [
      "\u001b[0;31m---------------------------------------------------------------------------\u001b[0m",
      "\u001b[0;31mIndexError\u001b[0m                                Traceback (most recent call last)",
      "Input \u001b[0;32mIn [29]\u001b[0m, in \u001b[0;36m<cell line: 6>\u001b[0;34m()\u001b[0m\n\u001b[1;32m     15\u001b[0m     pos \u001b[38;5;241m=\u001b[39m \u001b[38;5;28mint\u001b[39m(\u001b[38;5;28minput\u001b[39m(\u001b[38;5;124m'\u001b[39m\u001b[38;5;124m삽입할 위치-->\u001b[39m\u001b[38;5;124m'\u001b[39m))\n\u001b[1;32m     16\u001b[0m     data \u001b[38;5;241m=\u001b[39m \u001b[38;5;28minput\u001b[39m(\u001b[38;5;124m'\u001b[39m\u001b[38;5;124m추가할 데이터-->\u001b[39m\u001b[38;5;124m'\u001b[39m)\n\u001b[0;32m---> 17\u001b[0m     \u001b[43minsert_data\u001b[49m\u001b[43m(\u001b[49m\u001b[43mpos\u001b[49m\u001b[43m,\u001b[49m\u001b[43m \u001b[49m\u001b[43mdata\u001b[49m\u001b[43m)\u001b[49m\n\u001b[1;32m     18\u001b[0m     \u001b[38;5;28mprint\u001b[39m(katok)\n\u001b[1;32m     19\u001b[0m \u001b[38;5;28;01melif\u001b[39;00m (select\u001b[38;5;241m==\u001b[39m\u001b[38;5;241m3\u001b[39m):\n",
      "Input \u001b[0;32mIn [19]\u001b[0m, in \u001b[0;36minsert_data\u001b[0;34m(position, friend)\u001b[0m\n\u001b[1;32m      7\u001b[0m     katok[i] \u001b[38;5;241m=\u001b[39m katok[i\u001b[38;5;241m-\u001b[39m\u001b[38;5;241m1\u001b[39m]\n\u001b[1;32m      8\u001b[0m     katok[i\u001b[38;5;241m-\u001b[39m\u001b[38;5;241m1\u001b[39m] \u001b[38;5;241m=\u001b[39m \u001b[38;5;28;01mNone\u001b[39;00m\n\u001b[0;32m---> 10\u001b[0m katok[position] \u001b[38;5;241m=\u001b[39m friend\n",
      "\u001b[0;31mIndexError\u001b[0m: list assignment index out of range"
     ]
    }
   ],
   "source": [
    "## 실전 예제 ##\n",
    "# 선형 리스트의 일반 구현\n",
    "\n",
    "select = -1\n",
    "katok = []\n",
    "while (select!=4):\n",
    "    \n",
    "    select = int(input('선택하세요(1: 추가, 2:삽입, 3:삭제, 4:종료-->'))\n",
    "    \n",
    "    if (select == 1):\n",
    "        data = input('추가할 데이터-->')\n",
    "        add_data(data)\n",
    "        print(katok)\n",
    "    elif (select == 2):\n",
    "        pos = int(input('삽입할 위치-->'))\n",
    "        data = input('추가할 데이터-->')\n",
    "        insert_data(pos, data)\n",
    "        print(katok)\n",
    "    elif (select==3):\n",
    "        pos = int(input('삭제할 위치-->'))\n",
    "        delete_data(pos)\n",
    "        print(katok)\n",
    "    elif (select==4):\n",
    "        print(katok)\n",
    "        exit # exit은 어지러운 상태에서 끝내는 것, break는 정리하면서 끝내는 것\n",
    "    else:\n",
    "        print('1~4 중 하나를 입력하세요')\n",
    "        continue"
   ]
  },
  {
   "cell_type": "markdown",
   "id": "5c77f17c",
   "metadata": {},
   "source": [
    "## 단순 연결 리스트"
   ]
  },
  {
   "cell_type": "code",
   "execution_count": 31,
   "id": "4efeca93",
   "metadata": {},
   "outputs": [
    {
     "name": "stdout",
     "output_type": "stream",
     "text": [
      "다현 정현 사나 지효 "
     ]
    }
   ],
   "source": [
    "# 단순 연결 리스트란?\n",
    "# : 떨어진 곳에 위치한 데이터를 화살표로 연결한 것. \n",
    "\n",
    "# 단순 연결 리스트의 개념\n",
    "# : 노드들이 물리적으로 떨어진 곳에 위치\n",
    "# : 각 노드의 번지도 순차적이지 않음\n",
    "# : 화살표로 표시된 연결(링크,link)을 따라가면 선형 리스트 순서와 같음. \n",
    "\n",
    "# 사용자 입장에서는 선형 리스트로 했든 연결 리스트로 했는지 모름\n",
    "# 하지만 프로그래머 입장에서 둘은 다름. \n",
    "# 선형 리스트는 물리적으로 붙어있음\n",
    "# 연결 리스트는 물리적으로 떨어져 있지만, 논리적으로 연결되어있음. \n",
    "\n",
    "# 데이터와 화살표를 합쳐서 '노드'라고 부름. \n",
    "\n",
    "# 연결 리스트로 데이터를 삽입/삭제 할때\n",
    "    # 선형 리스트는 많은 작업이 필요 (오버헤드 발생) -> 안되는 건 오버헤드가 아니지만\n",
    "    #                                         무리하게 발생함. \n",
    "    # 단순 연결 리스트는 해당 노드의 앞뒤 링크만 수정하면 되므로 오버헤드가 거의 발생하지 않음. \n",
    "    \n",
    "# 단순 연결 리스트의 원리\n",
    "# 노드 구조: \n",
    "    # 단순 연결 리스트는 다음 데이터를 가리키는 링크가 더 필요\n",
    "    # 노드는 데이터와 링크로 구성된 항목\n",
    "    # head : 연결 리스트의 가정 첫번째를 잡는 노드. \n",
    "    # 나머지는 연결되어 있기 때문에 head만 잘 잡고 있으면 접근이 가능함. \n",
    "    \n",
    "    \n",
    "# 구현\n",
    "# 연결 리스트 만드는 방법. \n",
    "\n",
    "## 함수\n",
    "class Node():\n",
    "    \n",
    "    def __init__(self):\n",
    "        self.data = None\n",
    "        self.link = None\n",
    "        \n",
    "node1 = Node() # 텅빈 노드가 만들어짐\n",
    "node1.data = '다현' # 데이터 부분에 다현을 넣음 \n",
    "\n",
    "node2 = Node()\n",
    "node2.data = '정현'\n",
    "node1.link = node2 # node1의 링크를 node2\n",
    "\n",
    "node3 = Node()\n",
    "node3.data = '쯔위'\n",
    "node2.link = node3\n",
    "\n",
    "node4 = Node()\n",
    "node4.data = '사나'\n",
    "node3.link = node4\n",
    "\n",
    "node5 = Node()\n",
    "node5.data = '지효'\n",
    "node4.link = node5\n",
    "\n",
    "## 노드의 삽입\n",
    "# newNode = Node()\n",
    "# newNode.data = '재남'\n",
    "# newNode.link = node2.link # 재남도 쯔위를 가리키고 정연도 쯔위를 가리킴\n",
    "# node2.link = newNode # 정연의 링크를 재남으로 변경. \n",
    "\n",
    "## 노드의 삭제\n",
    "# 쯔위의 탈퇴\n",
    "node2.link = node3.link # 쯔위를 건너뛴 다음 link로 선언해주고\n",
    "del(node3) # 쯔위 삭제 \n",
    "\n",
    "\n",
    "# 첫번째 노드를 통해서 .link로 다른 노드에 접근할 수 있음. \n",
    "print(node1.data, end=' ')\n",
    "print(node1.link.data, end=' ') # print(node2.data)\n",
    "print(node1.link.link.data, end=' ') # print(node3.data)\n",
    "print(node1.link.link.link.data, end=' ') # print(node4.data)\n"
   ]
  },
  {
   "cell_type": "code",
   "execution_count": 32,
   "id": "222f4737",
   "metadata": {},
   "outputs": [
    {
     "name": "stdout",
     "output_type": "stream",
     "text": [
      "다현 정현 사나 지효 \n"
     ]
    }
   ],
   "source": [
    "# 100번째 노드를 출력하고 싶다면?\n",
    "# 링크가 비어있으면 마지막 노드\n",
    "# 링크가 안비어있으면 다음 것을 출력\n",
    "# current : 현재 작업 중인 노드가 current\n",
    "\n",
    "# 현재 노드의 링크가 비어있지 않다면 현재 노드를 현재 노드의 링크가 가리키는 노드로 변경한 후\n",
    "# 현재 노드의 데이터인 정연을 출력\n",
    "# 계속 반복하다가 현재 노드의 링크가 비어 있으면 종료. \n",
    "\n",
    "######### 중요한 기법 ############\n",
    "current = node1\n",
    "print(current.data, end=' ')\n",
    "\n",
    "while current.link != None:\n",
    "    current = current.link # 다음으로 가는 방법. \n",
    "    print(current.data, end=' ')\n",
    "print()"
   ]
  },
  {
   "cell_type": "code",
   "execution_count": 34,
   "id": "40a45cf3",
   "metadata": {},
   "outputs": [
    {
     "name": "stdout",
     "output_type": "stream",
     "text": [
      "정연 쯔위 사나 지효 \n"
     ]
    }
   ],
   "source": [
    "#### 실무 버전의 연결 리스트 ####\n",
    "# 메모리 : 연결 리스트가 전부 들어있음. -> 메모리\n",
    "# head : 연결 리스트의 첫번째 부분을 가리키는 노드\n",
    "# current : 현재 작업 중인 노드\n",
    "# pre : 현재 처리 중인 노드의 바로 앞 노드 \n",
    "\n",
    "# 처음에는 모두 비어있고 다음과 같이 초기화\n",
    "# memory = []\n",
    "# head, current, pre = None, None, None\n",
    "\n",
    "## 함수 #####################################################################################\n",
    "class Node():\n",
    "    \n",
    "    def __init__(self):\n",
    "        self.data = None\n",
    "        self.link = None\n",
    "        \n",
    "def printNodes(start) : \n",
    "    current = start\n",
    "    print(current.data, end=' ')\n",
    "\n",
    "    while current.link != None:\n",
    "        current = current.link\n",
    "        print(current.data, end=' ')\n",
    "    print()\n",
    "\n",
    "### 삽입 함수 ###\n",
    "def insertNode(findData, insertData):\n",
    "    global memory, head, pre, current\n",
    "    # case 1: head 앞에 삽입할 때 (다현, 화사)\n",
    "    if (findData == head.data):\n",
    "        node = Node()\n",
    "        node.data = insertData\n",
    "        node.link = head\n",
    "        head = node\n",
    "        memory.append(node)\n",
    "        return # 더 이상 할게 없으면 return\n",
    "    \n",
    "    # case 2: 중간 노드에 삽입 할 때 (사나, 솔라)\n",
    "    current = head\n",
    "    while (current.link != None):\n",
    "        pre = current # 다음으로 가기 전에 pre한테 맡겨두고 감. \n",
    "        current = current.link # 다음으로 가는 방법 \n",
    "        if (current.data == findData):\n",
    "            node = Node()\n",
    "            node.data = insertData\n",
    "            node.link = current \n",
    "            pre.link = node # pre 에다가 방금 만든 node를 넣어줌\n",
    "            return # 더 이상 할게 없다면 return. \n",
    "        \n",
    "    # 여기까지 왔다는 뜻은 첫번째는 case 1에서 걸리지 않고 case 2에서 걸리지 않았기 때문에\n",
    "    # 그냥 마지막에 insertData를 넣어주기. \n",
    "    # case 3: 없는 노드 앞에 삽입 할때\n",
    "    node = Node()\n",
    "    node.data = insertData\n",
    "    current.link = node\n",
    "    memory.append(node)\n",
    "    return\n",
    "\n",
    "### 삭제 함수 ###\n",
    "def deleteNode(delData):\n",
    "    global memory, head, pre, current\n",
    "    \n",
    "    # Case 1 : 삭제할 데이터가 head인 경우\n",
    "    if (delData == head.data):\n",
    "        current = head\n",
    "        head = head.link # 다음 것을 head로 지정. head.link는 head 다음의 노드\n",
    "        del(current)\n",
    "        return # 작업끝\n",
    "    \n",
    "    # Case 2 : 삭제할 데이터가 중간인 이유\n",
    "    # 여기서는 머리가 아님, 쯔위를 찾기\n",
    "    current = head # 처음부터 찾기\n",
    "    while (current.link != None): # 다음 링크가 없을 때까지 (끝까지)\n",
    "        pre = current # pre한테 current를 맡김\n",
    "        current = current.link # current는 다음으로 감\n",
    "        if (current.data == delData):\n",
    "            pre.link = current.link\n",
    "            del(current)\n",
    "            return\n",
    "        \n",
    "    # Case 3 : 없는 데이터를 삭제할 경우 (재남)\n",
    "    return # 원래는 할거 없음 \n",
    "           # 케이스를 꼭 나눈다면 return만 쓰면 됨. \n",
    "    \n",
    "### 검색 노드 ###\n",
    "def findNode(findData):\n",
    "    global memory, head, pre, current\n",
    "    \n",
    "    # case 1 : 찾고자 하는 노드가 첫번째 에 있을 때\n",
    "    current = head \n",
    "    if (current.data == findData):\n",
    "        return current # current의 data가 아니라 노드 통째로 꺼내야 함. \n",
    "    \n",
    "    # case 2 : 처음에 없을 때\n",
    "    while (current.link != None):\n",
    "        current = current.link # 다음 노드로 넘어가기. \n",
    "        if (current.data == findData):\n",
    "            return current \n",
    "    \n",
    "    return Node() # 끝까지 못 찾으면 비어있는 노드를 리턴\n",
    "\n",
    "\n",
    "## 전역변수 #####################################################################################\n",
    "memory = []\n",
    "head, current, pre = None, None, None\n",
    "dataAry = [\n",
    "    '다현', '정연', '쯔위', '사나', '지효'\n",
    "] \n",
    "\n",
    "## main #####################################################################################\n",
    "\n",
    "# 하나짜리 연결리스트 완성. \n",
    "node = Node()\n",
    "node.data = dataAry[0]\n",
    "head = node\n",
    "memory.append(node)\n",
    "\n",
    "for data in dataAry[1:]: # dataAry의 첫번째를 제외한 리스트 안의 다음 값부터...\n",
    "    pre = node  # 노드를 재활용하기 전에 pre에 이전(첫번째) node를 저장\n",
    "    node = Node()\n",
    "    node.data = data\n",
    "    pre.link = node  # 다음의 첫번째 노드의 link에 다음 노드를 넣어줌\n",
    "    memory.append(node)\n",
    "\n",
    "# insertNode cases\n",
    "# insertNode('다현', '화사') 다현이 첫번째 노드에 있을 때\n",
    "# insertNode('사나', '솔라')\n",
    "# insertNode('재남', '문별') # 재남이 현재 없음 -> 문별을 마지막 노드에 삽입해줌. \n",
    "\n",
    "# deleteNodes cases\n",
    "# deleteNode('다현') 처음 데이터를 삭제할 경우\n",
    "# deleteNode('쯔위') 중간에 데이터가 있는 경우\n",
    "# deleteNode('재남') 데이터가 없는 경우\n",
    "\n",
    "# printNodes(head) # 함수를 이용하여 리스트 안에 데이터 다 뽑아오기. \n",
    "\n",
    "fNode = findNode('사나')\n",
    "print(fNode.data, '뮤비가 나옵니다. 큥짝~~')\n"
   ]
  },
  {
   "cell_type": "markdown",
   "id": "11565be4",
   "metadata": {},
   "source": [
    "## 원형 연결 리스트"
   ]
  },
  {
   "cell_type": "code",
   "execution_count": 35,
   "id": "531a83ad",
   "metadata": {},
   "outputs": [],
   "source": [
    "# 코딩을 하지 않는다고 하심. "
   ]
  },
  {
   "cell_type": "code",
   "execution_count": null,
   "id": "9de9ff97",
   "metadata": {},
   "outputs": [],
   "source": [
    "# 원형 연결 리스트\n",
    "# : 시작 위치와 다음 위치가 계속 이어진 후 마지막에 다시 시작 위치로 돌아옴\n",
    "\n",
    "### 원형 연결 리스트 개념 ###\n",
    "# : 단순 연결 리스트 구조와 구현 코드가 상당히 유사\n",
    "# 리스트 형태가 원 형태로 구성 (계속 회전하면서 연속 가능.)\n",
    "# 오버헤드가 발생하지 않음. \n",
    "\n",
    "### 원형 연결 리스트의 원리 ###\n",
    "# 마지막 노드가 다시 head를 가리킴. \n",
    "\n",
    "# 원형 연결 리스트는 다시 자신을 가리켜야 함\n",
    "\n",
    "# 사실 안해도 됨 -> 실무 기준\n",
    "# 그림 상에서는 빠르게 처리 되는 것 같으나, 아님\n",
    "# -> 단순 연결을 이용하면 됨. "
   ]
  },
  {
   "cell_type": "markdown",
   "id": "a9cd0e75",
   "metadata": {},
   "source": [
    "# 여기까지 배운 것 summary"
   ]
  },
  {
   "cell_type": "code",
   "execution_count": null,
   "id": "0291132e",
   "metadata": {},
   "outputs": [],
   "source": [
    "## 자료구조 ##\n",
    "# 1. 선형 자료구조\n",
    "    # 리스트\n",
    "        # 1. 순차 리스트 (=선형 리스트) : 한 단어로 배열, 빈틈 없음. \n",
    "                            # (장점) 전체를 접근이 굉장히 빠름. 공간 절약\n",
    "                            # (단점) 삽입/삭제 오버해드 발생 (되기는 됬으나 너무 오래 걸림)\n",
    "            # 예시) 발생만 되고 중간에 낄 일이 없는 데이터 -> 날짜별 신문데이터 (날짜별로 순차적으로 발생만 함.)\n",
    "                                            #    -> 고전 소설 연대별 데이터 \n",
    "        # 2. 단순 연결 리스트 : 노드(=데이터+링크). 논리적 붙어있음. 물리적으로는 멀리 떨어져 있음. \n",
    "                            # (장점) 삽입/삭제 시 오버헤드 X\n",
    "                            # (단점) 접근 속도가 느림 -> 이런거 가지고 디스크 속도가 느려짐 \n",
    "                            #                 -> 해결 방법 : 디스크 조각 모음 \n",
    "                            #    SSD는 디스크 조각 모임이 없음. (할 필요가 없어서 막혀있음)\n",
    "                            # (단점) 공간이 더 필요 (=비싸다.)\n",
    "            # 예시) 증권 데이터.. 삽입/삭제가 빈번한 데이터\n",
    "        # 3. 원형 연결 리스트 : 마지막 노드가 다시 head. \n",
    "    # 스택 (쉬우면서 활용도가 높음) : 한쪽이 막힌 파이브 (FILO)\n",
    "        # push, pop, top\n",
    "    # 큐\n",
    "        # 1. (일반) 순차 큐\n",
    "        # 2. 원형 큐(=환형 큐)\n",
    "\n",
    "# 2. 비선형 자료구조\n",
    "    # 트리\n",
    "        # 이진 트리 --> 이진 탐색 트리\n",
    "    # 그래프 -> (그래프는 실무에서는 많이 안쓰이지만 시험내기는 좋고 어려움, 시험용이 아니라면 하지 않아도 됨.)\n",
    "        # (네비게이션 코딩할 때 쓰임)\n",
    "        # 인접 행렬\n",
    "\n",
    "## 알고리즘 ## (종류가 되게 많은데 3가지만 선정하심)\n",
    "# 1. 정렬\n",
    "    # 선택 정렬/삽입 정렬\n",
    "    # 버블 정렬\n",
    "    # 퀵 정렬\n",
    "    \n",
    "# 2. 검색 (=탐색)\n",
    "    # 순차 검색\n",
    "    # 이진 검색 (성능이 빠르고, 데이터가 많아도 눈 깜짝할 새 찾아냄) -> 실무에서 빠르게 되는 것은 다 이진 검색. \n",
    "    \n",
    "# 3. 재귀 : 샘플(을 많이 풀어봐야 됨.) -> 직접 이해해야 됨. "
   ]
  },
  {
   "cell_type": "code",
   "execution_count": null,
   "id": "2b6097a5",
   "metadata": {},
   "outputs": [],
   "source": []
  },
  {
   "cell_type": "markdown",
   "id": "2ccfb51c",
   "metadata": {},
   "source": [
    "## 스택"
   ]
  },
  {
   "cell_type": "code",
   "execution_count": 36,
   "id": "e7edb742",
   "metadata": {},
   "outputs": [],
   "source": [
    "# 스택 구조란? \n",
    "# ex) 아이스크림 콘에 여러 가지 맛을 쌓을 때, 가장 먼저 넣은 맛을 가장 나중에 먹을 수 있는 구조\n",
    "\n",
    "# 스택의 개념\n",
    "    # 스택(stack) 자료구조는 한쪽 끝이 막힌 형태\n",
    "    # 입구가 하나이기 때문에 먼저 들어간 것이 가장 나중에 나오는 구조(선입후출, 후입선출) \n",
    "    # FILO (First In Last Out)\n",
    "    \n",
    "# 스택 원리\n",
    "# 스택 기본 구조\n",
    "    # 스택에 데이터를 삽입하는 작동 : push\n",
    "    # 스택에 데이터를 추출하는 작동 : pop\n",
    "    # 스택에 들어 있는 가장 위의 데이터 : top\n",
    "    \n",
    "# 데이터 삽입 : push\n",
    "    # 데이터 초깃값을 -1로 지정 -> 다른 숫자로 하면 다른 데이터가 있는 줄로 착각할 수 있음.\n",
    "# 데이터 추출 : pop\n",
    "    # top 위치의 데이터를 추출 (pop)\n",
    "    # top을 한 칸 아래로 이동 \n",
    "    # top의 값이 -1이면 아무것도 없음을 의미. "
   ]
  },
  {
   "cell_type": "code",
   "execution_count": 41,
   "id": "6d7dbcf8",
   "metadata": {},
   "outputs": [
    {
     "name": "stdout",
     "output_type": "stream",
     "text": [
      "바닥:  ['커피', '녹차', '꿀물', None, None]\n",
      "Pop -->  꿀물\n",
      "Pop -->  녹차\n",
      "Pop -->  커피\n",
      "바닥:  [None, None, None, None, None]\n"
     ]
    }
   ],
   "source": [
    "## 함수\n",
    "\n",
    "## 전역 변수\n",
    "SIZE = 5\n",
    "stack = [None for _ in range(SIZE)] # 리스트 컴프리헨션\n",
    "top = -1\n",
    "\n",
    "## 메인\n",
    "# Push()\n",
    "top += 1\n",
    "stack[top] = '커피'\n",
    "\n",
    "top += 1\n",
    "stack[top] = '녹차'\n",
    "\n",
    "top += 1\n",
    "stack[top] = '꿀물'\n",
    "\n",
    "print('바닥: ', stack)\n",
    "\n",
    "# Pop() : 추출 (삭제보다는 추출에 더 가까운 의미)\n",
    "data = stack[top]\n",
    "stack[top] = None\n",
    "top -= 1\n",
    "print('Pop --> ', data)\n",
    "\n",
    "data = stack[top]\n",
    "stack[top] = None\n",
    "top -= 1\n",
    "print('Pop --> ', data)\n",
    "\n",
    "data = stack[top]\n",
    "stack[top] = None\n",
    "top -= 1\n",
    "print('Pop --> ', data)\n",
    "print('바닥: ', stack)"
   ]
  },
  {
   "cell_type": "code",
   "execution_count": 48,
   "id": "0a9ceec6",
   "metadata": {},
   "outputs": [
    {
     "name": "stdout",
     "output_type": "stream",
     "text": [
      "팝 -->  환타\n",
      "팝 -->  콜라\n",
      "팝 -->  꿀물\n",
      "['커피', '녹차', None, None, None]\n"
     ]
    }
   ],
   "source": [
    "## 실무버전 스택 만들기 ##\n",
    "## 데이터 삽입 과정 ##\n",
    "# 스택이 꽉 찼는지 확인하는 함수\n",
    "    # top 값이 '스택 크기-1'과 같다면 스택이 꽉 찬 상태\n",
    "    # 꽉 찬 상태 -> 오버플로어 : 굉장히 좋지 않음. \n",
    "\n",
    "\n",
    "## 함수\n",
    "def isStackFull():\n",
    "    # 지역변수가 아닌 global 함수로 인식하겠다\n",
    "    global SIZE, stack, top # 스택의 최상단 데이터를 가리키는 변수\n",
    "    if (top == SIZE-1): # 탑이 꼭대기를 가리키면\n",
    "        return True\n",
    "    else:\n",
    "        return False\n",
    "\n",
    "def push(data):\n",
    "    global SIZE, stack, top\n",
    "    if (isStackFull()):\n",
    "        print('스택 꽉!')\n",
    "        return\n",
    "    top += 1\n",
    "    stack[top] = data\n",
    "    \n",
    "def isStackEmpty():\n",
    "    global SIZE, stack, top\n",
    "    if (top == -1):\n",
    "        return True\n",
    "    else:\n",
    "        return False\n",
    "\n",
    "    \n",
    "def pop():\n",
    "    global SIZE, stack, top\n",
    "    # 텅빈 상태에서 pop하면 언더플로어\n",
    "    if (isStackEmpty()):\n",
    "        print('스택이 텅 비었습니다')\n",
    "        return\n",
    "    data = stack[top]\n",
    "    stack[top] = None\n",
    "    top -= 1\n",
    "    return data \n",
    "\n",
    "def peek(): # 다음에 나올 데이터를 미리 확인하는 함수 (실제 뽑는 것은 아님.)\n",
    "    global SIZE, stack, top\n",
    "    if (isStackEmpty()):\n",
    "        print('스택이 텅 비었습니다')\n",
    "        return\n",
    "    return stack[top]\n",
    "    \n",
    "\n",
    "\n",
    "## 전역 변수\n",
    "SIZE = 5\n",
    "stack = [None for _ in range(SIZE)] # 리스트 컴프리헨션\n",
    "top = -1\n",
    "\n",
    "## 메인\n",
    "push('커피')\n",
    "push('녹차')\n",
    "push('꿀물')\n",
    "push('콜라')\n",
    "push('환타')\n",
    "# print(stack)\n",
    "\n",
    "retData = pop()\n",
    "print('팝 --> ', retData)\n",
    "\n",
    "retData = pop()\n",
    "print('팝 --> ', retData)\n",
    "\n",
    "retData = pop()\n",
    "print('팝 --> ', retData)\n",
    "print(stack)"
   ]
  },
  {
   "cell_type": "code",
   "execution_count": null,
   "id": "a8607d1b",
   "metadata": {},
   "outputs": [],
   "source": []
  },
  {
   "cell_type": "markdown",
   "id": "f83d2564",
   "metadata": {},
   "source": [
    "## 큐"
   ]
  },
  {
   "cell_type": "code",
   "execution_count": null,
   "id": "0fe18895",
   "metadata": {},
   "outputs": [],
   "source": []
  },
  {
   "cell_type": "code",
   "execution_count": null,
   "id": "561cad2f",
   "metadata": {},
   "outputs": [],
   "source": []
  },
  {
   "cell_type": "code",
   "execution_count": null,
   "id": "259258c8",
   "metadata": {},
   "outputs": [],
   "source": []
  },
  {
   "cell_type": "code",
   "execution_count": null,
   "id": "166204dc",
   "metadata": {},
   "outputs": [],
   "source": []
  },
  {
   "cell_type": "code",
   "execution_count": null,
   "id": "839f2748",
   "metadata": {},
   "outputs": [],
   "source": []
  },
  {
   "cell_type": "code",
   "execution_count": null,
   "id": "c60b3527",
   "metadata": {},
   "outputs": [],
   "source": []
  },
  {
   "cell_type": "code",
   "execution_count": null,
   "id": "837b7006",
   "metadata": {},
   "outputs": [],
   "source": []
  },
  {
   "cell_type": "code",
   "execution_count": null,
   "id": "0d1f01eb",
   "metadata": {},
   "outputs": [],
   "source": []
  },
  {
   "cell_type": "code",
   "execution_count": null,
   "id": "c4e7cc96",
   "metadata": {},
   "outputs": [],
   "source": []
  },
  {
   "cell_type": "code",
   "execution_count": null,
   "id": "a0421a93",
   "metadata": {},
   "outputs": [],
   "source": []
  },
  {
   "cell_type": "code",
   "execution_count": null,
   "id": "4fcb2e89",
   "metadata": {},
   "outputs": [],
   "source": []
  },
  {
   "cell_type": "code",
   "execution_count": null,
   "id": "8ed32251",
   "metadata": {},
   "outputs": [],
   "source": []
  },
  {
   "cell_type": "code",
   "execution_count": null,
   "id": "a4e3667a",
   "metadata": {},
   "outputs": [],
   "source": []
  },
  {
   "cell_type": "code",
   "execution_count": null,
   "id": "05bee228",
   "metadata": {},
   "outputs": [],
   "source": []
  },
  {
   "cell_type": "code",
   "execution_count": null,
   "id": "92d8010e",
   "metadata": {},
   "outputs": [],
   "source": []
  },
  {
   "cell_type": "code",
   "execution_count": null,
   "id": "359222a9",
   "metadata": {},
   "outputs": [],
   "source": []
  },
  {
   "cell_type": "code",
   "execution_count": null,
   "id": "ff61465f",
   "metadata": {},
   "outputs": [],
   "source": []
  },
  {
   "cell_type": "code",
   "execution_count": null,
   "id": "c032ecbd",
   "metadata": {},
   "outputs": [],
   "source": []
  },
  {
   "cell_type": "code",
   "execution_count": null,
   "id": "fda1f5b4",
   "metadata": {},
   "outputs": [],
   "source": []
  },
  {
   "cell_type": "code",
   "execution_count": null,
   "id": "c80cf2fa",
   "metadata": {},
   "outputs": [],
   "source": []
  },
  {
   "cell_type": "code",
   "execution_count": null,
   "id": "df8b259c",
   "metadata": {},
   "outputs": [],
   "source": []
  },
  {
   "cell_type": "code",
   "execution_count": null,
   "id": "93c9cc8e",
   "metadata": {},
   "outputs": [],
   "source": []
  },
  {
   "cell_type": "code",
   "execution_count": null,
   "id": "3ac45df7",
   "metadata": {},
   "outputs": [],
   "source": []
  },
  {
   "cell_type": "code",
   "execution_count": null,
   "id": "2585a15a",
   "metadata": {},
   "outputs": [],
   "source": []
  },
  {
   "cell_type": "code",
   "execution_count": null,
   "id": "0286f6e7",
   "metadata": {},
   "outputs": [],
   "source": []
  },
  {
   "cell_type": "code",
   "execution_count": null,
   "id": "e752603e",
   "metadata": {},
   "outputs": [],
   "source": []
  },
  {
   "cell_type": "code",
   "execution_count": null,
   "id": "8e9c4a1b",
   "metadata": {},
   "outputs": [],
   "source": []
  },
  {
   "cell_type": "code",
   "execution_count": null,
   "id": "147a5a27",
   "metadata": {},
   "outputs": [],
   "source": []
  },
  {
   "cell_type": "code",
   "execution_count": null,
   "id": "e11a6e5c",
   "metadata": {},
   "outputs": [],
   "source": []
  },
  {
   "cell_type": "code",
   "execution_count": null,
   "id": "3a92674e",
   "metadata": {},
   "outputs": [],
   "source": []
  },
  {
   "cell_type": "code",
   "execution_count": null,
   "id": "d971f1d5",
   "metadata": {},
   "outputs": [],
   "source": []
  },
  {
   "cell_type": "code",
   "execution_count": null,
   "id": "cb1411ab",
   "metadata": {},
   "outputs": [],
   "source": []
  },
  {
   "cell_type": "code",
   "execution_count": null,
   "id": "b0247c09",
   "metadata": {},
   "outputs": [],
   "source": []
  },
  {
   "cell_type": "code",
   "execution_count": null,
   "id": "86ff85f4",
   "metadata": {},
   "outputs": [],
   "source": []
  },
  {
   "cell_type": "code",
   "execution_count": null,
   "id": "b5093ab4",
   "metadata": {},
   "outputs": [],
   "source": []
  },
  {
   "cell_type": "code",
   "execution_count": null,
   "id": "5204928d",
   "metadata": {},
   "outputs": [],
   "source": []
  },
  {
   "cell_type": "code",
   "execution_count": null,
   "id": "1d27dc84",
   "metadata": {},
   "outputs": [],
   "source": []
  },
  {
   "cell_type": "code",
   "execution_count": null,
   "id": "d03dc4f7",
   "metadata": {},
   "outputs": [],
   "source": []
  },
  {
   "cell_type": "code",
   "execution_count": null,
   "id": "f57d9d76",
   "metadata": {},
   "outputs": [],
   "source": []
  },
  {
   "cell_type": "code",
   "execution_count": null,
   "id": "c356a3b9",
   "metadata": {},
   "outputs": [],
   "source": []
  },
  {
   "cell_type": "code",
   "execution_count": null,
   "id": "ac54ca99",
   "metadata": {},
   "outputs": [],
   "source": []
  },
  {
   "cell_type": "code",
   "execution_count": null,
   "id": "343177bd",
   "metadata": {},
   "outputs": [],
   "source": []
  },
  {
   "cell_type": "code",
   "execution_count": null,
   "id": "ab95d19d",
   "metadata": {},
   "outputs": [],
   "source": []
  },
  {
   "cell_type": "code",
   "execution_count": null,
   "id": "e468d8b0",
   "metadata": {},
   "outputs": [],
   "source": []
  },
  {
   "cell_type": "code",
   "execution_count": null,
   "id": "9f661f51",
   "metadata": {},
   "outputs": [],
   "source": []
  },
  {
   "cell_type": "code",
   "execution_count": null,
   "id": "b4e943a6",
   "metadata": {},
   "outputs": [],
   "source": []
  },
  {
   "cell_type": "code",
   "execution_count": null,
   "id": "4e24eff4",
   "metadata": {},
   "outputs": [],
   "source": []
  },
  {
   "cell_type": "code",
   "execution_count": null,
   "id": "27175297",
   "metadata": {},
   "outputs": [],
   "source": []
  },
  {
   "cell_type": "code",
   "execution_count": null,
   "id": "b8a0576d",
   "metadata": {},
   "outputs": [],
   "source": []
  },
  {
   "cell_type": "code",
   "execution_count": null,
   "id": "51984f19",
   "metadata": {},
   "outputs": [],
   "source": []
  },
  {
   "cell_type": "code",
   "execution_count": null,
   "id": "7c891d09",
   "metadata": {},
   "outputs": [],
   "source": []
  },
  {
   "cell_type": "code",
   "execution_count": null,
   "id": "2af9cb1d",
   "metadata": {},
   "outputs": [],
   "source": []
  },
  {
   "cell_type": "code",
   "execution_count": null,
   "id": "21743217",
   "metadata": {},
   "outputs": [],
   "source": []
  },
  {
   "cell_type": "code",
   "execution_count": null,
   "id": "dd9cd337",
   "metadata": {},
   "outputs": [],
   "source": []
  },
  {
   "cell_type": "code",
   "execution_count": null,
   "id": "48d6e2ff",
   "metadata": {},
   "outputs": [],
   "source": []
  }
 ],
 "metadata": {
  "kernelspec": {
   "display_name": "Python 3 (ipykernel)",
   "language": "python",
   "name": "python3"
  },
  "language_info": {
   "codemirror_mode": {
    "name": "ipython",
    "version": 3
   },
   "file_extension": ".py",
   "mimetype": "text/x-python",
   "name": "python",
   "nbconvert_exporter": "python",
   "pygments_lexer": "ipython3",
   "version": "3.9.12"
  },
  "toc": {
   "base_numbering": 1,
   "nav_menu": {},
   "number_sections": true,
   "sideBar": true,
   "skip_h1_title": false,
   "title_cell": "Table of Contents",
   "title_sidebar": "Contents",
   "toc_cell": false,
   "toc_position": {},
   "toc_section_display": true,
   "toc_window_display": false
  },
  "varInspector": {
   "cols": {
    "lenName": 16,
    "lenType": 16,
    "lenVar": 40
   },
   "kernels_config": {
    "python": {
     "delete_cmd_postfix": "",
     "delete_cmd_prefix": "del ",
     "library": "var_list.py",
     "varRefreshCmd": "print(var_dic_list())"
    },
    "r": {
     "delete_cmd_postfix": ") ",
     "delete_cmd_prefix": "rm(",
     "library": "var_list.r",
     "varRefreshCmd": "cat(var_dic_list()) "
    }
   },
   "types_to_exclude": [
    "module",
    "function",
    "builtin_function_or_method",
    "instance",
    "_Feature"
   ],
   "window_display": false
  }
 },
 "nbformat": 4,
 "nbformat_minor": 5
}
