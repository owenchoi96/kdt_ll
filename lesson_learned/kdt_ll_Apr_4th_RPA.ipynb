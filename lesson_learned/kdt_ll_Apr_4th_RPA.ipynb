{
 "cells": [
  {
   "cell_type": "markdown",
   "id": "8f37b504",
   "metadata": {},
   "source": [
    "***이메일 자동화***"
   ]
  },
  {
   "cell_type": "code",
   "execution_count": null,
   "id": "75d603f5",
   "metadata": {},
   "outputs": [],
   "source": [
    "# SMTP : 메일 발송을 위해 메일 서비스 제공회사와 사용자 간에 약속된 규약\n",
    "# 파이썬 이메일 관리 라이브러리\n",
    "    # smtplib\n",
    "    # email\n",
    "# 모두 내장된 라이브러리이기 때문에 별도 설치 필요없음 \n",
    "\n",
    "# SMTP_SERVER = 'smtp.naver.com' -> 서버주소\n",
    "# SMTP_PORT = 465 -> 포트번호\n",
    "# SMTP_USER = 'user_id' -> 유저네임\n",
    "# 실제 비밀번호 입력\n",
    "# SMTP_PASSWORD = '******' -> 패스워드 \n",
    "\n",
    "# IMAP : 전자메일에 엑세스 (많이 쓰임)\n",
    "\n",
    "# 편지를 받을 편지봉투\n"
   ]
  },
  {
   "cell_type": "code",
   "execution_count": 1,
   "id": "97c12cfb",
   "metadata": {},
   "outputs": [],
   "source": [
    "import smtplib\n",
    "import email"
   ]
  },
  {
   "cell_type": "code",
   "execution_count": 9,
   "id": "2c88a0a9",
   "metadata": {},
   "outputs": [
    {
     "name": "stdout",
     "output_type": "stream",
     "text": [
      "/Users/wonbinchoi/current_studying/kdt_ll\r\n"
     ]
    }
   ],
   "source": [
    "!pwd"
   ]
  },
  {
   "cell_type": "markdown",
   "id": "f8aeeac0",
   "metadata": {},
   "source": [
    "***네이버 이메일 발송***"
   ]
  },
  {
   "cell_type": "code",
   "execution_count": 25,
   "id": "fc9327ac",
   "metadata": {},
   "outputs": [],
   "source": [
    "# 설정\n",
    "# 네이버 앱에 들어가서 smtp 수신 동의를 해야함. \n",
    "SMTP_SERVER = 'smtp.naver.com'\n",
    "SMTP_PORT = 465 \n",
    "SMTP_USER = 'cwb0314@naver.com' # 이메일 형식으로 쓰지 않으면 에러가 날 수 있음. \n",
    "SMTP_PASSWORD = '실제 사용하는 비밀번호 입력'#open('./config', 'r').read().strip()"
   ]
  },
  {
   "cell_type": "code",
   "execution_count": 22,
   "id": "10b93c03",
   "metadata": {},
   "outputs": [],
   "source": [
    "from email.mime.multipart import MIMEMultipart\n",
    "from email.mime.text import MIMEText\n",
    "\n",
    "to_users = ['cwb0314@naver.com']\n",
    "target_addr = ','.join(to_users)\n",
    "subject = '테스트 메일 발송입니다'\n",
    "contents = '메일 내용입니다'\n",
    "\n",
    "msg = MIMEMultipart('alternative')\n",
    "\n",
    "msg['From'] = SMTP_USER\n",
    "msg['To'] = target_addr\n",
    "msg['Subject'] = subject\n",
    "text = MIMEText(contents)\n",
    "msg.attach(text)"
   ]
  },
  {
   "cell_type": "code",
   "execution_count": 23,
   "id": "2315d094",
   "metadata": {},
   "outputs": [],
   "source": [
    "# 메세지 발송\n",
    "import smtplib\n",
    "\n",
    "smtp = smtplib.SMTP_SSL(SMTP_SERVER, SMTP_PORT)\n",
    "smtp.login(SMTP_USER, SMTP_PASSWORD) # 처음에 이 부분이 안될 수 있음. \n",
    "smtp.sendmail(SMTP_USER, to_users, msg.as_string())\n",
    "smtp.close()"
   ]
  },
  {
   "cell_type": "markdown",
   "id": "e3b1d89e",
   "metadata": {},
   "source": [
    "***gmail 이메일 발송***"
   ]
  },
  {
   "cell_type": "code",
   "execution_count": null,
   "id": "2f7cae0d",
   "metadata": {},
   "outputs": [],
   "source": [
    "# uikxbrzirfhmhnvm"
   ]
  },
  {
   "cell_type": "code",
   "execution_count": 27,
   "id": "32968189",
   "metadata": {},
   "outputs": [],
   "source": [
    "# 설정\n",
    "SMTP_SERVER = 'smtp.naver.com'\n",
    "SMTP_PORT = 465 \n",
    "SMTP_USER = 'cwb0314@naver.com' # 이메일 형식으로 쓰지 않으면 에러가 날 수 있음. \n",
    "SMTP_PASSWORD = 'd'#open('./config', 'r').read().strip()\n",
    "\n",
    "from email.mime.multipart import MIMEMultipart\n",
    "from email.mime.text import MIMEText\n",
    "\n",
    "to_users = ['owenchoi96@gmail.com']\n",
    "target_addr = ','.join(to_users)\n",
    "subject = '테스트 메일 발송입니다'\n",
    "contents = '메일 내용입니다'\n",
    "\n",
    "msg = MIMEMultipart('alternative')\n",
    "\n",
    "msg['From'] = SMTP_USER\n",
    "msg['To'] = target_addr\n",
    "msg['Subject'] = subject\n",
    "text = MIMEText(contents)\n",
    "msg.attach(text)\n",
    "\n",
    "# 메세지 발송\n",
    "import smtplib\n",
    "\n",
    "smtp = smtplib.SMTP_SSL(SMTP_SERVER, SMTP_PORT)\n",
    "smtp.login(SMTP_USER, SMTP_PASSWORD) # 처음에 이 부분이 안될 수 있음. \n",
    "smtp.sendmail(SMTP_USER, to_users, msg.as_string())\n",
    "smtp.close()"
   ]
  },
  {
   "cell_type": "markdown",
   "id": "286661ba",
   "metadata": {},
   "source": [
    "***첨부 파일***"
   ]
  },
  {
   "cell_type": "code",
   "execution_count": 28,
   "id": "90393fcf",
   "metadata": {},
   "outputs": [
    {
     "name": "stdout",
     "output_type": "stream",
     "text": [
      "/Users/wonbinchoi/current_studying/kdt_ll\r\n"
     ]
    }
   ],
   "source": [
    "%cd "
   ]
  },
  {
   "cell_type": "code",
   "execution_count": 32,
   "id": "de3c5663",
   "metadata": {},
   "outputs": [],
   "source": [
    "SMTP_SERVER = 'smtp.gmail.com'\n",
    "SMTP_PORT = 465 \n",
    "SMTP_USER = 'owenchoi96@gmail.com' # 이메일 형식으로 쓰지 않으면 에러가 날 수 있음. \n",
    "SMTP_PASSWORD = 'Hyosun0325'#open('./config', 'r').read().strip()\n",
    "\n",
    "from email.mime.multipart import MIMEMultipart\n",
    "from email.mime.text import MIMEText\n",
    "\n",
    "to_users = ['owenchoi96@gmail.com']\n",
    "target_addr = ','.join(to_users)\n",
    "subject = '테스트 메일 발송입니다'\n",
    "contents = '메일 내용입니다'\n",
    "\n",
    "msg = MIMEMultipart('alternative')\n",
    "\n",
    "msg['From'] = SMTP_USER\n",
    "msg['To'] = target_addr\n",
    "msg['Subject'] = subject\n",
    "text = MIMEText(contents)\n",
    "msg.attach(text)"
   ]
  },
  {
   "cell_type": "code",
   "execution_count": 33,
   "id": "b56accef",
   "metadata": {
    "scrolled": true
   },
   "outputs": [
    {
     "ename": "FileNotFoundError",
     "evalue": "[Errno 2] No such file or directory: 'file_path'",
     "output_type": "error",
     "traceback": [
      "\u001b[0;31m---------------------------------------------------------------------------\u001b[0m",
      "\u001b[0;31mFileNotFoundError\u001b[0m                         Traceback (most recent call last)",
      "Cell \u001b[0;32mIn[33], line 8\u001b[0m\n\u001b[1;32m      4\u001b[0m \u001b[38;5;28;01mfrom\u001b[39;00m \u001b[38;5;21;01mos\u001b[39;00m\u001b[38;5;21;01m.\u001b[39;00m\u001b[38;5;21;01mpath\u001b[39;00m \u001b[38;5;28;01mimport\u001b[39;00m basename\n\u001b[1;32m      6\u001b[0m email_file \u001b[38;5;241m=\u001b[39m MIMEBase(\u001b[38;5;124m'\u001b[39m\u001b[38;5;124mapplication\u001b[39m\u001b[38;5;124m'\u001b[39m, \u001b[38;5;124m'\u001b[39m\u001b[38;5;124moctet-stream\u001b[39m\u001b[38;5;124m'\u001b[39m) \u001b[38;5;66;03m# vnd.ms.excel\u001b[39;00m\n\u001b[0;32m----> 8\u001b[0m \u001b[38;5;28;01mwith\u001b[39;00m \u001b[38;5;28;43mopen\u001b[39;49m\u001b[43m(\u001b[49m\u001b[38;5;124;43m'\u001b[39;49m\u001b[38;5;124;43mfile_path\u001b[39;49m\u001b[38;5;124;43m'\u001b[39;49m\u001b[43m,\u001b[49m\u001b[43m \u001b[49m\u001b[38;5;124;43m'\u001b[39;49m\u001b[38;5;124;43mrb\u001b[39;49m\u001b[38;5;124;43m'\u001b[39;49m\u001b[43m)\u001b[49m \u001b[38;5;28;01mas\u001b[39;00m f:\n\u001b[1;32m      9\u001b[0m     file_data \u001b[38;5;241m=\u001b[39m f\u001b[38;5;241m.\u001b[39mread()\n\u001b[1;32m     10\u001b[0m email_file\u001b[38;5;241m.\u001b[39mset_payload(file_data)\n",
      "File \u001b[0;32m~/opt/anaconda3/envs/study/lib/python3.9/site-packages/IPython/core/interactiveshell.py:282\u001b[0m, in \u001b[0;36m_modified_open\u001b[0;34m(file, *args, **kwargs)\u001b[0m\n\u001b[1;32m    275\u001b[0m \u001b[38;5;28;01mif\u001b[39;00m file \u001b[38;5;129;01min\u001b[39;00m {\u001b[38;5;241m0\u001b[39m, \u001b[38;5;241m1\u001b[39m, \u001b[38;5;241m2\u001b[39m}:\n\u001b[1;32m    276\u001b[0m     \u001b[38;5;28;01mraise\u001b[39;00m \u001b[38;5;167;01mValueError\u001b[39;00m(\n\u001b[1;32m    277\u001b[0m         \u001b[38;5;124mf\u001b[39m\u001b[38;5;124m\"\u001b[39m\u001b[38;5;124mIPython won\u001b[39m\u001b[38;5;124m'\u001b[39m\u001b[38;5;124mt let you open fd=\u001b[39m\u001b[38;5;132;01m{\u001b[39;00mfile\u001b[38;5;132;01m}\u001b[39;00m\u001b[38;5;124m by default \u001b[39m\u001b[38;5;124m\"\u001b[39m\n\u001b[1;32m    278\u001b[0m         \u001b[38;5;124m\"\u001b[39m\u001b[38;5;124mas it is likely to crash IPython. If you know what you are doing, \u001b[39m\u001b[38;5;124m\"\u001b[39m\n\u001b[1;32m    279\u001b[0m         \u001b[38;5;124m\"\u001b[39m\u001b[38;5;124myou can use builtins\u001b[39m\u001b[38;5;124m'\u001b[39m\u001b[38;5;124m open.\u001b[39m\u001b[38;5;124m\"\u001b[39m\n\u001b[1;32m    280\u001b[0m     )\n\u001b[0;32m--> 282\u001b[0m \u001b[38;5;28;01mreturn\u001b[39;00m \u001b[43mio_open\u001b[49m\u001b[43m(\u001b[49m\u001b[43mfile\u001b[49m\u001b[43m,\u001b[49m\u001b[43m \u001b[49m\u001b[38;5;241;43m*\u001b[39;49m\u001b[43margs\u001b[49m\u001b[43m,\u001b[49m\u001b[43m \u001b[49m\u001b[38;5;241;43m*\u001b[39;49m\u001b[38;5;241;43m*\u001b[39;49m\u001b[43mkwargs\u001b[49m\u001b[43m)\u001b[49m\n",
      "\u001b[0;31mFileNotFoundError\u001b[0m: [Errno 2] No such file or directory: 'file_path'"
     ]
    }
   ],
   "source": [
    "from email.mime.base import MIMEBase\n",
    "from email import encoders\n",
    "\n",
    "from os.path import basename\n",
    "\n",
    "email_file = MIMEBase('application', 'octet-stream') # vnd.ms.excel\n",
    "\n",
    "with open('./커리큘럼.xlsx', 'rb') as f:\n",
    "    file_data = f.read()\n",
    "email_file.set_payload(file_data)\n",
    "encoders.encode_base64(email_file)\n",
    "\n",
    "file_name = basename('./커리큘럼.xlsx')\n",
    "print(file_name)\n",
    "email_file.add_header('Content-Disposition', 'attachment', filename=file_name)\n",
    "\n",
    "msg.attach(email_file)"
   ]
  },
  {
   "cell_type": "code",
   "execution_count": null,
   "id": "561cdc14",
   "metadata": {},
   "outputs": [],
   "source": [
    "smtp = smtplib.SMTP_SSL(SMTP_SERVER, SMTP_PORT)\n",
    "smtp.login(SMTP_USER, SMTP_PASSWORD) # 처음에 이 부분이 안될 수 있음. \n",
    "smtp.sendmail(SMTP_USER, to_users, msg.as_string())\n",
    "smtp.close()"
   ]
  },
  {
   "cell_type": "markdown",
   "id": "7456af50",
   "metadata": {},
   "source": [
    "***telegram***"
   ]
  },
  {
   "cell_type": "code",
   "execution_count": 34,
   "id": "c107df65",
   "metadata": {
    "scrolled": true
   },
   "outputs": [
    {
     "name": "stdout",
     "output_type": "stream",
     "text": [
      "Collecting python-telegram-bot\n",
      "  Downloading python_telegram_bot-20.2-py3-none-any.whl (535 kB)\n",
      "\u001b[2K     \u001b[90m━━━━━━━━━━━━━━━━━━━━━━━━━━━━━━━━━━━━━━━\u001b[0m \u001b[32m535.8/535.8 kB\u001b[0m \u001b[31m9.6 MB/s\u001b[0m eta \u001b[36m0:00:00\u001b[0ma \u001b[36m0:00:01\u001b[0m\n",
      "\u001b[?25hCollecting httpx~=0.23.3\n",
      "  Downloading httpx-0.23.3-py3-none-any.whl (71 kB)\n",
      "\u001b[2K     \u001b[90m━━━━━━━━━━━━━━━━━━━━━━━━━━━━━━━━━━━━━━━━\u001b[0m \u001b[32m71.5/71.5 kB\u001b[0m \u001b[31m8.0 MB/s\u001b[0m eta \u001b[36m0:00:00\u001b[0m\n",
      "\u001b[?25hRequirement already satisfied: certifi in /Users/wonbinchoi/opt/anaconda3/envs/study/lib/python3.9/site-packages (from httpx~=0.23.3->python-telegram-bot) (2022.12.7)\n",
      "Requirement already satisfied: sniffio in /Users/wonbinchoi/opt/anaconda3/envs/study/lib/python3.9/site-packages (from httpx~=0.23.3->python-telegram-bot) (1.3.0)\n",
      "Collecting rfc3986[idna2008]<2,>=1.3\n",
      "  Downloading rfc3986-1.5.0-py2.py3-none-any.whl (31 kB)\n",
      "Collecting httpcore<0.17.0,>=0.15.0\n",
      "  Downloading httpcore-0.16.3-py3-none-any.whl (69 kB)\n",
      "\u001b[2K     \u001b[90m━━━━━━━━━━━━━━━━━━━━━━━━━━━━━━━━━━━━━━━━\u001b[0m \u001b[32m69.6/69.6 kB\u001b[0m \u001b[31m5.9 MB/s\u001b[0m eta \u001b[36m0:00:00\u001b[0m\n",
      "\u001b[?25hRequirement already satisfied: h11<0.15,>=0.13 in /Users/wonbinchoi/opt/anaconda3/envs/study/lib/python3.9/site-packages (from httpcore<0.17.0,>=0.15.0->httpx~=0.23.3->python-telegram-bot) (0.14.0)\n",
      "Requirement already satisfied: anyio<5.0,>=3.0 in /Users/wonbinchoi/opt/anaconda3/envs/study/lib/python3.9/site-packages (from httpcore<0.17.0,>=0.15.0->httpx~=0.23.3->python-telegram-bot) (3.6.2)\n",
      "Requirement already satisfied: idna in /Users/wonbinchoi/opt/anaconda3/envs/study/lib/python3.9/site-packages (from rfc3986[idna2008]<2,>=1.3->httpx~=0.23.3->python-telegram-bot) (3.4)\n",
      "Installing collected packages: rfc3986, httpcore, httpx, python-telegram-bot\n",
      "Successfully installed httpcore-0.16.3 httpx-0.23.3 python-telegram-bot-20.2 rfc3986-1.5.0\n"
     ]
    }
   ],
   "source": [
    "!pip install python-telegram-bot"
   ]
  },
  {
   "cell_type": "code",
   "execution_count": 49,
   "id": "54c6ad39",
   "metadata": {},
   "outputs": [],
   "source": [
    "token = '5780223301:AAGeM-5i0VsuqmGdFw3tB23fNDpJyw8CH3U'"
   ]
  },
  {
   "cell_type": "code",
   "execution_count": 50,
   "id": "669adcdd",
   "metadata": {},
   "outputs": [],
   "source": [
    "import telegram\n",
    "\n",
    "bot = telegram.Bot(token)"
   ]
  },
  {
   "cell_type": "code",
   "execution_count": 51,
   "id": "bc998fbe",
   "metadata": {},
   "outputs": [],
   "source": [
    "# async def get_messages(bot):\n",
    "#     return await bot.getUpdates()"
   ]
  },
  {
   "cell_type": "code",
   "execution_count": 52,
   "id": "a019f6f1",
   "metadata": {},
   "outputs": [
    {
     "data": {
      "text/plain": [
       "(Update(message=Message(channel_chat_created=False, chat=Chat(first_name='Wonbin', id=6166661959, last_name='Choi', type=<ChatType.PRIVATE>), date=datetime.datetime(2023, 4, 4, 1, 48, 8, tzinfo=<UTC>), delete_chat_photo=False, entities=(MessageEntity(length=6, offset=0, type=<MessageEntityType.BOT_COMMAND>),), from_user=User(first_name='Wonbin', id=6166661959, is_bot=False, language_code='ko', last_name='Choi'), group_chat_created=False, message_id=1, supergroup_chat_created=False, text='/start'), update_id=801839526),\n",
       " Update(message=Message(channel_chat_created=False, chat=Chat(first_name='Wonbin', id=6166661959, last_name='Choi', type=<ChatType.PRIVATE>), date=datetime.datetime(2023, 4, 4, 1, 48, 14, tzinfo=<UTC>), delete_chat_photo=False, from_user=User(first_name='Wonbin', id=6166661959, is_bot=False, language_code='ko', last_name='Choi'), group_chat_created=False, message_id=2, supergroup_chat_created=False, text='ㅇㄹㅇㄹㅇㄹ'), update_id=801839527))"
      ]
     },
     "execution_count": 52,
     "metadata": {},
     "output_type": "execute_result"
    }
   ],
   "source": [
    "updates = await bot.get_updates()\n",
    "updates"
   ]
  },
  {
   "cell_type": "code",
   "execution_count": 53,
   "id": "347600d4",
   "metadata": {},
   "outputs": [
    {
     "data": {
      "text/plain": [
       "6166661959"
      ]
     },
     "execution_count": 53,
     "metadata": {},
     "output_type": "execute_result"
    }
   ],
   "source": [
    "updates[-1].message.chat.id # 신규 메세지 조회 및 채팅 아이디 확인"
   ]
  },
  {
   "cell_type": "code",
   "execution_count": 66,
   "id": "ea62af0a",
   "metadata": {},
   "outputs": [
    {
     "data": {
      "text/plain": [
       "Message(channel_chat_created=False, chat=Chat(first_name='Wonbin', id=6166661959, last_name='Choi', type=<ChatType.PRIVATE>), date=datetime.datetime(2023, 4, 4, 1, 53, 28, tzinfo=<UTC>), delete_chat_photo=False, from_user=User(first_name='wonbin_news', id=5780223301, is_bot=True, username='wonbinnews_bot'), group_chat_created=False, message_id=3, supergroup_chat_created=False, text='보낼 메세지 내용')"
      ]
     },
     "execution_count": 66,
     "metadata": {},
     "output_type": "execute_result"
    }
   ],
   "source": [
    "await bot.send_message(chat_id = '6166661959', text = '보낼 메세지 내용')"
   ]
  },
  {
   "cell_type": "code",
   "execution_count": null,
   "id": "9d27d95f",
   "metadata": {},
   "outputs": [],
   "source": []
  },
  {
   "cell_type": "code",
   "execution_count": null,
   "id": "b41a3ed2",
   "metadata": {},
   "outputs": [],
   "source": []
  },
  {
   "cell_type": "code",
   "execution_count": null,
   "id": "1494e93d",
   "metadata": {},
   "outputs": [],
   "source": []
  }
 ],
 "metadata": {
  "kernelspec": {
   "display_name": "Python 3 (ipykernel)",
   "language": "python",
   "name": "python3"
  },
  "language_info": {
   "codemirror_mode": {
    "name": "ipython",
    "version": 3
   },
   "file_extension": ".py",
   "mimetype": "text/x-python",
   "name": "python",
   "nbconvert_exporter": "python",
   "pygments_lexer": "ipython3",
   "version": "3.9.16"
  },
  "toc": {
   "base_numbering": 1,
   "nav_menu": {},
   "number_sections": true,
   "sideBar": true,
   "skip_h1_title": false,
   "title_cell": "Table of Contents",
   "title_sidebar": "Contents",
   "toc_cell": false,
   "toc_position": {},
   "toc_section_display": true,
   "toc_window_display": false
  },
  "varInspector": {
   "cols": {
    "lenName": 16,
    "lenType": 16,
    "lenVar": 40
   },
   "kernels_config": {
    "python": {
     "delete_cmd_postfix": "",
     "delete_cmd_prefix": "del ",
     "library": "var_list.py",
     "varRefreshCmd": "print(var_dic_list())"
    },
    "r": {
     "delete_cmd_postfix": ") ",
     "delete_cmd_prefix": "rm(",
     "library": "var_list.r",
     "varRefreshCmd": "cat(var_dic_list()) "
    }
   },
   "types_to_exclude": [
    "module",
    "function",
    "builtin_function_or_method",
    "instance",
    "_Feature"
   ],
   "window_display": false
  }
 },
 "nbformat": 4,
 "nbformat_minor": 5
}
