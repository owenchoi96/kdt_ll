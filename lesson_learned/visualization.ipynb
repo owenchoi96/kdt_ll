{
 "cells": [
  {
   "cell_type": "code",
   "execution_count": null,
   "id": "d51042eb",
   "metadata": {
    "scrolled": true
   },
   "outputs": [],
   "source": [
    "# # 필요 패키지 설치\n",
    "# !conda install -c plotly plotly --yes\n",
    "# !pip install dash\n",
    "# !pip install jupyter-dash"
   ]
  },
  {
   "cell_type": "markdown",
   "id": "e1a10258",
   "metadata": {},
   "source": [
    "***dash에 맞게 데이터 처리***"
   ]
  },
  {
   "cell_type": "code",
   "execution_count": null,
   "id": "79179421",
   "metadata": {},
   "outputs": [],
   "source": [
    "# import\n",
    "import dash\n",
    "from dash import dcc, Dash, html, Input, Output\n",
    "import plotly.express as px\n",
    "import pandas as pd\n",
    "import plotly.offline as pyo # 그래프 보이지 않을 때 오프라인 모드로 변경하기 위함\n",
    "pyo.init_notebook_mode() # 해당 코드 같이 실행 \n",
    "\n",
    "# 데이터 가져오기 \n",
    "def bring_test_2023_data():\n",
    "    \n",
    "    df = pd.read_csv(\"/Users/wonbinchoi/semiPJT_5/wonbin/oliveyoung_skincare.csv\")\n",
    "    df = df[df['brand_name'] == '닥터지'].copy() # 닥터지 데이터만 가져와서 테스트\n",
    "    df['review_date'] = pd.to_datetime(df['dispRegDate']) # review_date로 datetime화\n",
    "    \n",
    "    # year,month 구분 컬럼 생성\n",
    "    df['review_year'] = df['review_date'].dt.year\n",
    "    df['review_month'] = df['review_date'].dt.month\n",
    "    # 23년도 데이터로 테스트\n",
    "    df = df[df['review_year'].isin([2023])].copy() \n",
    "    \n",
    "    return df\n",
    "\n",
    "# 필요한 Dropdown 리스트, Checklist 리스트 가져오기\n",
    "def bring_needed_list(df):\n",
    "    # Dropdown에 쓰일 year_list\n",
    "    year_list = df['review_date'].dt.year.unique().tolist()\n",
    "    year_list = sorted(year_list)\n",
    "    # Dropdown에 쓰일 month_list\n",
    "    month_list = df['review_date'].dt.month.unique().tolist()\n",
    "    month_list = sorted(month_list)\n",
    "    # Checklist에 쓰일 goodsNo_list ==> 실제에서는 brand_list가 될 예정 \n",
    "    goodsNo_list = doctorg['goodsNo'].unique().tolist()\n",
    "    \n",
    "    return year_list, month_list, goodsNo_list\n",
    "\n",
    "# test형 월별로 나눈 데이터 프레임 생성\n",
    "def make_new_test_df(df):\n",
    "    \n",
    "    new_df = df.groupby(['goodsNo', 'review_month'])['gdasCont'].count().unstack()\n",
    "    new_df.columns = ['Jan', 'Feb', 'Mar', 'Apr']\n",
    "    new_df = new_df[:10].copy()\n",
    "    return new_df\n",
    "\n",
    "\n",
    "doctorg_23 = bring_test_2023_data()\n",
    "year_list, month_list, goodsNo_list = bring_needed_list(doctorg_23)\n",
    "new_df = make_new_test_df(doctorg_23)\n",
    "new_df.to_csv('test_app_csv.csv', index=True)"
   ]
  },
  {
   "cell_type": "markdown",
   "id": "66f3d4d3",
   "metadata": {},
   "source": [
    "***Dash 테스트***"
   ]
  },
  {
   "cell_type": "code",
   "execution_count": null,
   "id": "6b963a5a",
   "metadata": {},
   "outputs": [],
   "source": [
    "# test_app.py 에 dash 있음. \n",
    "from dash import Dash, html, dcc, Input, Output\n",
    "import plotly.express as px\n",
    "import pandas as pd\n",
    "\n",
    "df = pd.read_csv('test_app_csv.csv')\n",
    "goodsNo_list = df['goodsNo'].tolist()\n",
    "app = Dash(__name__)\n",
    "month_list = ['Jan', 'Feb', 'Mar', 'Apr']\n",
    "\n",
    "app.layout = html.Div(children=[\n",
    "    html.H1(children='고객리뷰 텍스트에 기반한 날짜별 올리브영 스킨케어 브랜드 평판 점수'),\n",
    "    html.Div([\n",
    "        '상품 번호',\n",
    "        dcc.Checklist(id='goodsNo_list',\n",
    "                     options=goodsNo_list,\n",
    "                     value=goodsNo_list[:5]),\n",
    "                     ]),\n",
    "    html.Div([\n",
    "        '날짜',\n",
    "        dcc.Dropdown(id='review_month',\n",
    "                     options=month_list,\n",
    "                     value=month_list[0]),\n",
    "                     ]),\n",
    "    html.Br(),\n",
    "    html.Div([dcc.Graph(id='update_graph')])\n",
    "])\n",
    "\n",
    "# callback\n",
    "@app.callback(\n",
    "    Output(component_id='update_graph', component_property='figure'),\n",
    "    [Input(component_id='goodsNo_list', component_property='value'),\n",
    "     Input(component_id='review_month', component_property='value')]\n",
    ")\n",
    "def update_graph(goodsNo, review_month):\n",
    "    dff = df[df['goodsNo'].isin(goodsNo)] # 여기서 구분이 이루어져야 함. \n",
    "    fig = px.bar(dff, x='goodsNo', y=review_month, width=1000, height=700)\n",
    "    return fig\n",
    "\n",
    "if __name__ == '__main__':\n",
    "    app.run_server(debug=False)"
   ]
  },
  {
   "cell_type": "code",
   "execution_count": null,
   "id": "c31fb7bd",
   "metadata": {},
   "outputs": [],
   "source": [
    "!python test_app.py"
   ]
  },
  {
   "cell_type": "code",
   "execution_count": null,
   "id": "2d5aff0a",
   "metadata": {},
   "outputs": [],
   "source": []
  },
  {
   "cell_type": "code",
   "execution_count": null,
   "id": "5eedb9eb",
   "metadata": {},
   "outputs": [],
   "source": []
  },
  {
   "cell_type": "code",
   "execution_count": null,
   "id": "30da9a0e",
   "metadata": {},
   "outputs": [],
   "source": []
  },
  {
   "cell_type": "code",
   "execution_count": null,
   "id": "21ae580b",
   "metadata": {},
   "outputs": [],
   "source": []
  }
 ],
 "metadata": {
  "kernelspec": {
   "display_name": "Python 3 (ipykernel)",
   "language": "python",
   "name": "python3"
  },
  "language_info": {
   "codemirror_mode": {
    "name": "ipython",
    "version": 3
   },
   "file_extension": ".py",
   "mimetype": "text/x-python",
   "name": "python",
   "nbconvert_exporter": "python",
   "pygments_lexer": "ipython3",
   "version": "3.8.16"
  }
 },
 "nbformat": 4,
 "nbformat_minor": 5
}
