{
 "cells": [
  {
   "cell_type": "code",
   "execution_count": null,
   "id": "b3ea6d50",
   "metadata": {},
   "outputs": [],
   "source": [
    "# 군집\n",
    "# 데이터 포인트들을 별개의 군집으로 그룹화\n",
    "# 유사성이 높은 데이터들을 동일한 그룹으로 분류하고 서로 다른 군집들이 상이성을 가지도록 그룹화\n",
    "\n",
    "# 활용분야\n",
    "# segmentation\n",
    "# image 검출, 세분화, 트레킹\n",
    "# 이상 검출\n",
    "\n",
    "#### 군집화의 핵심은 유사성 ####"
   ]
  },
  {
   "cell_type": "code",
   "execution_count": null,
   "id": "bfac2713",
   "metadata": {},
   "outputs": [],
   "source": [
    "# 군집은 타겟 벨류가 없음.\n",
    "# 점을 임의로 k개로 선정하고 k점들과 가까운 점들을 선택하고 그 가운데로 이동,\n",
    "# 점 선택하고 또 가운데로 이동... 반복\n",
    "\n",
    "# 학습 데이터들을 k개 그룹(cluster)로 바꿈\n",
    "# k개 클러스터의 중점(Centroid)을 임의로 부여한 후 각 중점과 가까운 점들을 찾는다.\n",
    "# 중점과 가까운 점들의 평균 지점(무게중심)을 계산하여 각 클러스터의 새로운 중점으로 사용. \n",
    "# 새로운 중점과 가까운 점들을 다시 찾고, 평균 지점을 계산하여 또 새로운 클러스터의 중점으로 사용.\n",
    "# 클러스터의 중점이 변하지 않을 때까지 반복. \n",
    "\n",
    "###### k-means ++ 알고리즘 ######\n",
    "# 초기 중점을 좀 더 합리적으로 설정하는 방법 (거리가 멀게)\n",
    "# 임의의 데이터 점을 처음부터 초기 중점을 잡아내기. \n",
    "# -> 그 다음 가장 거리가 먼 점을 초기 중점으로 잡아냄. -> 거리가 멀다는 것 자체가 서로 유사성이 없다는 것을 의미. \n",
    "# 유클리드 형 거리가 멈. -> 직선 거리가 멀다. "
   ]
  },
  {
   "cell_type": "code",
   "execution_count": 1,
   "id": "9bfa7603",
   "metadata": {},
   "outputs": [],
   "source": [
    "##### 최적의 k를 찾는 방법. k-means elbow method ##### \n",
    "# 몇 개의 k를 찾아야 하는지?\n",
    "# 정답에 해당하는 label이나 target이 없음. (측정 지표가 없음.)\n",
    "# 군집화가 잘 되어있는 경우 각 중점과 해당 cluster내의 데이터들간의 거리 합이 작을 것.\n",
    "# -> 이 거리의 합이 error(SSE)의 대용치로 쓸 수 있음. \n",
    "# k가 증가할 수록 SSE는 줄어든다. 하지만 k가 증가할수록 줄어도는 폭이 작아진다.\n",
    "# k가 증가할 때 SSE가 줄어든긴 하지만, 줄어드는 폭이 갑자기 작아지는 지점의 k값을 최적 cluster 개수라 할 수 있다. \n",
    "\n",
    "\n",
    "##### 군집 평가, Silhouette K-means 품질평가 #####\n",
    "# 응집력(cohesion)과 분리도(separation)을 사용한 실루엣(s) 계수로 평가\n",
    "# 분리가 잘된 경우 실루엣 계수가 크지만, cluster가 겹치는 경우 계수가 작아진다.\n",
    "\n",
    "\n",
    "\n",
    "##### DBSCAN ##### (군집 평가)\n",
    "# density-based spatial clsutering of applications with noise\n",
    "# 사람이 봤을 때는 합리적인 클러스터링이 예상이 갈 수 있지만,\n",
    "# 하지만, 컴퓨터가 보기에는 어려울 수 있다.\n",
    "\n",
    "# 밀집도 기반의 군집 알고리즘\n",
    "# 밀집도는 특정반경 ℨ안에 있는 샘플 개수로 정의\n",
    "# 반경 ℨ안에 있어야 할 최소 개수를 정의\n",
    "# 데이터마다 반경 ℨ인 원을 그린 후 원 안에 있는 데이터 개수를 카운트\n",
    "\n",
    "# 카운트 결과가 사전에 정의한 min points 이상이면 해당 데이터를 core point로 설정\n",
    "# 카운트 결과가 min point 이하이면 border point나 noise point이 되며 나중에 원 안의 샘플 중\n",
    "#      core point가 생기면 이 데이터는 border point로 표시 아니면 noise point로 표시. \n"
   ]
  },
  {
   "cell_type": "code",
   "execution_count": 2,
   "id": "216cd538",
   "metadata": {},
   "outputs": [],
   "source": [
    "from sklearn.datasets import make_blobs # 종속변수가 없는 데이터 만듬\n",
    "from sklearn.cluster import KMeans\n",
    "\n",
    "import matplotlib.pyplot as plt\n",
    "import numpy as np\n",
    "import pandas as pd"
   ]
  },
  {
   "cell_type": "code",
   "execution_count": 27,
   "id": "48d8537f",
   "metadata": {},
   "outputs": [
    {
     "data": {
      "text/plain": [
       "array([[ 2.75074449, -6.87817313],\n",
       "       [ 3.31185818, -2.69956529],\n",
       "       [ 9.60878036, -3.51315872],\n",
       "       [ 3.06887975, -6.65719013],\n",
       "       [ 9.13331047, -3.6763244 ]])"
      ]
     },
     "execution_count": 27,
     "metadata": {},
     "output_type": "execute_result"
    }
   ],
   "source": [
    "input_feature, _ = make_blobs(n_samples=400, centers=3,\n",
    "                              cluster_std=.5, random_state=30)\n",
    "input_feature[:5]"
   ]
  },
  {
   "cell_type": "code",
   "execution_count": 15,
   "id": "4a1f8a24",
   "metadata": {},
   "outputs": [
    {
     "data": {
      "image/png": "[encoded data removed]",
      "text/plain": [
       "<Figure size 720x576 with 1 Axes>"
      ]
     },
     "metadata": {
      "needs_background": "light"
     },
     "output_type": "display_data"
    }
   ],
   "source": [
    "plt.figure(figsize=(10,8))\n",
    "plt.scatter(input_feature[:,0], input_feature[:,1],\n",
    "            c='blue', edgecolor='k', lw=1)\n",
    "plt.show()"
   ]
  },
  {
   "cell_type": "code",
   "execution_count": 16,
   "id": "2de94017",
   "metadata": {},
   "outputs": [],
   "source": [
    "model_r = KMeans(n_clusters=3, init='random').fit(input_feature)"
   ]
  },
  {
   "cell_type": "code",
   "execution_count": 17,
   "id": "66d64b2a",
   "metadata": {},
   "outputs": [
    {
     "data": {
      "text/plain": [
       "array([[ 3.41944557, -2.68301814],\n",
       "       [ 2.61689336, -2.26214757],\n",
       "       [ 3.16904906, -6.76295691]])"
      ]
     },
     "execution_count": 17,
     "metadata": {},
     "output_type": "execute_result"
    }
   ],
   "source": [
    "center = model_r.cluster_centers_\n",
    "center"
   ]
  },
  {
   "cell_type": "code",
   "execution_count": 18,
   "id": "c25a5c56",
   "metadata": {},
   "outputs": [],
   "source": [
    "c0 = center[0]\n",
    "c1 = center[1]\n",
    "c2 = center[2]"
   ]
  },
  {
   "cell_type": "code",
   "execution_count": 22,
   "id": "eebe66ee",
   "metadata": {},
   "outputs": [
    {
     "data": {
      "image/png": "[encoded data removed]",
      "text/plain": [
       "<Figure size 432x288 with 1 Axes>"
      ]
     },
     "metadata": {
      "needs_background": "light"
     },
     "output_type": "display_data"
    }
   ],
   "source": [
    "plt.scatter(input_feature[model_r.labels_ == 0, 0], input_feature[model_r.labels_ == 0, 1], marker='o', c='g', edgecolor='k', lw=0.5)\n",
    "plt.scatter(input_feature[model_r.labels_ == 1, 0], input_feature[model_r.labels_ == 1, 1], marker='o', c='r', edgecolor='k', lw=0.5)\n",
    "plt.scatter(input_feature[model_r.labels_ == 2, 0], input_feature[model_r.labels_ == 2, 1], marker='o', c='b', edgecolor='k', lw=0.5)\n",
    "plt.scatter(c0[0], c0[1], s=200, c=\"g\", edgecolor='k', lw=1)\n",
    "plt.scatter(c1[0], c1[1], s=200, c=\"r\", edgecolor='k', lw=1)\n",
    "plt.scatter(c2[0], c2[1], s=200, c=\"b\", edgecolor='k', lw=1)\n",
    "plt.show()"
   ]
  },
  {
   "cell_type": "code",
   "execution_count": 24,
   "id": "46d0ceba",
   "metadata": {},
   "outputs": [
    {
     "data": {
      "image/png": "[encoded data removed]",
      "text/plain": [
       "<Figure size 432x288 with 1 Axes>"
      ]
     },
     "metadata": {
      "needs_background": "light"
     },
     "output_type": "display_data"
    }
   ],
   "source": [
    "# k-means ++로 초기화 해보기\n",
    "model_pp = KMeans(n_clusters=3, init=\"k-means++\").fit(input_feature)\n",
    "\n",
    "plt.scatter(input_feature[model_r.labels_ == 0, 0], input_feature[model_r.labels_ == 0, 1], marker='o', c='g', edgecolor='k', lw=0.5)\n",
    "plt.scatter(input_feature[model_r.labels_ == 1, 0], input_feature[model_r.labels_ == 1, 1], marker='o', c='r', edgecolor='k', lw=0.5)\n",
    "plt.scatter(input_feature[model_r.labels_ == 2, 0], input_feature[model_r.labels_ == 2, 1], marker='o', c='b', edgecolor='k', lw=0.5)\n",
    "plt.show()"
   ]
  },
  {
   "cell_type": "code",
   "execution_count": 25,
   "id": "632b799f",
   "metadata": {},
   "outputs": [
    {
     "data": {
      "text/plain": [
       "83.74960203380338"
      ]
     },
     "execution_count": 25,
     "metadata": {},
     "output_type": "execute_result"
    }
   ],
   "source": [
    "model_r.inertia_"
   ]
  },
  {
   "cell_type": "code",
   "execution_count": 28,
   "id": "2332a9b8",
   "metadata": {},
   "outputs": [
    {
     "data": {
      "image/png": "[encoded data removed]",
      "text/plain": [
       "<Figure size 432x288 with 1 Axes>"
      ]
     },
     "metadata": {
      "needs_background": "light"
     },
     "output_type": "display_data"
    }
   ],
   "source": [
    "set_k = [k for k in range(2, 8)]\n",
    "set_inertia = []\n",
    "for k in set_k:\n",
    "    model = KMeans(n_clusters=k)\n",
    "    model.fit(input_feature)\n",
    "\n",
    "    set_inertia.append(model.inertia_)\n",
    "\n",
    "plt.plot(set_k, set_inertia, '-o')\n",
    "\n",
    "plt.title('Relationship of Num.Cluster and inertia')\n",
    "plt.xlabel('Num.Cluster')\n",
    "plt.ylabel('inertia')\n",
    "plt.xticks(set_k)\n",
    "plt.grid()\n",
    "plt.show()\n",
    "\n",
    "# 2개에서 3개로 넘어갈 때 inertia 숫자가 크게 줄어듬.\n",
    "# 이렇게 되면 최적의 k는 3으로 둠. -> 에러가 많이 줄어든 곳에서"
   ]
  },
  {
   "cell_type": "code",
   "execution_count": null,
   "id": "be47ead4",
   "metadata": {},
   "outputs": [],
   "source": []
  },
  {
   "cell_type": "code",
   "execution_count": null,
   "id": "c893bd06",
   "metadata": {},
   "outputs": [],
   "source": []
  },
  {
   "cell_type": "code",
   "execution_count": null,
   "id": "d707d43f",
   "metadata": {},
   "outputs": [],
   "source": []
  },
  {
   "cell_type": "code",
   "execution_count": null,
   "id": "489eaae8",
   "metadata": {},
   "outputs": [],
   "source": []
  },
  {
   "cell_type": "code",
   "execution_count": null,
   "id": "30dde651",
   "metadata": {},
   "outputs": [],
   "source": []
  },
  {
   "cell_type": "code",
   "execution_count": null,
   "id": "0280fb52",
   "metadata": {},
   "outputs": [],
   "source": []
  },
  {
   "cell_type": "code",
   "execution_count": null,
   "id": "7027dde2",
   "metadata": {},
   "outputs": [],
   "source": []
  },
  {
   "cell_type": "code",
   "execution_count": null,
   "id": "f1015f85",
   "metadata": {},
   "outputs": [],
   "source": []
  },
  {
   "cell_type": "code",
   "execution_count": null,
   "id": "64da1fbf",
   "metadata": {},
   "outputs": [],
   "source": []
  },
  {
   "cell_type": "code",
   "execution_count": null,
   "id": "a59ab0db",
   "metadata": {},
   "outputs": [],
   "source": []
  },
  {
   "cell_type": "code",
   "execution_count": null,
   "id": "19766eb7",
   "metadata": {},
   "outputs": [],
   "source": []
  },
  {
   "cell_type": "code",
   "execution_count": null,
   "id": "3d45a8fc",
   "metadata": {},
   "outputs": [],
   "source": []
  },
  {
   "cell_type": "code",
   "execution_count": null,
   "id": "3a4d23df",
   "metadata": {},
   "outputs": [],
   "source": []
  },
  {
   "cell_type": "code",
   "execution_count": null,
   "id": "6cd2e222",
   "metadata": {},
   "outputs": [],
   "source": []
  },
  {
   "cell_type": "code",
   "execution_count": null,
   "id": "c2408c51",
   "metadata": {},
   "outputs": [],
   "source": []
  },
  {
   "cell_type": "code",
   "execution_count": null,
   "id": "44ca7c74",
   "metadata": {},
   "outputs": [],
   "source": []
  },
  {
   "cell_type": "code",
   "execution_count": null,
   "id": "754823e7",
   "metadata": {},
   "outputs": [],
   "source": []
  },
  {
   "cell_type": "code",
   "execution_count": null,
   "id": "8bb26674",
   "metadata": {},
   "outputs": [],
   "source": []
  },
  {
   "cell_type": "code",
   "execution_count": null,
   "id": "e72acf1e",
   "metadata": {},
   "outputs": [],
   "source": []
  },
  {
   "cell_type": "code",
   "execution_count": null,
   "id": "2d3dfc19",
   "metadata": {},
   "outputs": [],
   "source": []
  },
  {
   "cell_type": "code",
   "execution_count": null,
   "id": "25fdefc2",
   "metadata": {},
   "outputs": [],
   "source": []
  },
  {
   "cell_type": "code",
   "execution_count": null,
   "id": "eeb0f009",
   "metadata": {},
   "outputs": [],
   "source": []
  },
  {
   "cell_type": "code",
   "execution_count": null,
   "id": "40882ac2",
   "metadata": {},
   "outputs": [],
   "source": []
  },
  {
   "cell_type": "code",
   "execution_count": null,
   "id": "548b6b2e",
   "metadata": {},
   "outputs": [],
   "source": []
  },
  {
   "cell_type": "code",
   "execution_count": null,
   "id": "e6f7ba70",
   "metadata": {},
   "outputs": [],
   "source": []
  },
  {
   "cell_type": "code",
   "execution_count": null,
   "id": "4f63ef75",
   "metadata": {},
   "outputs": [],
   "source": []
  },
  {
   "cell_type": "code",
   "execution_count": null,
   "id": "0ac49e9f",
   "metadata": {},
   "outputs": [],
   "source": []
  },
  {
   "cell_type": "code",
   "execution_count": null,
   "id": "58cc852c",
   "metadata": {},
   "outputs": [],
   "source": []
  },
  {
   "cell_type": "code",
   "execution_count": null,
   "id": "7f6c1d1f",
   "metadata": {},
   "outputs": [],
   "source": []
  },
  {
   "cell_type": "code",
   "execution_count": null,
   "id": "baad12c8",
   "metadata": {},
   "outputs": [],
   "source": []
  },
  {
   "cell_type": "code",
   "execution_count": null,
   "id": "8130a14d",
   "metadata": {},
   "outputs": [],
   "source": []
  },
  {
   "cell_type": "code",
   "execution_count": null,
   "id": "4df93b51",
   "metadata": {},
   "outputs": [],
   "source": []
  },
  {
   "cell_type": "code",
   "execution_count": null,
   "id": "885e42aa",
   "metadata": {},
   "outputs": [],
   "source": []
  }
 ],
 "metadata": {
  "kernelspec": {
   "display_name": "Python 3 (ipykernel)",
   "language": "python",
   "name": "python3"
  },
  "language_info": {
   "codemirror_mode": {
    "name": "ipython",
    "version": 3
   },
   "file_extension": ".py",
   "mimetype": "text/x-python",
   "name": "python",
   "nbconvert_exporter": "python",
   "pygments_lexer": "ipython3",
   "version": "3.9.12"
  },
  "toc": {
   "base_numbering": 1,
   "nav_menu": {},
   "number_sections": true,
   "sideBar": true,
   "skip_h1_title": false,
   "title_cell": "Table of Contents",
   "title_sidebar": "Contents",
   "toc_cell": false,
   "toc_position": {},
   "toc_section_display": true,
   "toc_window_display": false
  },
  "varInspector": {
   "cols": {
    "lenName": 16,
    "lenType": 16,
    "lenVar": 40
   },
   "kernels_config": {
    "python": {
     "delete_cmd_postfix": "",
     "delete_cmd_prefix": "del ",
     "library": "var_list.py",
     "varRefreshCmd": "print(var_dic_list())"
    },
    "r": {
     "delete_cmd_postfix": ") ",
     "delete_cmd_prefix": "rm(",
     "library": "var_list.r",
     "varRefreshCmd": "cat(var_dic_list()) "
    }
   },
   "types_to_exclude": [
    "module",
    "function",
    "builtin_function_or_method",
    "instance",
    "_Feature"
   ],
   "window_display": false
  }
 },
 "nbformat": 4,
 "nbformat_minor": 5
}
