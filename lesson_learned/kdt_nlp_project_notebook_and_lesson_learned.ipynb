{
 "cells": [
  {
   "cell_type": "markdown",
   "id": "0625b0a9",
   "metadata": {},
   "source": [
    "# 클렌징"
   ]
  },
  {
   "cell_type": "code",
   "execution_count": 1,
   "id": "73294756",
   "metadata": {},
   "outputs": [],
   "source": [
    "import pandas as pd\n",
    "navernews_01 = pd.read_csv('./navernews_data.csv')\n"
   ]
  },
  {
   "cell_type": "code",
   "execution_count": null,
   "id": "fc64e2e2",
   "metadata": {},
   "outputs": [],
   "source": [
    "# 전처리 중에 유의할 것\n",
    "# 온점은 놔둘 것. \n",
    "# 문장 별로 분석이 필요할 수도 있기 때문 \n",
    "\n",
    "# 추가 전처리 필요한 부분\n",
    "# 출판사 제거 "
   ]
  },
  {
   "cell_type": "markdown",
   "id": "1f8fb992",
   "metadata": {},
   "source": [
    "***\"  '  .  ,  제외한 나머지 punctuation 제거를 위한 dictionary***"
   ]
  },
  {
   "cell_type": "code",
   "execution_count": 146,
   "id": "abe8547a",
   "metadata": {
    "scrolled": true
   },
   "outputs": [
    {
     "data": {
      "text/plain": [
       "'\\n\\t\\t\\t 저축은행업계가 프로젝트파이낸싱PF 대출 부실화에 대응하기 위해 ‘대주단 협의체’를 만들었다. 대주단 협의체는 정상화 가능성이 크다고 판단된 사업장을 대상으로 3분의 2 이상이 동의하면 나머지 업체가 반대해도 대출 만기를 연장하기로 했다. 향후 부동산시장에서 미분양 물량이 늘어날 것으로 예상되는 가운데 저축은행업계의 이 같은 조치가 PF 사업장의 부실화를 줄일지 관심이 쏠리고 있다. 5일 금융권에 따르면 저축은행 79곳 전체가 자율협약을 맺고 지난 1일 ‘부동산 PF 대주단 협의체’를 출범시켰다. 특정 PF 사업장에 저축은행 3곳 이상이 대출해준 경우 3분의 2 이상, 대출 잔액 기준으로도 3분의 2 이상이 동의하면 나머지 저축은행이 반대해도 정상화 가능성이 큰 사업장의 대출 만기를 연장한다. 반대한 저축은행도 만기 연장에 참여해야 한다. 대주단에 참여한 저축은행의 4분의 3 이상, 채권액 기준으로 4분의 3 이상이 동의하면 추가 대출이나 금리 인하, 이자 납입 유예를 비롯한 채무 조정이 이뤄진다. 그동안은 대주단에 속한 업체 모두의 동의를 얻어야만 만기 연장이나 채무 조정이 가능했다. 다만 채무 조정은 제3의 전문기관이 정상화 가능성이 있다고 판단해야 한다. 저축은행업계 관계자는 “지분채권액을 기준으로 의결하면 대출을 많이 해준 저축은행 중심으로 의사결정이 이뤄질 수 있는 만큼 업체 수 요건도 동시에 만족하도록 했다”고 했다. 부동산 PF는 금융회사가 시행사에 아파트나 상가 등을 착공·분양할 때 필요한 자금을 빌려주는 대출이다. 시행사만으로는 신용이 떨어지는 경우가 많아 대부분 주택도시보증공사HUG나 시공사의 채무보증을 통해 신용을 보강한다. 저축은행업권이 참여한 PF 사업장은 채무보증을 선 시공사가 대부분 중소건설사다. 한국은행에 따르면 작년 3월 기준으로 전체 저축은행 PF 잔액 대비 시공사의 신용등급이 ‘투기 또는 무등급’인 비중이 87.5에 달했다. 은행27.0이나 증권사32.2, 캐피털사30.9에 비해 크게 높다. \\n\\t\\t'"
      ]
     },
     "execution_count": 146,
     "metadata": {},
     "output_type": "execute_result"
    }
   ],
   "source": [
    "def remove_punct_expet_four(text):\n",
    "    \"\"\"\n",
    "    지우지 않는 punctuation four\n",
    "        1. \"\n",
    "        2. '\n",
    "        3. .\n",
    "        4. ,\n",
    "        \n",
    "    나머지 punctuation은 제거\n",
    "    \"\"\"\n",
    "    \n",
    "    # string의 translate() 메소드를 사용하여 punctuation 제거\n",
    "    remove_punct_dict = dict((ord(i), None) for i in string.punctuation \\\n",
    "                             if i not in ['\"', \"'\", \".\", \",\"])\n",
    "    \n",
    "    return text.translate(remove_punct_dict)\n",
    "\n",
    "\n",
    "navernews_01['content'][:20].apply(lambda x: remove_punct_expet_four(x))[0]"
   ]
  },
  {
   "cell_type": "code",
   "execution_count": 409,
   "id": "fafecdd4",
   "metadata": {
    "scrolled": true
   },
   "outputs": [
    {
     "data": {
      "text/html": [
       "<div>\n",
       "<style scoped>\n",
       "    .dataframe tbody tr th:only-of-type {\n",
       "        vertical-align: middle;\n",
       "    }\n",
       "\n",
       "    .dataframe tbody tr th {\n",
       "        vertical-align: top;\n",
       "    }\n",
       "\n",
       "    .dataframe thead th {\n",
       "        text-align: right;\n",
       "    }\n",
       "</style>\n",
       "<table border=\"1\" class=\"dataframe\">\n",
       "  <thead>\n",
       "    <tr style=\"text-align: right;\">\n",
       "      <th></th>\n",
       "      <th>content</th>\n",
       "      <th>id</th>\n",
       "      <th>link</th>\n",
       "      <th>main_category</th>\n",
       "      <th>platform</th>\n",
       "      <th>sub_category</th>\n",
       "      <th>title</th>\n",
       "      <th>writed_at</th>\n",
       "      <th>writer</th>\n",
       "      <th>content_cleansed</th>\n",
       "    </tr>\n",
       "  </thead>\n",
       "  <tbody>\n",
       "    <tr>\n",
       "      <th>7000</th>\n",
       "      <td>\\n\\t\\t\\t (서울=뉴스1) 강은성 기자 = SM엔터테인먼트(041510)(이하...</td>\n",
       "      <td>6673275</td>\n",
       "      <td>https://n.news.naver.com/mnews/article/421/000...</td>\n",
       "      <td>경제</td>\n",
       "      <td>네이버</td>\n",
       "      <td>금융</td>\n",
       "      <td>\"이번 달은 SM이 월급 주네\" 한달만에 83% 급등…개미 '즐거운 비명'</td>\n",
       "      <td>2023-03-09 06:38:00</td>\n",
       "      <td>강은성</td>\n",
       "      <td>SM엔터테인먼트(041510)(이하 에스엠)의 주가가 경영권 확보를 위한 지분경쟁으...</td>\n",
       "    </tr>\n",
       "    <tr>\n",
       "      <th>7001</th>\n",
       "      <td>\\n\\t\\t\\t (서울=뉴스1) 서상혁 기자 = 다중채무자 등 저신용자를 대상으로 ...</td>\n",
       "      <td>6673277</td>\n",
       "      <td>https://n.news.naver.com/mnews/article/421/000...</td>\n",
       "      <td>경제</td>\n",
       "      <td>네이버</td>\n",
       "      <td>금융</td>\n",
       "      <td>취약차주도 한자릿수 금리로 돈 빌린다…긴급생계비대출 27일 출시</td>\n",
       "      <td>2023-03-09 06:39:58</td>\n",
       "      <td>서상혁</td>\n",
       "      <td>다중채무자 등 저신용자를 대상으로 연 최저 9.4% 금리에 최대 100만원까지 빌려...</td>\n",
       "    </tr>\n",
       "    <tr>\n",
       "      <th>7002</th>\n",
       "      <td>\\n\\t\\t\\t (서울=뉴스1) 서상혁 기자 = 지난해 주요 금융지주 회장들은 9억...</td>\n",
       "      <td>6673316</td>\n",
       "      <td>https://n.news.naver.com/mnews/article/421/000...</td>\n",
       "      <td>경제</td>\n",
       "      <td>네이버</td>\n",
       "      <td>금융</td>\n",
       "      <td>지난해 '금융지주 회장님' 얼마 받았나…'연봉킹' KB 윤종규 18억원</td>\n",
       "      <td>2023-03-09 07:06:38</td>\n",
       "      <td>서상혁</td>\n",
       "      <td>지난해 주요 금융지주 회장들은 9억원에서 18억원의 보수를 받은 것으로 나타났다. ...</td>\n",
       "    </tr>\n",
       "    <tr>\n",
       "      <th>7003</th>\n",
       "      <td>\\n\\t\\t\\t [이코노미스트 김정훈 기자] #.직장인 박모(50)씨는 지하철역 에...</td>\n",
       "      <td>41343</td>\n",
       "      <td>https://n.news.naver.com/mnews/article/243/000...</td>\n",
       "      <td>경제</td>\n",
       "      <td>네이버</td>\n",
       "      <td>금융</td>\n",
       "      <td>‘보험사 편’ 아닌 ‘내 편’인 손해사정사 없나요[보험톡톡]</td>\n",
       "      <td>2023-03-09 07:02:01</td>\n",
       "      <td>김정훈</td>\n",
       "      <td>.직장인 박모(50)씨는 지하철역 에스컬레이터 이용 중 사고를 당해 해당 시설 관리...</td>\n",
       "    </tr>\n",
       "    <tr>\n",
       "      <th>7004</th>\n",
       "      <td>\\n\\t\\t\\t ‘미국 중앙은행’ 연방준비제도(Fed·연준)의 제롬 파월 의장이 연...</td>\n",
       "      <td>5098884</td>\n",
       "      <td>https://n.news.naver.com/mnews/article/009/000...</td>\n",
       "      <td>경제</td>\n",
       "      <td>네이버</td>\n",
       "      <td>금융</td>\n",
       "      <td>파월 발언에 적응 중인 뉴욕증시…반도체·기술주 위주 상승 마감 [월가월부]</td>\n",
       "      <td>2023-03-09 07:10:01</td>\n",
       "      <td>김인오</td>\n",
       "      <td>‘미국 중앙은행’ 연방준비제도(Fed·연준)의 제롬 파월 의장이 연방 하원 청문회에...</td>\n",
       "    </tr>\n",
       "  </tbody>\n",
       "</table>\n",
       "</div>"
      ],
      "text/plain": [
       "                                                content       id  \\\n",
       "7000  \\n\\t\\t\\t (서울=뉴스1) 강은성 기자 = SM엔터테인먼트(041510)(이하...  6673275   \n",
       "7001  \\n\\t\\t\\t (서울=뉴스1) 서상혁 기자 = 다중채무자 등 저신용자를 대상으로 ...  6673277   \n",
       "7002  \\n\\t\\t\\t (서울=뉴스1) 서상혁 기자 = 지난해 주요 금융지주 회장들은 9억...  6673316   \n",
       "7003  \\n\\t\\t\\t [이코노미스트 김정훈 기자] #.직장인 박모(50)씨는 지하철역 에...    41343   \n",
       "7004  \\n\\t\\t\\t ‘미국 중앙은행’ 연방준비제도(Fed·연준)의 제롬 파월 의장이 연...  5098884   \n",
       "\n",
       "                                                   link main_category  \\\n",
       "7000  https://n.news.naver.com/mnews/article/421/000...            경제   \n",
       "7001  https://n.news.naver.com/mnews/article/421/000...            경제   \n",
       "7002  https://n.news.naver.com/mnews/article/421/000...            경제   \n",
       "7003  https://n.news.naver.com/mnews/article/243/000...            경제   \n",
       "7004  https://n.news.naver.com/mnews/article/009/000...            경제   \n",
       "\n",
       "     platform sub_category                                      title  \\\n",
       "7000      네이버           금융  \"이번 달은 SM이 월급 주네\" 한달만에 83% 급등…개미 '즐거운 비명'   \n",
       "7001      네이버           금융        취약차주도 한자릿수 금리로 돈 빌린다…긴급생계비대출 27일 출시   \n",
       "7002      네이버           금융    지난해 '금융지주 회장님' 얼마 받았나…'연봉킹' KB 윤종규 18억원   \n",
       "7003      네이버           금융          ‘보험사 편’ 아닌 ‘내 편’인 손해사정사 없나요[보험톡톡]   \n",
       "7004      네이버           금융  파월 발언에 적응 중인 뉴욕증시…반도체·기술주 위주 상승 마감 [월가월부]   \n",
       "\n",
       "                writed_at writer  \\\n",
       "7000  2023-03-09 06:38:00    강은성   \n",
       "7001  2023-03-09 06:39:58    서상혁   \n",
       "7002  2023-03-09 07:06:38    서상혁   \n",
       "7003  2023-03-09 07:02:01    김정훈   \n",
       "7004  2023-03-09 07:10:01    김인오   \n",
       "\n",
       "                                       content_cleansed  \n",
       "7000  SM엔터테인먼트(041510)(이하 에스엠)의 주가가 경영권 확보를 위한 지분경쟁으...  \n",
       "7001  다중채무자 등 저신용자를 대상으로 연 최저 9.4% 금리에 최대 100만원까지 빌려...  \n",
       "7002  지난해 주요 금융지주 회장들은 9억원에서 18억원의 보수를 받은 것으로 나타났다. ...  \n",
       "7003  .직장인 박모(50)씨는 지하철역 에스컬레이터 이용 중 사고를 당해 해당 시설 관리...  \n",
       "7004  ‘미국 중앙은행’ 연방준비제도(Fed·연준)의 제롬 파월 의장이 연방 하원 청문회에...  "
      ]
     },
     "execution_count": 409,
     "metadata": {},
     "output_type": "execute_result"
    }
   ],
   "source": [
    "####### 데이터 가져오기 #######\n",
    "import pandas as pd\n",
    "import re \n",
    "import warnings\n",
    "warnings.filterwarnings('ignore')\n",
    "\n",
    "# navernews = pd.read_csv('./navernews_data.csv')\n",
    "temp_naver = navernews_01[7000:8000]\n",
    "\n",
    "\n",
    "####### 함수 부분 #######\n",
    "def remove_punct(text):\n",
    "    \"\"\"\n",
    "    지우지 않는 punctuation 빼고 나머지 삭제 \n",
    "    \"\"\"\n",
    "    \n",
    "    # string의 translate() 메소드를 사용하여 punctuation 제거\n",
    "    remove_punct_dict = dict((ord(i), \" \") for i in string.punctuation \\\n",
    "                             if i not in ['\"', \"'\", \".\", \",\", \"?\", \"%\", \"(\", \")\", \"~\"])\n",
    "    \n",
    "    return text.translate(remove_punct_dict)\n",
    "\n",
    "\n",
    "def first_preprocessing_on_content(content):\n",
    "    \"\"\"\n",
    "    ----- content를 읽었을 때 최대한 문맥의 의미를 방해하지 않도록 -------\n",
    "    \n",
    "    클린징 작업 순서 (다시쓰기)\n",
    "        1. 출판사 제거\n",
    "            1-1. ( = ) 패턴 제거\n",
    "            1-2. [ ] 패턴 제거\n",
    "            1-3. [ = ] 패턴 제거\n",
    "            1-4. \"공감언론 뉴시스 ~\" 뒤에 문자열 제거\n",
    "        2. 온라인 주소 제거\n",
    "            2-1. 이메일 주소 제거 \n",
    "            2-2. 트위터 주소 제거\n",
    "            2-3. 페이스북 주소 제거\n",
    "        3. 기자 이름 제거\n",
    "        4. \" ' , . 를 제외한 punctuation 제거\n",
    "        5. 텍스트의 앞뒤 공백 제거\n",
    "        \n",
    "    \"\"\"\n",
    "    \n",
    "    # 출판사 제거\n",
    "    content = re.sub('(\\(\\w+)=(\\w+\\))(\\s+\\w+\\s+\\w+)', ' ', content) # (서울=뉴스1) 강은성 기자 패턴 없애기\n",
    "    content = re.sub('(\\[\\w+)(\\s*)(\\w+)(\\s*)(\\w+\\])', ' ', content) # 1-2\n",
    "    content = re.sub('(\\[.*)=(.*\\])', ' ', content) # 1-3\n",
    "    # \n",
    "    try:\n",
    "        regex = re.compile('공감언론')\n",
    "        match = regex.search(content)\n",
    "        content = content[:match.start()]\n",
    "    except:\n",
    "        content = content\n",
    "\n",
    "    # 온라인 주소 제거\n",
    "    content = re.sub('(\\w+)@(\\w+).(\\w+).(\\w+)', ' ', content) # 2-1\n",
    "    content = re.sub(\"(@)(\\w+)\", \" \", content) # 2-2\n",
    "    content = re.sub(\"(\\w+).(\\w+)/(\\w+)\", \" \", content) # 2-3\n",
    "    \n",
    "    # 기자 이름 제거\n",
    "    content = re.sub('(\\w+)(\\s*)(\\w+)(\\s*)(\\w+)(\\s*)(기자)', ' ', content) \n",
    "    \n",
    "    # \"더 많은 글로벌투자~ \" 제거\n",
    "    content = re.sub('(더 많은 글로벌투자).*', ' ', content)\n",
    "    \n",
    "    # 날짜 삭제\n",
    "    # 맨뒤에 날짜가 써져 있는 경우가 있는 \n",
    "    # 이미 날짜가 있기 때문에 필요하지 않을 것으로 보임. \n",
    "    content = re.sub('(\\d+)\\.(.\\d+)\\.(\\d+)', \" \", content)\n",
    "    \n",
    "    # <> 안의 문자 제거\n",
    "    content = re.sub('(\\<)\\w+\\s*\\d-?\\d?(\\>)', \"\", content)\n",
    "    content = re.sub('(\\<.+):(.+\\>)', \"\", content)\n",
    "    \n",
    "    # '#' 해시태그 뒤에 글자들\n",
    "    # ex) #실리콘밸리은행 #SVB_파산 #국제통화기금 #금융시장 #연준_..... \n",
    "    content = re.sub(\"(#[\\w+]).*\", \"\", content)\n",
    "    \n",
    "    \n",
    "    \n",
    "    # 문자를 제외한 나머지 문자 제거 ==> 제일 마지막 \n",
    "    content = remove_punct(content)\n",
    "    # 빈칸이 두칸 이상이면 한칸으로 줄이기\n",
    "    content = re.sub('[ ]{2,}', ' ', content)\n",
    "    # 앞 뒤 공백 제거\n",
    "    final_text = content.strip() \n",
    "    \n",
    "    return final_text\n",
    "\n",
    "temp_naver['content_cleansed'] = temp_naver['content'].apply(lambda x: first_preprocessing_on_content(x))\n",
    "\n",
    "temp_naver.head()\n"
   ]
  },
  {
   "cell_type": "code",
   "execution_count": 406,
   "id": "42467950",
   "metadata": {},
   "outputs": [
    {
     "data": {
      "text/plain": [
       "'\\n\\t\\t\\t   = SM엔터테인먼트(041510)(이하 에스엠)의 주가가 경영권 확보를 위한 지분경쟁으로 한달만에 83%나 급등했다. 이 과정에서 개인과 기관은 적극적으로 차익을 실현, 적지 않은 이익을 남긴 것으로 파악된다.  다만 에스엠 주가가 카카오(035720)의 공개매수가마저 넘어서자 시장은 하이브(352820) 측의 또 다른 \\'베팅\\'을 기대하며 매물을 다시금 거둬들이는 모습이다.  9일 한국거래소에 따르면 전날(8일) 에스엠은 8800원(5.88%) 오른 15만8500원을 기록했다. 에스엠 사상최고가를 또 한번 경신한 수치다.  카카오의 공개매수 가격이 15만원인데 이를 넘어선 주가다. 이렇게 될 경우 카카오 역시 공개매수에 실패할 가능성이 있다. 다만 지난 7일과 8일 모두 \\'기타법인\\'이 매집을 하는 모습은 보이지 않았다. 개인, 외국인, 기관(금융투자, 은행, 보험, 사모펀드, 투신, 연기금 등) 등 일반적인 투자주체간 거래가 거의 전부였다.  앞서 하이브의 공개매수 기간에는 카카오와 헬리오스 유한 등 기타법인이 200만주에 달하는 물량을 매집하면서 주가가 크게 상승한 바 있는데, 적어도 현재까지는 기타법인의 매집 현상이 나타나지 않고 있다. 카카오와 하이브의 지분경쟁으로 에스엠 주가가 천정부지로 치솟으면서 개인과 기관의 차익실현 물량이 부쩍 늘었다.  하이브의 공개매수가 시작된 지난 2월부터 현재까지 한달여간 에스엠 주가는 8만6700원(2월1일 기준)에서 15만8600원으로 82.93% 폭등했다.  이론적으로 2월1일에 에스엠 주식 1000만원어치를 매수했다면 3월8일 기준 평가액은 1829만3000원으로 불어나 있는 셈이다.  주가가 단기 급등하자 개인과 기관은 적극적으로 차익을 실현하는 모습을 보였다.  우선 개인은 2월부터 지난 7일까지 누적 997억원어치를 순매도했다. 특히 카카오가 공개매수를 선언하면서 단숨에 15만원을 돌파한 7일 하루에만 1045억원어치를 내다팔았다.  주요 커뮤니티 등에는 \"이번달 월급은 에스엠에서 줬어요\" 같은 글과 함께 수익률 인증샷이 올라오기도 했다.  기관의 매도 규모는 더 크다. 기관은 카카오 공개매수 시작 전까지 3193억원어치를 순매도하며 차익실현에 집중하는 모습을 보였다. 특히 국민연금이 이끄는 \\'연기금\\'이 순매도한 금액만 누적 1960억원에 달한다.  앞서 국민연금은 지난 2월 에스엠 지분 4.64%(110만4513주)를 장내매도 방식으로 처분했다고 공시했었다. 이에 따라 국민연금이 보유한 에스엠 지분은 종전 8.96%(213만2822주)에서 2월21일 기준으로 4.32%(102만8309주)로 줄었다.  공시 기준일 이후에도 연기금 매도 물량이 625억원에 달하기 때문에 국민연금의 에스엠 지분율도 추가 하락했을 것으로 추정된다.  다만 기관은 8일 164억원을 다시금 사들였다. 7일 1045억원이나 팔아치웠던 개인도 이날은 341억원을 사들이며 매수우위로 돌아섰다.  금융투자업계 관계자는 기관과 개인의 이같은 물량 거둬들이기에 대해 \"에스엠 주가가 카카오의 공개매수가를 넘어서면서 카카오도 하이브처럼 공개매수에 실패할 가능성이 높아졌다\"면서 \"이로 인해 하이브가 \\'추가 공개매수\\' 등에 나설 가능성에 \\'베팅\\'하는 투자자들이 늘어나면서 이날 매수세가 유입된 것으로 보인다\"고 짚었다.   한편 에스엠은 전날까지의 상승으로 시가총액이 연초대비 1조9838억원 불어난 3조7739억원을 기록했다. 코스닥 시총 순위는 연초 17위에서 5위로 무려 12계단이 수직상승했다.\\n\\t\\t'"
      ]
     },
     "execution_count": 406,
     "metadata": {},
     "output_type": "execute_result"
    }
   ],
   "source": [
    "# cleansed\n",
    "content = navernews_01['content'].iloc[7000]\n",
    "content\n",
    "\n"
   ]
  },
  {
   "cell_type": "code",
   "execution_count": 411,
   "id": "9630a4e3",
   "metadata": {},
   "outputs": [
    {
     "data": {
      "text/plain": [
       "'SM엔터테인먼트(041510)(이하 에스엠)의 주가가 경영권 확보를 위한 지분경쟁으로 한달만에 83%나 급등했다. 이 과정에서 개인과 기관은 적극적으로 차익을 실현, 적지 않은 이익을 남긴 것으로 파악된다. 다만 에스엠 주가가 카카오(035720)의 공개매수가마저 넘어서자 시장은 하이브(352820) 측의 또 다른 \\'베팅\\'을 기대하며 매물을 다시금 거둬들이는 모습이다. 9일 한국거래소에 따르면 전날(8일) 에스엠은 8800원(5.88%) 오른 15만8500원을 기록했다. 에스엠 사상최고가를 또 한번 경신한 수치다. 카카오의 공개매수 가격이 15만원인데 이를 넘어선 주가다. 이렇게 될 경우 카카오 역시 공개매수에 실패할 가능성이 있다. 다만 지난 7일과 8일 모두 \\'기타법인\\'이 매집을 하는 모습은 보이지 않았다. 개인, 외국인, 기관(금융투자, 은행, 보험, 사모펀드, 투신, 연기금 등) 등 일반적인 투자주체간 거래가 거의 전부였다. 앞서 하이브의 공개매수 기간에는 카카오와 헬리오스 유한 등 기타법인이 200만주에 달하는 물량을 매집하면서 주가가 크게 상승한 바 있는데, 적어도 현재까지는 기타법인의 매집 현상이 나타나지 않고 있다. 카카오와 하이브의 지분경쟁으로 에스엠 주가가 천정부지로 치솟으면서 개인과 기관의 차익실현 물량이 부쩍 늘었다. 하이브의 공개매수가 시작된 지난 2월부터 현재까지 한달여간 에스엠 주가는 8만6700원(2월1일 기준)에서 15만8600원으로 82.93% 폭등했다. 이론적으로 2월1일에 에스엠 주식 1000만원어치를 매수했다면 3월8일 기준 평가액은 1829만3000원으로 불어나 있는 셈이다. 주가가 단기 급등하자 개인과 기관은 적극적으로 차익을 실현하는 모습을 보였다. 우선 개인은 2월부터 지난 7일까지 누적 997억원어치를 순매도했다. 특히 카카오가 공개매수를 선언하면서 단숨에 15만원을 돌파한 7일 하루에만 1045억원어치를 내다팔았다. 주요 커뮤니티 등에는 \"이번달 월급은 에스엠에서 줬어요\" 같은 글과 함께 수익률 인증샷이 올라오기도 했다. 기관의 매도 규모는 더 크다. 기관은 카카오 공개매수 시작 전까지 3193억원어치를 순매도하며 차익실현에 집중하는 모습을 보였다. 특히 국민연금이 이끄는 \\'연기금\\'이 순매도한 금액만 누적 1960억원에 달한다. 앞서 국민연금은 지난 2월 에스엠 지분 4.64%(110만4513주)를 장내매도 방식으로 처분했다고 공시했었다. 이에 따라 국민연금이 보유한 에스엠 지분은 종전 8.96%(213만2822주)에서 2월21일 기준으로 4.32%(102만8309주)로 줄었다. 공시 기준일 이후에도 연기금 매도 물량이 625억원에 달하기 때문에 국민연금의 에스엠 지분율도 추가 하락했을 것으로 추정된다. 다만 기관은 8일 164억원을 다시금 사들였다. 7일 1045억원이나 팔아치웠던 개인도 이날은 341억원을 사들이며 매수우위로 돌아섰다. 금융투자업계 관계자는 기관과 개인의 이같은 물량 거둬들이기에 대해 \"에스엠 주가가 카카오의 공개매수가를 넘어서면서 카카오도 하이브처럼 공개매수에 실패할 가능성이 높아졌다\"면서 \"이로 인해 하이브가 \\'추가 공개매수\\' 등에 나설 가능성에 \\'베팅\\'하는 투자자들이 늘어나면서 이날 매수세가 유입된 것으로 보인다\"고 짚었다. 한편 에스엠은 전날까지의 상승으로 시가총액이 연초대비 1조9838억원 불어난 3조7739억원을 기록했다. 코스닥 시총 순위는 연초 17위에서 5위로 무려 12계단이 수직상승했다.'"
      ]
     },
     "execution_count": 411,
     "metadata": {},
     "output_type": "execute_result"
    }
   ],
   "source": [
    "# 원본\n",
    "temp_naver['content_cleansed'].iloc[0]"
   ]
  },
  {
   "cell_type": "code",
   "execution_count": null,
   "id": "8e472e1c",
   "metadata": {},
   "outputs": [],
   "source": []
  },
  {
   "cell_type": "code",
   "execution_count": 353,
   "id": "5c17a06c",
   "metadata": {},
   "outputs": [
    {
     "data": {
      "text/plain": [
       "'\\n\\t\\t\\t        [파이낸셜뉴스] SC제일은행이 한국주택금융공사 특례보금자리론 중 t-보금자리론 기본금리를 0.1%p 내린다. 이에 따라 타행의 비대면(아낌e보금자리론)와 같은 금리를 적용한다.      2일 금융권에 따르면 SC제일은행은 특례보금자리론 중 t-보금자리론(특례) 3월 실행건에 대해 연 4.15~4.45%(일반형 기준)의 금리를 적용한다.      특례보금자리론은 지난 1월 주금공에서 출시한 정책형 주택담보대출로 최대 50년 동안 금리를 고정하는 장기 고정금리 상품이다. 소득 상한선 없이 9억원 이하의 주택을 담보로 최대 5억원까지 신규 주택 구입, 기존 대출 상환, 임차보증금 반환 등의 용도로 대출받을 수 있다.      SC제일은행의 t-보금자리론(특례)은 비대면 접수 방식의 아낌e보금자리론(특례)과 달리 영업점에서 접수할 수 있다. 기존에는 아낌e보금자리론(특례)보다 금리가 0.1%p 높았지만 이번 금리 인하로 적용 금리가 같아짐에 따라 비대면 대출 접수가 불편한 고령층이나 취약계층에게 도움이 될 전망이다.      또한 t-보금자리론(특례)은 아낌e보금자리론(특례)과 달리 영업점에서 신청하면 원스톱으로 서류 접수부터 대출 실행까지 가능하다. 특히 SC제일은행 자체적으로 대출 심사를 진행하기 때문에 상대적으로 더 신속하게 특례보금자리론을 이용할 수 있는 것이 장점이다.  #한국주택금융공사 #SC제일은행 #특례보금자리론 #t보금자리론 #아낌e보금자리론   \\n\\t\\t'"
      ]
     },
     "execution_count": 353,
     "metadata": {},
     "output_type": "execute_result"
    }
   ],
   "source": [
    "text = navernews_01.iloc[8100]['content']\n",
    "text"
   ]
  },
  {
   "cell_type": "code",
   "execution_count": 362,
   "id": "0cfed83e",
   "metadata": {},
   "outputs": [
    {
     "name": "stdout",
     "output_type": "stream",
     "text": [
      "content             \\n\\t\\t\\t [이데일리 서대웅 기자] 영국과 싱가포르 등 금융 선진국은 비(非)...\n",
      "id                                                            5434525\n",
      "link                https://n.news.naver.com/mnews/article/018/000...\n",
      "main_category                                                      경제\n",
      "platform                                                          네이버\n",
      "sub_category                                                       금융\n",
      "title                                영국·싱가포르도 도입한 '종지업자'…은행 과점 깰 수 있나\n",
      "writed_at                                         2023-03-02 06:22:01\n",
      "writer                                                            서대웅\n",
      "content_cleansed    영국과 싱가포르 등 금융 선진국은 비(非)은행도 고객 계좌를 직접 발급할 수 있도록...\n",
      "Name: 8204, dtype: object\n"
     ]
    },
    {
     "data": {
      "text/plain": [
       "'영국과 싱가포르 등 금융 선진국은 비(非)은행도 고객 계좌를 직접 발급할 수 있도록 제도를 운영하고 있다. 국내 시장에도 이러한 ‘종합지급결제업’(종지업)을 도입하는 방안이 검토되면서 “은행 계좌를 중심으로 일상 금융업무를 이용하던 고객들이 신규 종지업자로 이동할 가능성이 있다”는 분석이 나온다. 은행의 과점 체계를 해소할 수 있다는 것이다. 금융위원회는 지난 2020년 7월 ‘디지털금융 종합혁신방안’을 발표하며 “종합지급결제사업자를 도입하겠다”고 밝혔다. “하나의 금융 플랫폼을 통해 간편결제·송금 외에도 계좌 기반의 다양한 디지털금융 서비스를 원스톱으로 제공하겠다”는 게 목적이었다. 그러면서 유럽연합(EU)과 영국의 ‘EMI(Electronic Money Institution)’, 싱가포르 ‘지급서비스기관(Payment Institution)’을 종지업과 유사한 해외사례로 들었다. 금융위는 “국민 편익 증진을 위해 글로벌 수준의 디지털 금융서비스를 제공하는 플랫폼 사업자를 도입하겠다”고 했다. 서정호 금융연구원 부원장이 2020년 말 발표한 보고서에 따르면 영국의 EMI 인가를 받으면 핀테크 회사는 온라인 송금은 물론 환전, 지출내역 분석, 보험 가입, 자산관리 등 서비스를 운영할 수 있다. 싱가포르에서 지급서비스기관으로 지정받으면 송금과 공과금 관리, 보험가입, 재무상담, 자산관리 등을 할 수 있다. 영국과 싱가포르 모두 ‘지급계좌’ 발급을 허용한 것으로, 지급계좌는 정부가 2020년 도입을 추진한 종지업의 핵심 개념이다. 서 부원장은 이 보고서에서 종지업 도입 효과도 분석했다. 그는 종지업 도입 시 “편의성, 저렴한 수수료, 비금융 혜택 등을 무기로 다양한 사업자들이 출현할 것”이라고 내다봤다. 이어 “은행 계좌를 중심으로 일상 금융업무를 이용하던 고객들이 신규 종지업자에게 이동할 가능성이 있다”고 했다. 그는 2021년 1월 내놓은 보고서에서도 “새로운 플레이어들이 플랫폼 경쟁력을 앞세워 금융시장에 본격적으로 뛰어들면 그동안 금융회사들이 사실상 독점해온 고객과의 접점이 상당부분 플랫폼으로 이동할 수 있다”고 분석했다. 또 “플랫폼을 통해 금융 이외에 다른 분야의 생활 밀착형 서비스까지 연결해 제공하면 플랫폼 매력도는 더욱 상승할 것”이라고 했다. 서 부원장이 내놓은 분석은 빅테크·핀테크에 종지업을 허용할 경우였다. 당시 정부가 핀테크 등 플랫폼 사업자를 대상으로 도입을 추진하고 있었기 때문이다. 플랫폼 사업자와 기존 금융권 간 ‘기울어진 운동장’이 될 것이란 지적이 잇따르자 2021년 들어 정부는 카드사를 대상으로도 종지업 도입을 추진했다. 오는 2일 ‘은행권 경영·영업 관행·제도개선 태스크포스(TF)’가 개최하는 첫 워킹그룹(실무) 회의에선 카드사는 물론 보험사 등 비은행 전체를 대상으로 종지업을 확대 도입하는 안건을 논의한다. 업계 고위 관계자는 “방안이 현실화하면 지급결제 계좌를 둘러싼 무한경쟁 체제가 된다”고 했다.'"
      ]
     },
     "execution_count": 362,
     "metadata": {},
     "output_type": "execute_result"
    }
   ],
   "source": [
    "index = 1204\n",
    "text = temp_naver['content_cleansed'].iloc[index]\n",
    "print(temp_naver.iloc[index])\n",
    "text\n"
   ]
  },
  {
   "cell_type": "markdown",
   "id": "1b041d76",
   "metadata": {},
   "source": [
    "***데이터 클렌징에 추가할 부분***"
   ]
  },
  {
   "cell_type": "code",
   "execution_count": null,
   "id": "ee0da726",
   "metadata": {},
   "outputs": [],
   "source": []
  },
  {
   "cell_type": "code",
   "execution_count": null,
   "id": "6279b4fd",
   "metadata": {},
   "outputs": [],
   "source": []
  },
  {
   "cell_type": "code",
   "execution_count": null,
   "id": "ea6e9866",
   "metadata": {},
   "outputs": [],
   "source": []
  },
  {
   "cell_type": "code",
   "execution_count": null,
   "id": "5bc3ffcc",
   "metadata": {},
   "outputs": [],
   "source": []
  },
  {
   "cell_type": "code",
   "execution_count": null,
   "id": "c88818b7",
   "metadata": {},
   "outputs": [],
   "source": []
  },
  {
   "cell_type": "code",
   "execution_count": null,
   "id": "3d7e9d28",
   "metadata": {},
   "outputs": [],
   "source": []
  },
  {
   "cell_type": "code",
   "execution_count": null,
   "id": "0eeeeaa4",
   "metadata": {},
   "outputs": [],
   "source": []
  },
  {
   "cell_type": "code",
   "execution_count": null,
   "id": "43be46e9",
   "metadata": {},
   "outputs": [],
   "source": []
  },
  {
   "cell_type": "code",
   "execution_count": null,
   "id": "601122eb",
   "metadata": {},
   "outputs": [],
   "source": []
  },
  {
   "cell_type": "code",
   "execution_count": null,
   "id": "91cec4ab",
   "metadata": {},
   "outputs": [],
   "source": []
  },
  {
   "cell_type": "code",
   "execution_count": null,
   "id": "903e19ec",
   "metadata": {},
   "outputs": [],
   "source": []
  },
  {
   "cell_type": "markdown",
   "id": "ceb54199",
   "metadata": {},
   "source": [
    "# 전처리"
   ]
  },
  {
   "cell_type": "code",
   "execution_count": 106,
   "id": "fdcf021b",
   "metadata": {},
   "outputs": [],
   "source": [
    "# 이건 전처리 할 때 쓰임\n",
    "def second_preprocessing_on_dataframe(df):\n",
    "    \"\"\"\n",
    "    1. 타이틀에 \n",
    "        1. 사망, 탄광, 산재, 용역\n",
    "        2. 걸그룹, 트와이스, 있지\n",
    "        3. 괴롭힘, 성희롱\n",
    "    키워드가 들어간 기사 제거\n",
    "    \n",
    "    2. content_cleansed에 공백으로 되어있는 행 제거\n",
    "    \n",
    "    \"\"\"\n",
    "    # 관련없는 키워드 제거\n",
    "    # 이건 전처리에 해당 \n",
    "    df = df[~df['title'].str.contains('사망|탄광|산재|용역|걸그룹|트와이스|있지|괴롭힘|성희롱')].copy()\n",
    "    \n",
    "    # content_cleansed가 공백으로 되어있는 행 제거\n",
    "    df = df[df['content_cleansed'].apply(lambda x : len(x) > 10)].copy()\n",
    "    return df\n",
    "    \n",
    "df = second_preprocessing_on_dataframe(navernews_01)"
   ]
  },
  {
   "cell_type": "code",
   "execution_count": null,
   "id": "06a54439",
   "metadata": {},
   "outputs": [],
   "source": [
    "# 4. ▲문자 삭제, · 삭제, △ 삭제, → 삭제, ▶ 삭제\n"
   ]
  },
  {
   "cell_type": "code",
   "execution_count": null,
   "id": "2e107346",
   "metadata": {},
   "outputs": [],
   "source": []
  },
  {
   "cell_type": "code",
   "execution_count": null,
   "id": "9c21f262",
   "metadata": {},
   "outputs": [],
   "source": []
  },
  {
   "cell_type": "code",
   "execution_count": null,
   "id": "a1e174fd",
   "metadata": {},
   "outputs": [],
   "source": []
  },
  {
   "cell_type": "code",
   "execution_count": null,
   "id": "c8e7448a",
   "metadata": {},
   "outputs": [],
   "source": []
  },
  {
   "cell_type": "code",
   "execution_count": null,
   "id": "e51eac2c",
   "metadata": {},
   "outputs": [],
   "source": []
  },
  {
   "cell_type": "code",
   "execution_count": null,
   "id": "6b6bb039",
   "metadata": {},
   "outputs": [],
   "source": []
  },
  {
   "cell_type": "code",
   "execution_count": null,
   "id": "39884a9b",
   "metadata": {},
   "outputs": [],
   "source": []
  },
  {
   "cell_type": "code",
   "execution_count": null,
   "id": "67b0d045",
   "metadata": {},
   "outputs": [],
   "source": []
  },
  {
   "cell_type": "markdown",
   "id": "68ae4875",
   "metadata": {},
   "source": [
    "***3/31 클렌징 코드 리뷰***"
   ]
  },
  {
   "cell_type": "code",
   "execution_count": null,
   "id": "bd57f3ab",
   "metadata": {},
   "outputs": [],
   "source": [
    "# 날짜는 살리심\n",
    "# .* ==> 전체 문자를 지칭함 \n",
    "# 요상한 문자들 (화살표 등등) 없애기 \n",
    "# '재판매 및 DB 금지' 단어 등이 있음. \n",
    "# 주석 잘 달아놓기 \n",
    "# punctuation을 다 지워서 문맥이 이상해지지 않는지 확인하기 \n",
    "\n",
    "# 클렌징과 전처리는 다르다?"
   ]
  },
  {
   "cell_type": "markdown",
   "id": "396b7087",
   "metadata": {},
   "source": [
    "***괄호 패턴 있는 모든 문장 삭제***"
   ]
  },
  {
   "cell_type": "code",
   "execution_count": 246,
   "id": "45d239ae",
   "metadata": {},
   "outputs": [
    {
     "data": {
      "text/plain": [
       "'\\n\\t\\t\\t 한은 또한 향후 기준금리 추가 인상에 신중해질 수밖에 없을 것 같습니다. 4월 금통위에서 SVB의 파산이 어떤 변수가 될까요?  #실리콘밸리은행 #SVB_파산 #국제통화기금 #금융시장 #연준_통화정책 연합뉴스TV 기사문의 및 제보 : 카톡/라인 jebo23 \\n\\t\\t'"
      ]
     },
     "execution_count": 246,
     "metadata": {},
     "output_type": "execute_result"
    }
   ],
   "source": [
    "text = re.sub('[\\(\\{\\[\\<].+\\s*.+[\\)\\}\\]\\>]', '', text)\n",
    "text"
   ]
  },
  {
   "cell_type": "markdown",
   "id": "9cf7baad",
   "metadata": {},
   "source": [
    "***클렌징과 전처리의 차이점***"
   ]
  },
  {
   "cell_type": "code",
   "execution_count": null,
   "id": "d9047f7f",
   "metadata": {},
   "outputs": [],
   "source": [
    "# 클렌징은 본문에서 내용을 지워도 아예 필요가 없는 것 \n",
    "    # 문맥을 해치지 않는 방향으로 ~\n",
    "# 전처리는 토큰화 불용어 처리 등 분석에 필요한 것 "
   ]
  },
  {
   "cell_type": "code",
   "execution_count": null,
   "id": "3ba96502",
   "metadata": {},
   "outputs": [],
   "source": [
    "# 기자 제거\n",
    "if writer:\n",
    "    left_s, right_s, not_left, not_right = ('[\\(\\{\\[\\<]', '[\\)\\}\\]\\>]','^[\\(\\{\\[\\<]','^[\\)\\}\\]\\>]' )\n",
    "    text = re.sub('%s%s+%s%s+?%s'%(left_s, right_s, not_left, not_right, rights_s), '', text)\n",
    "    \n",
    "# ., 공백, 줄바꿈 여러개 제거\n",
    "re.sub('[ ]{2,}', ' ', text)\n",
    "re.sub('[\\t]{1,}', ' ', text)\n"
   ]
  },
  {
   "cell_type": "code",
   "execution_count": 242,
   "id": "3dbb6a55",
   "metadata": {},
   "outputs": [
    {
     "data": {
      "text/plain": [
       "'\\n\\t\\t\\t<출연 : 김대호 경제학 박사> 미국 내 16위인 은행이자 글로벌 벤처기업의 자금줄 역할을 해왔던 실리콘밸리 은행인 SVB가 결국 파산했습니다.  국제통화기금인 IMF는 SVB의 파산이 국제 금융 안정성에 미칠 영향을 주시하고 밝혔는데요.  우리 정부도 이번 사태가 한국 경제에 미칠 파장을 예의주시하고 있는 상황입니다.  관련 내용, 김대호 경제학 박사와 짚어보겠습니다.  안녕하세요. <질문 1> 미국 실리콘밸리은행인 SVB가 파산했습니다. 자금 위기가 불거진 지 채 이틀도 안 된 시점이라 더욱 충격이 큰 상황인데요. 스타트업 업계의 주요 금융기관으로 우뚝 서기까지 40여 년이 걸린 SVB가 초고속 파산을 하게 된 이유는 뭔가요? <질문 2> SVB가 실리콘밸리의 든든한 자금줄이었던 만큼 이번 파산 여파로 미국의 벤처와 스타트업 기업들의 줄도산 우려도 제기되고 있는데 시장 분위기는 어떻습니까? <질문 2-1> 영국과 캐나다를 비롯해 아시아 곳곳에서도 자금 마련에 대한 어려움을 겪는 기업이 생길 것이라는 관측이 나오고 있습니다. SVB가 영국과 캐나다, 중국, 인도 등에 지사를 두고 있기 때문인데 글로벌 경제 여파는 어떨까요? <질문 3> 재닛 옐런 미국 재무장관은 SVB 사태에 대한 구제금융 가능성을 일축했는데 자신감의 배경은 뭘까요? 미국도 더 이상 고금리 안전지대가 아닌 것 같은데 제2의 SVB 우려는 없나요? <질문 4> SVB 사태에 대한 우리 경제 후폭풍은 없을지도 궁금합니다. 국민연금이 SVB 그룹 주식을 보유하고 있었다는데 규모가 어떻게 되나요? 손실은 불가피한 건가요? <질문 5> 미국 정부는 SVB에 맡긴 돈을 보험 한도와 상관 없이 전액 보증하겠다는 입장을 밝혔습니다. 금융시장의 충격을 덜기 위한 조치로 보이는데 이렇게 되면 안심해도 되는 상황인가요?  <질문 6> 한편, SVB의 갑작스러운 파산은 연준 통화정책의 새로운 변수로도 떠오르고 있습니다. 연준의 급격한 금리 인상이 SVB 파산의 주요 원인으로 지목되고 있기 때문인데 이번 달 FOMC는 어떻게 전망하십니까? <질문 7> 한은 또한 향후 기준금리 추가 인상에 신중해질 수밖에 없을 것 같습니다. 4월 금통위에서 SVB의 파산이 어떤 변수가 될까요?  #실리콘밸리은행 #SVB_파산 #국제통화기금 #금융시장 #연준_통화정책 연합뉴스TV 기사문의 및 제보 : 카톡/라인 jebo23 \\n\\t\\t'"
      ]
     },
     "execution_count": 242,
     "metadata": {},
     "output_type": "execute_result"
    }
   ],
   "source": [
    "\n",
    "left_s, right_s, not_left, not_right = ('[\\(\\{\\[\\<]', '[\\)\\}\\]\\>]','^[\\(\\{\\[\\<]','^[\\)\\}\\]\\>]' )\n",
    "text = re.sub('%s%s+%s%s+?%s'%(left_s, right_s, not_left, not_right, right_s), '', text)\n",
    "text\n",
    "    "
   ]
  },
  {
   "cell_type": "code",
   "execution_count": null,
   "id": "131cbc89",
   "metadata": {},
   "outputs": [],
   "source": []
  },
  {
   "cell_type": "code",
   "execution_count": null,
   "id": "5a30822c",
   "metadata": {},
   "outputs": [],
   "source": []
  },
  {
   "cell_type": "code",
   "execution_count": null,
   "id": "249a26cb",
   "metadata": {},
   "outputs": [],
   "source": []
  },
  {
   "cell_type": "code",
   "execution_count": null,
   "id": "f9859c01",
   "metadata": {},
   "outputs": [],
   "source": []
  },
  {
   "cell_type": "code",
   "execution_count": null,
   "id": "9f795827",
   "metadata": {},
   "outputs": [],
   "source": []
  },
  {
   "cell_type": "code",
   "execution_count": null,
   "id": "54553283",
   "metadata": {},
   "outputs": [],
   "source": []
  }
 ],
 "metadata": {
  "kernelspec": {
   "display_name": "Python 3 (ipykernel)",
   "language": "python",
   "name": "python3"
  },
  "language_info": {
   "codemirror_mode": {
    "name": "ipython",
    "version": 3
   },
   "file_extension": ".py",
   "mimetype": "text/x-python",
   "name": "python",
   "nbconvert_exporter": "python",
   "pygments_lexer": "ipython3",
   "version": "3.9.16"
  },
  "toc": {
   "base_numbering": 1,
   "nav_menu": {},
   "number_sections": true,
   "sideBar": true,
   "skip_h1_title": false,
   "title_cell": "Table of Contents",
   "title_sidebar": "Contents",
   "toc_cell": false,
   "toc_position": {},
   "toc_section_display": true,
   "toc_window_display": false
  },
  "varInspector": {
   "cols": {
    "lenName": 16,
    "lenType": 16,
    "lenVar": 40
   },
   "kernels_config": {
    "python": {
     "delete_cmd_postfix": "",
     "delete_cmd_prefix": "del ",
     "library": "var_list.py",
     "varRefreshCmd": "print(var_dic_list())"
    },
    "r": {
     "delete_cmd_postfix": ") ",
     "delete_cmd_prefix": "rm(",
     "library": "var_list.r",
     "varRefreshCmd": "cat(var_dic_list()) "
    }
   },
   "types_to_exclude": [
    "module",
    "function",
    "builtin_function_or_method",
    "instance",
    "_Feature"
   ],
   "window_display": false
  }
 },
 "nbformat": 4,
 "nbformat_minor": 5
}
