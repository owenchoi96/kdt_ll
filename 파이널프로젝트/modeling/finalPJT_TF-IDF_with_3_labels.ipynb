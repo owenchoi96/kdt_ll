{
 "cells": [
  {
   "cell_type": "code",
   "execution_count": 1,
   "id": "909334b1",
   "metadata": {},
   "outputs": [],
   "source": [
    "import pandas as pd\n",
    "from tqdm.notebook import tqdm\n",
    "from sklearn.feature_extraction.text import TfidfVectorizer\n",
    "from sklearn.model_selection import train_test_split\n",
    "from sklearn.linear_model import LogisticRegression\n",
    "from sklearn.metrics import accuracy_score\n",
    "from lightgbm import LGBMClassifier"
   ]
  },
  {
   "cell_type": "code",
   "execution_count": 2,
   "id": "bc0d38fc",
   "metadata": {},
   "outputs": [
    {
     "name": "stdout",
     "output_type": "stream",
     "text": [
      "<class 'pandas.core.frame.DataFrame'>\n",
      "RangeIndex: 109248 entries, 0 to 109247\n",
      "Data columns (total 7 columns):\n",
      " #   Column      Non-Null Count   Dtype \n",
      "---  ------      --------------   ----- \n",
      " 0   id          109248 non-null  object\n",
      " 1   name        109248 non-null  object\n",
      " 2   info        108882 non-null  object\n",
      " 3   cat_id      109248 non-null  object\n",
      " 4   tag         99639 non-null   object\n",
      " 5   maincat_id  109248 non-null  object\n",
      " 6   midcat_id   109248 non-null  object\n",
      "dtypes: object(7)\n",
      "memory usage: 5.8+ MB\n"
     ]
    }
   ],
   "source": [
    "# loading dataframe\n",
    "df = pd.read_csv('./newly_reduced_bungae_df.csv', lineterminator='\\n') # 이걸로 오류 해결\n",
    "df['id'] = df['id'].astype(str)\n",
    "df['cat_id'] = df['cat_id'].astype(str)\n",
    "df['maincat_id'] = df['maincat_id'].astype(str)\n",
    "df['midcat_id'] = df['midcat_id'].astype(str)\n",
    "df.info()"
   ]
  },
  {
   "cell_type": "code",
   "execution_count": 3,
   "id": "20af3c05",
   "metadata": {},
   "outputs": [],
   "source": [
    "# spliting data\n",
    "\n",
    "def split_train_test_data(df):\n",
    "    # -- train, test split --\n",
    "    train_x, test_x, train_y, test_y = train_test_split(df['name'],\n",
    "#                                                         df['midcat_id'].values, # mid  \n",
    "                                                        df['cat_id'].values, # sub  \n",
    "                                                        random_state=42, \n",
    "                                                        test_size=.2)\n",
    "    \n",
    "    # -- train_df, test_df split --\n",
    "    train_df, test_df = df.loc[train_x.index], df.loc[test_x.index]\n",
    "    \n",
    "    # -- resetting index -- \n",
    "    train_df = train_df.reset_index(drop=True)\n",
    "    test_df = test_df.reset_index(drop=True)\n",
    "\n",
    "    return train_x, test_x, train_y, test_y, train_df, test_df\n",
    "\n",
    "train_x, test_x, train_y, test_y, train_df, test_df = split_train_test_data(df)"
   ]
  },
  {
   "cell_type": "code",
   "execution_count": 4,
   "id": "451c81b0",
   "metadata": {},
   "outputs": [],
   "source": [
    "tfidf_vect = TfidfVectorizer(ngram_range=(1,2), max_df=300, min_df=5)\n",
    "# -- x_train vectorization --\n",
    "X_train_cnt_vect = tfidf_vect.fit_transform(train_x)\n",
    "# -- x_test vectorization --\n",
    "X_test_cnt_vect = tfidf_vect.transform(test_x)"
   ]
  },
  {
   "cell_type": "code",
   "execution_count": 50,
   "id": "ee093f0e",
   "metadata": {
    "scrolled": true
   },
   "outputs": [
    {
     "name": "stderr",
     "output_type": "stream",
     "text": [
      "/Users/wonbinchoi/opt/anaconda3/envs/finalPJT/lib/python3.11/site-packages/sklearn/linear_model/_logistic.py:1211: UserWarning: 'n_jobs' > 1 does not have any effect when 'solver' is set to 'liblinear'. Got 'n_jobs' = 8.\n",
      "  warnings.warn(\n"
     ]
    }
   ],
   "source": [
    "# -- logistic regression --\n",
    "lr_clf = LogisticRegression(solver='liblinear', n_jobs=-1)\n",
    "lr_clf.fit(X_train_cnt_vect , train_y)\n",
    "proba_preds = lr_clf.predict_proba(X_test_cnt_vect)\n",
    "\n",
    "# Get top 3 labels for each prediction\n",
    "top3_labels = []\n",
    "for pred_probs in proba_preds:\n",
    "    top_labels = lr_clf.classes_[pred_probs.argsort()[-3:][::-1]]\n",
    "    top3_labels.append(top_labels)\n",
    "\n"
   ]
  },
  {
   "cell_type": "code",
   "execution_count": 52,
   "id": "b0ee832b",
   "metadata": {
    "scrolled": true
   },
   "outputs": [
    {
     "data": {
      "text/html": [
       "<div>\n",
       "<style scoped>\n",
       "    .dataframe tbody tr th:only-of-type {\n",
       "        vertical-align: middle;\n",
       "    }\n",
       "\n",
       "    .dataframe tbody tr th {\n",
       "        vertical-align: top;\n",
       "    }\n",
       "\n",
       "    .dataframe thead th {\n",
       "        text-align: right;\n",
       "    }\n",
       "</style>\n",
       "<table border=\"1\" class=\"dataframe\">\n",
       "  <thead>\n",
       "    <tr style=\"text-align: right;\">\n",
       "      <th></th>\n",
       "      <th>id</th>\n",
       "      <th>name</th>\n",
       "      <th>info</th>\n",
       "      <th>cat_id</th>\n",
       "      <th>tag</th>\n",
       "      <th>maincat_id</th>\n",
       "      <th>midcat_id</th>\n",
       "      <th>predicted_labels</th>\n",
       "      <th>accuracy</th>\n",
       "    </tr>\n",
       "  </thead>\n",
       "  <tbody>\n",
       "    <tr>\n",
       "      <th>0</th>\n",
       "      <td>214623042</td>\n",
       "      <td>로저 비비에 15CM 크리스탈 버클 사틴 벨트  140만원 -65만원</td>\n",
       "      <td>현재 매장 판매가는 [140만원 ]에 판매되는 제품으로 꾸준하게 사랑받는 제품 입니...</td>\n",
       "      <td>400110200</td>\n",
       "      <td>에르메스여성벨트,프라다여성벨트,루이비통여성벨트,샤넬벨트,구찌여성벨트</td>\n",
       "      <td>400</td>\n",
       "      <td>400110</td>\n",
       "      <td>400110100 400110200 422200500</td>\n",
       "      <td>1.0</td>\n",
       "    </tr>\n",
       "    <tr>\n",
       "      <th>1</th>\n",
       "      <td>126501574</td>\n",
       "      <td>디스이즈네버댓지갑</td>\n",
       "      <td>디스이즈네버댓 지갑   지금은 현재 구할 수 없는 제품이고요  사용감 있어서 싸게 ...</td>\n",
       "      <td>430999</td>\n",
       "      <td>디스이즈네버댓,지갑,반지갑,중지갑,카드지갑</td>\n",
       "      <td>430</td>\n",
       "      <td>430999</td>\n",
       "      <td>310220998 320180998 430100500</td>\n",
       "      <td>0.0</td>\n",
       "    </tr>\n",
       "    <tr>\n",
       "      <th>2</th>\n",
       "      <td>216027104</td>\n",
       "      <td>몽벨 트레킹화 여성235</td>\n",
       "      <td>몽벨 여성 트레킹화 트레킹 하실때 착용 하시면 편한 제품입니다 제품 상태는 자연스러...</td>\n",
       "      <td>405400100</td>\n",
       "      <td>아웃도어,등산,트레킹화</td>\n",
       "      <td>405</td>\n",
       "      <td>405400</td>\n",
       "      <td>405400100 400070500 405200999</td>\n",
       "      <td>1.0</td>\n",
       "    </tr>\n",
       "    <tr>\n",
       "      <th>3</th>\n",
       "      <td>200354005</td>\n",
       "      <td>샤넬 롱코트 급처분합니다~!!</td>\n",
       "      <td>샤넬 울 트위드 롱코트   사이즈 38   매장가 1800만원대 제품입니다  가격대...</td>\n",
       "      <td>310300300</td>\n",
       "      <td>샤넬,샤넬롱코트,샤넬트위드,명품</td>\n",
       "      <td>310</td>\n",
       "      <td>310300</td>\n",
       "      <td>310300300 320300100 310300100</td>\n",
       "      <td>1.0</td>\n",
       "    </tr>\n",
       "    <tr>\n",
       "      <th>4</th>\n",
       "      <td>226782760</td>\n",
       "      <td>아페쎄 APC 쁘띠 뉴 스탠다드 진 28사이즈</td>\n",
       "      <td>☺️사이즈 정보 사이즈: 28 허리단면: 38 총장: 104   ☺️실착용 한 적 ...</td>\n",
       "      <td>320120600</td>\n",
       "      <td>아페쎄,APC,쁘띠뉴스탠다드,청바지,진</td>\n",
       "      <td>320</td>\n",
       "      <td>320120</td>\n",
       "      <td>430200300 400130100 430100200</td>\n",
       "      <td>0.0</td>\n",
       "    </tr>\n",
       "  </tbody>\n",
       "</table>\n",
       "</div>"
      ],
      "text/plain": [
       "          id                                    name  \\\n",
       "0  214623042  로저 비비에 15CM 크리스탈 버클 사틴 벨트  140만원 -65만원   \n",
       "1  126501574                               디스이즈네버댓지갑   \n",
       "2  216027104                           몽벨 트레킹화 여성235   \n",
       "3  200354005                        샤넬 롱코트 급처분합니다~!!   \n",
       "4  226782760               아페쎄 APC 쁘띠 뉴 스탠다드 진 28사이즈   \n",
       "\n",
       "                                                info     cat_id  \\\n",
       "0  현재 매장 판매가는 [140만원 ]에 판매되는 제품으로 꾸준하게 사랑받는 제품 입니...  400110200   \n",
       "1  디스이즈네버댓 지갑   지금은 현재 구할 수 없는 제품이고요  사용감 있어서 싸게 ...     430999   \n",
       "2  몽벨 여성 트레킹화 트레킹 하실때 착용 하시면 편한 제품입니다 제품 상태는 자연스러...  405400100   \n",
       "3  샤넬 울 트위드 롱코트   사이즈 38   매장가 1800만원대 제품입니다  가격대...  310300300   \n",
       "4  ☺️사이즈 정보 사이즈: 28 허리단면: 38 총장: 104   ☺️실착용 한 적 ...  320120600   \n",
       "\n",
       "                                     tag maincat_id midcat_id  \\\n",
       "0  에르메스여성벨트,프라다여성벨트,루이비통여성벨트,샤넬벨트,구찌여성벨트        400    400110   \n",
       "1                디스이즈네버댓,지갑,반지갑,중지갑,카드지갑        430    430999   \n",
       "2                           아웃도어,등산,트레킹화        405    405400   \n",
       "3                      샤넬,샤넬롱코트,샤넬트위드,명품        310    310300   \n",
       "4                  아페쎄,APC,쁘띠뉴스탠다드,청바지,진        320    320120   \n",
       "\n",
       "                predicted_labels  accuracy  \n",
       "0  400110100 400110200 422200500       1.0  \n",
       "1  310220998 320180998 430100500       0.0  \n",
       "2  405400100 400070500 405200999       1.0  \n",
       "3  310300300 320300100 310300100       1.0  \n",
       "4  430200300 400130100 430100200       0.0  "
      ]
     },
     "execution_count": 52,
     "metadata": {},
     "output_type": "execute_result"
    }
   ],
   "source": [
    "for idx in range(len(test_df)):\n",
    "    test_df.loc[idx, 'predicted_labels'] = ' '.join(top3_labels[idx])\n",
    "\n",
    "# logistic regression accuracy\n",
    "for idx in range(len(test_df)):\n",
    "#     label = test_df.loc[idx, 'midcat_id'] # mid\n",
    "    label = test_df.loc[idx, 'cat_id'] # sub\n",
    "    predicted_labels = test_df.loc[idx, 'predicted_labels'].split(' ')\n",
    "    if label in predicted_labels:\n",
    "        test_df.loc[idx, 'accuracy'] = 1\n",
    "    else:\n",
    "        test_df.loc[idx, 'accuracy'] = 0\n",
    "\n",
    "test_df.head()"
   ]
  },
  {
   "cell_type": "code",
   "execution_count": 53,
   "id": "27cd434d",
   "metadata": {},
   "outputs": [
    {
     "name": "stdout",
     "output_type": "stream",
     "text": [
      "TF-IDF Vectorized Logistic Regression의 예측 정확도는 0.617\n"
     ]
    }
   ],
   "source": [
    "print('TF-IDF Vectorized Logistic Regression의 예측 정확도는 {0:.3f}'.format(test_df['accuracy'].sum() / len(test_df)))"
   ]
  },
  {
   "cell_type": "code",
   "execution_count": null,
   "id": "e306687b",
   "metadata": {},
   "outputs": [],
   "source": [
    "# -- lightGBM --\n",
    "lgbm_clf = LGBMClassifier(n_jobs=-1)\n",
    "lgbm_clf.fit(X_train_cnt_vect, train_y)\n",
    "proba_preds = lgbm_clf.predict_proba(X_test_cnt_vect)\n",
    "\n",
    "# Get top 3 labels for each prediction\n",
    "top3_labels = []\n",
    "for pred_probs in proba_preds:\n",
    "    top_labels = lgbm_clf.classes_[pred_probs.argsort()[-3:][::-1]]\n",
    "    top3_labels.append(top_labels)"
   ]
  },
  {
   "cell_type": "code",
   "execution_count": null,
   "id": "e12c3c90",
   "metadata": {},
   "outputs": [],
   "source": [
    "for idx in range(len(test_df)):\n",
    "    test_df.loc[idx, 'predicted_labels'] = ' '.join(top3_labels[idx])\n",
    "\n",
    "# logistic regression accuracy\n",
    "for idx in range(len(test_df)):\n",
    "#     label = test_df.loc[idx, 'midcat_id'] # mid\n",
    "    label = test_df.loc[idx, 'cat_id'] # sub\n",
    "    predicted_labels = test_df.loc[idx, 'predicted_labels'].split(' ')\n",
    "    if label in predicted_labels:\n",
    "        test_df.loc[idx, 'accuracy'] = 1\n",
    "    else:\n",
    "        test_df.loc[idx, 'accuracy'] = 0\n",
    "\n",
    "test_df.head()"
   ]
  },
  {
   "cell_type": "code",
   "execution_count": null,
   "id": "f8a69bd9",
   "metadata": {},
   "outputs": [],
   "source": [
    "print('lightGBM Vectorized Logistic Regression 의 예측 정확도는 {0:.3f}'.format(test_df['accuracy'].sum() / len(test_df)))"
   ]
  },
  {
   "cell_type": "code",
   "execution_count": null,
   "id": "bc309699",
   "metadata": {},
   "outputs": [],
   "source": []
  },
  {
   "cell_type": "code",
   "execution_count": null,
   "id": "d2930e7c",
   "metadata": {},
   "outputs": [],
   "source": []
  }
 ],
 "metadata": {
  "kernelspec": {
   "display_name": "Python 3 (ipykernel)",
   "language": "python",
   "name": "python3"
  },
  "language_info": {
   "codemirror_mode": {
    "name": "ipython",
    "version": 3
   },
   "file_extension": ".py",
   "mimetype": "text/x-python",
   "name": "python",
   "nbconvert_exporter": "python",
   "pygments_lexer": "ipython3",
   "version": "3.11.4"
  }
 },
 "nbformat": 4,
 "nbformat_minor": 5
}
