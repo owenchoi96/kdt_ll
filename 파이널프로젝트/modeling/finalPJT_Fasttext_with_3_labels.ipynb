{
 "cells": [
  {
   "cell_type": "code",
   "execution_count": 2,
   "id": "a47c81c2",
   "metadata": {},
   "outputs": [],
   "source": [
    "import pandas as pd\n",
    "import fasttext\n",
    "from tqdm.notebook import tqdm"
   ]
  },
  {
   "cell_type": "code",
   "execution_count": 3,
   "id": "636e74db",
   "metadata": {},
   "outputs": [
    {
     "name": "stderr",
     "output_type": "stream",
     "text": [
      "Warning : `load_model` does not return WordVectorModel or SupervisedModel any more, but a `FastText` object which is very similar.\n"
     ]
    }
   ],
   "source": [
    "# # Path to the pre-trained model\n",
    "# # file in local directory (jupyter notebook)\n",
    "# model_path = './cc.ko.300.bin'\n",
    "\n",
    "# # Loading the pre-trained model\n",
    "# pretrained_model = fasttext.load_model(model_path)"
   ]
  },
  {
   "cell_type": "code",
   "execution_count": 120,
   "id": "d294e095",
   "metadata": {
    "scrolled": true
   },
   "outputs": [
    {
     "data": {
      "text/html": [
       "<div>\n",
       "<style scoped>\n",
       "    .dataframe tbody tr th:only-of-type {\n",
       "        vertical-align: middle;\n",
       "    }\n",
       "\n",
       "    .dataframe tbody tr th {\n",
       "        vertical-align: top;\n",
       "    }\n",
       "\n",
       "    .dataframe thead th {\n",
       "        text-align: right;\n",
       "    }\n",
       "</style>\n",
       "<table border=\"1\" class=\"dataframe\">\n",
       "  <thead>\n",
       "    <tr style=\"text-align: right;\">\n",
       "      <th></th>\n",
       "      <th>id</th>\n",
       "      <th>name</th>\n",
       "      <th>info</th>\n",
       "      <th>cat_id</th>\n",
       "      <th>tag</th>\n",
       "      <th>maincat_id</th>\n",
       "      <th>midcat_id</th>\n",
       "    </tr>\n",
       "  </thead>\n",
       "  <tbody>\n",
       "    <tr>\n",
       "      <th>0</th>\n",
       "      <td>202546050</td>\n",
       "      <td>알토라쿤잠바</td>\n",
       "      <td>알토 라쿤잠바입니다 55사이즈네요 모자털 탈부착가능합니다</td>\n",
       "      <td>310300200</td>\n",
       "      <td>알토,라쿤,잠바</td>\n",
       "      <td>310</td>\n",
       "      <td>310300</td>\n",
       "    </tr>\n",
       "    <tr>\n",
       "      <th>1</th>\n",
       "      <td>175146200</td>\n",
       "      <td>코스 오라리맛 푸퍼 다크브라운 40 판매합니다 (코스 다운 패디드 푸퍼)</td>\n",
       "      <td>새상품 판매해요 택포</td>\n",
       "      <td>310300200</td>\n",
       "      <td>코스푸퍼,코스,푸퍼</td>\n",
       "      <td>310</td>\n",
       "      <td>310300</td>\n",
       "    </tr>\n",
       "    <tr>\n",
       "      <th>2</th>\n",
       "      <td>213905890</td>\n",
       "      <td>[S] 커버낫 숏패딩</td>\n",
       "      <td>세탁완료!  깨끗하게 입었습니다 지퍼가 잘 됐다 안됐다 그럽니다;; 저는 똑딱이로 ...</td>\n",
       "      <td>310300200</td>\n",
       "      <td>커버낫,숏,다운,오리털,패딩</td>\n",
       "      <td>310</td>\n",
       "      <td>310300</td>\n",
       "    </tr>\n",
       "    <tr>\n",
       "      <th>3</th>\n",
       "      <td>216998343</td>\n",
       "      <td>더 틸버리 구스패딩</td>\n",
       "      <td>55/한겨울 코트속에 이른봄은 외투로 활용도 높은  구스패딩입니다 컨디션최상~</td>\n",
       "      <td>310300200</td>\n",
       "      <td>더틸버리</td>\n",
       "      <td>310</td>\n",
       "      <td>310300</td>\n",
       "    </tr>\n",
       "    <tr>\n",
       "      <th>4</th>\n",
       "      <td>225515936</td>\n",
       "      <td>Sinoon 시눈 패딩 ELIN PATCHED PADDING</td>\n",
       "      <td>택 달려있어요 잠깐 외출할 때 몇번 입었구 하자 없습니다~!</td>\n",
       "      <td>310300200</td>\n",
       "      <td>시눈,sinoon,패딩,프레클,스푸닝</td>\n",
       "      <td>310</td>\n",
       "      <td>310300</td>\n",
       "    </tr>\n",
       "  </tbody>\n",
       "</table>\n",
       "</div>"
      ],
      "text/plain": [
       "          id                                      name  \\\n",
       "0  202546050                                    알토라쿤잠바   \n",
       "1  175146200  코스 오라리맛 푸퍼 다크브라운 40 판매합니다 (코스 다운 패디드 푸퍼)   \n",
       "2  213905890                               [S] 커버낫 숏패딩   \n",
       "3  216998343                                더 틸버리 구스패딩   \n",
       "4  225515936         Sinoon 시눈 패딩 ELIN PATCHED PADDING   \n",
       "\n",
       "                                                info     cat_id  \\\n",
       "0                    알토 라쿤잠바입니다 55사이즈네요 모자털 탈부착가능합니다  310300200   \n",
       "1                                        새상품 판매해요 택포  310300200   \n",
       "2  세탁완료!  깨끗하게 입었습니다 지퍼가 잘 됐다 안됐다 그럽니다;; 저는 똑딱이로 ...  310300200   \n",
       "3        55/한겨울 코트속에 이른봄은 외투로 활용도 높은  구스패딩입니다 컨디션최상~  310300200   \n",
       "4                  택 달려있어요 잠깐 외출할 때 몇번 입었구 하자 없습니다~!  310300200   \n",
       "\n",
       "                    tag maincat_id midcat_id  \n",
       "0              알토,라쿤,잠바        310    310300  \n",
       "1            코스푸퍼,코스,푸퍼        310    310300  \n",
       "2       커버낫,숏,다운,오리털,패딩        310    310300  \n",
       "3                  더틸버리        310    310300  \n",
       "4  시눈,sinoon,패딩,프레클,스푸닝        310    310300  "
      ]
     },
     "execution_count": 120,
     "metadata": {},
     "output_type": "execute_result"
    }
   ],
   "source": [
    "# load dataframe\n",
    "df = pd.read_csv('./newly_reduced_bungae_df.csv', lineterminator='\\n') # 이걸로 오류 해결\n",
    "df['id'] = df['id'].astype(str)\n",
    "df['cat_id'] = df['cat_id'].astype(str)\n",
    "df['maincat_id'] = df['maincat_id'].astype(str)\n",
    "df['midcat_id'] = df['midcat_id'].astype(str)\n",
    "df.head()"
   ]
  },
  {
   "cell_type": "code",
   "execution_count": 125,
   "id": "62bbb186",
   "metadata": {},
   "outputs": [],
   "source": [
    "# split data and save as txt file\n",
    "from sklearn.model_selection import train_test_split\n",
    "\n",
    "def split_train_test_data(df):\n",
    "    # -- train, test split --\n",
    "    train_x, test_x, train_y, test_y = train_test_split(df['name'],\n",
    "                                                        df['midcat_id'].values, # mid  \n",
    "#                                                         df['cat_id'].values, # sub  \n",
    "                                                        random_state=42, \n",
    "                                                        test_size=.2)\n",
    "    # -- train_df, test_df split --\n",
    "    train_df, test_df = df.loc[train_x.index], df.loc[test_x.index]\n",
    "    \n",
    "    # -- resetting index -- \n",
    "    train_df = train_df.reset_index(drop=True)\n",
    "    test_df = test_df.reset_index(drop=True)\n",
    "\n",
    "    return train_df, test_df\n",
    "\n",
    "def label_and_save_as_txt(train_df, test_df):\n",
    "    # Save train_df to a text file\n",
    "    train_df['label'] = '__label__' + train_df['midcat_id'] # mid\n",
    "#     train_df['label'] = '__label__' + train_df['cat_id'] # sub\n",
    "    \n",
    "    train_df = train_df[['label', 'name']]\n",
    "    train_df.to_csv('train_fasttext.txt', sep='\\t', index=False)\n",
    "\n",
    "    # Save test_df to a text file\n",
    "    test_df['label'] = '__label__' + test_df['midcat_id'] # mid\n",
    "#     test_df['label'] = '__label__' + test_df['cat_id'] # sub\n",
    "    test_df = test_df[['label', 'name']]\n",
    "    test_df.to_csv('test_fasttext.txt', sep='\\t', index=False)\n",
    "    \n",
    "    return train_df, test_df\n",
    "\n",
    "def split_and_save_txt_file(df):\n",
    "    train_df, test_df = split_train_test_data(df)\n",
    "    train_df, test_df = label_and_save_as_txt(train_df, test_df)\n",
    "    return train_df, test_df"
   ]
  },
  {
   "cell_type": "code",
   "execution_count": 126,
   "id": "0b3d5a29",
   "metadata": {},
   "outputs": [
    {
     "name": "stderr",
     "output_type": "stream",
     "text": [
      "Read 0M words\n",
      "Number of words:  80099\n",
      "Number of labels: 45\n",
      "Progress: 100.0% words/sec/thread:  242300 lr:  0.000000 avg.loss:  0.614554 ETA:   0h 0m 0s\n"
     ]
    }
   ],
   "source": [
    "import fasttext\n",
    "train_df, test_df = split_and_save_txt_file(df)\n",
    "\n",
    "model = fasttext.train_supervised(input='./train_fasttext.txt',\n",
    "                                  wordNgrams=2,\n",
    "                                  epoch=15,\n",
    "                                  lr=0.34,\n",
    "                                  loss='ova')"
   ]
  },
  {
   "cell_type": "code",
   "execution_count": 128,
   "id": "951c8df2",
   "metadata": {
    "scrolled": true
   },
   "outputs": [],
   "source": [
    "# predictions\n",
    "def get_predictions(model, test_df):\n",
    "    for idx in tqdm(range(len(test_df))):\n",
    "        prd_name = test_df.loc[idx, 'name'].replace('\\n', '') # remove newline characters\n",
    "        predicted_labels = model.predict(prd_name, k=3)[0] # predicting top 3 labels\n",
    "        test_df.at[idx, 'predicted_labels'] = ' '.join(predicted_labels)\n",
    "    return test_df\n",
    "\n",
    "# accuracy score\n",
    "def get_accuracy_score(test_df):\n",
    "    for idx in tqdm(range(len(test_df))):\n",
    "        predicted_labels = test_df.loc[idx, 'predicted_labels'].split(' ')\n",
    "        label = test_df.loc[idx, 'label']\n",
    "        if label in predicted_labels:\n",
    "            test_df.loc[idx, 'accuracy'] = 1\n",
    "        else:\n",
    "            test_df.loc[idx, 'accuracy'] = 0\n",
    "            \n",
    "    return test_df['accuracy'].sum() / len(test_df)\n",
    "\n",
    "def get_predictions_and_accuracy_score(model, test_df):\n",
    "    test_df = get_predictions(model, test_df)\n",
    "    accuracy_score = get_accuracy_score(test_df)\n",
    "    return accuracy_score"
   ]
  },
  {
   "cell_type": "code",
   "execution_count": 129,
   "id": "e5fd8cde",
   "metadata": {},
   "outputs": [
    {
     "data": {
      "application/vnd.jupyter.widget-view+json": {
       "model_id": "aaec22abd4344f0b97e9057eb9ef0702",
       "version_major": 2,
       "version_minor": 0
      },
      "text/plain": [
       "  0%|          | 0/21850 [00:00<?, ?it/s]"
      ]
     },
     "metadata": {},
     "output_type": "display_data"
    },
    {
     "data": {
      "application/vnd.jupyter.widget-view+json": {
       "model_id": "e51a0485bbc9469baf2f827604942688",
       "version_major": 2,
       "version_minor": 0
      },
      "text/plain": [
       "  0%|          | 0/21850 [00:07<?, ?it/s]"
      ]
     },
     "metadata": {},
     "output_type": "display_data"
    },
    {
     "data": {
      "text/plain": [
       "0.8209610983981693"
      ]
     },
     "execution_count": 129,
     "metadata": {},
     "output_type": "execute_result"
    }
   ],
   "source": [
    "get_predictions_and_accuracy_score(model, test_df)"
   ]
  },
  {
   "cell_type": "code",
   "execution_count": null,
   "id": "8a198cca",
   "metadata": {},
   "outputs": [],
   "source": []
  },
  {
   "cell_type": "code",
   "execution_count": null,
   "id": "f4eba780",
   "metadata": {},
   "outputs": [],
   "source": []
  },
  {
   "cell_type": "code",
   "execution_count": null,
   "id": "aa59109d",
   "metadata": {},
   "outputs": [],
   "source": []
  },
  {
   "cell_type": "code",
   "execution_count": null,
   "id": "b576e764",
   "metadata": {},
   "outputs": [],
   "source": []
  }
 ],
 "metadata": {
  "kernelspec": {
   "display_name": "Python 3 (ipykernel)",
   "language": "python",
   "name": "python3"
  },
  "language_info": {
   "codemirror_mode": {
    "name": "ipython",
    "version": 3
   },
   "file_extension": ".py",
   "mimetype": "text/x-python",
   "name": "python",
   "nbconvert_exporter": "python",
   "pygments_lexer": "ipython3",
   "version": "3.11.3"
  }
 },
 "nbformat": 4,
 "nbformat_minor": 5
}
