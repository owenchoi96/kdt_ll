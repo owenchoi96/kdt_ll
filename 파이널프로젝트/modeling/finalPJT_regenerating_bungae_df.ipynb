{
  "cells": [
    {
      "cell_type": "code",
      "execution_count": null,
      "metadata": {
        "id": "knYfljza9pUW"
      },
      "outputs": [],
      "source": [
        "from google.colab import drive\n",
        "drive.mount('/content/drive')"
      ]
    },
    {
      "cell_type": "code",
      "execution_count": 15,
      "metadata": {
        "colab": {
          "base_uri": "https://localhost:8080/",
          "height": 441
        },
        "id": "gri7_Kk_9rel",
        "outputId": "72eb1410-c34f-4dc0-eac8-cd7a82672ad9"
      },
      "outputs": [
        {
          "data": {
            "text/html": [
              "\n",
              "  <div id=\"df-cdded592-07f6-4d58-a97f-650c92409900\">\n",
              "    <div class=\"colab-df-container\">\n",
              "      <div>\n",
              "<style scoped>\n",
              "    .dataframe tbody tr th:only-of-type {\n",
              "        vertical-align: middle;\n",
              "    }\n",
              "\n",
              "    .dataframe tbody tr th {\n",
              "        vertical-align: top;\n",
              "    }\n",
              "\n",
              "    .dataframe thead th {\n",
              "        text-align: right;\n",
              "    }\n",
              "</style>\n",
              "<table border=\"1\" class=\"dataframe\">\n",
              "  <thead>\n",
              "    <tr style=\"text-align: right;\">\n",
              "      <th></th>\n",
              "      <th>id</th>\n",
              "      <th>name</th>\n",
              "      <th>info</th>\n",
              "      <th>cat_id</th>\n",
              "      <th>tag</th>\n",
              "      <th>maincat_id</th>\n",
              "      <th>midcat_id</th>\n",
              "    </tr>\n",
              "  </thead>\n",
              "  <tbody>\n",
              "    <tr>\n",
              "      <th>0</th>\n",
              "      <td>218284196</td>\n",
              "      <td>자라 패딩점퍼</td>\n",
              "      <td>사이즈 스몰 새것 입니다.</td>\n",
              "      <td>310300200</td>\n",
              "      <td>자라</td>\n",
              "      <td>310</td>\n",
              "      <td>310300</td>\n",
              "    </tr>\n",
              "    <tr>\n",
              "      <th>1</th>\n",
              "      <td>217144587</td>\n",
              "      <td>메이비베이비 덕다운 패딩 그레이컬러 쉬이즈큐트</td>\n",
              "      <td>입을일이 없었어서 2회 단시간 착용후 보관중입니다! 상태 매우 좋아요:) 이가격에 ...</td>\n",
              "      <td>310300200</td>\n",
              "      <td>메이비베이비,스무스무드,엔조블루스,더바넷,더버터크림</td>\n",
              "      <td>310</td>\n",
              "      <td>310300</td>\n",
              "    </tr>\n",
              "    <tr>\n",
              "      <th>2</th>\n",
              "      <td>210838660</td>\n",
              "      <td>타이온 경량패딩 V 넥 다운 자켓 블랙 m사이즈</td>\n",
              "      <td>타이온 경량패딩 V 넥 다운 자켓 블랙 m사이즈  한번 착용으로 상태 좋습니다! 파...</td>\n",
              "      <td>310300200</td>\n",
              "      <td>타이온,타이온경량패딩,경량패딩</td>\n",
              "      <td>310</td>\n",
              "      <td>310300</td>\n",
              "    </tr>\n",
              "    <tr>\n",
              "      <th>3</th>\n",
              "      <td>196717770</td>\n",
              "      <td>컬럼비아 여성패딩 M(95)</td>\n",
              "      <td>컬럼비아 여성패딩 택있는 새상품 ! 고어텍스 구스다운 숏패딩(55~66사이즈) 무료...</td>\n",
              "      <td>310300200</td>\n",
              "      <td>컬럼비아</td>\n",
              "      <td>310</td>\n",
              "      <td>310300</td>\n",
              "    </tr>\n",
              "    <tr>\n",
              "      <th>4</th>\n",
              "      <td>225457252</td>\n",
              "      <td>프라다 구스다운 여름가격할인</td>\n",
              "      <td>부산이라 날씨가 안춥기도 하고 항상 차로 움직여서  입을 일이 없어 패딩 상태 아주...</td>\n",
              "      <td>310300200</td>\n",
              "      <td>프라다,패딩,구스,여성패딩,숏패딩</td>\n",
              "      <td>310</td>\n",
              "      <td>310300</td>\n",
              "    </tr>\n",
              "  </tbody>\n",
              "</table>\n",
              "</div>\n",
              "      <button class=\"colab-df-convert\" onclick=\"convertToInteractive('df-cdded592-07f6-4d58-a97f-650c92409900')\"\n",
              "              title=\"Convert this dataframe to an interactive table.\"\n",
              "              style=\"display:none;\">\n",
              "        \n",
              "  <svg xmlns=\"http://www.w3.org/2000/svg\" height=\"24px\"viewBox=\"0 0 24 24\"\n",
              "       width=\"24px\">\n",
              "    <path d=\"M0 0h24v24H0V0z\" fill=\"none\"/>\n",
              "    <path d=\"M18.56 5.44l.94 2.06.94-2.06 2.06-.94-2.06-.94-.94-2.06-.94 2.06-2.06.94zm-11 1L8.5 8.5l.94-2.06 2.06-.94-2.06-.94L8.5 2.5l-.94 2.06-2.06.94zm10 10l.94 2.06.94-2.06 2.06-.94-2.06-.94-.94-2.06-.94 2.06-2.06.94z\"/><path d=\"M17.41 7.96l-1.37-1.37c-.4-.4-.92-.59-1.43-.59-.52 0-1.04.2-1.43.59L10.3 9.45l-7.72 7.72c-.78.78-.78 2.05 0 2.83L4 21.41c.39.39.9.59 1.41.59.51 0 1.02-.2 1.41-.59l7.78-7.78 2.81-2.81c.8-.78.8-2.07 0-2.86zM5.41 20L4 18.59l7.72-7.72 1.47 1.35L5.41 20z\"/>\n",
              "  </svg>\n",
              "      </button>\n",
              "      \n",
              "  <style>\n",
              "    .colab-df-container {\n",
              "      display:flex;\n",
              "      flex-wrap:wrap;\n",
              "      gap: 12px;\n",
              "    }\n",
              "\n",
              "    .colab-df-convert {\n",
              "      background-color: #E8F0FE;\n",
              "      border: none;\n",
              "      border-radius: 50%;\n",
              "      cursor: pointer;\n",
              "      display: none;\n",
              "      fill: #1967D2;\n",
              "      height: 32px;\n",
              "      padding: 0 0 0 0;\n",
              "      width: 32px;\n",
              "    }\n",
              "\n",
              "    .colab-df-convert:hover {\n",
              "      background-color: #E2EBFA;\n",
              "      box-shadow: 0px 1px 2px rgba(60, 64, 67, 0.3), 0px 1px 3px 1px rgba(60, 64, 67, 0.15);\n",
              "      fill: #174EA6;\n",
              "    }\n",
              "\n",
              "    [theme=dark] .colab-df-convert {\n",
              "      background-color: #3B4455;\n",
              "      fill: #D2E3FC;\n",
              "    }\n",
              "\n",
              "    [theme=dark] .colab-df-convert:hover {\n",
              "      background-color: #434B5C;\n",
              "      box-shadow: 0px 1px 3px 1px rgba(0, 0, 0, 0.15);\n",
              "      filter: drop-shadow(0px 1px 2px rgba(0, 0, 0, 0.3));\n",
              "      fill: #FFFFFF;\n",
              "    }\n",
              "  </style>\n",
              "\n",
              "      <script>\n",
              "        const buttonEl =\n",
              "          document.querySelector('#df-cdded592-07f6-4d58-a97f-650c92409900 button.colab-df-convert');\n",
              "        buttonEl.style.display =\n",
              "          google.colab.kernel.accessAllowed ? 'block' : 'none';\n",
              "\n",
              "        async function convertToInteractive(key) {\n",
              "          const element = document.querySelector('#df-cdded592-07f6-4d58-a97f-650c92409900');\n",
              "          const dataTable =\n",
              "            await google.colab.kernel.invokeFunction('convertToInteractive',\n",
              "                                                     [key], {});\n",
              "          if (!dataTable) return;\n",
              "\n",
              "          const docLinkHtml = 'Like what you see? Visit the ' +\n",
              "            '<a target=\"_blank\" href=https://colab.research.google.com/notebooks/data_table.ipynb>data table notebook</a>'\n",
              "            + ' to learn more about interactive tables.';\n",
              "          element.innerHTML = '';\n",
              "          dataTable['output_type'] = 'display_data';\n",
              "          await google.colab.output.renderOutput(dataTable, element);\n",
              "          const docLink = document.createElement('div');\n",
              "          docLink.innerHTML = docLinkHtml;\n",
              "          element.appendChild(docLink);\n",
              "        }\n",
              "      </script>\n",
              "    </div>\n",
              "  </div>\n",
              "  "
            ],
            "text/plain": [
              "          id                        name  \\\n",
              "0  218284196                     자라 패딩점퍼   \n",
              "1  217144587   메이비베이비 덕다운 패딩 그레이컬러 쉬이즈큐트   \n",
              "2  210838660  타이온 경량패딩 V 넥 다운 자켓 블랙 m사이즈   \n",
              "3  196717770             컬럼비아 여성패딩 M(95)   \n",
              "4  225457252             프라다 구스다운 여름가격할인   \n",
              "\n",
              "                                                info     cat_id  \\\n",
              "0                                     사이즈 스몰 새것 입니다.  310300200   \n",
              "1  입을일이 없었어서 2회 단시간 착용후 보관중입니다! 상태 매우 좋아요:) 이가격에 ...  310300200   \n",
              "2  타이온 경량패딩 V 넥 다운 자켓 블랙 m사이즈  한번 착용으로 상태 좋습니다! 파...  310300200   \n",
              "3  컬럼비아 여성패딩 택있는 새상품 ! 고어텍스 구스다운 숏패딩(55~66사이즈) 무료...  310300200   \n",
              "4  부산이라 날씨가 안춥기도 하고 항상 차로 움직여서  입을 일이 없어 패딩 상태 아주...  310300200   \n",
              "\n",
              "                            tag maincat_id midcat_id  \n",
              "0                            자라        310    310300  \n",
              "1  메이비베이비,스무스무드,엔조블루스,더바넷,더버터크림        310    310300  \n",
              "2              타이온,타이온경량패딩,경량패딩        310    310300  \n",
              "3                          컬럼비아        310    310300  \n",
              "4            프라다,패딩,구스,여성패딩,숏패딩        310    310300  "
            ]
          },
          "execution_count": 15,
          "metadata": {},
          "output_type": "execute_result"
        }
      ],
      "source": [
        "import pandas as pd\n",
        "\n",
        "def bring_bungae_df():\n",
        "    df = pd.read_csv('/content/drive/MyDrive/★new_bgzt_final_data.csv')\n",
        "\n",
        "    # bring needed columns\n",
        "    df = df[['id', 'name', 'info', 'cat_id', 'tag']]\n",
        "    bungae_df = df.copy()\n",
        "\n",
        "    # change dtypes\n",
        "    bungae_df['id'] = bungae_df['id'].astype(str)\n",
        "    bungae_df['cat_id'] = bungae_df['cat_id'].astype(str)\n",
        "\n",
        "    # creating maincat, midcat columns\n",
        "    bungae_df['maincat_id'] = bungae_df['cat_id'].apply(lambda x : x[:3])\n",
        "    bungae_df['midcat_id'] = bungae_df['cat_id'].apply(lambda x : x[:6])\n",
        "\n",
        "    return bungae_df\n",
        "\n",
        "bungae_df = bring_bungae_df()\n",
        "bungae_df.head()"
      ]
    },
    {
      "cell_type": "code",
      "execution_count": 16,
      "metadata": {
        "colab": {
          "base_uri": "https://localhost:8080/"
        },
        "id": "dFghzbq69rnS",
        "outputId": "4c86102c-2d91-4c30-8e29-99e0fdd47c07"
      },
      "outputs": [
        {
          "data": {
            "text/plain": [
              "310    358713\n",
              "320    217541\n",
              "400    143967\n",
              "430    143677\n",
              "422    143123\n",
              "405    142700\n",
              "421     53297\n",
              "Name: maincat_id, dtype: int64"
            ]
          },
          "execution_count": 16,
          "metadata": {},
          "output_type": "execute_result"
        }
      ],
      "source": [
        "# -- check the amount of data in each main category --\n",
        "bungae_df['maincat_id'].value_counts()"
      ]
    },
    {
      "cell_type": "code",
      "execution_count": null,
      "metadata": {
        "id": "SY8s1_-H9rur"
      },
      "outputs": [],
      "source": [
        "# -- check the amount of data in each sub category --\n",
        "bungae_df['midcat_id'].value_counts()"
      ]
    },
    {
      "cell_type": "code",
      "execution_count": 18,
      "metadata": {
        "id": "-1itCoy79tlF"
      },
      "outputs": [],
      "source": [
        "# -- export bungae_df for use --\n",
        "bungae_df.to_csv('/content/drive/MyDrive/new_bungae_df.csv', index=False)"
      ]
    },
    {
      "cell_type": "code",
      "execution_count": null,
      "metadata": {
        "id": "pfGVaI5MHlw6"
      },
      "outputs": [],
      "source": []
    }
  ],
  "metadata": {
    "colab": {
      "provenance": []
    },
    "kernelspec": {
      "display_name": "Python 3",
      "language": "python",
      "name": "python3"
    },
    "language_info": {
      "name": "python",
      "version": "3.9.6 (default, Mar 10 2023, 20:16:38) \n[Clang 14.0.3 (clang-1403.0.22.14.1)]"
    },
    "vscode": {
      "interpreter": {
        "hash": "31f2aee4e71d21fbe5cf8b01ff0e069b9275f58929596ceb00d14d90e3e16cd6"
      }
    }
  },
  "nbformat": 4,
  "nbformat_minor": 0
}
