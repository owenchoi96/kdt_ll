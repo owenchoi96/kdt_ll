{
  "nbformat": 4,
  "nbformat_minor": 0,
  "metadata": {
    "colab": {
      "provenance": [],
      "gpuType": "T4"
    },
    "kernelspec": {
      "name": "python3",
      "display_name": "Python 3"
    },
    "language_info": {
      "name": "python"
    },
    "accelerator": "GPU",
    "widgets": {
      "application/vnd.jupyter.widget-state+json": {
        "a2883b7fa2944fd6961690c2127bd343": {
          "model_module": "@jupyter-widgets/controls",
          "model_name": "HBoxModel",
          "model_module_version": "1.5.0",
          "state": {
            "_dom_classes": [],
            "_model_module": "@jupyter-widgets/controls",
            "_model_module_version": "1.5.0",
            "_model_name": "HBoxModel",
            "_view_count": null,
            "_view_module": "@jupyter-widgets/controls",
            "_view_module_version": "1.5.0",
            "_view_name": "HBoxView",
            "box_style": "",
            "children": [
              "IPY_MODEL_c86d99e9d4014e24a737c3a1880445c4",
              "IPY_MODEL_08fae2c92c8f4d61a9bf5549b2e8be3a",
              "IPY_MODEL_3dcb1b5c1a72463e95290f73c8dbbb19"
            ],
            "layout": "IPY_MODEL_11a8ae9319cb4a9b909e4f2fa2dcbbb4"
          }
        },
        "c86d99e9d4014e24a737c3a1880445c4": {
          "model_module": "@jupyter-widgets/controls",
          "model_name": "HTMLModel",
          "model_module_version": "1.5.0",
          "state": {
            "_dom_classes": [],
            "_model_module": "@jupyter-widgets/controls",
            "_model_module_version": "1.5.0",
            "_model_name": "HTMLModel",
            "_view_count": null,
            "_view_module": "@jupyter-widgets/controls",
            "_view_module_version": "1.5.0",
            "_view_name": "HTMLView",
            "description": "",
            "description_tooltip": null,
            "layout": "IPY_MODEL_ac927d186c0e42caa8732cfa75d3e033",
            "placeholder": "​",
            "style": "IPY_MODEL_2e5ef1bca8da453a9c1708098e1f396d",
            "value": "100%"
          }
        },
        "08fae2c92c8f4d61a9bf5549b2e8be3a": {
          "model_module": "@jupyter-widgets/controls",
          "model_name": "FloatProgressModel",
          "model_module_version": "1.5.0",
          "state": {
            "_dom_classes": [],
            "_model_module": "@jupyter-widgets/controls",
            "_model_module_version": "1.5.0",
            "_model_name": "FloatProgressModel",
            "_view_count": null,
            "_view_module": "@jupyter-widgets/controls",
            "_view_module_version": "1.5.0",
            "_view_name": "ProgressView",
            "bar_style": "success",
            "description": "",
            "description_tooltip": null,
            "layout": "IPY_MODEL_9fd28e8d09534709aa1e3210dd6e66e9",
            "max": 20034,
            "min": 0,
            "orientation": "horizontal",
            "style": "IPY_MODEL_55da7e29b5b4442485fc31625851ee48",
            "value": 20034
          }
        },
        "3dcb1b5c1a72463e95290f73c8dbbb19": {
          "model_module": "@jupyter-widgets/controls",
          "model_name": "HTMLModel",
          "model_module_version": "1.5.0",
          "state": {
            "_dom_classes": [],
            "_model_module": "@jupyter-widgets/controls",
            "_model_module_version": "1.5.0",
            "_model_name": "HTMLModel",
            "_view_count": null,
            "_view_module": "@jupyter-widgets/controls",
            "_view_module_version": "1.5.0",
            "_view_name": "HTMLView",
            "description": "",
            "description_tooltip": null,
            "layout": "IPY_MODEL_6f613a91d8fd41ffa81d0d7cd64ffc47",
            "placeholder": "​",
            "style": "IPY_MODEL_d762207b3ec648c5a6bec347e9b9dc99",
            "value": " 20034/20034 [00:00&lt;00:00, 50663.13it/s]"
          }
        },
        "11a8ae9319cb4a9b909e4f2fa2dcbbb4": {
          "model_module": "@jupyter-widgets/base",
          "model_name": "LayoutModel",
          "model_module_version": "1.2.0",
          "state": {
            "_model_module": "@jupyter-widgets/base",
            "_model_module_version": "1.2.0",
            "_model_name": "LayoutModel",
            "_view_count": null,
            "_view_module": "@jupyter-widgets/base",
            "_view_module_version": "1.2.0",
            "_view_name": "LayoutView",
            "align_content": null,
            "align_items": null,
            "align_self": null,
            "border": null,
            "bottom": null,
            "display": null,
            "flex": null,
            "flex_flow": null,
            "grid_area": null,
            "grid_auto_columns": null,
            "grid_auto_flow": null,
            "grid_auto_rows": null,
            "grid_column": null,
            "grid_gap": null,
            "grid_row": null,
            "grid_template_areas": null,
            "grid_template_columns": null,
            "grid_template_rows": null,
            "height": null,
            "justify_content": null,
            "justify_items": null,
            "left": null,
            "margin": null,
            "max_height": null,
            "max_width": null,
            "min_height": null,
            "min_width": null,
            "object_fit": null,
            "object_position": null,
            "order": null,
            "overflow": null,
            "overflow_x": null,
            "overflow_y": null,
            "padding": null,
            "right": null,
            "top": null,
            "visibility": null,
            "width": null
          }
        },
        "ac927d186c0e42caa8732cfa75d3e033": {
          "model_module": "@jupyter-widgets/base",
          "model_name": "LayoutModel",
          "model_module_version": "1.2.0",
          "state": {
            "_model_module": "@jupyter-widgets/base",
            "_model_module_version": "1.2.0",
            "_model_name": "LayoutModel",
            "_view_count": null,
            "_view_module": "@jupyter-widgets/base",
            "_view_module_version": "1.2.0",
            "_view_name": "LayoutView",
            "align_content": null,
            "align_items": null,
            "align_self": null,
            "border": null,
            "bottom": null,
            "display": null,
            "flex": null,
            "flex_flow": null,
            "grid_area": null,
            "grid_auto_columns": null,
            "grid_auto_flow": null,
            "grid_auto_rows": null,
            "grid_column": null,
            "grid_gap": null,
            "grid_row": null,
            "grid_template_areas": null,
            "grid_template_columns": null,
            "grid_template_rows": null,
            "height": null,
            "justify_content": null,
            "justify_items": null,
            "left": null,
            "margin": null,
            "max_height": null,
            "max_width": null,
            "min_height": null,
            "min_width": null,
            "object_fit": null,
            "object_position": null,
            "order": null,
            "overflow": null,
            "overflow_x": null,
            "overflow_y": null,
            "padding": null,
            "right": null,
            "top": null,
            "visibility": null,
            "width": null
          }
        },
        "2e5ef1bca8da453a9c1708098e1f396d": {
          "model_module": "@jupyter-widgets/controls",
          "model_name": "DescriptionStyleModel",
          "model_module_version": "1.5.0",
          "state": {
            "_model_module": "@jupyter-widgets/controls",
            "_model_module_version": "1.5.0",
            "_model_name": "DescriptionStyleModel",
            "_view_count": null,
            "_view_module": "@jupyter-widgets/base",
            "_view_module_version": "1.2.0",
            "_view_name": "StyleView",
            "description_width": ""
          }
        },
        "9fd28e8d09534709aa1e3210dd6e66e9": {
          "model_module": "@jupyter-widgets/base",
          "model_name": "LayoutModel",
          "model_module_version": "1.2.0",
          "state": {
            "_model_module": "@jupyter-widgets/base",
            "_model_module_version": "1.2.0",
            "_model_name": "LayoutModel",
            "_view_count": null,
            "_view_module": "@jupyter-widgets/base",
            "_view_module_version": "1.2.0",
            "_view_name": "LayoutView",
            "align_content": null,
            "align_items": null,
            "align_self": null,
            "border": null,
            "bottom": null,
            "display": null,
            "flex": null,
            "flex_flow": null,
            "grid_area": null,
            "grid_auto_columns": null,
            "grid_auto_flow": null,
            "grid_auto_rows": null,
            "grid_column": null,
            "grid_gap": null,
            "grid_row": null,
            "grid_template_areas": null,
            "grid_template_columns": null,
            "grid_template_rows": null,
            "height": null,
            "justify_content": null,
            "justify_items": null,
            "left": null,
            "margin": null,
            "max_height": null,
            "max_width": null,
            "min_height": null,
            "min_width": null,
            "object_fit": null,
            "object_position": null,
            "order": null,
            "overflow": null,
            "overflow_x": null,
            "overflow_y": null,
            "padding": null,
            "right": null,
            "top": null,
            "visibility": null,
            "width": null
          }
        },
        "55da7e29b5b4442485fc31625851ee48": {
          "model_module": "@jupyter-widgets/controls",
          "model_name": "ProgressStyleModel",
          "model_module_version": "1.5.0",
          "state": {
            "_model_module": "@jupyter-widgets/controls",
            "_model_module_version": "1.5.0",
            "_model_name": "ProgressStyleModel",
            "_view_count": null,
            "_view_module": "@jupyter-widgets/base",
            "_view_module_version": "1.2.0",
            "_view_name": "StyleView",
            "bar_color": null,
            "description_width": ""
          }
        },
        "6f613a91d8fd41ffa81d0d7cd64ffc47": {
          "model_module": "@jupyter-widgets/base",
          "model_name": "LayoutModel",
          "model_module_version": "1.2.0",
          "state": {
            "_model_module": "@jupyter-widgets/base",
            "_model_module_version": "1.2.0",
            "_model_name": "LayoutModel",
            "_view_count": null,
            "_view_module": "@jupyter-widgets/base",
            "_view_module_version": "1.2.0",
            "_view_name": "LayoutView",
            "align_content": null,
            "align_items": null,
            "align_self": null,
            "border": null,
            "bottom": null,
            "display": null,
            "flex": null,
            "flex_flow": null,
            "grid_area": null,
            "grid_auto_columns": null,
            "grid_auto_flow": null,
            "grid_auto_rows": null,
            "grid_column": null,
            "grid_gap": null,
            "grid_row": null,
            "grid_template_areas": null,
            "grid_template_columns": null,
            "grid_template_rows": null,
            "height": null,
            "justify_content": null,
            "justify_items": null,
            "left": null,
            "margin": null,
            "max_height": null,
            "max_width": null,
            "min_height": null,
            "min_width": null,
            "object_fit": null,
            "object_position": null,
            "order": null,
            "overflow": null,
            "overflow_x": null,
            "overflow_y": null,
            "padding": null,
            "right": null,
            "top": null,
            "visibility": null,
            "width": null
          }
        },
        "d762207b3ec648c5a6bec347e9b9dc99": {
          "model_module": "@jupyter-widgets/controls",
          "model_name": "DescriptionStyleModel",
          "model_module_version": "1.5.0",
          "state": {
            "_model_module": "@jupyter-widgets/controls",
            "_model_module_version": "1.5.0",
            "_model_name": "DescriptionStyleModel",
            "_view_count": null,
            "_view_module": "@jupyter-widgets/base",
            "_view_module_version": "1.2.0",
            "_view_name": "StyleView",
            "description_width": ""
          }
        },
        "704a7e8a56b140899f1303592bca850b": {
          "model_module": "@jupyter-widgets/controls",
          "model_name": "HBoxModel",
          "model_module_version": "1.5.0",
          "state": {
            "_dom_classes": [],
            "_model_module": "@jupyter-widgets/controls",
            "_model_module_version": "1.5.0",
            "_model_name": "HBoxModel",
            "_view_count": null,
            "_view_module": "@jupyter-widgets/controls",
            "_view_module_version": "1.5.0",
            "_view_name": "HBoxView",
            "box_style": "",
            "children": [
              "IPY_MODEL_ebd2c9920f6c490490ad7aaeb47b87e5",
              "IPY_MODEL_432c0161d37b433aae967f9d38c01aa2",
              "IPY_MODEL_43ecb28e4f4041fe99e11cec3340ae09"
            ],
            "layout": "IPY_MODEL_16a0cc6e69254295959bbb29e2df4471"
          }
        },
        "ebd2c9920f6c490490ad7aaeb47b87e5": {
          "model_module": "@jupyter-widgets/controls",
          "model_name": "HTMLModel",
          "model_module_version": "1.5.0",
          "state": {
            "_dom_classes": [],
            "_model_module": "@jupyter-widgets/controls",
            "_model_module_version": "1.5.0",
            "_model_name": "HTMLModel",
            "_view_count": null,
            "_view_module": "@jupyter-widgets/controls",
            "_view_module_version": "1.5.0",
            "_view_name": "HTMLView",
            "description": "",
            "description_tooltip": null,
            "layout": "IPY_MODEL_5370fc6337564afa99e0d436f70599f5",
            "placeholder": "​",
            "style": "IPY_MODEL_d5499539ef1a4f08af33f0bdb442622b",
            "value": "100%"
          }
        },
        "432c0161d37b433aae967f9d38c01aa2": {
          "model_module": "@jupyter-widgets/controls",
          "model_name": "FloatProgressModel",
          "model_module_version": "1.5.0",
          "state": {
            "_dom_classes": [],
            "_model_module": "@jupyter-widgets/controls",
            "_model_module_version": "1.5.0",
            "_model_name": "FloatProgressModel",
            "_view_count": null,
            "_view_module": "@jupyter-widgets/controls",
            "_view_module_version": "1.5.0",
            "_view_name": "ProgressView",
            "bar_style": "success",
            "description": "",
            "description_tooltip": null,
            "layout": "IPY_MODEL_369c090f0fc54d47bab257666e5ffac4",
            "max": 10,
            "min": 0,
            "orientation": "horizontal",
            "style": "IPY_MODEL_3de088a537544d3a903e49cbf81f37f3",
            "value": 10
          }
        },
        "43ecb28e4f4041fe99e11cec3340ae09": {
          "model_module": "@jupyter-widgets/controls",
          "model_name": "HTMLModel",
          "model_module_version": "1.5.0",
          "state": {
            "_dom_classes": [],
            "_model_module": "@jupyter-widgets/controls",
            "_model_module_version": "1.5.0",
            "_model_name": "HTMLModel",
            "_view_count": null,
            "_view_module": "@jupyter-widgets/controls",
            "_view_module_version": "1.5.0",
            "_view_name": "HTMLView",
            "description": "",
            "description_tooltip": null,
            "layout": "IPY_MODEL_b07ebcbd46ee489f8c2b9a848b554f29",
            "placeholder": "​",
            "style": "IPY_MODEL_ab6727a6bc4a41c79ccac43c99a8407c",
            "value": " 10/10 [1:07:21&lt;00:00, 405.40s/it]"
          }
        },
        "16a0cc6e69254295959bbb29e2df4471": {
          "model_module": "@jupyter-widgets/base",
          "model_name": "LayoutModel",
          "model_module_version": "1.2.0",
          "state": {
            "_model_module": "@jupyter-widgets/base",
            "_model_module_version": "1.2.0",
            "_model_name": "LayoutModel",
            "_view_count": null,
            "_view_module": "@jupyter-widgets/base",
            "_view_module_version": "1.2.0",
            "_view_name": "LayoutView",
            "align_content": null,
            "align_items": null,
            "align_self": null,
            "border": null,
            "bottom": null,
            "display": null,
            "flex": null,
            "flex_flow": null,
            "grid_area": null,
            "grid_auto_columns": null,
            "grid_auto_flow": null,
            "grid_auto_rows": null,
            "grid_column": null,
            "grid_gap": null,
            "grid_row": null,
            "grid_template_areas": null,
            "grid_template_columns": null,
            "grid_template_rows": null,
            "height": null,
            "justify_content": null,
            "justify_items": null,
            "left": null,
            "margin": null,
            "max_height": null,
            "max_width": null,
            "min_height": null,
            "min_width": null,
            "object_fit": null,
            "object_position": null,
            "order": null,
            "overflow": null,
            "overflow_x": null,
            "overflow_y": null,
            "padding": null,
            "right": null,
            "top": null,
            "visibility": null,
            "width": null
          }
        },
        "5370fc6337564afa99e0d436f70599f5": {
          "model_module": "@jupyter-widgets/base",
          "model_name": "LayoutModel",
          "model_module_version": "1.2.0",
          "state": {
            "_model_module": "@jupyter-widgets/base",
            "_model_module_version": "1.2.0",
            "_model_name": "LayoutModel",
            "_view_count": null,
            "_view_module": "@jupyter-widgets/base",
            "_view_module_version": "1.2.0",
            "_view_name": "LayoutView",
            "align_content": null,
            "align_items": null,
            "align_self": null,
            "border": null,
            "bottom": null,
            "display": null,
            "flex": null,
            "flex_flow": null,
            "grid_area": null,
            "grid_auto_columns": null,
            "grid_auto_flow": null,
            "grid_auto_rows": null,
            "grid_column": null,
            "grid_gap": null,
            "grid_row": null,
            "grid_template_areas": null,
            "grid_template_columns": null,
            "grid_template_rows": null,
            "height": null,
            "justify_content": null,
            "justify_items": null,
            "left": null,
            "margin": null,
            "max_height": null,
            "max_width": null,
            "min_height": null,
            "min_width": null,
            "object_fit": null,
            "object_position": null,
            "order": null,
            "overflow": null,
            "overflow_x": null,
            "overflow_y": null,
            "padding": null,
            "right": null,
            "top": null,
            "visibility": null,
            "width": null
          }
        },
        "d5499539ef1a4f08af33f0bdb442622b": {
          "model_module": "@jupyter-widgets/controls",
          "model_name": "DescriptionStyleModel",
          "model_module_version": "1.5.0",
          "state": {
            "_model_module": "@jupyter-widgets/controls",
            "_model_module_version": "1.5.0",
            "_model_name": "DescriptionStyleModel",
            "_view_count": null,
            "_view_module": "@jupyter-widgets/base",
            "_view_module_version": "1.2.0",
            "_view_name": "StyleView",
            "description_width": ""
          }
        },
        "369c090f0fc54d47bab257666e5ffac4": {
          "model_module": "@jupyter-widgets/base",
          "model_name": "LayoutModel",
          "model_module_version": "1.2.0",
          "state": {
            "_model_module": "@jupyter-widgets/base",
            "_model_module_version": "1.2.0",
            "_model_name": "LayoutModel",
            "_view_count": null,
            "_view_module": "@jupyter-widgets/base",
            "_view_module_version": "1.2.0",
            "_view_name": "LayoutView",
            "align_content": null,
            "align_items": null,
            "align_self": null,
            "border": null,
            "bottom": null,
            "display": null,
            "flex": null,
            "flex_flow": null,
            "grid_area": null,
            "grid_auto_columns": null,
            "grid_auto_flow": null,
            "grid_auto_rows": null,
            "grid_column": null,
            "grid_gap": null,
            "grid_row": null,
            "grid_template_areas": null,
            "grid_template_columns": null,
            "grid_template_rows": null,
            "height": null,
            "justify_content": null,
            "justify_items": null,
            "left": null,
            "margin": null,
            "max_height": null,
            "max_width": null,
            "min_height": null,
            "min_width": null,
            "object_fit": null,
            "object_position": null,
            "order": null,
            "overflow": null,
            "overflow_x": null,
            "overflow_y": null,
            "padding": null,
            "right": null,
            "top": null,
            "visibility": null,
            "width": null
          }
        },
        "3de088a537544d3a903e49cbf81f37f3": {
          "model_module": "@jupyter-widgets/controls",
          "model_name": "ProgressStyleModel",
          "model_module_version": "1.5.0",
          "state": {
            "_model_module": "@jupyter-widgets/controls",
            "_model_module_version": "1.5.0",
            "_model_name": "ProgressStyleModel",
            "_view_count": null,
            "_view_module": "@jupyter-widgets/base",
            "_view_module_version": "1.2.0",
            "_view_name": "StyleView",
            "bar_color": null,
            "description_width": ""
          }
        },
        "b07ebcbd46ee489f8c2b9a848b554f29": {
          "model_module": "@jupyter-widgets/base",
          "model_name": "LayoutModel",
          "model_module_version": "1.2.0",
          "state": {
            "_model_module": "@jupyter-widgets/base",
            "_model_module_version": "1.2.0",
            "_model_name": "LayoutModel",
            "_view_count": null,
            "_view_module": "@jupyter-widgets/base",
            "_view_module_version": "1.2.0",
            "_view_name": "LayoutView",
            "align_content": null,
            "align_items": null,
            "align_self": null,
            "border": null,
            "bottom": null,
            "display": null,
            "flex": null,
            "flex_flow": null,
            "grid_area": null,
            "grid_auto_columns": null,
            "grid_auto_flow": null,
            "grid_auto_rows": null,
            "grid_column": null,
            "grid_gap": null,
            "grid_row": null,
            "grid_template_areas": null,
            "grid_template_columns": null,
            "grid_template_rows": null,
            "height": null,
            "justify_content": null,
            "justify_items": null,
            "left": null,
            "margin": null,
            "max_height": null,
            "max_width": null,
            "min_height": null,
            "min_width": null,
            "object_fit": null,
            "object_position": null,
            "order": null,
            "overflow": null,
            "overflow_x": null,
            "overflow_y": null,
            "padding": null,
            "right": null,
            "top": null,
            "visibility": null,
            "width": null
          }
        },
        "ab6727a6bc4a41c79ccac43c99a8407c": {
          "model_module": "@jupyter-widgets/controls",
          "model_name": "DescriptionStyleModel",
          "model_module_version": "1.5.0",
          "state": {
            "_model_module": "@jupyter-widgets/controls",
            "_model_module_version": "1.5.0",
            "_model_name": "DescriptionStyleModel",
            "_view_count": null,
            "_view_module": "@jupyter-widgets/base",
            "_view_module_version": "1.2.0",
            "_view_name": "StyleView",
            "description_width": ""
          }
        }
      }
    }
  },
  "cells": [
    {
      "cell_type": "code",
      "execution_count": null,
      "metadata": {
        "id": "Z4j87U4WXyiy"
      },
      "outputs": [],
      "source": [
        "# -- 필요한 라이브러리 설치 --\n",
        "!pip install transformers\n",
        "!pip install Keras-Preprocessing"
      ]
    },
    {
      "cell_type": "code",
      "source": [
        "# -- import --\n",
        "import pandas as pd\n",
        "import torch\n",
        "from transformers import ElectraForSequenceClassification, AutoTokenizer, AdamW, ElectraTokenizer\n",
        "# from transformers import DistilBertTokenizer, DistilBertModel\n",
        "from transformers import get_linear_schedule_with_warmup\n",
        "from tqdm.notebook import tqdm\n",
        "import matplotlib.pyplot as plt\n",
        "from keras_preprocessing.sequence import pad_sequences\n",
        "from sklearn.model_selection import train_test_split\n",
        "from sklearn.preprocessing import LabelEncoder\n",
        "from torch.utils.data import TensorDataset, DataLoader, RandomSampler, SequentialSampler\n",
        "import random\n",
        "import numpy as np\n",
        "from sklearn.metrics import classification_report\n",
        "\n",
        "# GPU 사용\n",
        "device = torch.device(\"cuda\")"
      ],
      "metadata": {
        "id": "Nng9RF6OX1sq"
      },
      "execution_count": 2,
      "outputs": []
    },
    {
      "cell_type": "code",
      "source": [
        "# -- newly_reduced_bungae_df --\n",
        "df = pd.read_csv('/content/drive/MyDrive/newly_reduced_bungae_df.csv', lineterminator='\\n') # 이걸로 오류 해결\n",
        "df['id'] = df['id'].astype(str)\n",
        "df['cat_id'] = df['cat_id'].astype(str)\n",
        "df['maincat_id'] = df['maincat_id'].astype(str)\n",
        "df['midcat_id'] = df['midcat_id'].astype(str)\n",
        "df.head()"
      ],
      "metadata": {
        "colab": {
          "base_uri": "https://localhost:8080/",
          "height": 337
        },
        "id": "ctmRqIJvj-UN",
        "outputId": "fb658713-6b8e-4150-cde2-a5c6d4343671"
      },
      "execution_count": 11,
      "outputs": [
        {
          "output_type": "execute_result",
          "data": {
            "text/plain": [
              "          id                                      name  \\\n",
              "0  202546050                                    알토라쿤잠바   \n",
              "1  175146200  코스 오라리맛 푸퍼 다크브라운 40 판매합니다 (코스 다운 패디드 푸퍼)   \n",
              "2  213905890                               [S] 커버낫 숏패딩   \n",
              "3  216998343                                더 틸버리 구스패딩   \n",
              "4  225515936         Sinoon 시눈 패딩 ELIN PATCHED PADDING   \n",
              "\n",
              "                                                info     cat_id  \\\n",
              "0                    알토 라쿤잠바입니다 55사이즈네요 모자털 탈부착가능합니다  310300200   \n",
              "1                                        새상품 판매해요 택포  310300200   \n",
              "2  세탁완료!  깨끗하게 입었습니다 지퍼가 잘 됐다 안됐다 그럽니다;; 저는 똑딱이로 ...  310300200   \n",
              "3        55/한겨울 코트속에 이른봄은 외투로 활용도 높은  구스패딩입니다 컨디션최상~  310300200   \n",
              "4                  택 달려있어요 잠깐 외출할 때 몇번 입었구 하자 없습니다~!  310300200   \n",
              "\n",
              "                    tag maincat_id midcat_id  \n",
              "0              알토,라쿤,잠바        310    310300  \n",
              "1            코스푸퍼,코스,푸퍼        310    310300  \n",
              "2       커버낫,숏,다운,오리털,패딩        310    310300  \n",
              "3                  더틸버리        310    310300  \n",
              "4  시눈,sinoon,패딩,프레클,스푸닝        310    310300  "
            ],
            "text/html": [
              "\n",
              "  <div id=\"df-a8808745-ae9b-4524-bcc1-bf3bc9466898\">\n",
              "    <div class=\"colab-df-container\">\n",
              "      <div>\n",
              "<style scoped>\n",
              "    .dataframe tbody tr th:only-of-type {\n",
              "        vertical-align: middle;\n",
              "    }\n",
              "\n",
              "    .dataframe tbody tr th {\n",
              "        vertical-align: top;\n",
              "    }\n",
              "\n",
              "    .dataframe thead th {\n",
              "        text-align: right;\n",
              "    }\n",
              "</style>\n",
              "<table border=\"1\" class=\"dataframe\">\n",
              "  <thead>\n",
              "    <tr style=\"text-align: right;\">\n",
              "      <th></th>\n",
              "      <th>id</th>\n",
              "      <th>name</th>\n",
              "      <th>info</th>\n",
              "      <th>cat_id</th>\n",
              "      <th>tag</th>\n",
              "      <th>maincat_id</th>\n",
              "      <th>midcat_id</th>\n",
              "    </tr>\n",
              "  </thead>\n",
              "  <tbody>\n",
              "    <tr>\n",
              "      <th>0</th>\n",
              "      <td>202546050</td>\n",
              "      <td>알토라쿤잠바</td>\n",
              "      <td>알토 라쿤잠바입니다 55사이즈네요 모자털 탈부착가능합니다</td>\n",
              "      <td>310300200</td>\n",
              "      <td>알토,라쿤,잠바</td>\n",
              "      <td>310</td>\n",
              "      <td>310300</td>\n",
              "    </tr>\n",
              "    <tr>\n",
              "      <th>1</th>\n",
              "      <td>175146200</td>\n",
              "      <td>코스 오라리맛 푸퍼 다크브라운 40 판매합니다 (코스 다운 패디드 푸퍼)</td>\n",
              "      <td>새상품 판매해요 택포</td>\n",
              "      <td>310300200</td>\n",
              "      <td>코스푸퍼,코스,푸퍼</td>\n",
              "      <td>310</td>\n",
              "      <td>310300</td>\n",
              "    </tr>\n",
              "    <tr>\n",
              "      <th>2</th>\n",
              "      <td>213905890</td>\n",
              "      <td>[S] 커버낫 숏패딩</td>\n",
              "      <td>세탁완료!  깨끗하게 입었습니다 지퍼가 잘 됐다 안됐다 그럽니다;; 저는 똑딱이로 ...</td>\n",
              "      <td>310300200</td>\n",
              "      <td>커버낫,숏,다운,오리털,패딩</td>\n",
              "      <td>310</td>\n",
              "      <td>310300</td>\n",
              "    </tr>\n",
              "    <tr>\n",
              "      <th>3</th>\n",
              "      <td>216998343</td>\n",
              "      <td>더 틸버리 구스패딩</td>\n",
              "      <td>55/한겨울 코트속에 이른봄은 외투로 활용도 높은  구스패딩입니다 컨디션최상~</td>\n",
              "      <td>310300200</td>\n",
              "      <td>더틸버리</td>\n",
              "      <td>310</td>\n",
              "      <td>310300</td>\n",
              "    </tr>\n",
              "    <tr>\n",
              "      <th>4</th>\n",
              "      <td>225515936</td>\n",
              "      <td>Sinoon 시눈 패딩 ELIN PATCHED PADDING</td>\n",
              "      <td>택 달려있어요 잠깐 외출할 때 몇번 입었구 하자 없습니다~!</td>\n",
              "      <td>310300200</td>\n",
              "      <td>시눈,sinoon,패딩,프레클,스푸닝</td>\n",
              "      <td>310</td>\n",
              "      <td>310300</td>\n",
              "    </tr>\n",
              "  </tbody>\n",
              "</table>\n",
              "</div>\n",
              "      <button class=\"colab-df-convert\" onclick=\"convertToInteractive('df-a8808745-ae9b-4524-bcc1-bf3bc9466898')\"\n",
              "              title=\"Convert this dataframe to an interactive table.\"\n",
              "              style=\"display:none;\">\n",
              "        \n",
              "  <svg xmlns=\"http://www.w3.org/2000/svg\" height=\"24px\"viewBox=\"0 0 24 24\"\n",
              "       width=\"24px\">\n",
              "    <path d=\"M0 0h24v24H0V0z\" fill=\"none\"/>\n",
              "    <path d=\"M18.56 5.44l.94 2.06.94-2.06 2.06-.94-2.06-.94-.94-2.06-.94 2.06-2.06.94zm-11 1L8.5 8.5l.94-2.06 2.06-.94-2.06-.94L8.5 2.5l-.94 2.06-2.06.94zm10 10l.94 2.06.94-2.06 2.06-.94-2.06-.94-.94-2.06-.94 2.06-2.06.94z\"/><path d=\"M17.41 7.96l-1.37-1.37c-.4-.4-.92-.59-1.43-.59-.52 0-1.04.2-1.43.59L10.3 9.45l-7.72 7.72c-.78.78-.78 2.05 0 2.83L4 21.41c.39.39.9.59 1.41.59.51 0 1.02-.2 1.41-.59l7.78-7.78 2.81-2.81c.8-.78.8-2.07 0-2.86zM5.41 20L4 18.59l7.72-7.72 1.47 1.35L5.41 20z\"/>\n",
              "  </svg>\n",
              "      </button>\n",
              "      \n",
              "  <style>\n",
              "    .colab-df-container {\n",
              "      display:flex;\n",
              "      flex-wrap:wrap;\n",
              "      gap: 12px;\n",
              "    }\n",
              "\n",
              "    .colab-df-convert {\n",
              "      background-color: #E8F0FE;\n",
              "      border: none;\n",
              "      border-radius: 50%;\n",
              "      cursor: pointer;\n",
              "      display: none;\n",
              "      fill: #1967D2;\n",
              "      height: 32px;\n",
              "      padding: 0 0 0 0;\n",
              "      width: 32px;\n",
              "    }\n",
              "\n",
              "    .colab-df-convert:hover {\n",
              "      background-color: #E2EBFA;\n",
              "      box-shadow: 0px 1px 2px rgba(60, 64, 67, 0.3), 0px 1px 3px 1px rgba(60, 64, 67, 0.15);\n",
              "      fill: #174EA6;\n",
              "    }\n",
              "\n",
              "    [theme=dark] .colab-df-convert {\n",
              "      background-color: #3B4455;\n",
              "      fill: #D2E3FC;\n",
              "    }\n",
              "\n",
              "    [theme=dark] .colab-df-convert:hover {\n",
              "      background-color: #434B5C;\n",
              "      box-shadow: 0px 1px 3px 1px rgba(0, 0, 0, 0.15);\n",
              "      filter: drop-shadow(0px 1px 2px rgba(0, 0, 0, 0.3));\n",
              "      fill: #FFFFFF;\n",
              "    }\n",
              "  </style>\n",
              "\n",
              "      <script>\n",
              "        const buttonEl =\n",
              "          document.querySelector('#df-a8808745-ae9b-4524-bcc1-bf3bc9466898 button.colab-df-convert');\n",
              "        buttonEl.style.display =\n",
              "          google.colab.kernel.accessAllowed ? 'block' : 'none';\n",
              "\n",
              "        async function convertToInteractive(key) {\n",
              "          const element = document.querySelector('#df-a8808745-ae9b-4524-bcc1-bf3bc9466898');\n",
              "          const dataTable =\n",
              "            await google.colab.kernel.invokeFunction('convertToInteractive',\n",
              "                                                     [key], {});\n",
              "          if (!dataTable) return;\n",
              "\n",
              "          const docLinkHtml = 'Like what you see? Visit the ' +\n",
              "            '<a target=\"_blank\" href=https://colab.research.google.com/notebooks/data_table.ipynb>data table notebook</a>'\n",
              "            + ' to learn more about interactive tables.';\n",
              "          element.innerHTML = '';\n",
              "          dataTable['output_type'] = 'display_data';\n",
              "          await google.colab.output.renderOutput(dataTable, element);\n",
              "          const docLink = document.createElement('div');\n",
              "          docLink.innerHTML = docLinkHtml;\n",
              "          element.appendChild(docLink);\n",
              "        }\n",
              "      </script>\n",
              "    </div>\n",
              "  </div>\n",
              "  "
            ]
          },
          "metadata": {},
          "execution_count": 11
        }
      ]
    },
    {
      "cell_type": "code",
      "source": [
        "df['midcat_id'].value_counts()"
      ],
      "metadata": {
        "id": "B7nPxiYleyce"
      },
      "execution_count": null,
      "outputs": []
    },
    {
      "cell_type": "code",
      "source": [
        "# -- preprocessing --\n",
        "\n",
        "def split_data(df):\n",
        "    # format changes\n",
        "    df['name'] = \"[CLS] \" + df['name'] + \" [SEP]\"\n",
        "\n",
        "    # encoding\n",
        "    encoder = LabelEncoder()\n",
        "    # df['label'] = encoder.fit_transform(df['maincat_id']) # main\n",
        "    # df['label'] = encoder.fit_transform(df['midcat_id']) # mid\n",
        "    df['label'] = encoder.fit_transform(df['cat_id']) # sub\n",
        "\n",
        "    # train, test dataset split\n",
        "    train_x, test_x, train_y, test_y = train_test_split(df['name'], df['label'].values, random_state=42, test_size=0.2)\n",
        "    train_df, test_df = df.loc[train_x.index], df.loc[test_x.index]\n",
        "    return train_df, test_df\n",
        "\n",
        "train_df, test_df = split_data(df)"
      ],
      "metadata": {
        "id": "KbJ4G91LX2a_"
      },
      "execution_count": 12,
      "outputs": []
    },
    {
      "cell_type": "code",
      "source": [
        "# -- converting inputs --\n",
        "def convert_input(sentences):\n",
        "    tokenizer = ElectraTokenizer.from_pretrained(\"monologg/koelectra-small-v3-discriminator\")\n",
        "    tokenized_texts = [tokenizer.tokenize(sent) for sent in sentences]\n",
        "    max_len = 200\n",
        "    input_ids = [tokenizer.convert_tokens_to_ids(text) for text in tokenized_texts]\n",
        "    input_ids = pad_sequences(input_ids, maxlen=max_len, dtype=\"long\", truncating=\"post\", padding=\"post\")\n",
        "    attention_masks = []\n",
        "    for seq in input_ids:\n",
        "        seq_mask = [float(i>0) for i in seq]\n",
        "        attention_masks.append(seq_mask)\n",
        "    return input_ids, attention_masks\n",
        "\n",
        "input_ids, attention_masks = convert_input(train_df['name'])"
      ],
      "metadata": {
        "id": "LUGgC2feX2df"
      },
      "execution_count": 13,
      "outputs": []
    },
    {
      "cell_type": "code",
      "source": [
        "# -- train and validation set --\n",
        "def split_train_and_validation(input_ids, attention_masks):\n",
        "    train_x, val_x, train_y, val_y = train_test_split(input_ids, train_df['label'].values, random_state=5, test_size=.2)\n",
        "    train_mask, val_mask, _, _ = train_test_split(attention_masks, input_ids, random_state=5, test_size=.2)\n",
        "\n",
        "    # tensor로 만들기\n",
        "    train_x = torch.tensor(train_x)\n",
        "    train_y = torch.tensor(train_y)\n",
        "    train_mask = torch.tensor(train_mask)\n",
        "\n",
        "    val_x = torch.tensor(val_x)\n",
        "    val_y = torch.tensor(val_y)\n",
        "    val_mask = torch.tensor(val_mask)\n",
        "\n",
        "    # dataloader\n",
        "    batch_size = 32\n",
        "    train_data = TensorDataset(train_x, train_mask, train_y)\n",
        "    train_dataloader = DataLoader(train_data, sampler=RandomSampler(train_data), batch_size=batch_size)\n",
        "\n",
        "    val_data = TensorDataset(val_x, val_mask, val_y)\n",
        "    val_dataloader = DataLoader(val_data, sampler=SequentialSampler(val_data), batch_size=batch_size)\n",
        "\n",
        "    return train_dataloader, val_dataloader\n",
        "\n",
        "train_dataloader, val_dataloader = split_train_and_validation(input_ids, attention_masks)"
      ],
      "metadata": {
        "id": "tpbtvzqBX2gE"
      },
      "execution_count": 14,
      "outputs": []
    },
    {
      "cell_type": "code",
      "source": [
        "# -- setting device --\n",
        "if torch.cuda.is_available():\n",
        "    device = torch.device(\"cuda\")\n",
        "    print('There are %d GPU(s) available.' % torch.cuda.device_count())\n",
        "    print('We will use the GPU:', torch.cuda.get_device_name(0))\n",
        "else:\n",
        "    device = torch.device(\"cpu\")\n",
        "    print('No GPU available, using the CPU instead.')"
      ],
      "metadata": {
        "colab": {
          "base_uri": "https://localhost:8080/"
        },
        "id": "kgZt61jDX2i1",
        "outputId": "ad889759-aa10-4a34-e2b1-697d77ed3d25"
      },
      "execution_count": 15,
      "outputs": [
        {
          "output_type": "stream",
          "name": "stdout",
          "text": [
            "There are 1 GPU(s) available.\n",
            "We will use the GPU: Tesla T4\n"
          ]
        }
      ]
    },
    {
      "cell_type": "code",
      "source": [
        "# -- koelectra_v3_small --\n",
        "model = ElectraForSequenceClassification.from_pretrained(\"monologg/koelectra-small-v3-discriminator\",\n",
        "                                                        #  num_labels=df['maincat_id'].nunique(), # main\n",
        "                                                        #  num_labels=df['midcat_id'].nunique(), # mid\n",
        "                                                         num_labels=df['cat_id'].nunique(), # sub\n",
        "                                                         )\n",
        "model.cuda()\n",
        "\n",
        "epochs = 10\n",
        "total_steps = len(train_dataloader) * epochs\n",
        "\n",
        "optimizer = torch.optim.AdamW(model.parameters(), lr=2e-5, eps=1e-8)\n",
        "\n",
        "# 처음에 학습률을 조금씩 변화시키는 스케줄러 생성\n",
        "scheduler = get_linear_schedule_with_warmup(optimizer, num_warmup_steps = 0, num_training_steps = total_steps)"
      ],
      "metadata": {
        "colab": {
          "base_uri": "https://localhost:8080/"
        },
        "id": "46KkHfDfX2lW",
        "outputId": "9950c708-51c0-4973-af75-01f916d322bf"
      },
      "execution_count": 16,
      "outputs": [
        {
          "output_type": "stream",
          "name": "stderr",
          "text": [
            "Some weights of the model checkpoint at monologg/koelectra-small-v3-discriminator were not used when initializing ElectraForSequenceClassification: ['discriminator_predictions.dense_prediction.bias', 'discriminator_predictions.dense.weight', 'discriminator_predictions.dense.bias', 'discriminator_predictions.dense_prediction.weight']\n",
            "- This IS expected if you are initializing ElectraForSequenceClassification from the checkpoint of a model trained on another task or with another architecture (e.g. initializing a BertForSequenceClassification model from a BertForPreTraining model).\n",
            "- This IS NOT expected if you are initializing ElectraForSequenceClassification from the checkpoint of a model that you expect to be exactly identical (initializing a BertForSequenceClassification model from a BertForSequenceClassification model).\n",
            "Some weights of ElectraForSequenceClassification were not initialized from the model checkpoint at monologg/koelectra-small-v3-discriminator and are newly initialized: ['classifier.dense.bias', 'classifier.dense.weight', 'classifier.out_proj.weight', 'classifier.out_proj.bias']\n",
            "You should probably TRAIN this model on a down-stream task to be able to use it for predictions and inference.\n"
          ]
        }
      ]
    },
    {
      "cell_type": "code",
      "source": [
        "from sklearn.metrics import accuracy_score\n",
        "# -- model training --\n",
        "# 시드 설정\n",
        "seed = 42\n",
        "random.seed(seed)\n",
        "np.random.seed(seed)\n",
        "torch.manual_seed(seed)\n",
        "torch.cuda.manual_seed_all(seed)\n",
        "\n",
        "\n",
        "# 그래디언트 초기화\n",
        "model.zero_grad()\n",
        "loss_list, acc_list = [], []\n",
        "for epoch in tqdm(range(0, epochs)):\n",
        "    # 로스 초기화\n",
        "    total_loss = 0\n",
        "    # 훈련모드\n",
        "    model.train()\n",
        "    # 데이터로더에서 배치만큼 반복하여 가져옴\n",
        "    for step, batch in enumerate(train_dataloader):\n",
        "        # 배치를 GPU에 넣음\n",
        "        batch = tuple(t.to(device) for t in batch)\n",
        "        # 배치에서 데이터 추출\n",
        "        b_input_ids, b_input_mask, b_labels = batch\n",
        "        # Forward 수행\n",
        "        outputs = model(input_ids= b_input_ids, token_type_ids=None,\n",
        "                        attention_mask=b_input_mask, labels=b_labels)\n",
        "        loss = outputs[0]\n",
        "        total_loss += loss.item()\n",
        "        # Backward 수행으로 그래디언트 계산\n",
        "        loss.backward()\n",
        "        # 그래디언트 클리핑\n",
        "        torch.nn.utils.clip_grad_norm_(model.parameters(), 1.0)\n",
        "        # 그래디언트를 통해 가중치 파라미터 업데이트\n",
        "        optimizer.step()\n",
        "        # 스케줄러로 학습률 감소\n",
        "        scheduler.step()\n",
        "        # 그래디언트 초기화\n",
        "        model.zero_grad()\n",
        "    # 평균 로스 계산\n",
        "    avg_train_loss = total_loss / len(train_dataloader)\n",
        "    loss_list.append(avg_train_loss)\n",
        "\n",
        "    # 평가모드\n",
        "    model.eval()\n",
        "    # 변수 초기화\n",
        "    eval_loss, eval_accuracy, nb_eval_steps = 0, 0, 0\n",
        "    for batch in val_dataloader:\n",
        "        # 배치를 GPU에 넣음\n",
        "        batch = tuple(t.to(device) for t in batch)\n",
        "        # 배치에서 데이터 추출\n",
        "        b_input_ids, b_input_mask, b_labels = batch\n",
        "        # 그래디언트 계산 안함\n",
        "        with torch.no_grad():\n",
        "            # Forward 수행\n",
        "            outputs = model(input_ids=b_input_ids, token_type_ids=None,\n",
        "                            attention_mask=b_input_mask)\n",
        "            # 로스 구함\n",
        "        logits = outputs.logits\n",
        "        # CPU로 데이터 이동\n",
        "        logits = logits.detach().cpu().numpy()\n",
        "        label_ids = b_labels.to('cpu').numpy()\n",
        "\n",
        "        # calculate accuracy\n",
        "        predictions = np.argmax(logits, axis=1)\n",
        "        accuracy = accuracy_score(label_ids, predictions)\n",
        "        eval_accuracy += accuracy\n",
        "        nb_eval_steps += 1\n",
        "\n",
        "    acc_list.append(round(eval_accuracy / nb_eval_steps, 2))"
      ],
      "metadata": {
        "colab": {
          "base_uri": "https://localhost:8080/",
          "height": 49,
          "referenced_widgets": [
            "704a7e8a56b140899f1303592bca850b",
            "ebd2c9920f6c490490ad7aaeb47b87e5",
            "432c0161d37b433aae967f9d38c01aa2",
            "43ecb28e4f4041fe99e11cec3340ae09",
            "16a0cc6e69254295959bbb29e2df4471",
            "5370fc6337564afa99e0d436f70599f5",
            "d5499539ef1a4f08af33f0bdb442622b",
            "369c090f0fc54d47bab257666e5ffac4",
            "3de088a537544d3a903e49cbf81f37f3",
            "b07ebcbd46ee489f8c2b9a848b554f29",
            "ab6727a6bc4a41c79ccac43c99a8407c"
          ]
        },
        "id": "V4eqD4sJX2nq",
        "outputId": "e765ccea-bccc-4141-af67-cf6e2019a8f9"
      },
      "execution_count": 17,
      "outputs": [
        {
          "output_type": "display_data",
          "data": {
            "text/plain": [
              "  0%|          | 0/10 [00:00<?, ?it/s]"
            ],
            "application/vnd.jupyter.widget-view+json": {
              "version_major": 2,
              "version_minor": 0,
              "model_id": "704a7e8a56b140899f1303592bca850b"
            }
          },
          "metadata": {}
        }
      ]
    },
    {
      "cell_type": "code",
      "source": [
        "# -- maincat 모델 저장 --\n",
        "PATH = '/content/drive/MyDrive/'\n",
        "torch.save(model, PATH + 'koelectra_model_by_maincat.pt')  # 전체 모델 저장\n",
        "torch.save(model.state_dict(), PATH + 'koelectra_maincat_model_state_dict.pt')  # 모델 객체의 state_dict 저장\n",
        "torch.save({'model': model.state_dict(), 'optimizer': optimizer.state_dict()}, PATH + 'all.tar')"
      ],
      "metadata": {
        "id": "jMgU0El4kYPo"
      },
      "execution_count": 12,
      "outputs": []
    },
    {
      "cell_type": "code",
      "source": [
        "# -- mid category loss and accuracy --\n",
        "epoch = range(1, epochs+1)\n",
        "plt.plot(epoch, loss_list,'-bo', label='Loss')\n",
        "plt.plot(epoch, acc_list, '-ro', label='Accuracy')\n",
        "plt.legend(), plt.xlabel('Epoch'), plt.ylabel('Loss  /  Accuracy');\n",
        "print(f'Accuracy : {round(eval_accuracy/nb_eval_steps, 2)}')"
      ],
      "metadata": {
        "colab": {
          "base_uri": "https://localhost:8080/",
          "height": 466
        },
        "id": "pInOkHka9E5I",
        "outputId": "6d84d1df-cfab-4681-d855-b47791987bda"
      },
      "execution_count": 10,
      "outputs": [
        {
          "output_type": "stream",
          "name": "stdout",
          "text": [
            "Accuracy : 0.74\n"
          ]
        },
        {
          "output_type": "display_data",
          "data": {
            "text/plain": [
              "<Figure size 640x480 with 1 Axes>"
            ],
            "image/png": "[encoded data removed]"
          },
          "metadata": {}
        }
      ]
    },
    {
      "cell_type": "code",
      "source": [
        "# -- sub category 모델 저장 --\n",
        "PATH = '/content/drive/MyDrive/'\n",
        "torch.save(model, PATH + 'koelectra_model_by_midcat.pt')  # 전체 모델 저장\n",
        "torch.save(model.state_dict(), PATH + 'koelectra_midcat_model_state_dict.pt')  # 모델 객체의 state_dict 저장\n",
        "torch.save({'model': model.state_dict(), 'optimizer': optimizer.state_dict()}, PATH + 'all.tar')"
      ],
      "metadata": {
        "id": "5GU2TPyzfuZn"
      },
      "execution_count": null,
      "outputs": []
    },
    {
      "cell_type": "code",
      "source": [
        "# -- sub category loss and accuracy --\n",
        "epoch = range(1, epochs+1)\n",
        "plt.plot(epoch, loss_list,'-bo', label='Loss')\n",
        "plt.plot(epoch, acc_list, '-ro', label='Accuracy')\n",
        "plt.legend(), plt.xlabel('Epoch'), plt.ylabel('Loss  /  Accuracy');\n",
        "print(f'Accuracy : {round(eval_accuracy/nb_eval_steps, 2)}')"
      ],
      "metadata": {
        "colab": {
          "base_uri": "https://localhost:8080/",
          "height": 467
        },
        "id": "fKiB3yv6fmcX",
        "outputId": "438fa172-fa13-48a9-c7a4-25e628a8dc8c"
      },
      "execution_count": 18,
      "outputs": [
        {
          "output_type": "stream",
          "name": "stdout",
          "text": [
            "Accuracy : 0.46\n"
          ]
        },
        {
          "output_type": "display_data",
          "data": {
            "text/plain": [
              "<Figure size 640x480 with 1 Axes>"
            ],
            "image/png": "[encoded data removed]"
          },
          "metadata": {}
        }
      ]
    },
    {
      "cell_type": "code",
      "source": [],
      "metadata": {
        "id": "oScli5ELh_vv"
      },
      "execution_count": null,
      "outputs": []
    },
    {
      "cell_type": "code",
      "source": [
        "# -- 전이 학습 --\n",
        "optimizer = AdamW(model.parameters(),lr = 2e-5, eps = 1e-8)\n",
        "PATH = '/content/drive/MyDrive/'\n",
        "model = torch.load(PATH + 'model.pt')  # 모델 불러오기\n",
        "model.load_state_dict(torch.load('/content/drive/MyDrive/model_state_dict.pt'))\n",
        "\n",
        "checkpoint = torch.load(PATH + 'all.tar')   # dict 불러오기\n",
        "model.load_state_dict(checkpoint['model'])\n",
        "optimizer.load_state_dict(checkpoint['optimizer'])"
      ],
      "metadata": {
        "id": "YyjkCVLPOBAS"
      },
      "execution_count": null,
      "outputs": []
    },
    {
      "cell_type": "code",
      "source": [
        "def test_sentences(sentences):\n",
        "    model.eval()\n",
        "    # 문장을 입력 데이터로 변환\n",
        "    input_ids, attention_masks = convert_input(sentences)\n",
        "    # 데이터를 파이토치의 텐서로 변환\n",
        "    inputs = torch.tensor(input_ids)\n",
        "    masks = torch.tensor(attention_masks)\n",
        "    # 데이터를 GPU에 넣음\n",
        "    b_input_ids = inputs.to(device)\n",
        "    b_input_mask = masks.to(device)\n",
        "    # 그래디언트 계산 안함\n",
        "    with torch.no_grad():\n",
        "        outputs = model(input_ids=b_input_ids, token_type_ids=None,\n",
        "                            attention_mask=b_input_mask)\n",
        "    logits = outputs.logits\n",
        "    logits = logits.detach().cpu().numpy()\n",
        "    predictions = np.argmax(logits, axis=1)\n",
        "    return predictions"
      ],
      "metadata": {
        "id": "SjbiHlY8O8GV"
      },
      "execution_count": null,
      "outputs": []
    },
    {
      "cell_type": "code",
      "source": [
        "# -- test data에 적용 --\n",
        "test_df = test_df.reset_index(drop=True)\n",
        "\n",
        "for idx in tqdm(range(len(test_df))):\n",
        "    preds = test_sentences([test_df.product_name[idx]])\n",
        "    test_df.loc[idx, 'predicted'] = preds\n",
        "\n",
        "test_df"
      ],
      "metadata": {
        "id": "6qgo2lqLQPa-"
      },
      "execution_count": null,
      "outputs": []
    },
    {
      "cell_type": "code",
      "source": [
        "accuracy = 0\n",
        "for idx in tqdm(range(len(test_df))):\n",
        "    if test_df.loc[idx, 'label'] == test_df.loc[idx, 'predicted']:\n",
        "        accuracy += 1\n",
        "print(accuracy / len(test_df))"
      ],
      "metadata": {
        "colab": {
          "base_uri": "https://localhost:8080/",
          "height": 66,
          "referenced_widgets": [
            "a2883b7fa2944fd6961690c2127bd343",
            "c86d99e9d4014e24a737c3a1880445c4",
            "08fae2c92c8f4d61a9bf5549b2e8be3a",
            "3dcb1b5c1a72463e95290f73c8dbbb19",
            "11a8ae9319cb4a9b909e4f2fa2dcbbb4",
            "ac927d186c0e42caa8732cfa75d3e033",
            "2e5ef1bca8da453a9c1708098e1f396d",
            "9fd28e8d09534709aa1e3210dd6e66e9",
            "55da7e29b5b4442485fc31625851ee48",
            "6f613a91d8fd41ffa81d0d7cd64ffc47",
            "d762207b3ec648c5a6bec347e9b9dc99"
          ]
        },
        "id": "S8ftFh1KQyLs",
        "outputId": "61a3f595-1b4a-43fb-9182-6b0b31bc5d5d"
      },
      "execution_count": null,
      "outputs": [
        {
          "output_type": "display_data",
          "data": {
            "text/plain": [
              "  0%|          | 0/20034 [00:00<?, ?it/s]"
            ],
            "application/vnd.jupyter.widget-view+json": {
              "version_major": 2,
              "version_minor": 0,
              "model_id": "a2883b7fa2944fd6961690c2127bd343"
            }
          },
          "metadata": {}
        },
        {
          "output_type": "stream",
          "name": "stdout",
          "text": [
            "0.8783068783068783\n"
          ]
        }
      ]
    }
  ]
}