{
 "cells": [
  {
   "cell_type": "code",
   "execution_count": 13,
   "id": "909334b1",
   "metadata": {},
   "outputs": [],
   "source": [
    "import pandas as pd\n",
    "from tqdm.notebook import tqdm\n",
    "from sklearn.feature_extraction.text import TfidfVectorizer\n",
    "from sklearn.model_selection import train_test_split\n",
    "from sklearn.linear_model import LogisticRegression\n",
    "from sklearn.metrics import accuracy_score\n",
    "from lightgbm import LGBMClassifier"
   ]
  },
  {
   "cell_type": "code",
   "execution_count": 24,
   "id": "bc0d38fc",
   "metadata": {},
   "outputs": [
    {
     "name": "stdout",
     "output_type": "stream",
     "text": [
      "<class 'pandas.core.frame.DataFrame'>\n",
      "RangeIndex: 109248 entries, 0 to 109247\n",
      "Data columns (total 7 columns):\n",
      " #   Column      Non-Null Count   Dtype \n",
      "---  ------      --------------   ----- \n",
      " 0   id          109248 non-null  object\n",
      " 1   name        109248 non-null  object\n",
      " 2   info        108882 non-null  object\n",
      " 3   cat_id      109248 non-null  object\n",
      " 4   tag         99639 non-null   object\n",
      " 5   maincat_id  109248 non-null  object\n",
      " 6   midcat_id   109248 non-null  object\n",
      "dtypes: object(7)\n",
      "memory usage: 5.8+ MB\n"
     ]
    }
   ],
   "source": [
    "# loading dataframe\n",
    "df = pd.read_csv('./newly_reduced_bungae_df.csv', lineterminator='\\n') # 이걸로 오류 해결\n",
    "df['id'] = df['id'].astype(str)\n",
    "df['cat_id'] = df['cat_id'].astype(str)\n",
    "df['maincat_id'] = df['maincat_id'].astype(str)\n",
    "df['midcat_id'] = df['midcat_id'].astype(str)\n",
    "df.info()"
   ]
  },
  {
   "cell_type": "code",
   "execution_count": 31,
   "id": "20af3c05",
   "metadata": {},
   "outputs": [],
   "source": [
    "# spliting data\n",
    "\n",
    "def split_train_test_data(df):\n",
    "    # -- train, test split --\n",
    "    train_x, test_x, train_y, test_y = train_test_split(df['name'],\n",
    "                                                        df['maincat_id'].values, # main  \n",
    "#                                                         df['midcat_id'].values, # mid  \n",
    "#                                                         df['cat_id'].values, # sub  \n",
    "                                                        random_state=42, \n",
    "                                                        test_size=.2)\n",
    "\n",
    "    return train_x, test_x, train_y, test_y\n",
    "\n",
    "train_x, test_x, train_y, test_y = split_train_test_data(df)"
   ]
  },
  {
   "cell_type": "code",
   "execution_count": 32,
   "id": "451c81b0",
   "metadata": {},
   "outputs": [],
   "source": [
    "tfidf_vect = TfidfVectorizer(ngram_range=(1,2), max_df=300, min_df=5)\n",
    "# -- x_train vectorization --\n",
    "X_train_cnt_vect = tfidf_vect.fit_transform(train_x)\n",
    "# -- x_test vectorization --\n",
    "X_test_cnt_vect = tfidf_vect.transform(test_x)"
   ]
  },
  {
   "cell_type": "code",
   "execution_count": 17,
   "id": "ee093f0e",
   "metadata": {},
   "outputs": [
    {
     "name": "stderr",
     "output_type": "stream",
     "text": [
      "/Users/wonbinchoi/opt/anaconda3/envs/finalPJT_v2/lib/python3.11/site-packages/sklearn/linear_model/_logistic.py:1211: UserWarning: 'n_jobs' > 1 does not have any effect when 'solver' is set to 'liblinear'. Got 'n_jobs' = 8.\n",
      "  warnings.warn(\n"
     ]
    },
    {
     "name": "stdout",
     "output_type": "stream",
     "text": [
      "TF-IDF Vectorized Logistic Regression 의 예측 정확도는 0.751\n"
     ]
    }
   ],
   "source": [
    "# -- logistic regression --\n",
    "lr_clf = LogisticRegression(solver='liblinear', n_jobs=-1)\n",
    "lr_clf.fit(X_train_cnt_vect , train_y)\n",
    "preds = lr_clf.predict(X_test_cnt_vect)\n",
    "print('TF-IDF Vectorized Logistic Regression 의 예측 정확도는 {0:.3f}'.format(accuracy_score(test_y,preds)))\n"
   ]
  },
  {
   "cell_type": "code",
   "execution_count": 33,
   "id": "e306687b",
   "metadata": {},
   "outputs": [
    {
     "name": "stdout",
     "output_type": "stream",
     "text": [
      "lightGBM Vectorized Logistic Regression 의 예측 정확도는 0.656\n"
     ]
    }
   ],
   "source": [
    "# -- lightGBM --\n",
    "lgbm_clf = LGBMClassifier(n_jobs=-1)\n",
    "lgbm_clf.fit(X_train_cnt_vect, train_y)\n",
    "preds = lgbm_clf.predict(X_test_cnt_vect)\n",
    "print('lightGBM Vectorized Logistic Regression 의 예측 정확도는 {0:.3f}'.format(accuracy_score(test_y,preds)))"
   ]
  },
  {
   "cell_type": "code",
   "execution_count": null,
   "id": "f8a69bd9",
   "metadata": {},
   "outputs": [],
   "source": []
  },
  {
   "cell_type": "code",
   "execution_count": null,
   "id": "bc309699",
   "metadata": {},
   "outputs": [],
   "source": []
  },
  {
   "cell_type": "code",
   "execution_count": null,
   "id": "d2930e7c",
   "metadata": {},
   "outputs": [],
   "source": []
  }
 ],
 "metadata": {
  "kernelspec": {
   "display_name": "Python 3 (ipykernel)",
   "language": "python",
   "name": "python3"
  },
  "language_info": {
   "codemirror_mode": {
    "name": "ipython",
    "version": 3
   },
   "file_extension": ".py",
   "mimetype": "text/x-python",
   "name": "python",
   "nbconvert_exporter": "python",
   "pygments_lexer": "ipython3",
   "version": "3.11.4"
  }
 },
 "nbformat": 4,
 "nbformat_minor": 5
}
