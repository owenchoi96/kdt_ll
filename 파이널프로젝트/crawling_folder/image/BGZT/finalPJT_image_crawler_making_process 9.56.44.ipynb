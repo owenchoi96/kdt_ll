{
  "nbformat": 4,
  "nbformat_minor": 0,
  "metadata": {
    "colab": {
      "provenance": []
    },
    "kernelspec": {
      "name": "python3",
      "display_name": "Python 3"
    },
    "language_info": {
      "name": "python"
    }
  },
  "cells": [
    {
      "cell_type": "code",
      "execution_count": 33,
      "metadata": {
        "colab": {
          "base_uri": "https://localhost:8080/"
        },
        "id": "81sPVakg-WvD",
        "outputId": "4a13b559-4d75-4a75-a4b9-2235dafabda4"
      },
      "outputs": [
        {
          "output_type": "execute_result",
          "data": {
            "text/plain": [
              "(100169, 7)"
            ]
          },
          "metadata": {},
          "execution_count": 33
        }
      ],
      "source": [
        "# -- 필요 데이터 --\n",
        "import pandas as pd\n",
        "\n",
        "def bring_and_preprocess_df():\n",
        "    # -- 상대적으로 개수가 적은 csv 파일 사용 --\n",
        "    df = pd.read_csv('/content/drive/MyDrive/reduced_twice_bungae_df.csv', encoding='utf-8-sig')\n",
        "    df['cat_id'] = df['cat_id'].astype(int).astype(str)\n",
        "\n",
        "    # -- 패션과 관련 없는 카테고리 제거 --\n",
        "    idx_list = list()\n",
        "    for idx in range(len(df)):\n",
        "        if (len(df.loc[idx, 'cat_id']) == 3) | (df.loc[idx, 'cat_id'][0] not in ['3', '4']):\n",
        "            idx_list.append(idx)\n",
        "\n",
        "    df = df[~df.index.isin(idx_list)]\n",
        "    # -- 카테고리당 상품이 1~2개 있을 경우 train_test_split 했을 때 갯수가 너무 적어 안됨, 이후에 수정 필요 --\n",
        "    df = df[~df['cat_id'].isin(['310060999', '310220999', '320180500'])]\n",
        "\n",
        "    df = df.dropna(axis=0)\n",
        "    df = df.reset_index(drop=True)\n",
        "    df = df.iloc[:, 2:]\n",
        "    return df\n",
        "\n",
        "# 축소 데이터\n",
        "df = bring_and_preprocess_df()\n",
        "df['main_cat'] = df['cat_id'].apply(lambda x : x[:3]) # main_cat으로 분리해보기\n",
        "df['mid_cat'] = df['cat_id'].apply(lambda x : x[:6]) # mid_cag으로도 분리하기\n",
        "df.shape"
      ]
    },
    {
      "cell_type": "code",
      "source": [
        "df.head()"
      ],
      "metadata": {
        "colab": {
          "base_uri": "https://localhost:8080/",
          "height": 322
        },
        "id": "vuwTsr0SHu9H",
        "outputId": "dadf7518-1041-4bc4-87a5-91a749e13511"
      },
      "execution_count": 35,
      "outputs": [
        {
          "output_type": "execute_result",
          "data": {
            "text/plain": [
              "   product_id           product_name  \\\n",
              "0   217365207                  경량롱패딩   \n",
              "1   175507846              롱패딩 판매합니다   \n",
              "2   213094512  피레넥스 여성 화이트 패딩 55판-69   \n",
              "3   208884568                보브 다운패딩   \n",
              "4   164395818    에이글 코트타입 구스 자켓 L사이즈   \n",
              "\n",
              "                                           image_url  image_cnt     cat_id  \\\n",
              "0  https://media.bunjang.co.kr/product/217365207_...        3.0  310090050   \n",
              "1  https://media.bunjang.co.kr/product/175507846_...        4.0  310090050   \n",
              "2  https://media.bunjang.co.kr/product/213094512_...       10.0  310090050   \n",
              "3  https://media.bunjang.co.kr/product/208884568_...        2.0  310090050   \n",
              "4  https://media.bunjang.co.kr/product/164395818_...        5.0  310090050   \n",
              "\n",
              "  main_cat mid_cat  \n",
              "0      310  310090  \n",
              "1      310  310090  \n",
              "2      310  310090  \n",
              "3      310  310090  \n",
              "4      310  310090  "
            ],
            "text/html": [
              "\n",
              "  <div id=\"df-0eaff99a-1812-4de0-b702-5a106c6b8188\">\n",
              "    <div class=\"colab-df-container\">\n",
              "      <div>\n",
              "<style scoped>\n",
              "    .dataframe tbody tr th:only-of-type {\n",
              "        vertical-align: middle;\n",
              "    }\n",
              "\n",
              "    .dataframe tbody tr th {\n",
              "        vertical-align: top;\n",
              "    }\n",
              "\n",
              "    .dataframe thead th {\n",
              "        text-align: right;\n",
              "    }\n",
              "</style>\n",
              "<table border=\"1\" class=\"dataframe\">\n",
              "  <thead>\n",
              "    <tr style=\"text-align: right;\">\n",
              "      <th></th>\n",
              "      <th>product_id</th>\n",
              "      <th>product_name</th>\n",
              "      <th>image_url</th>\n",
              "      <th>image_cnt</th>\n",
              "      <th>cat_id</th>\n",
              "      <th>main_cat</th>\n",
              "      <th>mid_cat</th>\n",
              "    </tr>\n",
              "  </thead>\n",
              "  <tbody>\n",
              "    <tr>\n",
              "      <th>0</th>\n",
              "      <td>217365207</td>\n",
              "      <td>경량롱패딩</td>\n",
              "      <td>https://media.bunjang.co.kr/product/217365207_...</td>\n",
              "      <td>3.0</td>\n",
              "      <td>310090050</td>\n",
              "      <td>310</td>\n",
              "      <td>310090</td>\n",
              "    </tr>\n",
              "    <tr>\n",
              "      <th>1</th>\n",
              "      <td>175507846</td>\n",
              "      <td>롱패딩 판매합니다</td>\n",
              "      <td>https://media.bunjang.co.kr/product/175507846_...</td>\n",
              "      <td>4.0</td>\n",
              "      <td>310090050</td>\n",
              "      <td>310</td>\n",
              "      <td>310090</td>\n",
              "    </tr>\n",
              "    <tr>\n",
              "      <th>2</th>\n",
              "      <td>213094512</td>\n",
              "      <td>피레넥스 여성 화이트 패딩 55판-69</td>\n",
              "      <td>https://media.bunjang.co.kr/product/213094512_...</td>\n",
              "      <td>10.0</td>\n",
              "      <td>310090050</td>\n",
              "      <td>310</td>\n",
              "      <td>310090</td>\n",
              "    </tr>\n",
              "    <tr>\n",
              "      <th>3</th>\n",
              "      <td>208884568</td>\n",
              "      <td>보브 다운패딩</td>\n",
              "      <td>https://media.bunjang.co.kr/product/208884568_...</td>\n",
              "      <td>2.0</td>\n",
              "      <td>310090050</td>\n",
              "      <td>310</td>\n",
              "      <td>310090</td>\n",
              "    </tr>\n",
              "    <tr>\n",
              "      <th>4</th>\n",
              "      <td>164395818</td>\n",
              "      <td>에이글 코트타입 구스 자켓 L사이즈</td>\n",
              "      <td>https://media.bunjang.co.kr/product/164395818_...</td>\n",
              "      <td>5.0</td>\n",
              "      <td>310090050</td>\n",
              "      <td>310</td>\n",
              "      <td>310090</td>\n",
              "    </tr>\n",
              "  </tbody>\n",
              "</table>\n",
              "</div>\n",
              "      <button class=\"colab-df-convert\" onclick=\"convertToInteractive('df-0eaff99a-1812-4de0-b702-5a106c6b8188')\"\n",
              "              title=\"Convert this dataframe to an interactive table.\"\n",
              "              style=\"display:none;\">\n",
              "        \n",
              "  <svg xmlns=\"http://www.w3.org/2000/svg\" height=\"24px\"viewBox=\"0 0 24 24\"\n",
              "       width=\"24px\">\n",
              "    <path d=\"M0 0h24v24H0V0z\" fill=\"none\"/>\n",
              "    <path d=\"M18.56 5.44l.94 2.06.94-2.06 2.06-.94-2.06-.94-.94-2.06-.94 2.06-2.06.94zm-11 1L8.5 8.5l.94-2.06 2.06-.94-2.06-.94L8.5 2.5l-.94 2.06-2.06.94zm10 10l.94 2.06.94-2.06 2.06-.94-2.06-.94-.94-2.06-.94 2.06-2.06.94z\"/><path d=\"M17.41 7.96l-1.37-1.37c-.4-.4-.92-.59-1.43-.59-.52 0-1.04.2-1.43.59L10.3 9.45l-7.72 7.72c-.78.78-.78 2.05 0 2.83L4 21.41c.39.39.9.59 1.41.59.51 0 1.02-.2 1.41-.59l7.78-7.78 2.81-2.81c.8-.78.8-2.07 0-2.86zM5.41 20L4 18.59l7.72-7.72 1.47 1.35L5.41 20z\"/>\n",
              "  </svg>\n",
              "      </button>\n",
              "      \n",
              "  <style>\n",
              "    .colab-df-container {\n",
              "      display:flex;\n",
              "      flex-wrap:wrap;\n",
              "      gap: 12px;\n",
              "    }\n",
              "\n",
              "    .colab-df-convert {\n",
              "      background-color: #E8F0FE;\n",
              "      border: none;\n",
              "      border-radius: 50%;\n",
              "      cursor: pointer;\n",
              "      display: none;\n",
              "      fill: #1967D2;\n",
              "      height: 32px;\n",
              "      padding: 0 0 0 0;\n",
              "      width: 32px;\n",
              "    }\n",
              "\n",
              "    .colab-df-convert:hover {\n",
              "      background-color: #E2EBFA;\n",
              "      box-shadow: 0px 1px 2px rgba(60, 64, 67, 0.3), 0px 1px 3px 1px rgba(60, 64, 67, 0.15);\n",
              "      fill: #174EA6;\n",
              "    }\n",
              "\n",
              "    [theme=dark] .colab-df-convert {\n",
              "      background-color: #3B4455;\n",
              "      fill: #D2E3FC;\n",
              "    }\n",
              "\n",
              "    [theme=dark] .colab-df-convert:hover {\n",
              "      background-color: #434B5C;\n",
              "      box-shadow: 0px 1px 3px 1px rgba(0, 0, 0, 0.15);\n",
              "      filter: drop-shadow(0px 1px 2px rgba(0, 0, 0, 0.3));\n",
              "      fill: #FFFFFF;\n",
              "    }\n",
              "  </style>\n",
              "\n",
              "      <script>\n",
              "        const buttonEl =\n",
              "          document.querySelector('#df-0eaff99a-1812-4de0-b702-5a106c6b8188 button.colab-df-convert');\n",
              "        buttonEl.style.display =\n",
              "          google.colab.kernel.accessAllowed ? 'block' : 'none';\n",
              "\n",
              "        async function convertToInteractive(key) {\n",
              "          const element = document.querySelector('#df-0eaff99a-1812-4de0-b702-5a106c6b8188');\n",
              "          const dataTable =\n",
              "            await google.colab.kernel.invokeFunction('convertToInteractive',\n",
              "                                                     [key], {});\n",
              "          if (!dataTable) return;\n",
              "\n",
              "          const docLinkHtml = 'Like what you see? Visit the ' +\n",
              "            '<a target=\"_blank\" href=https://colab.research.google.com/notebooks/data_table.ipynb>data table notebook</a>'\n",
              "            + ' to learn more about interactive tables.';\n",
              "          element.innerHTML = '';\n",
              "          dataTable['output_type'] = 'display_data';\n",
              "          await google.colab.output.renderOutput(dataTable, element);\n",
              "          const docLink = document.createElement('div');\n",
              "          docLink.innerHTML = docLinkHtml;\n",
              "          element.appendChild(docLink);\n",
              "        }\n",
              "      </script>\n",
              "    </div>\n",
              "  </div>\n",
              "  "
            ]
          },
          "metadata": {},
          "execution_count": 35
        }
      ]
    },
    {
      "cell_type": "code",
      "source": [
        "# -- folder 만들기 --\n",
        "import os\n",
        "\n",
        "\n",
        "def make_folders_for_image():\n",
        "    # -- 임시방편으로 이렇게 만들기 --\n",
        "    cat_list = list(df['cat_id'].unique())\n",
        "\n",
        "    for cat_id in cat_list:\n",
        "        # -- 폴더 이름은 원하시는 대로 변경해주세요 --\n",
        "        # -- bungae_fashion_image 부분 변경해주시면 돼요 --\n",
        "        os.makedirs(f'/content/drive/MyDrive/bungae_fashion_image/{cat_id}')\n",
        "\n",
        "    return\n",
        "\n",
        "make_folders_for_image()"
      ],
      "metadata": {
        "id": "tUnTpKIM-gE6"
      },
      "execution_count": 26,
      "outputs": []
    },
    {
      "cell_type": "code",
      "source": [
        "# -- making image crawler with multiprocessing ----------"
      ],
      "metadata": {
        "id": "-zRoEEgX9pwp"
      },
      "execution_count": null,
      "outputs": []
    },
    {
      "cell_type": "code",
      "source": [
        "import re\n",
        "\n",
        "df['image_url'][:5]"
      ],
      "metadata": {
        "colab": {
          "base_uri": "https://localhost:8080/"
        },
        "id": "m_zu0La7wk8-",
        "outputId": "0d5f1ea3-0b2c-48eb-f137-712bbc504e4b"
      },
      "execution_count": 25,
      "outputs": [
        {
          "output_type": "execute_result",
          "data": {
            "text/plain": [
              "0    https://media.bunjang.co.kr/product/217365207_...\n",
              "1    https://media.bunjang.co.kr/product/175507846_...\n",
              "2    https://media.bunjang.co.kr/product/213094512_...\n",
              "3    https://media.bunjang.co.kr/product/208884568_...\n",
              "4    https://media.bunjang.co.kr/product/164395818_...\n",
              "Name: image_url, dtype: object"
            ]
          },
          "metadata": {},
          "execution_count": 25
        }
      ]
    },
    {
      "cell_type": "code",
      "source": [
        "# -- multiprocessing을 위해 리스트로 url과 cat_id 값 묶기 --\n",
        "from tqdm.notebook import tqdm\n",
        "\n",
        "url_cat_id_list = list()\n",
        "for idx in tqdm(range(len(df))):\n",
        "    url_cat_id_list.append('__'.join([df.loc[idx, 'image_url'], df.loc[idx, 'cat_id']]))\n",
        "\n",
        "url_cat_id_list"
      ],
      "metadata": {
        "id": "nmzQ3GZn-gI9"
      },
      "execution_count": null,
      "outputs": []
    },
    {
      "cell_type": "code",
      "source": [
        "# -- product_id 부분 --\n",
        "# 폴더 안에 넣어줄 때 {prd_id}_image.jpg로 넣어줄 예정\n",
        "prd_id = re.findall(r'\\b\\/\\w+\\_', url_cat_id_list[10])[0]\n",
        "prd_id = prd_id.replace('/', '').replace('_', '')\n",
        "prd_id"
      ],
      "metadata": {
        "colab": {
          "base_uri": "https://localhost:8080/",
          "height": 35
        },
        "id": "8wQEiEF6-gL3",
        "outputId": "9dbdae04-912b-4ea4-e7fa-6ed6ba2b8157"
      },
      "execution_count": 19,
      "outputs": [
        {
          "output_type": "execute_result",
          "data": {
            "text/plain": [
              "'218095401'"
            ],
            "application/vnd.google.colaboratory.intrinsic+json": {
              "type": "string"
            }
          },
          "metadata": {},
          "execution_count": 19
        }
      ]
    },
    {
      "cell_type": "code",
      "source": [
        "# -- cat_id 부분 --\n",
        "# 이미지 파일 경로를 설정할 때 {cat_id}/{prd_id}.. 이렇게 설정할 예정\n",
        "url_cat_id_list[10].split('__')[-1]"
      ],
      "metadata": {
        "colab": {
          "base_uri": "https://localhost:8080/",
          "height": 35
        },
        "id": "Mkt2dRmF-gO2",
        "outputId": "cab5d142-7cbc-4257-8977-e81dbf82df31"
      },
      "execution_count": 12,
      "outputs": [
        {
          "output_type": "execute_result",
          "data": {
            "text/plain": [
              "'310090050'"
            ],
            "application/vnd.google.colaboratory.intrinsic+json": {
              "type": "string"
            }
          },
          "metadata": {},
          "execution_count": 12
        }
      ]
    },
    {
      "cell_type": "code",
      "source": [
        "# -- multiprocessing을 활용할 수 있도록 리스트로 만들어 txt 파일로 저장 --\n",
        "with open('/content/drive/MyDrive/bungae_url_cat_id_list.txt', 'w+') as file:\n",
        "    file.write(','.join(url_cat_id_list))"
      ],
      "metadata": {
        "id": "kiPAkeJ9-gRt"
      },
      "execution_count": 20,
      "outputs": []
    },
    {
      "cell_type": "code",
      "source": [
        "# -- list 불러오는 방법 --\n",
        "with open('/content/drive/MyDrive/bungae_url_cat_id_list.txt', 'r') as file:\n",
        "    data = file.read()\n",
        "url_cat_id_list = data.split(',') # 상품 list\n",
        "url_cat_id_list"
      ],
      "metadata": {
        "id": "fi78FsKb-gUo"
      },
      "execution_count": 22,
      "outputs": []
    },
    {
      "cell_type": "code",
      "source": [
        "# -- crawling py 만들기 ---------------"
      ],
      "metadata": {
        "id": "Wk5zLflXBUUP"
      },
      "execution_count": null,
      "outputs": []
    },
    {
      "cell_type": "code",
      "source": [
        "url_cat_id_list[1]"
      ],
      "metadata": {
        "colab": {
          "base_uri": "https://localhost:8080/",
          "height": 35
        },
        "id": "65A-5Z2cDIzt",
        "outputId": "82c8ee29-8421-411f-83ae-43edad24e935"
      },
      "execution_count": 30,
      "outputs": [
        {
          "output_type": "execute_result",
          "data": {
            "text/plain": [
              "'https://media.bunjang.co.kr/product/175507846_{cnt}_1641710657_w{res}.jpg__310090050'"
            ],
            "application/vnd.google.colaboratory.intrinsic+json": {
              "type": "string"
            }
          },
          "metadata": {},
          "execution_count": 30
        }
      ]
    },
    {
      "cell_type": "code",
      "source": [
        "# -- base code --\n",
        "\n",
        "import urllib.request\n",
        "import time\n",
        "import pandas as pd\n",
        "import re\n",
        "from PIL import Image\n",
        "\n",
        "def crawl_images_and_put_in_folders(url_and_cat_id):\n",
        "\n",
        "    removed_prd_id_list = list()\n",
        "\n",
        "    start = time.time()\n",
        "\n",
        "    # cat_id\n",
        "    cat_id = url_and_cat_id.split('__')[-1]\n",
        "\n",
        "    # url\n",
        "    url = url_and_cat_id.split('__')[0]\n",
        "\n",
        "    # prd_id\n",
        "    prd_id = re.findall(r'\\b\\/\\w+\\_', url_and_cat_id)[-1]\n",
        "    prd_id = prd_id.replace('/', '').replace('_', '')\n",
        "\n",
        "    try:\n",
        "        urllib.request.urlretrieve(url, f'/content/drive/MyDrive/bungae_fashion_image/{cat_id}/{prd_id}_image.jpg')\n",
        "\n",
        "        # image 사이즈 줄이기\n",
        "        image_path = f'/content/drive/MyDrive/bungae_fashion_image/{cat_id}/{prd_id}_image.jpg'\n",
        "        image = Image.open(image_path)\n",
        "        image = image.resize(target_size)\n",
        "        # Save the resized image\n",
        "        image.save(image_path)\n",
        "\n",
        "        end = time.time()\n",
        "        print(f'{prd_id} image crawled')\n",
        "    except:\n",
        "        removed_prd_id_list.append(prd_id)\n",
        "        pass\n",
        "\n",
        "    end = time.time()\n",
        "\n",
        "    return\n",
        "\n",
        "crawl_images_and_put_in_folders(url_cat_id_list[1])"
      ],
      "metadata": {
        "id": "VDh5vdMW-gaY"
      },
      "execution_count": 32,
      "outputs": []
    },
    {
      "cell_type": "code",
      "source": [
        "# -- moved to vscode --"
      ],
      "metadata": {
        "id": "RorUOg9rDN0W"
      },
      "execution_count": null,
      "outputs": []
    }
  ]
}