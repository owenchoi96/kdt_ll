{
 "cells": [
  {
   "cell_type": "code",
   "execution_count": 13,
   "id": "a4ec077f",
   "metadata": {},
   "outputs": [],
   "source": [
    "#  -- base code --\n",
    "import os\n",
    "import shutil\n",
    "\n",
    "file_source = './test_image_folder/'\n",
    "file_destination = './test_image_folder_destination/'\n",
    "\n",
    "get_source_files = os.listdir(file_source)\n",
    "get_destination_files = os.listdir(file_destination)\n",
    "\n",
    "for g in get_source_files:\n",
    "    if g[:3] in get_destination_files:\n",
    "        get_image_files = os.listdir(file_source + g)\n",
    "        for image in get_image_files:\n",
    "            shutil.move(file_source + g + '/' + image, file_destination + g[:3])"
   ]
  },
  {
   "cell_type": "code",
   "execution_count": 21,
   "id": "e0382b9f",
   "metadata": {},
   "outputs": [],
   "source": [
    "# -- code used --\n",
    "\n",
    "# 1. folder 만들기 (maincat에 따라)\n",
    "\n",
    "import os\n",
    "import pandas as pd\n",
    "\n",
    "def make_folders_for_image():\n",
    "    df = pd.read_csv('./bungae_df_for_image_crawling.csv')\n",
    "    cat_id_list = list(df['main_cat'].unique())\n",
    "    \n",
    "    for cat_id in cat_id_list:\n",
    "        # -- 폴더 이름은 원하시는 대로 변경해주세요 --\n",
    "        # -- bungae_fashion_image 부분 변경해주시면 돼요 --\n",
    "        os.makedirs(f'./test_image_folder/{cat_id}')\n",
    "        \n",
    "    return \n",
    "\n",
    "make_folders_for_image()"
   ]
  },
  {
   "cell_type": "code",
   "execution_count": 19,
   "id": "22f1ad94",
   "metadata": {
    "scrolled": true
   },
   "outputs": [],
   "source": [
    "# !conda install -c conda-forge tqdm --yes"
   ]
  },
  {
   "cell_type": "code",
   "execution_count": 23,
   "id": "4f3f0499",
   "metadata": {},
   "outputs": [
    {
     "data": {
      "application/vnd.jupyter.widget-view+json": {
       "model_id": "d03400c07b444b7b89364a4abca97fec",
       "version_major": 2,
       "version_minor": 0
      },
      "text/plain": [
       "  0%|          | 0/171 [00:00<?, ?it/s]"
      ]
     },
     "metadata": {},
     "output_type": "display_data"
    }
   ],
   "source": [
    "# 2. 파일 옮기기\n",
    "\n",
    "import os \n",
    "import shutil\n",
    "from tqdm.notebook import tqdm\n",
    "\n",
    "\n",
    "file_source = './bungae_fashion_image copy/'\n",
    "file_destination = './test_image_folder/'\n",
    "\n",
    "get_source_files = os.listdir(file_source)\n",
    "get_destination_files = os.listdir(file_destination)\n",
    "\n",
    "\n",
    "for g in tqdm(get_source_files):\n",
    "    if g[:3] in get_destination_files:\n",
    "        get_image_files = os.listdir(file_source + g)\n",
    "        for image in get_image_files:\n",
    "            shutil.move(file_source + g + '/' + image, file_destination + g[:3])"
   ]
  },
  {
   "cell_type": "code",
   "execution_count": null,
   "id": "f285bb51",
   "metadata": {},
   "outputs": [],
   "source": []
  },
  {
   "cell_type": "code",
   "execution_count": null,
   "id": "3ca1d8f2",
   "metadata": {},
   "outputs": [],
   "source": []
  }
 ],
 "metadata": {
  "kernelspec": {
   "display_name": "Python 3 (ipykernel)",
   "language": "python",
   "name": "python3"
  },
  "language_info": {
   "codemirror_mode": {
    "name": "ipython",
    "version": 3
   },
   "file_extension": ".py",
   "mimetype": "text/x-python",
   "name": "python",
   "nbconvert_exporter": "python",
   "pygments_lexer": "ipython3",
   "version": "3.11.3"
  }
 },
 "nbformat": 4,
 "nbformat_minor": 5
}
