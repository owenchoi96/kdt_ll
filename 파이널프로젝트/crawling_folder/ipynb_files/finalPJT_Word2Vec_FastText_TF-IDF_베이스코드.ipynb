{
 "cells": [
  {
   "cell_type": "markdown",
   "id": "63834443",
   "metadata": {},
   "source": [
    "***필요한 라이브러리 설치***"
   ]
  },
  {
   "cell_type": "code",
   "execution_count": 8,
   "id": "7f44fe24",
   "metadata": {},
   "outputs": [],
   "source": [
    "# !bash <(curl -s https://raw.githubusercontent.com/konlpy/konlpy/master/scripts/mecab.sh)\n",
    "# !pip3 install mecab-python3\n",
    "# !pip3 install konlpy\n",
    "# !pip install gensim\n",
    "# !conda install -c conda-forge scikit-learn --yes"
   ]
  },
  {
   "cell_type": "markdown",
   "id": "44bade2c",
   "metadata": {},
   "source": [
    "***'여성 숏패딩' 카테고리 csv 파일 하나 가져오기***"
   ]
  },
  {
   "cell_type": "code",
   "execution_count": 1,
   "id": "26260fc3",
   "metadata": {},
   "outputs": [
    {
     "name": "stdout",
     "output_type": "stream",
     "text": [
      "Intel MKL WARNING: Support of Intel(R) Streaming SIMD Extensions 4.2 (Intel(R) SSE4.2) enabled only processors has been deprecated. Intel oneAPI Math Kernel Library 2025.0 will require Intel(R) Advanced Vector Extensions (Intel(R) AVX) instructions.\n",
      "Intel MKL WARNING: Support of Intel(R) Streaming SIMD Extensions 4.2 (Intel(R) SSE4.2) enabled only processors has been deprecated. Intel oneAPI Math Kernel Library 2025.0 will require Intel(R) Advanced Vector Extensions (Intel(R) AVX) instructions.\n"
     ]
    },
    {
     "data": {
      "text/html": [
       "<div>\n",
       "<style scoped>\n",
       "    .dataframe tbody tr th:only-of-type {\n",
       "        vertical-align: middle;\n",
       "    }\n",
       "\n",
       "    .dataframe tbody tr th {\n",
       "        vertical-align: top;\n",
       "    }\n",
       "\n",
       "    .dataframe thead th {\n",
       "        text-align: right;\n",
       "    }\n",
       "</style>\n",
       "<table border=\"1\" class=\"dataframe\">\n",
       "  <thead>\n",
       "    <tr style=\"text-align: right;\">\n",
       "      <th></th>\n",
       "      <th>id</th>\n",
       "      <th>name</th>\n",
       "      <th>cat_id</th>\n",
       "      <th>image_url</th>\n",
       "      <th>low_price</th>\n",
       "    </tr>\n",
       "  </thead>\n",
       "  <tbody>\n",
       "    <tr>\n",
       "      <th>0</th>\n",
       "      <td>40007698241</td>\n",
       "      <td>코튼 나일론 스트링 숏 아우터 8SECONDS 323339LY40</td>\n",
       "      <td>310090060</td>\n",
       "      <td>https://shopping-phinf.pstatic.net/main_400076...</td>\n",
       "      <td>35912</td>\n",
       "    </tr>\n",
       "    <tr>\n",
       "      <th>1</th>\n",
       "      <td>38543761083</td>\n",
       "      <td>온앤온 NC11 니트 카라 덕 다운 숏 패딩 NJP2WMA02</td>\n",
       "      <td>310090060</td>\n",
       "      <td>https://shopping-phinf.pstatic.net/main_385437...</td>\n",
       "      <td>148230</td>\n",
       "    </tr>\n",
       "    <tr>\n",
       "      <th>2</th>\n",
       "      <td>35692762113</td>\n",
       "      <td>폭스퍼 슬림 숏 덕다운 A224PWDA07</td>\n",
       "      <td>310090060</td>\n",
       "      <td>https://shopping-phinf.pstatic.net/main_356927...</td>\n",
       "      <td>125000</td>\n",
       "    </tr>\n",
       "    <tr>\n",
       "      <th>3</th>\n",
       "      <td>39838075591</td>\n",
       "      <td>컴포트핏 집업 숏 아우터 8SECONDS 323239LYC5</td>\n",
       "      <td>310090060</td>\n",
       "      <td>https://shopping-phinf.pstatic.net/main_398380...</td>\n",
       "      <td>31913</td>\n",
       "    </tr>\n",
       "    <tr>\n",
       "      <th>4</th>\n",
       "      <td>82785708214</td>\n",
       "      <td>[당일출고]오리털 여성 경량패딩 슬림 이너패딩</td>\n",
       "      <td>310090060</td>\n",
       "      <td>https://shopping-phinf.pstatic.net/main_827857...</td>\n",
       "      <td>22800</td>\n",
       "    </tr>\n",
       "  </tbody>\n",
       "</table>\n",
       "</div>"
      ],
      "text/plain": [
       "            id                                  name     cat_id  \\\n",
       "0  40007698241  코튼 나일론 스트링 숏 아우터 8SECONDS 323339LY40  310090060   \n",
       "1  38543761083    온앤온 NC11 니트 카라 덕 다운 숏 패딩 NJP2WMA02  310090060   \n",
       "2  35692762113               폭스퍼 슬림 숏 덕다운 A224PWDA07  310090060   \n",
       "3  39838075591     컴포트핏 집업 숏 아우터 8SECONDS 323239LYC5  310090060   \n",
       "4  82785708214             [당일출고]오리털 여성 경량패딩 슬림 이너패딩  310090060   \n",
       "\n",
       "                                           image_url  low_price  \n",
       "0  https://shopping-phinf.pstatic.net/main_400076...      35912  \n",
       "1  https://shopping-phinf.pstatic.net/main_385437...     148230  \n",
       "2  https://shopping-phinf.pstatic.net/main_356927...     125000  \n",
       "3  https://shopping-phinf.pstatic.net/main_398380...      31913  \n",
       "4  https://shopping-phinf.pstatic.net/main_827857...      22800  "
      ]
     },
     "execution_count": 1,
     "metadata": {},
     "output_type": "execute_result"
    }
   ],
   "source": [
    "import pandas as pd\n",
    "df = pd.read_csv('./cat_id_310090060_DF.csv')\n",
    "df.head()"
   ]
  },
  {
   "cell_type": "markdown",
   "id": "db887521",
   "metadata": {},
   "source": [
    "***Word2Vec, FastText, TF-IDF 활용***"
   ]
  },
  {
   "cell_type": "markdown",
   "id": "e07f1c81",
   "metadata": {},
   "source": [
    "- 최대한 숏패딩과 가까운 데이터를 가져옴으로서\n",
    "- 전처리 혹은 레이블링 작업 과정 수요를 더 수월하게 하기 위해서 "
   ]
  },
  {
   "cell_type": "code",
   "execution_count": 2,
   "id": "1b62a143",
   "metadata": {
    "scrolled": true
   },
   "outputs": [],
   "source": [
    "from gensim.models import Word2Vec\n",
    "from gensim.models.fasttext import FastText\n",
    "from konlpy.tag import Mecab\n",
    "import gensim"
   ]
  },
  {
   "cell_type": "markdown",
   "id": "8e1c9b08",
   "metadata": {},
   "source": [
    "**토크 나이징**"
   ]
  },
  {
   "cell_type": "code",
   "execution_count": 110,
   "id": "036e68b4",
   "metadata": {},
   "outputs": [],
   "source": [
    "# 형태 분석기 Okt, Mecab, Komoran, Hannanum, Kkma 트라이 해보기\n",
    "tokenizer = Mecab()\n",
    "\n",
    "tokens = []\n",
    "for idx in range(len(df)):\n",
    "    token = tokenizer.morphs(df.loc[idx]['name'])\n",
    "    if len(token) > 1:\n",
    "        tokens.append(token)"
   ]
  },
  {
   "cell_type": "markdown",
   "id": "cf801ddd",
   "metadata": {},
   "source": [
    "**Word2Vec 학습**"
   ]
  },
  {
   "cell_type": "markdown",
   "id": "d00b0ae8",
   "metadata": {},
   "source": [
    "파라미터\n",
    "- sg: 0 (CBOW), 1(skip-gram)\n",
    "- vector_size : 벡터의 차원수\n",
    "- window : 현재 단어와 예측 단어 간의 거리\n",
    "- alpha : 초기 학습률\n",
    "- seed : 임의 숫자를 생성할 때 사용하는 값\n",
    "- min_count : 빈도수가 이 값보다 낮으면 그 단어를 제거 (빈도가 적은 단어들은 학습하지 않는다)\n",
    "- workers : 학습을 위한 프로세스 수"
   ]
  },
  {
   "cell_type": "code",
   "execution_count": 114,
   "id": "2bd64d89",
   "metadata": {},
   "outputs": [],
   "source": [
    "# -- 시각화 해보기 -- \n",
    "for _ in range(10):\n",
    "    model1 = Word2Vec(vector_size=100, min_count=5, window=3, workers=4, sg=0)\n",
    "    model1.build_vocab(tokens)\n",
    "    total_examples = model1.corpus_count\n",
    "    model1.train(tokens, total_examples=model1.corpus_count, epochs=10)\n"
   ]
  },
  {
   "cell_type": "code",
   "execution_count": 115,
   "id": "be238d99",
   "metadata": {
    "scrolled": false
   },
   "outputs": [
    {
     "name": "stdout",
     "output_type": "stream",
     "text": [
      "조끼|롱|경량|파스텔|하프|베스트|퀄팅|오리털|누빔|잠바|레이어드|골덴|점퍼|외출|가벼운|블랙|버튼|패턴|체크|수입\n"
     ]
    },
    {
     "data": {
      "text/plain": [
       "[('조끼', 0.5848009586334229),\n",
       " ('베스트', 0.5660638809204102),\n",
       " ('레이어드', 0.5641827583312988),\n",
       " ('롱', 0.5631459951400757),\n",
       " ('유광', 0.5513664484024048),\n",
       " ('골덴', 0.5485175848007202),\n",
       " ('오리털', 0.5481623411178589),\n",
       " ('블랙', 0.5426461696624756),\n",
       " ('잠바', 0.5415655374526978),\n",
       " ('파스텔', 0.5370120406150818),\n",
       " ('퀄팅', 0.536259651184082),\n",
       " ('경량', 0.5260118842124939),\n",
       " ('누빔', 0.521841824054718),\n",
       " ('버튼', 0.5186002254486084),\n",
       " ('하프', 0.5122033357620239),\n",
       " ('다이아', 0.5092918276786804),\n",
       " ('단추', 0.5042515993118286),\n",
       " ('패턴', 0.5031434893608093),\n",
       " ('무광', 0.49789339303970337),\n",
       " ('깔깔이', 0.4890349209308624)]"
      ]
     },
     "execution_count": 115,
     "metadata": {},
     "output_type": "execute_result"
    }
   ],
   "source": [
    "result2 = model1.wv.most_similar(positive=['숏', '패딩'], topn=20)\n",
    "keywords_list = [result[0] for result in results]\n",
    "keywords = str('|'.join(keywords_list))\n",
    "print(keywords)\n",
    "result2"
   ]
  },
  {
   "cell_type": "code",
   "execution_count": 116,
   "id": "6c75f073",
   "metadata": {},
   "outputs": [],
   "source": [
    "del model1"
   ]
  },
  {
   "cell_type": "code",
   "execution_count": 54,
   "id": "b958cade",
   "metadata": {
    "scrolled": false
   },
   "outputs": [
    {
     "data": {
      "text/plain": [
       "['조끼',\n",
       " '롱',\n",
       " '경량',\n",
       " '파스텔',\n",
       " '하프',\n",
       " '베스트',\n",
       " '퀄팅',\n",
       " '오리털',\n",
       " '누빔',\n",
       " '잠바',\n",
       " '레이어드',\n",
       " '골덴',\n",
       " '점퍼',\n",
       " '외출',\n",
       " '가벼운',\n",
       " '블랙',\n",
       " '버튼',\n",
       " '패턴',\n",
       " '체크',\n",
       " '수입']"
      ]
     },
     "execution_count": 54,
     "metadata": {},
     "output_type": "execute_result"
    }
   ],
   "source": [
    "keywords_list = [result[0] for result in results]\n",
    "keywords_list"
   ]
  },
  {
   "cell_type": "code",
   "execution_count": 55,
   "id": "5e1b5215",
   "metadata": {},
   "outputs": [],
   "source": [
    "del model1"
   ]
  },
  {
   "cell_type": "code",
   "execution_count": 25,
   "id": "8e5d17f2",
   "metadata": {},
   "outputs": [
    {
     "data": {
      "text/plain": [
       "[('조끼', 0.5736064314842224),\n",
       " ('롱', 0.5696455836296082),\n",
       " ('경량', 0.5649287104606628),\n",
       " ('파스텔', 0.5524983406066895),\n",
       " ('하프', 0.549936830997467),\n",
       " ('베스트', 0.5412653684616089),\n",
       " ('퀄팅', 0.5393540859222412),\n",
       " ('오리털', 0.5339846611022949),\n",
       " ('누빔', 0.5328373908996582),\n",
       " ('잠바', 0.520296037197113),\n",
       " ('레이어드', 0.5162851214408875),\n",
       " ('골덴', 0.5029262900352478),\n",
       " ('점퍼', 0.4960261881351471),\n",
       " ('외출', 0.4936607778072357),\n",
       " ('가벼운', 0.4929080903530121),\n",
       " ('블랙', 0.48317453265190125),\n",
       " ('버튼', 0.4827309548854828),\n",
       " ('패턴', 0.4794526696205139),\n",
       " ('체크', 0.47893983125686646),\n",
       " ('수입', 0.4770853519439697)]"
      ]
     },
     "execution_count": 25,
     "metadata": {},
     "output_type": "execute_result"
    }
   ],
   "source": [
    "result1 # epoch 30 overfitting 될 수가 있지만, \n",
    "    # 조끼를 잘 구분하기 위해 overfitting을 허용하는 것 괜춘? "
   ]
  },
  {
   "cell_type": "code",
   "execution_count": 47,
   "id": "45da992c",
   "metadata": {},
   "outputs": [
    {
     "data": {
      "text/plain": [
       "[('롱', 0.5712679028511047),\n",
       " ('누빔', 0.5624921321868896),\n",
       " ('레이어드', 0.5523838400840759),\n",
       " ('베스트', 0.5523456335067749),\n",
       " ('하프', 0.5378153920173645),\n",
       " ('조끼', 0.5298128724098206),\n",
       " ('퀄팅', 0.529041588306427),\n",
       " ('단추', 0.5283384323120117),\n",
       " ('오리털', 0.5269365310668945),\n",
       " ('블랙', 0.5167999267578125),\n",
       " ('파스텔', 0.5064042806625366),\n",
       " ('핑크', 0.49517497420310974),\n",
       " ('잠바', 0.4932735860347748),\n",
       " ('수입', 0.485766738653183),\n",
       " ('버튼', 0.4788445830345154),\n",
       " ('방풍', 0.47555240988731384),\n",
       " ('유광', 0.47412732243537903),\n",
       " ('대', 0.4673707187175751),\n",
       " ('골덴', 0.4603516757488251),\n",
       " ('외출', 0.4585876166820526)]"
      ]
     },
     "execution_count": 47,
     "metadata": {},
     "output_type": "execute_result"
    }
   ],
   "source": [
    "result2 # epoch 40"
   ]
  },
  {
   "cell_type": "code",
   "execution_count": null,
   "id": "391a69b6",
   "metadata": {},
   "outputs": [],
   "source": []
  },
  {
   "cell_type": "code",
   "execution_count": null,
   "id": "e521199c",
   "metadata": {},
   "outputs": [],
   "source": []
  },
  {
   "cell_type": "code",
   "execution_count": 50,
   "id": "2cdcdf59",
   "metadata": {},
   "outputs": [
    {
     "data": {
      "text/plain": [
       "4                                [당일출고]오리털 여성 경량패딩 슬림 이너패딩\n",
       "5                    숏패딩 여성 경량 패딩 오리털 퀼팅점퍼 덕다운 다이아 유니클로 대체\n",
       "13                                   퍼카라 숏 패딩 점퍼 NJP2WM936\n",
       "14                               시슬리 구스다운 경량 숏패딩 SAPDC2161\n",
       "18                       블루페페 세이브존06 구스 경량 숏 패딩 P214PSJ841\n",
       "                               ...                        \n",
       "11989    나이키 NSW 써마핏 시티 시리즈 재킷 덕다운 숏패딩 골프 경량 DH4080-601  M\n",
       "11990    나이키 NSW 써마핏 시티 시리즈 재킷 덕다운 숏패딩 골프 경량 DH4080-010  L\n",
       "11992     숏타입 경량 ERKE 패딩 야외운동 스타일 여성겨울자켓  C02- 카키  T07-4XL\n",
       "11998                        아디다스 우먼스 블랙 후드 숏 패딩 H18637  M\n",
       "11999       나이키 여성 숏패딩 Air Synthetic 화이트 블랙 DH1367-113  XL\n",
       "Name: name, Length: 6172, dtype: object"
      ]
     },
     "execution_count": 50,
     "metadata": {},
     "output_type": "execute_result"
    }
   ],
   "source": [
    "short_jumper_df = df[~df['name'].str.contains('롱|항공|블루종')].copy()\n",
    "short_jumper_df['name'][short_jumper_df['name'].str.contains(keywords)]"
   ]
  },
  {
   "cell_type": "markdown",
   "id": "8731449a",
   "metadata": {},
   "source": [
    "**FastText 학습**"
   ]
  },
  {
   "cell_type": "code",
   "execution_count": 38,
   "id": "fe14e21d",
   "metadata": {
    "scrolled": true
   },
   "outputs": [
    {
     "data": {
      "text/plain": [
       "[('조끼', 0.8627577424049377),\n",
       " ('퀄팅패딩', 0.8589631915092468),\n",
       " ('여학생', 0.8458606600761414),\n",
       " ('베스트', 0.8429692387580872),\n",
       " ('크롭', 0.8398658037185669),\n",
       " ('초겨울', 0.8391295671463013),\n",
       " ('데이트', 0.8346149921417236),\n",
       " ('레이어드', 0.833490788936615),\n",
       " ('중학생', 0.8323231339454651),\n",
       " ('코듀로이', 0.8305460810661316),\n",
       " ('가벼운', 0.8280273079872131),\n",
       " ('항공', 0.8278349041938782),\n",
       " ('학생', 0.8192951679229736),\n",
       " ('수입', 0.8156119585037231),\n",
       " ('오리', 0.8131866455078125),\n",
       " ('잠바', 0.8129920959472656),\n",
       " ('파스텔', 0.8127158880233765),\n",
       " ('버튼', 0.8112661242485046),\n",
       " ('모자', 0.8109018802642822),\n",
       " ('유광', 0.8082330226898193),\n",
       " ('외출', 0.8080096244812012),\n",
       " ('초경량', 0.8066942095756531),\n",
       " ('퀼팅', 0.8029723763465881),\n",
       " ('경량', 0.797733724117279),\n",
       " ('누빔', 0.7908695340156555),\n",
       " ('단추', 0.790288507938385),\n",
       " ('빈티지', 0.790156900882721),\n",
       " ('스트링', 0.7883923053741455),\n",
       " ('골덴', 0.7854071259498596),\n",
       " ('보온', 0.7838864326477051)]"
      ]
     },
     "execution_count": 38,
     "metadata": {},
     "output_type": "execute_result"
    }
   ],
   "source": [
    "model2 = FastText(tokens, vector_size=100, window=5, min_count=5, workers=4, sg=0)\n",
    "model2.wv.most_similar(['숏', '패딩'], topn=30)"
   ]
  },
  {
   "cell_type": "code",
   "execution_count": null,
   "id": "205b93e1",
   "metadata": {},
   "outputs": [],
   "source": [
    "# -- 시각화 해보기 -- \n",
    "for _ in range(30):\n",
    "    model2 = FastText(tokens, vector_size=100, window=10, min_count=5, workers=4, sg=0)\n",
    "    model2.build_vocab(tokens)\n",
    "    total_examples = model2.corpus_count\n",
    "    model1.train(tokens, total_examples=model2.corpus_count, epochs=10)\n"
   ]
  },
  {
   "cell_type": "code",
   "execution_count": null,
   "id": "4e862749",
   "metadata": {},
   "outputs": [],
   "source": [
    "result = model2.wv.most_similar(positive=['숏', '패딩'], topn=20)\n",
    "keywords_list = [result[0] for result in results]\n",
    "keywords = str('|'.join(keywords_list))\n",
    "print(keywords)\n",
    "result"
   ]
  },
  {
   "cell_type": "code",
   "execution_count": null,
   "id": "f19c927f",
   "metadata": {},
   "outputs": [],
   "source": [
    "del model2"
   ]
  },
  {
   "cell_type": "code",
   "execution_count": 112,
   "id": "507c73da",
   "metadata": {},
   "outputs": [
    {
     "data": {
      "text/plain": [
       "['숏', '패딩']"
      ]
     },
     "execution_count": 112,
     "metadata": {},
     "output_type": "execute_result"
    }
   ],
   "source": [
    "# -- 이걸로 해서 만들면 되지 않을까? --\n",
    "mecab = Mecab()\n",
    "mecab.morphs('숏패딩')\n",
    "# 310090050 롱패딩\n",
    "# 310090020 블루종/항공점퍼 "
   ]
  },
  {
   "cell_type": "code",
   "execution_count": 8,
   "id": "8817a405",
   "metadata": {},
   "outputs": [
    {
     "data": {
      "text/html": [
       "<div>\n",
       "<style scoped>\n",
       "    .dataframe tbody tr th:only-of-type {\n",
       "        vertical-align: middle;\n",
       "    }\n",
       "\n",
       "    .dataframe tbody tr th {\n",
       "        vertical-align: top;\n",
       "    }\n",
       "\n",
       "    .dataframe thead th {\n",
       "        text-align: right;\n",
       "    }\n",
       "</style>\n",
       "<table border=\"1\" class=\"dataframe\">\n",
       "  <thead>\n",
       "    <tr style=\"text-align: right;\">\n",
       "      <th></th>\n",
       "      <th>cat1</th>\n",
       "      <th>cat2</th>\n",
       "      <th>cat3</th>\n",
       "      <th>cat</th>\n",
       "      <th>최종 URL</th>\n",
       "      <th>iq</th>\n",
       "      <th>spec</th>\n",
       "      <th>cat_id</th>\n",
       "    </tr>\n",
       "  </thead>\n",
       "  <tbody>\n",
       "    <tr>\n",
       "      <th>0</th>\n",
       "      <td>여성의류</td>\n",
       "      <td>패딩/점퍼</td>\n",
       "      <td>롱패딩</td>\n",
       "      <td>여성패션 &gt; 여성의류 &gt; 아우터 &gt; 롱패딩</td>\n",
       "      <td>https://search.shopping.naver.com/search/categ...</td>\n",
       "      <td>롱패딩</td>\n",
       "      <td>NaN</td>\n",
       "      <td>310090050.0</td>\n",
       "    </tr>\n",
       "    <tr>\n",
       "      <th>1</th>\n",
       "      <td>여성의류</td>\n",
       "      <td>패딩/점퍼</td>\n",
       "      <td>숏패딩</td>\n",
       "      <td>여성패션 &gt; 여성의류 &gt; 아우터 &gt; 숏패딩</td>\n",
       "      <td>https://search.shopping.naver.com/search/categ...</td>\n",
       "      <td>숏패딩</td>\n",
       "      <td>NaN</td>\n",
       "      <td>310090060.0</td>\n",
       "    </tr>\n",
       "    <tr>\n",
       "      <th>2</th>\n",
       "      <td>여성의류</td>\n",
       "      <td>패딩/점퍼</td>\n",
       "      <td>블루종/항공점퍼</td>\n",
       "      <td>NaN</td>\n",
       "      <td>https://search.shopping.naver.com/search/all?q...</td>\n",
       "      <td>NaN</td>\n",
       "      <td>NaN</td>\n",
       "      <td>310090020.0</td>\n",
       "    </tr>\n",
       "    <tr>\n",
       "      <th>3</th>\n",
       "      <td>여성의류</td>\n",
       "      <td>패딩/점퍼</td>\n",
       "      <td>기타(패딩/점퍼)</td>\n",
       "      <td>NaN</td>\n",
       "      <td>NaN</td>\n",
       "      <td>NaN</td>\n",
       "      <td>NaN</td>\n",
       "      <td>310090999.0</td>\n",
       "    </tr>\n",
       "    <tr>\n",
       "      <th>4</th>\n",
       "      <td>여성의류</td>\n",
       "      <td>코트</td>\n",
       "      <td>겨울 코트</td>\n",
       "      <td>NaN</td>\n",
       "      <td>https://search.shopping.naver.com/search/all?q...</td>\n",
       "      <td>NaN</td>\n",
       "      <td>NaN</td>\n",
       "      <td>310110030.0</td>\n",
       "    </tr>\n",
       "    <tr>\n",
       "      <th>...</th>\n",
       "      <td>...</td>\n",
       "      <td>...</td>\n",
       "      <td>...</td>\n",
       "      <td>...</td>\n",
       "      <td>...</td>\n",
       "      <td>...</td>\n",
       "      <td>...</td>\n",
       "      <td>...</td>\n",
       "    </tr>\n",
       "    <tr>\n",
       "      <th>187</th>\n",
       "      <td>패션 액세서리</td>\n",
       "      <td>양말/스타킹</td>\n",
       "      <td>양말</td>\n",
       "      <td>여성패션 &gt; 패션잡화/소품 &gt; 양말</td>\n",
       "      <td>https://search.shopping.naver.com/search/categ...</td>\n",
       "      <td>NaN</td>\n",
       "      <td>NaN</td>\n",
       "      <td>400140100.0</td>\n",
       "    </tr>\n",
       "    <tr>\n",
       "      <th>188</th>\n",
       "      <td>패션 액세서리</td>\n",
       "      <td>양말/스타킹</td>\n",
       "      <td>스타킹</td>\n",
       "      <td>여성패션 &gt; 패션잡화/소품 &gt; 스타킹</td>\n",
       "      <td>https://search.shopping.naver.com/search/categ...</td>\n",
       "      <td>NaN</td>\n",
       "      <td>NaN</td>\n",
       "      <td>400140200.0</td>\n",
       "    </tr>\n",
       "    <tr>\n",
       "      <th>189</th>\n",
       "      <td>패션 액세서리</td>\n",
       "      <td>우산/양산</td>\n",
       "      <td>NaN</td>\n",
       "      <td>남성패션 &gt; 패션잡화/소품 &gt; 우산</td>\n",
       "      <td>https://search.shopping.naver.com/search/categ...</td>\n",
       "      <td>NaN</td>\n",
       "      <td>NaN</td>\n",
       "      <td>400090.0</td>\n",
       "    </tr>\n",
       "    <tr>\n",
       "      <th>190</th>\n",
       "      <td>패션 액세서리</td>\n",
       "      <td>우산/양산</td>\n",
       "      <td>NaN</td>\n",
       "      <td>남성패션 &gt; 패션잡화/소품 &gt; 양산</td>\n",
       "      <td>https://search.shopping.naver.com/search/categ...</td>\n",
       "      <td>NaN</td>\n",
       "      <td>NaN</td>\n",
       "      <td>400090.0</td>\n",
       "    </tr>\n",
       "    <tr>\n",
       "      <th>191</th>\n",
       "      <td>패션 액세서리</td>\n",
       "      <td>NaN</td>\n",
       "      <td>기타 액세서리</td>\n",
       "      <td>\b</td>\n",
       "      <td>NaN</td>\n",
       "      <td>NaN</td>\n",
       "      <td>NaN</td>\n",
       "      <td>NaN</td>\n",
       "    </tr>\n",
       "  </tbody>\n",
       "</table>\n",
       "<p>192 rows × 8 columns</p>\n",
       "</div>"
      ],
      "text/plain": [
       "        cat1    cat2       cat3                      cat  \\\n",
       "0       여성의류   패딩/점퍼        롱패딩  여성패션 > 여성의류 > 아우터 > 롱패딩   \n",
       "1       여성의류   패딩/점퍼        숏패딩  여성패션 > 여성의류 > 아우터 > 숏패딩   \n",
       "2       여성의류   패딩/점퍼   블루종/항공점퍼                      NaN   \n",
       "3       여성의류   패딩/점퍼  기타(패딩/점퍼)                      NaN   \n",
       "4       여성의류      코트      겨울 코트                      NaN   \n",
       "..       ...     ...        ...                      ...   \n",
       "187  패션 액세서리  양말/스타킹         양말      여성패션 > 패션잡화/소품 > 양말   \n",
       "188  패션 액세서리  양말/스타킹        스타킹     여성패션 > 패션잡화/소품 > 스타킹   \n",
       "189  패션 액세서리   우산/양산        NaN      남성패션 > 패션잡화/소품 > 우산   \n",
       "190  패션 액세서리   우산/양산        NaN      남성패션 > 패션잡화/소품 > 양산   \n",
       "191  패션 액세서리     NaN    기타 액세서리                        \b   \n",
       "\n",
       "                                                최종 URL   iq spec       cat_id  \n",
       "0    https://search.shopping.naver.com/search/categ...  롱패딩  NaN  310090050.0  \n",
       "1    https://search.shopping.naver.com/search/categ...  숏패딩  NaN  310090060.0  \n",
       "2    https://search.shopping.naver.com/search/all?q...  NaN  NaN  310090020.0  \n",
       "3                                                  NaN  NaN  NaN  310090999.0  \n",
       "4    https://search.shopping.naver.com/search/all?q...  NaN  NaN  310110030.0  \n",
       "..                                                 ...  ...  ...          ...  \n",
       "187  https://search.shopping.naver.com/search/categ...  NaN  NaN  400140100.0  \n",
       "188  https://search.shopping.naver.com/search/categ...  NaN  NaN  400140200.0  \n",
       "189  https://search.shopping.naver.com/search/categ...  NaN  NaN     400090.0  \n",
       "190  https://search.shopping.naver.com/search/categ...  NaN  NaN     400090.0  \n",
       "191                                                NaN  NaN  NaN          NaN  \n",
       "\n",
       "[192 rows x 8 columns]"
      ]
     },
     "execution_count": 8,
     "metadata": {},
     "output_type": "execute_result"
    }
   ],
   "source": []
  },
  {
   "cell_type": "code",
   "execution_count": 37,
   "id": "32da961b",
   "metadata": {},
   "outputs": [
    {
     "data": {
      "text/plain": [
       "['항공', '점퍼', '블루종']"
      ]
     },
     "execution_count": 37,
     "metadata": {},
     "output_type": "execute_result"
    }
   ],
   "source": [
    "mecab = Mecab()\n",
    "mecab.morphs('항공점퍼 블루종')"
   ]
  },
  {
   "cell_type": "markdown",
   "id": "7b802da8",
   "metadata": {},
   "source": [
    "***여성 롱패딩***"
   ]
  },
  {
   "cell_type": "code",
   "execution_count": 2,
   "id": "4b401b24",
   "metadata": {},
   "outputs": [
    {
     "name": "stdout",
     "output_type": "stream",
     "text": [
      "Intel MKL WARNING: Support of Intel(R) Streaming SIMD Extensions 4.2 (Intel(R) SSE4.2) enabled only processors has been deprecated. Intel oneAPI Math Kernel Library 2025.0 will require Intel(R) Advanced Vector Extensions (Intel(R) AVX) instructions.\n",
      "Intel MKL WARNING: Support of Intel(R) Streaming SIMD Extensions 4.2 (Intel(R) SSE4.2) enabled only processors has been deprecated. Intel oneAPI Math Kernel Library 2025.0 will require Intel(R) Advanced Vector Extensions (Intel(R) AVX) instructions.\n"
     ]
    }
   ],
   "source": [
    "import pandas as pd"
   ]
  },
  {
   "cell_type": "code",
   "execution_count": 3,
   "id": "882382ef",
   "metadata": {},
   "outputs": [],
   "source": [
    "df2 = pd.read_csv('./cat_id_310090050_DF (1).csv')"
   ]
  },
  {
   "cell_type": "code",
   "execution_count": 7,
   "id": "5754d4c4",
   "metadata": {},
   "outputs": [],
   "source": [
    "# 형태 분석기 Okt, Mecab, Komoran, Hannanum, Kkma 트라이 해보기\n",
    "from konlpy.tag import Mecab\n",
    "from gensim.models import Word2Vec\n",
    "from gensim.models.fasttext import FastText\n",
    "tokenizer = Mecab()\n",
    "\n",
    "tokens2 = []\n",
    "for idx in range(len(df2)):\n",
    "    token = tokenizer.morphs(df2.loc[idx]['name'])\n",
    "    if len(token) > 1:\n",
    "        tokens2.append(token)"
   ]
  },
  {
   "cell_type": "code",
   "execution_count": 8,
   "id": "e1d5b69b",
   "metadata": {},
   "outputs": [],
   "source": [
    "# -- 시각화 해보기 -- \n",
    "for _ in range(30):\n",
    "    model1 = Word2Vec(vector_size=100, min_count=5, window=3, workers=4, sg=0)\n",
    "    model1.build_vocab(tokens2)\n",
    "    total_examples = model1.corpus_count\n",
    "    model1.train(tokens2, total_examples=model1.corpus_count, epochs=10)\n"
   ]
  },
  {
   "cell_type": "code",
   "execution_count": 9,
   "id": "5c8de440",
   "metadata": {},
   "outputs": [
    {
     "name": "stdout",
     "output_type": "stream",
     "text": [
      "구리|유광|윈터|엠씨|점퍼|무스탕|겨울옷|니트|숏|깔깔이|세미|어머니|조끼|댕댕|스커트|오리털|패턴|가벼운|중학생|골덴|링|덕|마담|양털|누빔|헤비|경량|하프|거위|패치\n"
     ]
    },
    {
     "data": {
      "text/plain": [
       "[('구리', 0.6257248520851135),\n",
       " ('유광', 0.6205788850784302),\n",
       " ('윈터', 0.6123954653739929),\n",
       " ('엠씨', 0.5969544053077698),\n",
       " ('점퍼', 0.5936632752418518),\n",
       " ('무스탕', 0.5897654891014099),\n",
       " ('겨울옷', 0.5882951021194458),\n",
       " ('니트', 0.5821691751480103),\n",
       " ('숏', 0.5761049389839172),\n",
       " ('깔깔이', 0.5756445527076721),\n",
       " ('세미', 0.5647088289260864),\n",
       " ('어머니', 0.5631414651870728),\n",
       " ('조끼', 0.5578578114509583),\n",
       " ('댕댕', 0.5488383173942566),\n",
       " ('스커트', 0.541199266910553),\n",
       " ('오리털', 0.5396720767021179),\n",
       " ('패턴', 0.5396465063095093),\n",
       " ('가벼운', 0.5387520790100098),\n",
       " ('중학생', 0.5358834862709045),\n",
       " ('골덴', 0.5334141850471497),\n",
       " ('링', 0.5309587121009827),\n",
       " ('덕', 0.5258927941322327),\n",
       " ('마담', 0.5254330039024353),\n",
       " ('양털', 0.5242266058921814),\n",
       " ('누빔', 0.5172844529151917),\n",
       " ('헤비', 0.5168799757957458),\n",
       " ('경량', 0.5168231129646301),\n",
       " ('하프', 0.5139724612236023),\n",
       " ('거위', 0.5132560729980469),\n",
       " ('패치', 0.5076366066932678)]"
      ]
     },
     "execution_count": 9,
     "metadata": {},
     "output_type": "execute_result"
    }
   ],
   "source": [
    "results = model1.wv.most_similar(positive=['롱', '패딩'], topn=30)\n",
    "keywords_list = [result[0] for result in results]\n",
    "keywords = str('|'.join(keywords_list))\n",
    "print(keywords)\n",
    "results"
   ]
  },
  {
   "cell_type": "code",
   "execution_count": 120,
   "id": "55cd2eac",
   "metadata": {},
   "outputs": [],
   "source": [
    "del model1"
   ]
  },
  {
   "cell_type": "markdown",
   "id": "98b1f497",
   "metadata": {},
   "source": [
    "***여성 항공점퍼|블루종***"
   ]
  },
  {
   "cell_type": "code",
   "execution_count": 92,
   "id": "83fe3efb",
   "metadata": {},
   "outputs": [
    {
     "data": {
      "text/html": [
       "<div>\n",
       "<style scoped>\n",
       "    .dataframe tbody tr th:only-of-type {\n",
       "        vertical-align: middle;\n",
       "    }\n",
       "\n",
       "    .dataframe tbody tr th {\n",
       "        vertical-align: top;\n",
       "    }\n",
       "\n",
       "    .dataframe thead th {\n",
       "        text-align: right;\n",
       "    }\n",
       "</style>\n",
       "<table border=\"1\" class=\"dataframe\">\n",
       "  <thead>\n",
       "    <tr style=\"text-align: right;\">\n",
       "      <th></th>\n",
       "      <th>id</th>\n",
       "      <th>name</th>\n",
       "      <th>cat_id</th>\n",
       "      <th>image_url</th>\n",
       "      <th>low_price</th>\n",
       "    </tr>\n",
       "  </thead>\n",
       "  <tbody>\n",
       "    <tr>\n",
       "      <th>0</th>\n",
       "      <td>85578475940</td>\n",
       "      <td>여성 봄 점퍼 여성 항공 점퍼 [ 마지막 3장 ]</td>\n",
       "      <td>310090020</td>\n",
       "      <td>https://shopping-phinf.pstatic.net/main_855784...</td>\n",
       "      <td>6990000</td>\n",
       "    </tr>\n",
       "    <tr>\n",
       "      <th>1</th>\n",
       "      <td>38831100550</td>\n",
       "      <td>벨로체 여성 항공 점퍼</td>\n",
       "      <td>310090020</td>\n",
       "      <td>https://shopping-phinf.pstatic.net/main_388311...</td>\n",
       "      <td>7030</td>\n",
       "    </tr>\n",
       "    <tr>\n",
       "      <th>2</th>\n",
       "      <td>38646882428</td>\n",
       "      <td>여성봄점퍼 여성항공점퍼 깔깔이 봄아우터</td>\n",
       "      <td>310090020</td>\n",
       "      <td>https://shopping-phinf.pstatic.net/main_386468...</td>\n",
       "      <td>17230</td>\n",
       "    </tr>\n",
       "    <tr>\n",
       "      <th>3</th>\n",
       "      <td>38642314674</td>\n",
       "      <td>여성봄점퍼 여성항공점퍼 야구점퍼</td>\n",
       "      <td>310090020</td>\n",
       "      <td>https://shopping-phinf.pstatic.net/main_386423...</td>\n",
       "      <td>28320</td>\n",
       "    </tr>\n",
       "    <tr>\n",
       "      <th>4</th>\n",
       "      <td>37712603710</td>\n",
       "      <td>소매 밑단 시보리 데일리 집업 스타일 여성 항공 점퍼</td>\n",
       "      <td>310090020</td>\n",
       "      <td>https://shopping-phinf.pstatic.net/main_377126...</td>\n",
       "      <td>37027</td>\n",
       "    </tr>\n",
       "  </tbody>\n",
       "</table>\n",
       "</div>"
      ],
      "text/plain": [
       "            id                           name     cat_id  \\\n",
       "0  85578475940    여성 봄 점퍼 여성 항공 점퍼 [ 마지막 3장 ]  310090020   \n",
       "1  38831100550                   벨로체 여성 항공 점퍼  310090020   \n",
       "2  38646882428          여성봄점퍼 여성항공점퍼 깔깔이 봄아우터  310090020   \n",
       "3  38642314674              여성봄점퍼 여성항공점퍼 야구점퍼  310090020   \n",
       "4  37712603710  소매 밑단 시보리 데일리 집업 스타일 여성 항공 점퍼  310090020   \n",
       "\n",
       "                                           image_url  low_price  \n",
       "0  https://shopping-phinf.pstatic.net/main_855784...    6990000  \n",
       "1  https://shopping-phinf.pstatic.net/main_388311...       7030  \n",
       "2  https://shopping-phinf.pstatic.net/main_386468...      17230  \n",
       "3  https://shopping-phinf.pstatic.net/main_386423...      28320  \n",
       "4  https://shopping-phinf.pstatic.net/main_377126...      37027  "
      ]
     },
     "execution_count": 92,
     "metadata": {},
     "output_type": "execute_result"
    }
   ],
   "source": [
    "df3 = pd.read_csv('./cat_id_310090020_DF (1).csv')\n",
    "df3.head()"
   ]
  },
  {
   "cell_type": "code",
   "execution_count": 94,
   "id": "b978beaa",
   "metadata": {},
   "outputs": [],
   "source": [
    "tokens3 = []\n",
    "for idx in range(len(df3)):\n",
    "    token = tokenizer.morphs(df3.loc[idx]['name'])\n",
    "    if len(token) > 1:\n",
    "        tokens3.append(token)"
   ]
  },
  {
   "cell_type": "code",
   "execution_count": 99,
   "id": "8e9ad1cf",
   "metadata": {},
   "outputs": [],
   "source": [
    "# -- 시각화 해보기 -- \n",
    "for _ in range(10):\n",
    "    model1 = Word2Vec(vector_size=100, min_count=5, window=5, workers=4, sg=0)\n",
    "    model1.build_vocab(tokens3)\n",
    "    total_examples = model1.corpus_count\n",
    "    model1.train(tokens3, total_examples=model1.corpus_count, epochs=10)\n"
   ]
  },
  {
   "cell_type": "code",
   "execution_count": 101,
   "id": "68de5994",
   "metadata": {},
   "outputs": [
    {
     "name": "stdout",
     "output_type": "stream",
     "text": [
      "조끼|롱|경량|파스텔|하프|베스트|퀄팅|오리털|누빔|잠바|레이어드|골덴|점퍼|외출|가벼운|블랙|버튼|패턴|체크|수입\n"
     ]
    },
    {
     "data": {
      "text/plain": [
       "[('편한', 0.4637371897697449),\n",
       " ('56', 0.4413047134876251),\n",
       " ('체크', 0.44049927592277527),\n",
       " ('여유', 0.4287729859352112),\n",
       " ('코디', 0.42295241355895996),\n",
       " ('이하늬', 0.41754138469696045),\n",
       " ('블레오', 0.40842893719673157),\n",
       " ('LO', 0.406685471534729),\n",
       " ('SAMARA', 0.3952539265155792),\n",
       " ('우터', 0.3916568458080292),\n",
       " ('-', 0.3897857367992401),\n",
       " ('숏', 0.3877440392971039),\n",
       " ('베이직', 0.37654799222946167),\n",
       " ('2071', 0.3763927221298218),\n",
       " ('gf', 0.3756721019744873),\n",
       " ('데일리', 0.37377238273620605),\n",
       " ('화사', 0.37098437547683716),\n",
       " ('블링', 0.3647097647190094),\n",
       " ('UnKnown', 0.35742703080177307),\n",
       " ('신민아', 0.3523417115211487)]"
      ]
     },
     "execution_count": 101,
     "metadata": {},
     "output_type": "execute_result"
    }
   ],
   "source": [
    "result = model1.wv.most_similar(positive=['항공', '점퍼', '블루종'], topn=20)\n",
    "keywords_list = [result[0] for result in results]\n",
    "keywords = str('|'.join(keywords_list))\n",
    "print(keywords)\n",
    "result"
   ]
  },
  {
   "cell_type": "code",
   "execution_count": 98,
   "id": "29414415",
   "metadata": {},
   "outputs": [],
   "source": [
    "# 영어 빼버리고 stopwords 만들어야 되나? \n",
    "del model1"
   ]
  },
  {
   "cell_type": "code",
   "execution_count": null,
   "id": "5e777628",
   "metadata": {},
   "outputs": [],
   "source": []
  },
  {
   "cell_type": "markdown",
   "id": "5239da2d",
   "metadata": {},
   "source": [
    "***번개장터 데이터***"
   ]
  },
  {
   "cell_type": "code",
   "execution_count": null,
   "id": "539aca58",
   "metadata": {},
   "outputs": [],
   "source": [
    "# 이제 이해가 됨\n",
    "# 먼저 번ㄱ"
   ]
  }
 ],
 "metadata": {
  "kernelspec": {
   "display_name": "Python 3 (ipykernel)",
   "language": "python",
   "name": "python3"
  },
  "language_info": {
   "codemirror_mode": {
    "name": "ipython",
    "version": 3
   },
   "file_extension": ".py",
   "mimetype": "text/x-python",
   "name": "python",
   "nbconvert_exporter": "python",
   "pygments_lexer": "ipython3",
   "version": "3.11.3"
  }
 },
 "nbformat": 4,
 "nbformat_minor": 5
}
