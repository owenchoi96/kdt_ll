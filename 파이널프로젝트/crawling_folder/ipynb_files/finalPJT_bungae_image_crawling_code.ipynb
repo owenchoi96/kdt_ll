{
 "cells": [
  {
   "cell_type": "markdown",
   "id": "307fba08",
   "metadata": {},
   "source": [
    "# 필요 함수들"
   ]
  },
  {
   "cell_type": "code",
   "execution_count": 3,
   "id": "8cb26679",
   "metadata": {},
   "outputs": [],
   "source": [
    "# -- 전처리 함수 -- \n",
    "import re\n",
    "import pandas as pd\n",
    "import string\n",
    "from emoji import core\n",
    "import json\n",
    "from collections import defaultdict\n",
    "from konlpy.tag import Mecab\n",
    "\n",
    "def remove_emojis(text):\n",
    "    return core.replace_emoji(text, replace='')\n",
    "\n",
    "def remove_punct(text: str) -> str:\n",
    "    remove_punct_dict = dict((ord(punct), ' ') for punct in string.punctuation)\n",
    "    text = text.lower().translate(remove_punct_dict)\n",
    "    return text\n",
    "\n",
    "def remove_english_and_numbers(text: str) -> str:\n",
    "    text = re.sub('[a-zㄱ-ㅎ0-9]', '', text).strip() \n",
    "    text = re.sub('\\s{2,}', ' ', text)\n",
    "    return text\n",
    "\n",
    "def remove_numbers(text: str) -> str:\n",
    "    text = re.sub('[ㄱ-ㅎ0-9]', '', text).strip() \n",
    "    text = re.sub('\\s{2,}', ' ', text)\n",
    "    return text\n",
    "\n",
    "def preprocess_product_name(product_name: str) -> str:\n",
    "    product_name = remove_punct(product_name)\n",
    "    # -- 영어 날리는 버전 --\n",
    "#     product_name = remove_english_and_numbers(product_name)\n",
    "    # -- 영어 살리는 버전 --\n",
    "    product_name = remove_numbers(product_name)\n",
    "    \n",
    "    return product_name\n",
    "\n",
    "# -- 전체 데이터 프레임 가져오는 함수 --\n",
    "def concat_bungae_files():\n",
    "    base_df = pd.DataFrame()\n",
    "    for idx in range(9):\n",
    "        df = pd.read_csv(f'./bungae_df_{idx}_fashion.csv')\n",
    "        df = df.dropna(axis=0)\n",
    "        df['cat_id'] = df['cat_id'].astype(int).astype(str)\n",
    "        # -- 필요한 컬럼만 가져오기 -- \n",
    "        df = df[['product_id', 'product_name', 'cat_id']].copy()\n",
    "        # -- concat 할 때마다 base_df 업데이트 -- \n",
    "        base_df = pd.concat([base_df, df], ignore_index=True)\n",
    "\n",
    "    # -- base_df 드라이브에 저장해놓기 --\n",
    "    # base_df.to_csv('/content/drive/MyDrive/bungae_base_df_fashion.csv', index=False)\n",
    "\n",
    "    return base_df\n",
    "\n",
    "def pull_and_preprocess_base_df():\n",
    "    base_df = concat_bungae_files()\n",
    "    base_df['product_name'] = base_df['product_name'].apply(lambda x : preprocess_product_name(x))\n",
    "    base_df['product_name'] = base_df['product_name'].apply(lambda x : remove_emojis(x))\n",
    "    return base_df\n",
    "\n",
    "def bring_fashion_cat_csv():\n",
    "    \"\"\"\n",
    "    번개장터 카테고리 id와 카테고리 이름이 들어있는\n",
    "    파일 가져오는 함수\n",
    "    \"\"\"\n",
    "    final_cat = pd.read_csv('./final_category.csv')\n",
    "    final_cat = final_cat.drop('Unnamed: 0', axis=1).copy()\n",
    "    final_cat['cat_id'] = final_cat['cat_id'].astype(str)\n",
    "    \n",
    "    return final_cat\n",
    "\n",
    "def get_cat_name(cat_id:str) -> str:\n",
    "    \"\"\"\n",
    "    카테고리 id를 입력하면 카테고리 이름을 반환하는 함수 => 중분류에 대해서\n",
    "    \"\"\"\n",
    "    final_cat = bring_fashion_cat_csv()\n",
    "    if len(cat_id) == 6: # 중분류\n",
    "        return remove_punct(list(final_cat[final_cat['cat_id'] == cat_id]['cat2'])[0])\n",
    "    elif len(cat_id) == 9: # 대분류\n",
    "        return remove_punct(list(final_cat[final_cat['cat_id'] == cat_id]['cat3'])[0])\n",
    "\n",
    "# -- subs 가 있는 것들만 dictionary로 뽑아내기 --\n",
    "def make_category_dict_with_subs() -> dict:\n",
    "    \n",
    "    with open('./bgzt_fashion_category_nums.json', 'r') as file:\n",
    "        data = json.load(file)\n",
    "        \n",
    "    category_dict_with_subs = dict()\n",
    "    for main, mids in data.items():\n",
    "        for mid, subs in mids.items():\n",
    "            d = defaultdict()\n",
    "            if subs != [None]: # 하위 sub들이 있을 때 \n",
    "                d[mid] = subs\n",
    "            category_dict_with_subs.update(d)\n",
    "    return category_dict_with_subs\n",
    "\n",
    "\n",
    "# -- 중분류 내에서의 소분류 morphs 키워드 가져오는 함수 --\n",
    "def make_subcat_morphs_by_midcat(cat_dict:dict) -> dict:\n",
    "    \"\"\"\n",
    "    make_category_dict_with_subs 함수로 부터 받은 딕션어리로\n",
    "    midcat의 하위 subcat들의 morphs 키워드 가져오는 함수 \n",
    "    \"\"\"\n",
    "    mecab = Mecab()\n",
    "    d = defaultdict(list)\n",
    "\n",
    "    for mid, subs in cat_dict.items():\n",
    "        tmp_dict = dict()\n",
    "        for sub in subs:\n",
    "\n",
    "            mid_morph = mecab.morphs(get_cat_name(mid))\n",
    "            sub_morph = mecab.morphs(remove_punct(get_cat_name(sub)))\n",
    "            unique_sub_morph = set(sub_morph) - set(mid_morph)\n",
    "            unique_sub_morph = list(unique_sub_morph)\n",
    "            if unique_sub_morph == []:\n",
    "                d[mid] += sub_morph\n",
    "            d[mid] += unique_sub_morph\n",
    "\n",
    "    return dict(d)\n",
    "\n",
    "# -- 위의 두 함수 합치기 --\n",
    "def get_dict_from_midcat_with_subs():\n",
    "    cat_dict = make_category_dict_with_subs()\n",
    "    morphs_dict = make_subcat_morphs_by_midcat(cat_dict)\n",
    "    return morphs_dict\n",
    "\n",
    "def make_category_lists_without_subs():\n",
    "    \"\"\"\n",
    "    소분류 카테고리가 없는 중분류 리스트 => cat_ids_without_subs\n",
    "    \"\"\"\n",
    "    mecab = Mecab()\n",
    "    # -- 패션 cat_id 들어있는 json 파일 가져오기 --\n",
    "    with open('./bgzt_fashion_category_nums.json', 'r') as file:\n",
    "        data = json.load(file)\n",
    "\n",
    "    cat_list_without_subs = list()\n",
    "    morphs_list = list()\n",
    "    for main, mids in data.items():\n",
    "        for mid in mids:\n",
    "            if mids[mid] == [None]:\n",
    "                morphs_list += mecab.morphs(remove_punct(get_cat_name(mid)))\n",
    "                cat_list_without_subs.append(mid)\n",
    "    \n",
    "    morphs_list = list(set(morphs_list))\n",
    "    \n",
    "    return morphs_list, cat_list_without_subs"
   ]
  },
  {
   "cell_type": "markdown",
   "id": "e956c2ca",
   "metadata": {},
   "source": [
    "# 번개장터 데이터 "
   ]
  },
  {
   "cell_type": "code",
   "execution_count": null,
   "id": "03ddc91e",
   "metadata": {
    "scrolled": true
   },
   "outputs": [],
   "source": [
    "import pandas as pd\n",
    "bungae_df = pd.DataFrame()\n",
    "for idx in range(9):\n",
    "    df = pd.read_csv(f'./drive-download-20230602T001833Z-001/bungae_df_{idx}_fashion.csv')\n",
    "    bungae_df = pd.concat([bungae_df, df])\n",
    "print(bungae_df.shape)\n",
    "bungae_df.head()"
   ]
  },
  {
   "cell_type": "code",
   "execution_count": null,
   "id": "a91d604b",
   "metadata": {
    "scrolled": true
   },
   "outputs": [],
   "source": [
    "bungae_df = bungae_df.drop_duplicates('product_id')"
   ]
  },
  {
   "cell_type": "code",
   "execution_count": null,
   "id": "cf54e6d3",
   "metadata": {},
   "outputs": [],
   "source": [
    "bungae_df = bungae_df.reset_index(drop=True)"
   ]
  },
  {
   "cell_type": "code",
   "execution_count": null,
   "id": "c98819e1",
   "metadata": {},
   "outputs": [],
   "source": [
    "bungae_df.loc[0, 'image_url']"
   ]
  },
  {
   "cell_type": "code",
   "execution_count": null,
   "id": "caa55306",
   "metadata": {},
   "outputs": [],
   "source": [
    "import urllib.request\n",
    "prd_id = bungae_df.loc[0, 'product_id']\n",
    "cat_id = bungae_df.loc[0, 'cat_id']\n",
    "url = bungae_df.loc[0, 'image_url']\b\n",
    "urllib.request.urlretrieve(url, f'./{prd_id}_image.jpg')"
   ]
  },
  {
   "cell_type": "code",
   "execution_count": null,
   "id": "973e3470",
   "metadata": {},
   "outputs": [],
   "source": [
    "bungae_df.head()"
   ]
  },
  {
   "cell_type": "markdown",
   "id": "d752b43a",
   "metadata": {},
   "source": [
    "# 카테고리 매칭"
   ]
  },
  {
   "cell_type": "code",
   "execution_count": null,
   "id": "185ac0c0",
   "metadata": {},
   "outputs": [],
   "source": [
    "cat_df = pd.read_csv('./final_category.csv')\n",
    "cat_df = cat_df.drop('Unnamed: 0', axis=1)\n",
    "cat_df['cat_id'] = cat_df['cat_id'].astype(str)"
   ]
  },
  {
   "cell_type": "code",
   "execution_count": null,
   "id": "0e324f9f",
   "metadata": {
    "scrolled": true
   },
   "outputs": [],
   "source": [
    "cat_df"
   ]
  },
  {
   "cell_type": "code",
   "execution_count": null,
   "id": "3ae31bb7",
   "metadata": {},
   "outputs": [],
   "source": [
    "cat_with_subs_dict = get_dict_from_midcat_with_subs()\n",
    "_, cat_without_subs_list = make_category_lists_without_subs()\n",
    "cat_with_subs_list = list(cat_with_subs_dict.keys())"
   ]
  },
  {
   "cell_type": "code",
   "execution_count": null,
   "id": "bb691856",
   "metadata": {
    "scrolled": true
   },
   "outputs": [],
   "source": [
    "cat_without_subs_list"
   ]
  },
  {
   "cell_type": "code",
   "execution_count": null,
   "id": "7115208a",
   "metadata": {
    "scrolled": true
   },
   "outputs": [],
   "source": [
    "cat_without_subs_list"
   ]
  },
  {
   "cell_type": "code",
   "execution_count": null,
   "id": "db0bcd31",
   "metadata": {},
   "outputs": [],
   "source": [
    "cat_subs_list = list()\n",
    "for idx in range(len(cat_df)):\n",
    "    if len(cat_df.loc[idx, 'cat_id']) == 9:\n",
    "        cat_subs_list.append(cat_df.loc[idx, 'cat_id'])"
   ]
  },
  {
   "cell_type": "code",
   "execution_count": null,
   "id": "ace75b3d",
   "metadata": {},
   "outputs": [],
   "source": [
    "bungae_all_cat_id_list = cat_subs_list + cat_without_subs_list"
   ]
  },
  {
   "cell_type": "code",
   "execution_count": null,
   "id": "f057f6d7",
   "metadata": {},
   "outputs": [],
   "source": [
    "len(bungae_all_cat_id_list)"
   ]
  },
  {
   "cell_type": "markdown",
   "id": "3eb7baf3",
   "metadata": {},
   "source": [
    "# 폴더 만들기"
   ]
  },
  {
   "cell_type": "code",
   "execution_count": null,
   "id": "c599ae27",
   "metadata": {},
   "outputs": [],
   "source": [
    "# -- 위의 카테고리 리스트에 따라 폴더 만들기 --\n",
    "# -- makedirs가 경로안에 폴더 만들어주는 함수 --\n",
    "import os\n",
    "for cat_id in bungae_all_cat_id_list:\n",
    "    os.makedirs(f'bungae_fashion_image/{cat_id}')"
   ]
  },
  {
   "cell_type": "code",
   "execution_count": null,
   "id": "4bcb4fb8",
   "metadata": {},
   "outputs": [],
   "source": [
    "with open('BGZT_fashion_product_id_list.txt', 'r') as f: # 패션 분야로 변경\n",
    "        data = f.read()\n",
    "    prd_id_list = data.split(',')"
   ]
  },
  {
   "cell_type": "code",
   "execution_count": null,
   "id": "6b821f21",
   "metadata": {},
   "outputs": [],
   "source": [
    "# -- 함수로 표현하기 --\n",
    "with open('./bungae_cat_id.txt', 'r') as file: \n",
    "    data = file.read()\n",
    "cat_id_list = data.split(',')\n"
   ]
  },
  {
   "cell_type": "code",
   "execution_count": null,
   "id": "208b471a",
   "metadata": {},
   "outputs": [],
   "source": [
    "import os\n",
    "\n",
    "def make_folders_for_image():\n",
    "    with open('./bungae_cat_id.txt', 'r') as file: \n",
    "        data = file.read()\n",
    "    cat_id_list = data.split(',')\n",
    "    \n",
    "    for cat_id in cat_id_list:\n",
    "        # -- 폴더 이름은 원하시는 대로 변경해주세요 --\n",
    "        # -- bungae_fashion_image 부분 변경해주시면 돼요 --\n",
    "        os.makedirs(f'./bungae_fashion_image/{cat_id}')\n",
    "        \n",
    "    return \n",
    "\n",
    "if __name__ == '__main__':\n",
    "    make_folders_for_image"
   ]
  },
  {
   "cell_type": "code",
   "execution_count": null,
   "id": "d19e4846",
   "metadata": {},
   "outputs": [],
   "source": []
  },
  {
   "cell_type": "markdown",
   "id": "1452a85a",
   "metadata": {},
   "source": [
    "# 크롤링 코드"
   ]
  },
  {
   "cell_type": "code",
   "execution_count": null,
   "id": "1de728d7",
   "metadata": {},
   "outputs": [],
   "source": [
    "# -- 간단한 전처리 --\n",
    "bungae_df = bungae_df.dropna(axis=0)\n",
    "bungae_df['cat_id'] = bungae_df['cat_id'].astype(int).astype(str)\n",
    "bungae_image_df = bungae_df[['product_id', 'product_name', 'image_url', \n",
    "                             'image_cnt', 'cat_id']]\n",
    "# -- csv 파일 저장 --\n",
    "bungae_image_df.to_csv('./bungae_image_df.csv', index=False)"
   ]
  },
  {
   "cell_type": "code",
   "execution_count": null,
   "id": "cf28f6a4",
   "metadata": {},
   "outputs": [],
   "source": [
    "# -- 베이스 코드 --\n",
    "import urllib.request\n",
    "prd_id = bungae_image_df.loc[0, 'product_id']\n",
    "cat_id = bungae_image_df.loc[0, 'cat_id']\n",
    "url = bungae_image_df.loc[0, 'image_url']\n",
    "urllib.request.urlretrieve(url, f'./bungae_fashion_image/{cat_id}/{prd_id}_image.jpg')"
   ]
  },
  {
   "cell_type": "code",
   "execution_count": null,
   "id": "5a5aa876",
   "metadata": {},
   "outputs": [],
   "source": [
    "# multiprocessing을 위해 product_id 리스트 텍스트 파일로 만들어주기\n",
    "bungae_prd_id_list = [str(prd_id) for prd_id in list(bungae_image_df['product_id'])]\n",
    "with open('./bungae_prd_id.txt', 'w+') as file: # fashion 분야로 축소\n",
    "        file.write(','.join(bungae_prd_id_list))"
   ]
  },
  {
   "cell_type": "code",
   "execution_count": null,
   "id": "ddba7b41",
   "metadata": {},
   "outputs": [],
   "source": [
    "# -- image_url의 형태가 예상한것과 달라서 list를 이용한 multiprocessing이 어려울 것 같음 -- \n",
    "import urllib.request\n",
    "import time\n",
    "import pandas as pd\n",
    "\n",
    "def crawl_images_and_put_in_folders(bungae_image_df):\n",
    "    \n",
    "    removed_prd_id_list = list()\n",
    "    \n",
    "    start = time.time()\n",
    "    \n",
    "    for idx in range(len(bungae_image_df)):\n",
    "        url = bungae_image_df.loc[idx, 'image_url']\n",
    "        cat_id = bungae_image_df.loc[idx, 'cat_id']\n",
    "        prd_id = bungae_image_df.loc[idx, 'product_id']\n",
    "        # -- 사라진 상품들이 있을 수 있기 때문에 try/except로 확인 필요 -- \n",
    "        try:\n",
    "            urllib.request.urlretrieve(url, f'./bungae_fashion_image/{cat_id}/{prd_id}_image.jpg')\n",
    "            end = time.time()\n",
    "            print(f'{prd_id} image crawled')\n",
    "        except:\n",
    "            removed_prd_id_list.append(prd_id)\n",
    "            pass \n",
    "    \n",
    "    end = time.time()\n",
    "    print(f'----- time lapsed : {end-start} -----')\n",
    "    \n",
    "    print(f'------ 사라진 상품 갯수 : {len(removed_prd_id_list)} --------', )\n",
    "    \n",
    "    # -- 사라진 상품 product_id 리스트 --\n",
    "    # -- 나중에 해당 상품들은 없애야할 것으로 보임\n",
    "    with open('./bungae_removed_prd_id.txt', 'w+') as file: \n",
    "        file.write(','.join(removed_prd_id_list))\n",
    "        \n",
    "    return "
   ]
  },
  {
   "cell_type": "code",
   "execution_count": null,
   "id": "c2dd5454",
   "metadata": {},
   "outputs": [],
   "source": [
    "for idx in range(5):\n",
    "    url = bungae_image_df.loc[idx, 'image_url']\n",
    "    cat_id = bungae_image_df.loc[idx, 'cat_id']\n",
    "    prd_id = bungae_image_df.loc[idx, 'product_id']\n",
    "    try:\n",
    "        urllib.request.urlretrieve(url, f'./bungae_fashion_image/{cat_id}/{prd_id}_image.jpg')\n",
    "        end = time.time()\n",
    "        print(f'{prd_id} image crawled')\n",
    "    except:\n",
    "        removed_prd_id_list.append(prd_id)\n",
    "         "
   ]
  },
  {
   "cell_type": "markdown",
   "id": "0b54cf0a",
   "metadata": {},
   "source": [
    "# 크롤링 코드 2"
   ]
  },
  {
   "cell_type": "code",
   "execution_count": 2,
   "id": "d5ecace5",
   "metadata": {},
   "outputs": [
    {
     "name": "stdout",
     "output_type": "stream",
     "text": [
      "Intel MKL WARNING: Support of Intel(R) Streaming SIMD Extensions 4.2 (Intel(R) SSE4.2) enabled only processors has been deprecated. Intel oneAPI Math Kernel Library 2025.0 will require Intel(R) Advanced Vector Extensions (Intel(R) AVX) instructions.\n",
      "Intel MKL WARNING: Support of Intel(R) Streaming SIMD Extensions 4.2 (Intel(R) SSE4.2) enabled only processors has been deprecated. Intel oneAPI Math Kernel Library 2025.0 will require Intel(R) Advanced Vector Extensions (Intel(R) AVX) instructions.\n"
     ]
    },
    {
     "data": {
      "text/html": [
       "<div>\n",
       "<style scoped>\n",
       "    .dataframe tbody tr th:only-of-type {\n",
       "        vertical-align: middle;\n",
       "    }\n",
       "\n",
       "    .dataframe tbody tr th {\n",
       "        vertical-align: top;\n",
       "    }\n",
       "\n",
       "    .dataframe thead th {\n",
       "        text-align: right;\n",
       "    }\n",
       "</style>\n",
       "<table border=\"1\" class=\"dataframe\">\n",
       "  <thead>\n",
       "    <tr style=\"text-align: right;\">\n",
       "      <th></th>\n",
       "      <th>product_id</th>\n",
       "      <th>product_name</th>\n",
       "      <th>image_url</th>\n",
       "      <th>image_cnt</th>\n",
       "      <th>cat_id</th>\n",
       "    </tr>\n",
       "  </thead>\n",
       "  <tbody>\n",
       "    <tr>\n",
       "      <th>0</th>\n",
       "      <td>201926367</td>\n",
       "      <td>여성야상패딩</td>\n",
       "      <td>https://media.bunjang.co.kr/product/201926367_...</td>\n",
       "      <td>5.0</td>\n",
       "      <td>310090050</td>\n",
       "    </tr>\n",
       "    <tr>\n",
       "      <th>1</th>\n",
       "      <td>173779753</td>\n",
       "      <td>여성파라점퍼스XL</td>\n",
       "      <td>https://media.bunjang.co.kr/product/173779753_...</td>\n",
       "      <td>8.0</td>\n",
       "      <td>310090050</td>\n",
       "    </tr>\n",
       "    <tr>\n",
       "      <th>2</th>\n",
       "      <td>213485472</td>\n",
       "      <td>경량 패딩 새상품 가니 점퍼 스타일</td>\n",
       "      <td>https://media.bunjang.co.kr/product/213485472_...</td>\n",
       "      <td>10.0</td>\n",
       "      <td>310090050</td>\n",
       "    </tr>\n",
       "    <tr>\n",
       "      <th>3</th>\n",
       "      <td>219480633</td>\n",
       "      <td>휠라 롱패딩,아디다스 패딩, 양털 점퍼, 코트 일괄</td>\n",
       "      <td>https://media.bunjang.co.kr/product/219480633_...</td>\n",
       "      <td>12.0</td>\n",
       "      <td>310090050</td>\n",
       "    </tr>\n",
       "    <tr>\n",
       "      <th>4</th>\n",
       "      <td>202566238</td>\n",
       "      <td>무료배송)날씬해보이는 거위솜털 여성패딩점퍼55</td>\n",
       "      <td>https://media.bunjang.co.kr/product/202566238_...</td>\n",
       "      <td>7.0</td>\n",
       "      <td>310090050</td>\n",
       "    </tr>\n",
       "  </tbody>\n",
       "</table>\n",
       "</div>"
      ],
      "text/plain": [
       "   product_id                  product_name  \\\n",
       "0   201926367                        여성야상패딩   \n",
       "1   173779753                     여성파라점퍼스XL   \n",
       "2   213485472           경량 패딩 새상품 가니 점퍼 스타일   \n",
       "3   219480633  휠라 롱패딩,아디다스 패딩, 양털 점퍼, 코트 일괄   \n",
       "4   202566238     무료배송)날씬해보이는 거위솜털 여성패딩점퍼55   \n",
       "\n",
       "                                           image_url  image_cnt     cat_id  \n",
       "0  https://media.bunjang.co.kr/product/201926367_...        5.0  310090050  \n",
       "1  https://media.bunjang.co.kr/product/173779753_...        8.0  310090050  \n",
       "2  https://media.bunjang.co.kr/product/213485472_...       10.0  310090050  \n",
       "3  https://media.bunjang.co.kr/product/219480633_...       12.0  310090050  \n",
       "4  https://media.bunjang.co.kr/product/202566238_...        7.0  310090050  "
      ]
     },
     "execution_count": 2,
     "metadata": {},
     "output_type": "execute_result"
    }
   ],
   "source": [
    "# -- 생각해보니 대중소로 나누어서 할 경우가 필요할 것이라 생각이 듬 --\n",
    "import pandas as pd\n",
    "bungae_image_df = pd.read_csv('./bungae_image_df.csv')\n",
    "bungae_image_df.head()"
   ]
  },
  {
   "cell_type": "code",
   "execution_count": 5,
   "id": "58a0506e",
   "metadata": {},
   "outputs": [],
   "source": [
    "cat_with_subs_dict = get_dict_from_midcat_with_subs()\n",
    "_, cat_without_subs_list = make_category_lists_without_subs()\n",
    "cat_with_subs_list = list(cat_with_subs_dict.keys())"
   ]
  },
  {
   "cell_type": "code",
   "execution_count": 9,
   "id": "7ac7c7a1",
   "metadata": {},
   "outputs": [],
   "source": [
    "bungae_image_df['cat_id'] = bungae_image_df['cat_id'].astype(str)\n",
    "bungae_image_df['maincat_id'] = bungae_image_df['cat_id'].map(lambda x : x[:3])\n",
    "bungae_image_df['midcat_id'] = bungae_image_df['cat_id'].map(lambda x : x[:6])"
   ]
  },
  {
   "cell_type": "code",
   "execution_count": 15,
   "id": "f1754eab",
   "metadata": {},
   "outputs": [],
   "source": [
    "for idx in range(len(bungae_image_df)):\n",
    "    if len(bungae_image_df.loc[idx, 'cat_id']) == 9:\n",
    "        bungae_image_df.loc[idx, 'subcat_id'] = bungae_image_df.loc[idx, 'cat_id']\n"
   ]
  },
  {
   "cell_type": "code",
   "execution_count": 16,
   "id": "c5715777",
   "metadata": {},
   "outputs": [
    {
     "data": {
      "text/html": [
       "<div>\n",
       "<style scoped>\n",
       "    .dataframe tbody tr th:only-of-type {\n",
       "        vertical-align: middle;\n",
       "    }\n",
       "\n",
       "    .dataframe tbody tr th {\n",
       "        vertical-align: top;\n",
       "    }\n",
       "\n",
       "    .dataframe thead th {\n",
       "        text-align: right;\n",
       "    }\n",
       "</style>\n",
       "<table border=\"1\" class=\"dataframe\">\n",
       "  <thead>\n",
       "    <tr style=\"text-align: right;\">\n",
       "      <th></th>\n",
       "      <th>product_id</th>\n",
       "      <th>product_name</th>\n",
       "      <th>image_url</th>\n",
       "      <th>image_cnt</th>\n",
       "      <th>cat_id</th>\n",
       "      <th>maincat_id</th>\n",
       "      <th>midcat_id</th>\n",
       "      <th>subcat_id</th>\n",
       "    </tr>\n",
       "  </thead>\n",
       "  <tbody>\n",
       "    <tr>\n",
       "      <th>0</th>\n",
       "      <td>201926367</td>\n",
       "      <td>여성야상패딩</td>\n",
       "      <td>https://media.bunjang.co.kr/product/201926367_...</td>\n",
       "      <td>5.0</td>\n",
       "      <td>310090050</td>\n",
       "      <td>310</td>\n",
       "      <td>310090</td>\n",
       "      <td>310090050</td>\n",
       "    </tr>\n",
       "    <tr>\n",
       "      <th>1</th>\n",
       "      <td>173779753</td>\n",
       "      <td>여성파라점퍼스XL</td>\n",
       "      <td>https://media.bunjang.co.kr/product/173779753_...</td>\n",
       "      <td>8.0</td>\n",
       "      <td>310090050</td>\n",
       "      <td>310</td>\n",
       "      <td>310090</td>\n",
       "      <td>310090050</td>\n",
       "    </tr>\n",
       "    <tr>\n",
       "      <th>2</th>\n",
       "      <td>213485472</td>\n",
       "      <td>경량 패딩 새상품 가니 점퍼 스타일</td>\n",
       "      <td>https://media.bunjang.co.kr/product/213485472_...</td>\n",
       "      <td>10.0</td>\n",
       "      <td>310090050</td>\n",
       "      <td>310</td>\n",
       "      <td>310090</td>\n",
       "      <td>310090050</td>\n",
       "    </tr>\n",
       "    <tr>\n",
       "      <th>3</th>\n",
       "      <td>219480633</td>\n",
       "      <td>휠라 롱패딩,아디다스 패딩, 양털 점퍼, 코트 일괄</td>\n",
       "      <td>https://media.bunjang.co.kr/product/219480633_...</td>\n",
       "      <td>12.0</td>\n",
       "      <td>310090050</td>\n",
       "      <td>310</td>\n",
       "      <td>310090</td>\n",
       "      <td>310090050</td>\n",
       "    </tr>\n",
       "    <tr>\n",
       "      <th>4</th>\n",
       "      <td>202566238</td>\n",
       "      <td>무료배송)날씬해보이는 거위솜털 여성패딩점퍼55</td>\n",
       "      <td>https://media.bunjang.co.kr/product/202566238_...</td>\n",
       "      <td>7.0</td>\n",
       "      <td>310090050</td>\n",
       "      <td>310</td>\n",
       "      <td>310090</td>\n",
       "      <td>310090050</td>\n",
       "    </tr>\n",
       "    <tr>\n",
       "      <th>...</th>\n",
       "      <td>...</td>\n",
       "      <td>...</td>\n",
       "      <td>...</td>\n",
       "      <td>...</td>\n",
       "      <td>...</td>\n",
       "      <td>...</td>\n",
       "      <td>...</td>\n",
       "      <td>...</td>\n",
       "    </tr>\n",
       "    <tr>\n",
       "      <th>1391017</th>\n",
       "      <td>164097143</td>\n",
       "      <td>전통매듭목걸이/목걸이/전통목걸이/쥬얼리/매듭</td>\n",
       "      <td>https://media.bunjang.co.kr/product/164097143_...</td>\n",
       "      <td>1.0</td>\n",
       "      <td>400999</td>\n",
       "      <td>400</td>\n",
       "      <td>400999</td>\n",
       "      <td>NaN</td>\n",
       "    </tr>\n",
       "    <tr>\n",
       "      <th>1391018</th>\n",
       "      <td>174926618</td>\n",
       "      <td>인조모 가발 붙임머리 긴머리</td>\n",
       "      <td>https://media.bunjang.co.kr/product/174926618_...</td>\n",
       "      <td>2.0</td>\n",
       "      <td>400999</td>\n",
       "      <td>400</td>\n",
       "      <td>400999</td>\n",
       "      <td>NaN</td>\n",
       "    </tr>\n",
       "    <tr>\n",
       "      <th>1391019</th>\n",
       "      <td>219603119</td>\n",
       "      <td>마리떼 헤어클립 구해요</td>\n",
       "      <td>https://media.bunjang.co.kr/product/219603119_...</td>\n",
       "      <td>1.0</td>\n",
       "      <td>400999</td>\n",
       "      <td>400</td>\n",
       "      <td>400999</td>\n",
       "      <td>NaN</td>\n",
       "    </tr>\n",
       "    <tr>\n",
       "      <th>1391020</th>\n",
       "      <td>224250961</td>\n",
       "      <td>새제품)호피 헤어밴드</td>\n",
       "      <td>https://media.bunjang.co.kr/product/224250961_...</td>\n",
       "      <td>1.0</td>\n",
       "      <td>400999</td>\n",
       "      <td>400</td>\n",
       "      <td>400999</td>\n",
       "      <td>NaN</td>\n",
       "    </tr>\n",
       "    <tr>\n",
       "      <th>1391021</th>\n",
       "      <td>207814016</td>\n",
       "      <td>* 큐빅 플라워 키링 에어팟 버즈 키홀더</td>\n",
       "      <td>https://media.bunjang.co.kr/product/207814016_...</td>\n",
       "      <td>3.0</td>\n",
       "      <td>400999</td>\n",
       "      <td>400</td>\n",
       "      <td>400999</td>\n",
       "      <td>NaN</td>\n",
       "    </tr>\n",
       "  </tbody>\n",
       "</table>\n",
       "<p>1391022 rows × 8 columns</p>\n",
       "</div>"
      ],
      "text/plain": [
       "         product_id                  product_name  \\\n",
       "0         201926367                        여성야상패딩   \n",
       "1         173779753                     여성파라점퍼스XL   \n",
       "2         213485472           경량 패딩 새상품 가니 점퍼 스타일   \n",
       "3         219480633  휠라 롱패딩,아디다스 패딩, 양털 점퍼, 코트 일괄   \n",
       "4         202566238     무료배송)날씬해보이는 거위솜털 여성패딩점퍼55   \n",
       "...             ...                           ...   \n",
       "1391017   164097143      전통매듭목걸이/목걸이/전통목걸이/쥬얼리/매듭   \n",
       "1391018   174926618               인조모 가발 붙임머리 긴머리   \n",
       "1391019   219603119                  마리떼 헤어클립 구해요   \n",
       "1391020   224250961                   새제품)호피 헤어밴드   \n",
       "1391021   207814016        * 큐빅 플라워 키링 에어팟 버즈 키홀더   \n",
       "\n",
       "                                                 image_url  image_cnt  \\\n",
       "0        https://media.bunjang.co.kr/product/201926367_...        5.0   \n",
       "1        https://media.bunjang.co.kr/product/173779753_...        8.0   \n",
       "2        https://media.bunjang.co.kr/product/213485472_...       10.0   \n",
       "3        https://media.bunjang.co.kr/product/219480633_...       12.0   \n",
       "4        https://media.bunjang.co.kr/product/202566238_...        7.0   \n",
       "...                                                    ...        ...   \n",
       "1391017  https://media.bunjang.co.kr/product/164097143_...        1.0   \n",
       "1391018  https://media.bunjang.co.kr/product/174926618_...        2.0   \n",
       "1391019  https://media.bunjang.co.kr/product/219603119_...        1.0   \n",
       "1391020  https://media.bunjang.co.kr/product/224250961_...        1.0   \n",
       "1391021  https://media.bunjang.co.kr/product/207814016_...        3.0   \n",
       "\n",
       "            cat_id maincat_id midcat_id  subcat_id  \n",
       "0        310090050        310    310090  310090050  \n",
       "1        310090050        310    310090  310090050  \n",
       "2        310090050        310    310090  310090050  \n",
       "3        310090050        310    310090  310090050  \n",
       "4        310090050        310    310090  310090050  \n",
       "...            ...        ...       ...        ...  \n",
       "1391017     400999        400    400999        NaN  \n",
       "1391018     400999        400    400999        NaN  \n",
       "1391019     400999        400    400999        NaN  \n",
       "1391020     400999        400    400999        NaN  \n",
       "1391021     400999        400    400999        NaN  \n",
       "\n",
       "[1391022 rows x 8 columns]"
      ]
     },
     "execution_count": 16,
     "metadata": {},
     "output_type": "execute_result"
    }
   ],
   "source": [
    "bungae_image_df"
   ]
  },
  {
   "cell_type": "markdown",
   "id": "344fe6f6",
   "metadata": {},
   "source": [
    "***폴더 다시 만들기***"
   ]
  },
  {
   "cell_type": "code",
   "execution_count": null,
   "id": "0537c836",
   "metadata": {},
   "outputs": [],
   "source": [
    "# -- 폴더 다시 만들기 --\n",
    "import os\n",
    "for cat_id in bungae_all_cat_id_list:\n",
    "    os.makedirs(f'bungae_fashion/{cat_id}')"
   ]
  },
  {
   "cell_type": "code",
   "execution_count": 17,
   "id": "3d65b2f9",
   "metadata": {},
   "outputs": [
    {
     "data": {
      "text/plain": [
       "array(['310', '320', '405', '430', '420', '400', '700', '810', '999',\n",
       "       '100'], dtype=object)"
      ]
     },
     "execution_count": 17,
     "metadata": {},
     "output_type": "execute_result"
    }
   ],
   "source": [
    "bungae_image_df['maincat_id'].unique()"
   ]
  },
  {
   "cell_type": "code",
   "execution_count": 29,
   "id": "e9f2d4be",
   "metadata": {},
   "outputs": [],
   "source": [
    "# -- midcat에 3자리 cat_id가 들어있는 것이 있음 --\n",
    "# -- 이 데이터들은 삭제 --\n",
    "idx_list = list()\n",
    "for idx in range(len(bungae_image_df)):\n",
    "    if (len(bungae_image_df.loc[idx, 'midcat_id']) < 6) |\\\n",
    "                (bungae_image_df.loc[idx, 'midcat_id'][0] not in ['3', '4']):\n",
    "        idx_list.append(idx)\n",
    "idx_list"
   ]
  },
  {
   "cell_type": "code",
   "execution_count": 40,
   "id": "b83af648",
   "metadata": {},
   "outputs": [],
   "source": [
    "# -- 패션 카테고리에 들어있지 않은 상품들 제거 --\n",
    "bungae_image_df = bungae_image_df.drop(bungae_image_df.index[idx_list], axis=0)"
   ]
  },
  {
   "cell_type": "code",
   "execution_count": 42,
   "id": "422f0a8d",
   "metadata": {},
   "outputs": [],
   "source": [
    "# -- reset index --\n",
    "bungae_image_df = bungae_image_df.reset_index(drop=True)"
   ]
  },
  {
   "cell_type": "code",
   "execution_count": 46,
   "id": "3386c411",
   "metadata": {},
   "outputs": [
    {
     "data": {
      "text/plain": [
       "array(['310', '320', '405', '430', '420', '400'], dtype=object)"
      ]
     },
     "execution_count": 46,
     "metadata": {},
     "output_type": "execute_result"
    }
   ],
   "source": [
    "# -- maincat, midcat 리스트 --\n",
    "maincat_list = list(bungae_image_df['maincat_id'].unique())\n",
    "midcat_list = list(bungae_image_df['midcat_id'].unique())"
   ]
  },
  {
   "cell_type": "code",
   "execution_count": 73,
   "id": "b25e3569",
   "metadata": {},
   "outputs": [],
   "source": [
    "# -- 폴더 다시 만들기 --\n",
    "# -- 순서 : 대분류 > 중분류 > 소분류 --\n",
    "# -- 소분류 없으면 중분류까지만 -- \n",
    "import os\n",
    "\n",
    "# -- 가장 상단 파일 : bungae_images --\n",
    "# -- 나중에 파일 이름 바꿔야 될 수 있음 -- \n",
    "for idx in range(len(bungae_image_df)):\n",
    "    maincat = bungae_image_df.loc[idx, 'maincat_id']\n",
    "    midcat = bungae_image_df.loc[idx, 'midcat_id']\n",
    "    subcat = bungae_image_df.loc[idx, 'subcat_id']\n",
    "    \n",
    "    if type(subcat) == str:\n",
    "        file_path = f'./bungae_images/{maincat}/{midcat}/{subcat}'\n",
    "        if os.path.exists(f'./bungae_images/{maincat}/{midcat}/{subcat}'):\n",
    "            pass\n",
    "        else:\n",
    "            os.makedirs(f'./bungae_images/{maincat}/{midcat}/{subcat}')\n",
    "    elif type(subcat) == float :\n",
    "        file_path = f'./bungae_images/{maincat}/{midcat}/{subcat}'\n",
    "        if os.path.exists(f'./bungae_images/{maincat}/{midcat}'):\n",
    "            pass\n",
    "        else:\n",
    "            os.makedirs(f'./bungae_images/{maincat}/{midcat}')"
   ]
  },
  {
   "cell_type": "code",
   "execution_count": null,
   "id": "3a86e3d8",
   "metadata": {},
   "outputs": [],
   "source": [
    "# -- 다시 크롤링? OR 크롤링한 파일에서 move 하기? -- \n",
    "# 1. move해보기\n",
    "# 2. 안될 것 같으면 다시 크롤링 "
   ]
  },
  {
   "cell_type": "code",
   "execution_count": null,
   "id": "49ba8b9b",
   "metadata": {},
   "outputs": [],
   "source": []
  },
  {
   "cell_type": "code",
   "execution_count": null,
   "id": "2c2700b2",
   "metadata": {},
   "outputs": [],
   "source": []
  },
  {
   "cell_type": "code",
   "execution_count": null,
   "id": "c944a166",
   "metadata": {},
   "outputs": [],
   "source": []
  },
  {
   "cell_type": "code",
   "execution_count": null,
   "id": "4c34182e",
   "metadata": {},
   "outputs": [],
   "source": []
  },
  {
   "cell_type": "code",
   "execution_count": null,
   "id": "0acdb7a1",
   "metadata": {},
   "outputs": [],
   "source": []
  },
  {
   "cell_type": "code",
   "execution_count": null,
   "id": "864363b0",
   "metadata": {},
   "outputs": [],
   "source": []
  },
  {
   "cell_type": "code",
   "execution_count": null,
   "id": "4bae1e43",
   "metadata": {},
   "outputs": [],
   "source": []
  }
 ],
 "metadata": {
  "kernelspec": {
   "display_name": "Python 3 (ipykernel)",
   "language": "python",
   "name": "python3"
  },
  "language_info": {
   "codemirror_mode": {
    "name": "ipython",
    "version": 3
   },
   "file_extension": ".py",
   "mimetype": "text/x-python",
   "name": "python",
   "nbconvert_exporter": "python",
   "pygments_lexer": "ipython3",
   "version": "3.11.3"
  }
 },
 "nbformat": 4,
 "nbformat_minor": 5
}
