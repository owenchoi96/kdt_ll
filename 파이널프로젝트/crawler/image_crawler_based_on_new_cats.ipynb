{
 "cells": [
  {
   "cell_type": "code",
   "execution_count": 50,
   "id": "3fde9597",
   "metadata": {},
   "outputs": [
    {
     "name": "stdout",
     "output_type": "stream",
     "text": [
      "<class 'pandas.core.frame.DataFrame'>\n",
      "RangeIndex: 1203018 entries, 0 to 1203017\n",
      "Data columns (total 11 columns):\n",
      " #   Column          Non-Null Count    Dtype \n",
      "---  ------          --------------    ----- \n",
      " 0   id              1203018 non-null  object\n",
      " 1   name            1203018 non-null  object\n",
      " 2   image_url_list  1203018 non-null  object\n",
      " 3   price           1203018 non-null  int64 \n",
      " 4   info            1199641 non-null  object\n",
      " 5   cat_id          1203018 non-null  object\n",
      " 6   writed_at       1203018 non-null  object\n",
      " 7   tag             1112801 non-null  object\n",
      " 8   cat1            1203018 non-null  object\n",
      " 9   cat2            1203018 non-null  object\n",
      " 10  cat3            1133774 non-null  object\n",
      "dtypes: int64(1), object(10)\n",
      "memory usage: 101.0+ MB\n"
     ]
    }
   ],
   "source": [
    "import pandas as pd\n",
    "import re\n",
    "from tqdm.notebook import tqdm\n",
    "\n",
    "bungae_df = pd.read_csv('./new_bgzt_final_data.csv')\n",
    "bungae_df['id'] = bungae_df['id'].astype(str)\n",
    "bungae_df['cat_id'] = bungae_df['cat_id'].astype(str)\n",
    "bungae_df.info()"
   ]
  },
  {
   "cell_type": "code",
   "execution_count": 51,
   "id": "afd27b74",
   "metadata": {},
   "outputs": [
    {
     "data": {
      "application/vnd.jupyter.widget-view+json": {
       "model_id": "08dfa597aa474aba822d4cdef674f07c",
       "version_major": 2,
       "version_minor": 0
      },
      "text/plain": [
       "  0%|          | 0/157 [00:00<?, ?it/s]"
      ]
     },
     "metadata": {},
     "output_type": "display_data"
    },
    {
     "name": "stdout",
     "output_type": "stream",
     "text": [
      "109248\n"
     ]
    }
   ],
   "source": [
    "# 새롭게 데이터 뽑기\n",
    "from tqdm.notebook import tqdm\n",
    "# -- 소분류 카테고리당 최대 700까지 줄이기 --\n",
    "cat_id_list = list(bungae_df['cat_id'].unique())\n",
    "\n",
    "new_df = pd.DataFrame()\n",
    "for cat_id in tqdm(cat_id_list):\n",
    "    tmp_df = bungae_df[bungae_df['cat_id'] == cat_id]\n",
    "    if len(tmp_df) > 700: # 700개가 넘으면 700개만 가져오도록\n",
    "        new_df = pd.concat([new_df, tmp_df.sample(700)], ignore_index=True)\n",
    "    elif len(tmp_df) < 700: # 700개가 넘지 않으면 그대로 가져올 수 있도록\n",
    "        new_df = pd.concat([new_df, tmp_df], ignore_index=True)\n",
    "\n",
    "new_df = new_df.reset_index(drop=True)\n",
    "print(len(new_df))"
   ]
  },
  {
   "cell_type": "code",
   "execution_count": 52,
   "id": "41109eab",
   "metadata": {},
   "outputs": [
    {
     "data": {
      "application/vnd.jupyter.widget-view+json": {
       "model_id": "d414237d4b0c4314b9a0e57abdbb617b",
       "version_major": 2,
       "version_minor": 0
      },
      "text/plain": [
       "  0%|          | 0/109248 [00:00<?, ?it/s]"
      ]
     },
     "metadata": {},
     "output_type": "display_data"
    }
   ],
   "source": [
    "url_list = list()\n",
    "for idx in tqdm(range(len(new_df))):\n",
    "    tmp_url = new_df.loc[idx, 'image_url_list']\n",
    "    url = re.sub('[\\[\\']', '', tmp_url.split(',')[0])\n",
    "    \n",
    "    url_list.append(url)"
   ]
  },
  {
   "cell_type": "code",
   "execution_count": 63,
   "id": "1c235051",
   "metadata": {},
   "outputs": [],
   "source": [
    "new_df['url'] = url_list"
   ]
  },
  {
   "cell_type": "code",
   "execution_count": 64,
   "id": "0e40a853",
   "metadata": {
    "scrolled": true
   },
   "outputs": [
    {
     "data": {
      "text/html": [
       "<div>\n",
       "<style scoped>\n",
       "    .dataframe tbody tr th:only-of-type {\n",
       "        vertical-align: middle;\n",
       "    }\n",
       "\n",
       "    .dataframe tbody tr th {\n",
       "        vertical-align: top;\n",
       "    }\n",
       "\n",
       "    .dataframe thead th {\n",
       "        text-align: right;\n",
       "    }\n",
       "</style>\n",
       "<table border=\"1\" class=\"dataframe\">\n",
       "  <thead>\n",
       "    <tr style=\"text-align: right;\">\n",
       "      <th></th>\n",
       "      <th>id</th>\n",
       "      <th>name</th>\n",
       "      <th>cat_id</th>\n",
       "      <th>url</th>\n",
       "    </tr>\n",
       "  </thead>\n",
       "  <tbody>\n",
       "    <tr>\n",
       "      <th>0</th>\n",
       "      <td>207315989</td>\n",
       "      <td>루이비통패딩점퍼</td>\n",
       "      <td>310300200</td>\n",
       "      <td>https://media.bunjang.co.kr/product/207315989_...</td>\n",
       "    </tr>\n",
       "    <tr>\n",
       "      <th>1</th>\n",
       "      <td>213340343</td>\n",
       "      <td>플라스틱아일랜드 라쿤 후드 덕다운 롱패딩</td>\n",
       "      <td>310300200</td>\n",
       "      <td>https://media.bunjang.co.kr/product/213340343_...</td>\n",
       "    </tr>\n",
       "    <tr>\n",
       "      <th>2</th>\n",
       "      <td>179445605</td>\n",
       "      <td>**라쿤털 후드패딩</td>\n",
       "      <td>310300200</td>\n",
       "      <td>https://media.bunjang.co.kr/product/179445605_...</td>\n",
       "    </tr>\n",
       "    <tr>\n",
       "      <th>3</th>\n",
       "      <td>214139452</td>\n",
       "      <td>노이아고 NOI497 에센셜 다운 숏패딩</td>\n",
       "      <td>310300200</td>\n",
       "      <td>https://media.bunjang.co.kr/product/214139452_...</td>\n",
       "    </tr>\n",
       "    <tr>\n",
       "      <th>4</th>\n",
       "      <td>203871555</td>\n",
       "      <td>후아유 리버서블 숏패딩(플리스)</td>\n",
       "      <td>310300200</td>\n",
       "      <td>https://media.bunjang.co.kr/product/203871555_...</td>\n",
       "    </tr>\n",
       "    <tr>\n",
       "      <th>...</th>\n",
       "      <td>...</td>\n",
       "      <td>...</td>\n",
       "      <td>...</td>\n",
       "      <td>...</td>\n",
       "    </tr>\n",
       "    <tr>\n",
       "      <th>109243</th>\n",
       "      <td>214388239</td>\n",
       "      <td>알라딘 셜록홈즈 금속 키링 열쇠고리 굿즈</td>\n",
       "      <td>400999</td>\n",
       "      <td>https://media.bunjang.co.kr/product/214388239_...</td>\n",
       "    </tr>\n",
       "    <tr>\n",
       "      <th>109244</th>\n",
       "      <td>81582461</td>\n",
       "      <td>새) 자주. 수납. 정리. 옷장 가방</td>\n",
       "      <td>400999</td>\n",
       "      <td>https://media.bunjang.co.kr/product/81582461_1...</td>\n",
       "    </tr>\n",
       "    <tr>\n",
       "      <th>109245</th>\n",
       "      <td>219590266</td>\n",
       "      <td>귀마개</td>\n",
       "      <td>400999</td>\n",
       "      <td>https://media.bunjang.co.kr/product/219590266_...</td>\n",
       "    </tr>\n",
       "    <tr>\n",
       "      <th>109246</th>\n",
       "      <td>225809818</td>\n",
       "      <td>하회탈 이매탈 팝니다</td>\n",
       "      <td>400999</td>\n",
       "      <td>https://media.bunjang.co.kr/product/225809818_...</td>\n",
       "    </tr>\n",
       "    <tr>\n",
       "      <th>109247</th>\n",
       "      <td>109720327</td>\n",
       "      <td>정품 229 ROYAL BLUE 미개봉 새 지포라이터</td>\n",
       "      <td>400999</td>\n",
       "      <td>https://media.bunjang.co.kr/product/109720327_...</td>\n",
       "    </tr>\n",
       "  </tbody>\n",
       "</table>\n",
       "<p>109248 rows × 4 columns</p>\n",
       "</div>"
      ],
      "text/plain": [
       "               id                           name     cat_id  \\\n",
       "0       207315989                       루이비통패딩점퍼  310300200   \n",
       "1       213340343         플라스틱아일랜드 라쿤 후드 덕다운 롱패딩  310300200   \n",
       "2       179445605                     **라쿤털 후드패딩  310300200   \n",
       "3       214139452         노이아고 NOI497 에센셜 다운 숏패딩  310300200   \n",
       "4       203871555              후아유 리버서블 숏패딩(플리스)  310300200   \n",
       "...           ...                            ...        ...   \n",
       "109243  214388239         알라딘 셜록홈즈 금속 키링 열쇠고리 굿즈     400999   \n",
       "109244   81582461           새) 자주. 수납. 정리. 옷장 가방     400999   \n",
       "109245  219590266                            귀마개     400999   \n",
       "109246  225809818                    하회탈 이매탈 팝니다     400999   \n",
       "109247  109720327  정품 229 ROYAL BLUE 미개봉 새 지포라이터     400999   \n",
       "\n",
       "                                                      url  \n",
       "0       https://media.bunjang.co.kr/product/207315989_...  \n",
       "1       https://media.bunjang.co.kr/product/213340343_...  \n",
       "2       https://media.bunjang.co.kr/product/179445605_...  \n",
       "3       https://media.bunjang.co.kr/product/214139452_...  \n",
       "4       https://media.bunjang.co.kr/product/203871555_...  \n",
       "...                                                   ...  \n",
       "109243  https://media.bunjang.co.kr/product/214388239_...  \n",
       "109244  https://media.bunjang.co.kr/product/81582461_1...  \n",
       "109245  https://media.bunjang.co.kr/product/219590266_...  \n",
       "109246  https://media.bunjang.co.kr/product/225809818_...  \n",
       "109247  https://media.bunjang.co.kr/product/109720327_...  \n",
       "\n",
       "[109248 rows x 4 columns]"
      ]
     },
     "execution_count": 64,
     "metadata": {},
     "output_type": "execute_result"
    }
   ],
   "source": [
    "new_df = new_df[['id', 'name', 'cat_id', 'url']].copy()\n",
    "new_df"
   ]
  },
  {
   "cell_type": "code",
   "execution_count": 66,
   "id": "3dc1430c",
   "metadata": {},
   "outputs": [],
   "source": [
    "# new_df -> to csv\n",
    "new_df.to_csv('./v2_newly_reduced_bungae_df.csv', index=False)"
   ]
  },
  {
   "cell_type": "code",
   "execution_count": 68,
   "id": "8e7da06a",
   "metadata": {},
   "outputs": [
    {
     "data": {
      "application/vnd.jupyter.widget-view+json": {
       "model_id": "52617ac3b66a425f9e2d326e8ae7e0fb",
       "version_major": 2,
       "version_minor": 0
      },
      "text/plain": [
       "  0%|          | 0/109248 [00:00<?, ?it/s]"
      ]
     },
     "metadata": {},
     "output_type": "display_data"
    }
   ],
   "source": [
    "# cat_id, url, id 가져와서 리스트로 만들기\n",
    "cat_url_prd_list = list()\n",
    "for idx in tqdm(range(len(new_df))):\n",
    "    cat_id = new_df.loc[idx, 'cat_id']\n",
    "    url = new_df.loc[idx, 'url']\n",
    "    prd_id = new_df.loc[idx, 'id']\n",
    "    cat_url_prd_list.append('__'.join([cat_id, url, prd_id]))"
   ]
  },
  {
   "cell_type": "code",
   "execution_count": 69,
   "id": "fe7e7eca",
   "metadata": {},
   "outputs": [],
   "source": [
    "# 텍스트 파일로 바꿔주기\n",
    "with open('./bungae_cat_url_prd_list.txt', 'w+') as file: \n",
    "    file.write(','.join(cat_url_prd_list))"
   ]
  },
  {
   "cell_type": "code",
   "execution_count": 70,
   "id": "8cef2a89",
   "metadata": {},
   "outputs": [
    {
     "data": {
      "text/plain": [
       "['310300200__https://media.bunjang.co.kr/product/207315989_1_1681528252_w{res}.jpg__207315989',\n",
       " '310300200__https://media.bunjang.co.kr/product/213340343_1_1677694654_w{res}.jpg__213340343',\n",
       " '310300200__https://media.bunjang.co.kr/product/179445605_1_1657123055_w{res}.jpg__179445605',\n",
       " '310300200__https://media.bunjang.co.kr/product/214139452_1_1685294482_w{res}.jpg__214139452']"
      ]
     },
     "execution_count": 70,
     "metadata": {},
     "output_type": "execute_result"
    }
   ],
   "source": [
    "cat_url_prd_list[:4]"
   ]
  },
  {
   "cell_type": "code",
   "execution_count": 13,
   "id": "948611e1",
   "metadata": {},
   "outputs": [],
   "source": [
    "#  -- making folders --"
   ]
  },
  {
   "cell_type": "code",
   "execution_count": 71,
   "id": "74fb28fb",
   "metadata": {},
   "outputs": [],
   "source": [
    "# 1. folder 만들기 (maincat에 따라)\n",
    "\n",
    "import os\n",
    "import pandas as pd\n",
    "\n",
    "def make_folders_for_image(df):\n",
    "    cat_id_list = list(df['cat_id'].unique())\n",
    "    \n",
    "    for cat_id in cat_id_list:\n",
    "        # -- 폴더 이름은 원하시는 대로 변경해주세요 --\n",
    "        # -- bungae_fashion_image 부분 변경해주시면 돼요 --\n",
    "        os.makedirs(f'./bungae_images_v2/{cat_id}')\n",
    "        \n",
    "    return \n",
    "\n",
    "make_folders_for_image(new_df)"
   ]
  },
  {
   "cell_type": "code",
   "execution_count": null,
   "id": "6efe25f2",
   "metadata": {},
   "outputs": [],
   "source": [
    "# -- 2. 이미지 파일만 있는 데이터 로우 가져와서 새로운 데이터 프레임 만들어 주기--"
   ]
  },
  {
   "cell_type": "code",
   "execution_count": 72,
   "id": "57482cbd",
   "metadata": {},
   "outputs": [
    {
     "name": "stdout",
     "output_type": "stream",
     "text": [
      "109248\n"
     ]
    }
   ],
   "source": [
    "import pandas as pd\n",
    "\n",
    "df = pd.read_csv('./v2_newly_reduced_bungae_df.csv')\n",
    "df['id'] = df['id'].astype(str)\n",
    "df['cat_id'] = df['cat_id'].astype(str)\n",
    "\n",
    "# 데이터 수정 전 len\n",
    "print(len(df))"
   ]
  },
  {
   "cell_type": "code",
   "execution_count": 74,
   "id": "b8e39ae9",
   "metadata": {},
   "outputs": [
    {
     "data": {
      "application/vnd.jupyter.widget-view+json": {
       "model_id": "efd73e4a5f0d44e0bc80169fdda49e33",
       "version_major": 2,
       "version_minor": 0
      },
      "text/plain": [
       "  0%|          | 0/109248 [00:00<?, ?it/s]"
      ]
     },
     "metadata": {},
     "output_type": "display_data"
    }
   ],
   "source": [
    "# 열리지 않는 이미지를 가지고 있는 행 제거하기\n",
    "import pandas as pd\n",
    "import matplotlib.pyplot as plt\n",
    "from tqdm.notebook import tqdm\n",
    "import os\n",
    "\n",
    "# 파일이 열리는 row의 인덱스만 가져오기\n",
    "idx_list = list()\n",
    "for idx in tqdm(range(len(df))):\n",
    "    prd_id = df.loc[idx, 'id']\n",
    "    cat_id = df.loc[idx, 'cat_id']\n",
    "\n",
    "    image_path = f'./bungae_images_v2/{cat_id}/{prd_id}.jpg'\n",
    "    if os.path.isfile(image_path):\n",
    "        idx_list.append(idx)\n",
    "    else:\n",
    "        pass"
   ]
  },
  {
   "cell_type": "code",
   "execution_count": 77,
   "id": "3af22d47",
   "metadata": {},
   "outputs": [
    {
     "name": "stdout",
     "output_type": "stream",
     "text": [
      "108647\n"
     ]
    }
   ],
   "source": [
    "# 수정 후 데이터 프레임 길이\n",
    "# 약 600개 정도 사라짐\n",
    "\n",
    "df = df.iloc[idx_list].copy()\n",
    "print(len(df))\n",
    "# 학습에 이용할 새로운 데이터\n",
    "df.to_csv('./v3_newly_reduced_bungae_df.csv', index=False)"
   ]
  },
  {
   "cell_type": "code",
   "execution_count": null,
   "id": "c74341de",
   "metadata": {},
   "outputs": [],
   "source": [
    "# -- 3. 이미지 파일 train, val에 따라서 폴더에 재배치 --"
   ]
  },
  {
   "cell_type": "code",
   "execution_count": 79,
   "id": "b09b83f6",
   "metadata": {},
   "outputs": [],
   "source": [
    "# 새로운 폴더 생성\n",
    "import os\n",
    "import pandas as pd\n",
    "\n",
    "def make_train_val_folders(df):\n",
    "    cat_id_list = list(df['cat_id'].unique())\n",
    "    \n",
    "    for cat_id in cat_id_list:\n",
    "        # -- 폴더 이름은 원하시는 대로 변경해주세요 --\n",
    "        # -- bungae_fashion_image 부분 변경해주시면 돼요 --\n",
    "        os.makedirs(f'./bungae_images_v3/train/{cat_id}')\n",
    "        os.makedirs(f'./bungae_images_v3/val/{cat_id}')\n",
    "        \n",
    "    return \n",
    "\n",
    "make_train_val_folders(df)"
   ]
  },
  {
   "cell_type": "code",
   "execution_count": 80,
   "id": "80e94075",
   "metadata": {},
   "outputs": [],
   "source": [
    "# 데이터 분리하기\n",
    "from sklearn.model_selection import train_test_split\n",
    "\n",
    "def split_train_test_data(df):\n",
    "    # -- train, test split --\n",
    "    train_x, test_x, train_y, test_y = train_test_split(df['name'],\n",
    "                                                        df['cat_id'].values,\n",
    "                                                        random_state=42, \n",
    "                                                        test_size=.2)\n",
    "    # -- train_df, test_df split --\n",
    "    train_df, test_df = df.loc[train_x.index], df.loc[test_x.index]\n",
    "    \n",
    "    # -- resetting index -- \n",
    "    train_df = train_df.reset_index(drop=True)\n",
    "    test_df = test_df.reset_index(drop=True)\n",
    "\n",
    "    return train_df, test_df\n",
    "\n",
    "train_df, test_df = split_train_test_data(df)\n"
   ]
  },
  {
   "cell_type": "code",
   "execution_count": 85,
   "id": "26598a9c",
   "metadata": {},
   "outputs": [
    {
     "data": {
      "application/vnd.jupyter.widget-view+json": {
       "model_id": "65e214b177974f169017cfc6d3bf6f3b",
       "version_major": 2,
       "version_minor": 0
      },
      "text/plain": [
       "  0%|          | 0/86917 [00:00<?, ?it/s]"
      ]
     },
     "metadata": {},
     "output_type": "display_data"
    }
   ],
   "source": [
    "# 이미지 파일 train, val 따라 옮기기\n",
    "# train\n",
    "import shutil\n",
    "\n",
    "for idx in tqdm(range(len(train_df))):\n",
    "    prd_id = train_df.loc[idx, 'id']\n",
    "    cat_id = train_df.loc[idx, 'cat_id']\n",
    "    \n",
    "    pre_image_path = f'./bungae_images_v2/{cat_id}/{prd_id}.jpg'\n",
    "    after_image_path = f'./bungae_images_v3/train/{cat_id}/{prd_id}.jpg'\n",
    "    \n",
    "    # 파일 옮기기\n",
    "    shutil.move(pre_image_path, after_image_path)"
   ]
  },
  {
   "cell_type": "code",
   "execution_count": 87,
   "id": "8cf38492",
   "metadata": {},
   "outputs": [
    {
     "data": {
      "application/vnd.jupyter.widget-view+json": {
       "model_id": "0fec79aeec364c5dbafd127b5913855b",
       "version_major": 2,
       "version_minor": 0
      },
      "text/plain": [
       "  0%|          | 0/21730 [00:00<?, ?it/s]"
      ]
     },
     "metadata": {},
     "output_type": "display_data"
    }
   ],
   "source": [
    "# val\n",
    "for idx in tqdm(range(len(test_df))):\n",
    "    prd_id = test_df.loc[idx, 'id']\n",
    "    cat_id = test_df.loc[idx, 'cat_id']\n",
    "    \n",
    "    pre_image_path = f'./bungae_images_v2/{cat_id}/{prd_id}.jpg'\n",
    "    after_image_path = f'./bungae_images_v3/val/{cat_id}/{prd_id}.jpg'\n",
    "    \n",
    "    # 파일 옮기기\n",
    "    shutil.move(pre_image_path, after_image_path)"
   ]
  }
 ],
 "metadata": {
  "kernelspec": {
   "display_name": "Python 3 (ipykernel)",
   "language": "python",
   "name": "python3"
  },
  "language_info": {
   "codemirror_mode": {
    "name": "ipython",
    "version": 3
   },
   "file_extension": ".py",
   "mimetype": "text/x-python",
   "name": "python",
   "nbconvert_exporter": "python",
   "pygments_lexer": "ipython3",
   "version": "3.11.3"
  }
 },
 "nbformat": 4,
 "nbformat_minor": 5
}
