{
 "cells": [
  {
   "cell_type": "code",
   "execution_count": 50,
   "id": "1b28d5f5",
   "metadata": {},
   "outputs": [
    {
     "name": "stdout",
     "output_type": "stream",
     "text": [
      "<class 'pandas.core.frame.DataFrame'>\n",
      "RangeIndex: 1203018 entries, 0 to 1203017\n",
      "Data columns (total 11 columns):\n",
      " #   Column          Non-Null Count    Dtype \n",
      "---  ------          --------------    ----- \n",
      " 0   id              1203018 non-null  object\n",
      " 1   name            1203018 non-null  object\n",
      " 2   image_url_list  1203018 non-null  object\n",
      " 3   price           1203018 non-null  int64 \n",
      " 4   info            1199641 non-null  object\n",
      " 5   cat_id          1203018 non-null  object\n",
      " 6   writed_at       1203018 non-null  object\n",
      " 7   tag             1112801 non-null  object\n",
      " 8   cat1            1203018 non-null  object\n",
      " 9   cat2            1203018 non-null  object\n",
      " 10  cat3            1133774 non-null  object\n",
      "dtypes: int64(1), object(10)\n",
      "memory usage: 101.0+ MB\n"
     ]
    }
   ],
   "source": [
    "import pandas as pd\n",
    "import re\n",
    "from tqdm.notebook import tqdm\n",
    "\n",
    "bungae_df = pd.read_csv('./new_bgzt_final_data.csv')\n",
    "bungae_df['id'] = bungae_df['id'].astype(str)\n",
    "bungae_df['cat_id'] = bungae_df['cat_id'].astype(str)\n",
    "bungae_df.info()"
   ]
  },
  {
   "cell_type": "code",
   "execution_count": 51,
   "id": "a3166791",
   "metadata": {},
   "outputs": [
    {
     "data": {
      "application/vnd.jupyter.widget-view+json": {
       "model_id": "08dfa597aa474aba822d4cdef674f07c",
       "version_major": 2,
       "version_minor": 0
      },
      "text/plain": [
       "  0%|          | 0/157 [00:00<?, ?it/s]"
      ]
     },
     "metadata": {},
     "output_type": "display_data"
    },
    {
     "name": "stdout",
     "output_type": "stream",
     "text": [
      "109248\n"
     ]
    }
   ],
   "source": [
    "# 새롭게 데이터 뽑기\n",
    "from tqdm.notebook import tqdm\n",
    "# -- 소분류 카테고리당 최대 700까지 줄이기 --\n",
    "cat_id_list = list(bungae_df['cat_id'].unique())\n",
    "\n",
    "new_df = pd.DataFrame()\n",
    "for cat_id in tqdm(cat_id_list):\n",
    "    tmp_df = bungae_df[bungae_df['cat_id'] == cat_id]\n",
    "    if len(tmp_df) > 700: # 700개가 넘으면 700개만 가져오도록\n",
    "        new_df = pd.concat([new_df, tmp_df.sample(700)], ignore_index=True)\n",
    "    elif len(tmp_df) < 700: # 700개가 넘지 않으면 그대로 가져올 수 있도록\n",
    "        new_df = pd.concat([new_df, tmp_df], ignore_index=True)\n",
    "\n",
    "new_df = new_df.reset_index(drop=True)\n",
    "print(len(new_df))"
   ]
  },
  {
   "cell_type": "code",
   "execution_count": 52,
   "id": "b2bdb56d",
   "metadata": {},
   "outputs": [
    {
     "data": {
      "application/vnd.jupyter.widget-view+json": {
       "model_id": "d414237d4b0c4314b9a0e57abdbb617b",
       "version_major": 2,
       "version_minor": 0
      },
      "text/plain": [
       "  0%|          | 0/109248 [00:00<?, ?it/s]"
      ]
     },
     "metadata": {},
     "output_type": "display_data"
    }
   ],
   "source": [
    "url_list = list()\n",
    "for idx in tqdm(range(len(new_df))):\n",
    "    tmp_url = new_df.loc[idx, 'image_url_list']\n",
    "    url = re.sub('[\\[\\']', '', tmp_url.split(',')[0])\n",
    "    \n",
    "    url_list.append(url)"
   ]
  },
  {
   "cell_type": "code",
   "execution_count": 53,
   "id": "0a32f182",
   "metadata": {},
   "outputs": [],
   "source": [
    "new_df['url'] = url"
   ]
  },
  {
   "cell_type": "code",
   "execution_count": 54,
   "id": "9a71f3af",
   "metadata": {
    "scrolled": true
   },
   "outputs": [
    {
     "data": {
      "text/html": [
       "<div>\n",
       "<style scoped>\n",
       "    .dataframe tbody tr th:only-of-type {\n",
       "        vertical-align: middle;\n",
       "    }\n",
       "\n",
       "    .dataframe tbody tr th {\n",
       "        vertical-align: top;\n",
       "    }\n",
       "\n",
       "    .dataframe thead th {\n",
       "        text-align: right;\n",
       "    }\n",
       "</style>\n",
       "<table border=\"1\" class=\"dataframe\">\n",
       "  <thead>\n",
       "    <tr style=\"text-align: right;\">\n",
       "      <th></th>\n",
       "      <th>id</th>\n",
       "      <th>name</th>\n",
       "      <th>cat_id</th>\n",
       "      <th>url</th>\n",
       "    </tr>\n",
       "  </thead>\n",
       "  <tbody>\n",
       "    <tr>\n",
       "      <th>0</th>\n",
       "      <td>207315989</td>\n",
       "      <td>루이비통패딩점퍼</td>\n",
       "      <td>310300200</td>\n",
       "      <td>https://media.bunjang.co.kr/product/109720327_...</td>\n",
       "    </tr>\n",
       "    <tr>\n",
       "      <th>1</th>\n",
       "      <td>213340343</td>\n",
       "      <td>플라스틱아일랜드 라쿤 후드 덕다운 롱패딩</td>\n",
       "      <td>310300200</td>\n",
       "      <td>https://media.bunjang.co.kr/product/109720327_...</td>\n",
       "    </tr>\n",
       "    <tr>\n",
       "      <th>2</th>\n",
       "      <td>179445605</td>\n",
       "      <td>**라쿤털 후드패딩</td>\n",
       "      <td>310300200</td>\n",
       "      <td>https://media.bunjang.co.kr/product/109720327_...</td>\n",
       "    </tr>\n",
       "    <tr>\n",
       "      <th>3</th>\n",
       "      <td>214139452</td>\n",
       "      <td>노이아고 NOI497 에센셜 다운 숏패딩</td>\n",
       "      <td>310300200</td>\n",
       "      <td>https://media.bunjang.co.kr/product/109720327_...</td>\n",
       "    </tr>\n",
       "    <tr>\n",
       "      <th>4</th>\n",
       "      <td>203871555</td>\n",
       "      <td>후아유 리버서블 숏패딩(플리스)</td>\n",
       "      <td>310300200</td>\n",
       "      <td>https://media.bunjang.co.kr/product/109720327_...</td>\n",
       "    </tr>\n",
       "    <tr>\n",
       "      <th>...</th>\n",
       "      <td>...</td>\n",
       "      <td>...</td>\n",
       "      <td>...</td>\n",
       "      <td>...</td>\n",
       "    </tr>\n",
       "    <tr>\n",
       "      <th>109243</th>\n",
       "      <td>214388239</td>\n",
       "      <td>알라딘 셜록홈즈 금속 키링 열쇠고리 굿즈</td>\n",
       "      <td>400999</td>\n",
       "      <td>https://media.bunjang.co.kr/product/109720327_...</td>\n",
       "    </tr>\n",
       "    <tr>\n",
       "      <th>109244</th>\n",
       "      <td>81582461</td>\n",
       "      <td>새) 자주. 수납. 정리. 옷장 가방</td>\n",
       "      <td>400999</td>\n",
       "      <td>https://media.bunjang.co.kr/product/109720327_...</td>\n",
       "    </tr>\n",
       "    <tr>\n",
       "      <th>109245</th>\n",
       "      <td>219590266</td>\n",
       "      <td>귀마개</td>\n",
       "      <td>400999</td>\n",
       "      <td>https://media.bunjang.co.kr/product/109720327_...</td>\n",
       "    </tr>\n",
       "    <tr>\n",
       "      <th>109246</th>\n",
       "      <td>225809818</td>\n",
       "      <td>하회탈 이매탈 팝니다</td>\n",
       "      <td>400999</td>\n",
       "      <td>https://media.bunjang.co.kr/product/109720327_...</td>\n",
       "    </tr>\n",
       "    <tr>\n",
       "      <th>109247</th>\n",
       "      <td>109720327</td>\n",
       "      <td>정품 229 ROYAL BLUE 미개봉 새 지포라이터</td>\n",
       "      <td>400999</td>\n",
       "      <td>https://media.bunjang.co.kr/product/109720327_...</td>\n",
       "    </tr>\n",
       "  </tbody>\n",
       "</table>\n",
       "<p>109248 rows × 4 columns</p>\n",
       "</div>"
      ],
      "text/plain": [
       "               id                           name     cat_id  \\\n",
       "0       207315989                       루이비통패딩점퍼  310300200   \n",
       "1       213340343         플라스틱아일랜드 라쿤 후드 덕다운 롱패딩  310300200   \n",
       "2       179445605                     **라쿤털 후드패딩  310300200   \n",
       "3       214139452         노이아고 NOI497 에센셜 다운 숏패딩  310300200   \n",
       "4       203871555              후아유 리버서블 숏패딩(플리스)  310300200   \n",
       "...           ...                            ...        ...   \n",
       "109243  214388239         알라딘 셜록홈즈 금속 키링 열쇠고리 굿즈     400999   \n",
       "109244   81582461           새) 자주. 수납. 정리. 옷장 가방     400999   \n",
       "109245  219590266                            귀마개     400999   \n",
       "109246  225809818                    하회탈 이매탈 팝니다     400999   \n",
       "109247  109720327  정품 229 ROYAL BLUE 미개봉 새 지포라이터     400999   \n",
       "\n",
       "                                                      url  \n",
       "0       https://media.bunjang.co.kr/product/109720327_...  \n",
       "1       https://media.bunjang.co.kr/product/109720327_...  \n",
       "2       https://media.bunjang.co.kr/product/109720327_...  \n",
       "3       https://media.bunjang.co.kr/product/109720327_...  \n",
       "4       https://media.bunjang.co.kr/product/109720327_...  \n",
       "...                                                   ...  \n",
       "109243  https://media.bunjang.co.kr/product/109720327_...  \n",
       "109244  https://media.bunjang.co.kr/product/109720327_...  \n",
       "109245  https://media.bunjang.co.kr/product/109720327_...  \n",
       "109246  https://media.bunjang.co.kr/product/109720327_...  \n",
       "109247  https://media.bunjang.co.kr/product/109720327_...  \n",
       "\n",
       "[109248 rows x 4 columns]"
      ]
     },
     "execution_count": 54,
     "metadata": {},
     "output_type": "execute_result"
    }
   ],
   "source": [
    "new_df = new_df[['id', 'name', 'cat_id', 'url']].copy()\n",
    "new_df"
   ]
  },
  {
   "cell_type": "code",
   "execution_count": 59,
   "id": "98e05301",
   "metadata": {},
   "outputs": [],
   "source": [
    "# new_df -> to csv\n",
    "new_df.to_csv('./v2_newly_reduced_bungae_df.csv', index=False)"
   ]
  },
  {
   "cell_type": "code",
   "execution_count": 55,
   "id": "c0260e44",
   "metadata": {},
   "outputs": [
    {
     "data": {
      "application/vnd.jupyter.widget-view+json": {
       "model_id": "287cec08a99d48968519b8b88bf64979",
       "version_major": 2,
       "version_minor": 0
      },
      "text/plain": [
       "  0%|          | 0/109248 [00:00<?, ?it/s]"
      ]
     },
     "metadata": {},
     "output_type": "display_data"
    }
   ],
   "source": [
    "# cat_id, url, id 가져와서 리스트로 만들기\n",
    "cat_url_prd_list = list()\n",
    "for idx in tqdm(range(len(new_df))):\n",
    "    cat_id = new_df.loc[idx, 'cat_id']\n",
    "    url = new_df.loc[idx, 'url']\n",
    "    prd_id = new_df.loc[idx, 'id']\n",
    "    cat_url_prd_list.append('__'.join([cat_id, url, prd_id]))"
   ]
  },
  {
   "cell_type": "code",
   "execution_count": 57,
   "id": "d5dbfbf3",
   "metadata": {},
   "outputs": [],
   "source": [
    "# 텍스트 파일로 바꿔주기\n",
    "with open('./bungae_cat_url_prd_list.txt', 'w+') as file: \n",
    "    file.write(','.join(cat_url_prd_list))"
   ]
  },
  {
   "cell_type": "code",
   "execution_count": 13,
   "id": "948611e1",
   "metadata": {},
   "outputs": [],
   "source": [
    "#  -- making folders --"
   ]
  },
  {
   "cell_type": "code",
   "execution_count": 58,
   "id": "74fb28fb",
   "metadata": {},
   "outputs": [],
   "source": [
    "# 1. folder 만들기 (maincat에 따라)\n",
    "\n",
    "import os\n",
    "import pandas as pd\n",
    "\n",
    "def make_folders_for_image(df):\n",
    "    cat_id_list = list(df['cat_id'].unique())\n",
    "    \n",
    "    for cat_id in cat_id_list:\n",
    "        # -- 폴더 이름은 원하시는 대로 변경해주세요 --\n",
    "        # -- bungae_fashion_image 부분 변경해주시면 돼요 --\n",
    "        os.makedirs(f'./bungae_images_v2/{cat_id}')\n",
    "        \n",
    "    return \n",
    "\n",
    "make_folders_for_image(new_df)"
   ]
  },
  {
   "cell_type": "code",
   "execution_count": null,
   "id": "c26ed783",
   "metadata": {},
   "outputs": [],
   "source": [
    "# -- 2. 이미지 파일만 있는 데이터 로우 가져와서 새로운 데이터 프레임 만들어 주기--"
   ]
  },
  {
   "cell_type": "code",
   "execution_count": 60,
   "id": "57482cbd",
   "metadata": {},
   "outputs": [
    {
     "ename": "FileNotFoundError",
     "evalue": "[Errno 2] No such file or directory: './v2_newly_reduced_bungae_df'",
     "output_type": "error",
     "traceback": [
      "\u001b[0;31m---------------------------------------------------------------------------\u001b[0m",
      "\u001b[0;31mFileNotFoundError\u001b[0m                         Traceback (most recent call last)",
      "Cell \u001b[0;32mIn[60], line 3\u001b[0m\n\u001b[1;32m      1\u001b[0m \u001b[38;5;28;01mimport\u001b[39;00m \u001b[38;5;21;01mpandas\u001b[39;00m \u001b[38;5;28;01mas\u001b[39;00m \u001b[38;5;21;01mpd\u001b[39;00m\n\u001b[0;32m----> 3\u001b[0m df \u001b[38;5;241m=\u001b[39m pd\u001b[38;5;241m.\u001b[39mread_csv(\u001b[38;5;124m'\u001b[39m\u001b[38;5;124m./v2_newly_reduced_bungae_df\u001b[39m\u001b[38;5;124m'\u001b[39m)\n\u001b[1;32m      4\u001b[0m df[\u001b[38;5;124m'\u001b[39m\u001b[38;5;124mid\u001b[39m\u001b[38;5;124m'\u001b[39m] \u001b[38;5;241m=\u001b[39m df[\u001b[38;5;124m'\u001b[39m\u001b[38;5;124mid\u001b[39m\u001b[38;5;124m'\u001b[39m]\u001b[38;5;241m.\u001b[39mastype(\u001b[38;5;28mstr\u001b[39m)\n\u001b[1;32m      5\u001b[0m df[\u001b[38;5;124m'\u001b[39m\u001b[38;5;124mcat_id\u001b[39m\u001b[38;5;124m'\u001b[39m] \u001b[38;5;241m=\u001b[39m df[\u001b[38;5;124m'\u001b[39m\u001b[38;5;124mcat_id\u001b[39m\u001b[38;5;124m'\u001b[39m]\u001b[38;5;241m.\u001b[39mastype(\u001b[38;5;28mstr\u001b[39m)\n",
      "File \u001b[0;32m~/opt/anaconda3/envs/finalPJT/lib/python3.11/site-packages/pandas/util/_decorators.py:211\u001b[0m, in \u001b[0;36mdeprecate_kwarg.<locals>._deprecate_kwarg.<locals>.wrapper\u001b[0;34m(*args, **kwargs)\u001b[0m\n\u001b[1;32m    209\u001b[0m     \u001b[38;5;28;01melse\u001b[39;00m:\n\u001b[1;32m    210\u001b[0m         kwargs[new_arg_name] \u001b[38;5;241m=\u001b[39m new_arg_value\n\u001b[0;32m--> 211\u001b[0m \u001b[38;5;28;01mreturn\u001b[39;00m func(\u001b[38;5;241m*\u001b[39margs, \u001b[38;5;241m*\u001b[39m\u001b[38;5;241m*\u001b[39mkwargs)\n",
      "File \u001b[0;32m~/opt/anaconda3/envs/finalPJT/lib/python3.11/site-packages/pandas/util/_decorators.py:331\u001b[0m, in \u001b[0;36mdeprecate_nonkeyword_arguments.<locals>.decorate.<locals>.wrapper\u001b[0;34m(*args, **kwargs)\u001b[0m\n\u001b[1;32m    325\u001b[0m \u001b[38;5;28;01mif\u001b[39;00m \u001b[38;5;28mlen\u001b[39m(args) \u001b[38;5;241m>\u001b[39m num_allow_args:\n\u001b[1;32m    326\u001b[0m     warnings\u001b[38;5;241m.\u001b[39mwarn(\n\u001b[1;32m    327\u001b[0m         msg\u001b[38;5;241m.\u001b[39mformat(arguments\u001b[38;5;241m=\u001b[39m_format_argument_list(allow_args)),\n\u001b[1;32m    328\u001b[0m         \u001b[38;5;167;01mFutureWarning\u001b[39;00m,\n\u001b[1;32m    329\u001b[0m         stacklevel\u001b[38;5;241m=\u001b[39mfind_stack_level(),\n\u001b[1;32m    330\u001b[0m     )\n\u001b[0;32m--> 331\u001b[0m \u001b[38;5;28;01mreturn\u001b[39;00m func(\u001b[38;5;241m*\u001b[39margs, \u001b[38;5;241m*\u001b[39m\u001b[38;5;241m*\u001b[39mkwargs)\n",
      "File \u001b[0;32m~/opt/anaconda3/envs/finalPJT/lib/python3.11/site-packages/pandas/io/parsers/readers.py:950\u001b[0m, in \u001b[0;36mread_csv\u001b[0;34m(filepath_or_buffer, sep, delimiter, header, names, index_col, usecols, squeeze, prefix, mangle_dupe_cols, dtype, engine, converters, true_values, false_values, skipinitialspace, skiprows, skipfooter, nrows, na_values, keep_default_na, na_filter, verbose, skip_blank_lines, parse_dates, infer_datetime_format, keep_date_col, date_parser, dayfirst, cache_dates, iterator, chunksize, compression, thousands, decimal, lineterminator, quotechar, quoting, doublequote, escapechar, comment, encoding, encoding_errors, dialect, error_bad_lines, warn_bad_lines, on_bad_lines, delim_whitespace, low_memory, memory_map, float_precision, storage_options)\u001b[0m\n\u001b[1;32m    935\u001b[0m kwds_defaults \u001b[38;5;241m=\u001b[39m _refine_defaults_read(\n\u001b[1;32m    936\u001b[0m     dialect,\n\u001b[1;32m    937\u001b[0m     delimiter,\n\u001b[0;32m   (...)\u001b[0m\n\u001b[1;32m    946\u001b[0m     defaults\u001b[38;5;241m=\u001b[39m{\u001b[38;5;124m\"\u001b[39m\u001b[38;5;124mdelimiter\u001b[39m\u001b[38;5;124m\"\u001b[39m: \u001b[38;5;124m\"\u001b[39m\u001b[38;5;124m,\u001b[39m\u001b[38;5;124m\"\u001b[39m},\n\u001b[1;32m    947\u001b[0m )\n\u001b[1;32m    948\u001b[0m kwds\u001b[38;5;241m.\u001b[39mupdate(kwds_defaults)\n\u001b[0;32m--> 950\u001b[0m \u001b[38;5;28;01mreturn\u001b[39;00m _read(filepath_or_buffer, kwds)\n",
      "File \u001b[0;32m~/opt/anaconda3/envs/finalPJT/lib/python3.11/site-packages/pandas/io/parsers/readers.py:605\u001b[0m, in \u001b[0;36m_read\u001b[0;34m(filepath_or_buffer, kwds)\u001b[0m\n\u001b[1;32m    602\u001b[0m _validate_names(kwds\u001b[38;5;241m.\u001b[39mget(\u001b[38;5;124m\"\u001b[39m\u001b[38;5;124mnames\u001b[39m\u001b[38;5;124m\"\u001b[39m, \u001b[38;5;28;01mNone\u001b[39;00m))\n\u001b[1;32m    604\u001b[0m \u001b[38;5;66;03m# Create the parser.\u001b[39;00m\n\u001b[0;32m--> 605\u001b[0m parser \u001b[38;5;241m=\u001b[39m TextFileReader(filepath_or_buffer, \u001b[38;5;241m*\u001b[39m\u001b[38;5;241m*\u001b[39mkwds)\n\u001b[1;32m    607\u001b[0m \u001b[38;5;28;01mif\u001b[39;00m chunksize \u001b[38;5;129;01mor\u001b[39;00m iterator:\n\u001b[1;32m    608\u001b[0m     \u001b[38;5;28;01mreturn\u001b[39;00m parser\n",
      "File \u001b[0;32m~/opt/anaconda3/envs/finalPJT/lib/python3.11/site-packages/pandas/io/parsers/readers.py:1442\u001b[0m, in \u001b[0;36mTextFileReader.__init__\u001b[0;34m(self, f, engine, **kwds)\u001b[0m\n\u001b[1;32m   1439\u001b[0m     \u001b[38;5;28mself\u001b[39m\u001b[38;5;241m.\u001b[39moptions[\u001b[38;5;124m\"\u001b[39m\u001b[38;5;124mhas_index_names\u001b[39m\u001b[38;5;124m\"\u001b[39m] \u001b[38;5;241m=\u001b[39m kwds[\u001b[38;5;124m\"\u001b[39m\u001b[38;5;124mhas_index_names\u001b[39m\u001b[38;5;124m\"\u001b[39m]\n\u001b[1;32m   1441\u001b[0m \u001b[38;5;28mself\u001b[39m\u001b[38;5;241m.\u001b[39mhandles: IOHandles \u001b[38;5;241m|\u001b[39m \u001b[38;5;28;01mNone\u001b[39;00m \u001b[38;5;241m=\u001b[39m \u001b[38;5;28;01mNone\u001b[39;00m\n\u001b[0;32m-> 1442\u001b[0m \u001b[38;5;28mself\u001b[39m\u001b[38;5;241m.\u001b[39m_engine \u001b[38;5;241m=\u001b[39m \u001b[38;5;28mself\u001b[39m\u001b[38;5;241m.\u001b[39m_make_engine(f, \u001b[38;5;28mself\u001b[39m\u001b[38;5;241m.\u001b[39mengine)\n",
      "File \u001b[0;32m~/opt/anaconda3/envs/finalPJT/lib/python3.11/site-packages/pandas/io/parsers/readers.py:1735\u001b[0m, in \u001b[0;36mTextFileReader._make_engine\u001b[0;34m(self, f, engine)\u001b[0m\n\u001b[1;32m   1733\u001b[0m     \u001b[38;5;28;01mif\u001b[39;00m \u001b[38;5;124m\"\u001b[39m\u001b[38;5;124mb\u001b[39m\u001b[38;5;124m\"\u001b[39m \u001b[38;5;129;01mnot\u001b[39;00m \u001b[38;5;129;01min\u001b[39;00m mode:\n\u001b[1;32m   1734\u001b[0m         mode \u001b[38;5;241m+\u001b[39m\u001b[38;5;241m=\u001b[39m \u001b[38;5;124m\"\u001b[39m\u001b[38;5;124mb\u001b[39m\u001b[38;5;124m\"\u001b[39m\n\u001b[0;32m-> 1735\u001b[0m \u001b[38;5;28mself\u001b[39m\u001b[38;5;241m.\u001b[39mhandles \u001b[38;5;241m=\u001b[39m get_handle(\n\u001b[1;32m   1736\u001b[0m     f,\n\u001b[1;32m   1737\u001b[0m     mode,\n\u001b[1;32m   1738\u001b[0m     encoding\u001b[38;5;241m=\u001b[39m\u001b[38;5;28mself\u001b[39m\u001b[38;5;241m.\u001b[39moptions\u001b[38;5;241m.\u001b[39mget(\u001b[38;5;124m\"\u001b[39m\u001b[38;5;124mencoding\u001b[39m\u001b[38;5;124m\"\u001b[39m, \u001b[38;5;28;01mNone\u001b[39;00m),\n\u001b[1;32m   1739\u001b[0m     compression\u001b[38;5;241m=\u001b[39m\u001b[38;5;28mself\u001b[39m\u001b[38;5;241m.\u001b[39moptions\u001b[38;5;241m.\u001b[39mget(\u001b[38;5;124m\"\u001b[39m\u001b[38;5;124mcompression\u001b[39m\u001b[38;5;124m\"\u001b[39m, \u001b[38;5;28;01mNone\u001b[39;00m),\n\u001b[1;32m   1740\u001b[0m     memory_map\u001b[38;5;241m=\u001b[39m\u001b[38;5;28mself\u001b[39m\u001b[38;5;241m.\u001b[39moptions\u001b[38;5;241m.\u001b[39mget(\u001b[38;5;124m\"\u001b[39m\u001b[38;5;124mmemory_map\u001b[39m\u001b[38;5;124m\"\u001b[39m, \u001b[38;5;28;01mFalse\u001b[39;00m),\n\u001b[1;32m   1741\u001b[0m     is_text\u001b[38;5;241m=\u001b[39mis_text,\n\u001b[1;32m   1742\u001b[0m     errors\u001b[38;5;241m=\u001b[39m\u001b[38;5;28mself\u001b[39m\u001b[38;5;241m.\u001b[39moptions\u001b[38;5;241m.\u001b[39mget(\u001b[38;5;124m\"\u001b[39m\u001b[38;5;124mencoding_errors\u001b[39m\u001b[38;5;124m\"\u001b[39m, \u001b[38;5;124m\"\u001b[39m\u001b[38;5;124mstrict\u001b[39m\u001b[38;5;124m\"\u001b[39m),\n\u001b[1;32m   1743\u001b[0m     storage_options\u001b[38;5;241m=\u001b[39m\u001b[38;5;28mself\u001b[39m\u001b[38;5;241m.\u001b[39moptions\u001b[38;5;241m.\u001b[39mget(\u001b[38;5;124m\"\u001b[39m\u001b[38;5;124mstorage_options\u001b[39m\u001b[38;5;124m\"\u001b[39m, \u001b[38;5;28;01mNone\u001b[39;00m),\n\u001b[1;32m   1744\u001b[0m )\n\u001b[1;32m   1745\u001b[0m \u001b[38;5;28;01massert\u001b[39;00m \u001b[38;5;28mself\u001b[39m\u001b[38;5;241m.\u001b[39mhandles \u001b[38;5;129;01mis\u001b[39;00m \u001b[38;5;129;01mnot\u001b[39;00m \u001b[38;5;28;01mNone\u001b[39;00m\n\u001b[1;32m   1746\u001b[0m f \u001b[38;5;241m=\u001b[39m \u001b[38;5;28mself\u001b[39m\u001b[38;5;241m.\u001b[39mhandles\u001b[38;5;241m.\u001b[39mhandle\n",
      "File \u001b[0;32m~/opt/anaconda3/envs/finalPJT/lib/python3.11/site-packages/pandas/io/common.py:856\u001b[0m, in \u001b[0;36mget_handle\u001b[0;34m(path_or_buf, mode, encoding, compression, memory_map, is_text, errors, storage_options)\u001b[0m\n\u001b[1;32m    851\u001b[0m \u001b[38;5;28;01melif\u001b[39;00m \u001b[38;5;28misinstance\u001b[39m(handle, \u001b[38;5;28mstr\u001b[39m):\n\u001b[1;32m    852\u001b[0m     \u001b[38;5;66;03m# Check whether the filename is to be opened in binary mode.\u001b[39;00m\n\u001b[1;32m    853\u001b[0m     \u001b[38;5;66;03m# Binary mode does not support 'encoding' and 'newline'.\u001b[39;00m\n\u001b[1;32m    854\u001b[0m     \u001b[38;5;28;01mif\u001b[39;00m ioargs\u001b[38;5;241m.\u001b[39mencoding \u001b[38;5;129;01mand\u001b[39;00m \u001b[38;5;124m\"\u001b[39m\u001b[38;5;124mb\u001b[39m\u001b[38;5;124m\"\u001b[39m \u001b[38;5;129;01mnot\u001b[39;00m \u001b[38;5;129;01min\u001b[39;00m ioargs\u001b[38;5;241m.\u001b[39mmode:\n\u001b[1;32m    855\u001b[0m         \u001b[38;5;66;03m# Encoding\u001b[39;00m\n\u001b[0;32m--> 856\u001b[0m         handle \u001b[38;5;241m=\u001b[39m \u001b[38;5;28mopen\u001b[39m(\n\u001b[1;32m    857\u001b[0m             handle,\n\u001b[1;32m    858\u001b[0m             ioargs\u001b[38;5;241m.\u001b[39mmode,\n\u001b[1;32m    859\u001b[0m             encoding\u001b[38;5;241m=\u001b[39mioargs\u001b[38;5;241m.\u001b[39mencoding,\n\u001b[1;32m    860\u001b[0m             errors\u001b[38;5;241m=\u001b[39merrors,\n\u001b[1;32m    861\u001b[0m             newline\u001b[38;5;241m=\u001b[39m\u001b[38;5;124m\"\u001b[39m\u001b[38;5;124m\"\u001b[39m,\n\u001b[1;32m    862\u001b[0m         )\n\u001b[1;32m    863\u001b[0m     \u001b[38;5;28;01melse\u001b[39;00m:\n\u001b[1;32m    864\u001b[0m         \u001b[38;5;66;03m# Binary mode\u001b[39;00m\n\u001b[1;32m    865\u001b[0m         handle \u001b[38;5;241m=\u001b[39m \u001b[38;5;28mopen\u001b[39m(handle, ioargs\u001b[38;5;241m.\u001b[39mmode)\n",
      "\u001b[0;31mFileNotFoundError\u001b[0m: [Errno 2] No such file or directory: './v2_newly_reduced_bungae_df'"
     ]
    }
   ],
   "source": [
    "import pandas as pd\n",
    "\n",
    "df = pd.read_csv('./v2_newly_reduced_bungae_df')\n",
    "df['id'] = df['id'].astype(str)\n",
    "df['cat_id'] = df['cat_id'].astype(str)\n",
    "\n",
    "# 데이터 수정 전 len\n",
    "print(len(df))"
   ]
  },
  {
   "cell_type": "code",
   "execution_count": 6,
   "id": "d6669d9f",
   "metadata": {
    "scrolled": true
   },
   "outputs": [
    {
     "data": {
      "text/html": [
       "<div>\n",
       "<style scoped>\n",
       "    .dataframe tbody tr th:only-of-type {\n",
       "        vertical-align: middle;\n",
       "    }\n",
       "\n",
       "    .dataframe tbody tr th {\n",
       "        vertical-align: top;\n",
       "    }\n",
       "\n",
       "    .dataframe thead th {\n",
       "        text-align: right;\n",
       "    }\n",
       "</style>\n",
       "<table border=\"1\" class=\"dataframe\">\n",
       "  <thead>\n",
       "    <tr style=\"text-align: right;\">\n",
       "      <th></th>\n",
       "      <th>id</th>\n",
       "      <th>name</th>\n",
       "      <th>info</th>\n",
       "      <th>cat_id</th>\n",
       "      <th>tag</th>\n",
       "      <th>maincat_id</th>\n",
       "      <th>midcat_id</th>\n",
       "    </tr>\n",
       "  </thead>\n",
       "  <tbody>\n",
       "    <tr>\n",
       "      <th>0</th>\n",
       "      <td>202546050</td>\n",
       "      <td>알토라쿤잠바</td>\n",
       "      <td>알토 라쿤잠바입니다 55사이즈네요 모자털 탈부착가능합니다</td>\n",
       "      <td>310300200</td>\n",
       "      <td>알토,라쿤,잠바</td>\n",
       "      <td>310</td>\n",
       "      <td>310300</td>\n",
       "    </tr>\n",
       "    <tr>\n",
       "      <th>1</th>\n",
       "      <td>175146200</td>\n",
       "      <td>코스 오라리맛 푸퍼 다크브라운 40 판매합니다 (코스 다운 패디드 푸퍼)</td>\n",
       "      <td>새상품 판매해요 택포</td>\n",
       "      <td>310300200</td>\n",
       "      <td>코스푸퍼,코스,푸퍼</td>\n",
       "      <td>310</td>\n",
       "      <td>310300</td>\n",
       "    </tr>\n",
       "    <tr>\n",
       "      <th>2</th>\n",
       "      <td>213905890</td>\n",
       "      <td>[S] 커버낫 숏패딩</td>\n",
       "      <td>세탁완료!  깨끗하게 입었습니다 지퍼가 잘 됐다 안됐다 그럽니다;; 저는 똑딱이로 ...</td>\n",
       "      <td>310300200</td>\n",
       "      <td>커버낫,숏,다운,오리털,패딩</td>\n",
       "      <td>310</td>\n",
       "      <td>310300</td>\n",
       "    </tr>\n",
       "    <tr>\n",
       "      <th>3</th>\n",
       "      <td>216998343</td>\n",
       "      <td>더 틸버리 구스패딩</td>\n",
       "      <td>55/한겨울 코트속에 이른봄은 외투로 활용도 높은  구스패딩입니다 컨디션최상~</td>\n",
       "      <td>310300200</td>\n",
       "      <td>더틸버리</td>\n",
       "      <td>310</td>\n",
       "      <td>310300</td>\n",
       "    </tr>\n",
       "    <tr>\n",
       "      <th>4</th>\n",
       "      <td>225515936</td>\n",
       "      <td>Sinoon 시눈 패딩 ELIN PATCHED PADDING</td>\n",
       "      <td>택 달려있어요 잠깐 외출할 때 몇번 입었구 하자 없습니다~!</td>\n",
       "      <td>310300200</td>\n",
       "      <td>시눈,sinoon,패딩,프레클,스푸닝</td>\n",
       "      <td>310</td>\n",
       "      <td>310300</td>\n",
       "    </tr>\n",
       "  </tbody>\n",
       "</table>\n",
       "</div>"
      ],
      "text/plain": [
       "          id                                      name  \\\n",
       "0  202546050                                    알토라쿤잠바   \n",
       "1  175146200  코스 오라리맛 푸퍼 다크브라운 40 판매합니다 (코스 다운 패디드 푸퍼)   \n",
       "2  213905890                               [S] 커버낫 숏패딩   \n",
       "3  216998343                                더 틸버리 구스패딩   \n",
       "4  225515936         Sinoon 시눈 패딩 ELIN PATCHED PADDING   \n",
       "\n",
       "                                                info     cat_id  \\\n",
       "0                    알토 라쿤잠바입니다 55사이즈네요 모자털 탈부착가능합니다  310300200   \n",
       "1                                        새상품 판매해요 택포  310300200   \n",
       "2  세탁완료!  깨끗하게 입었습니다 지퍼가 잘 됐다 안됐다 그럽니다;; 저는 똑딱이로 ...  310300200   \n",
       "3        55/한겨울 코트속에 이른봄은 외투로 활용도 높은  구스패딩입니다 컨디션최상~  310300200   \n",
       "4                  택 달려있어요 잠깐 외출할 때 몇번 입었구 하자 없습니다~!  310300200   \n",
       "\n",
       "                    tag  maincat_id  midcat_id  \n",
       "0              알토,라쿤,잠바         310     310300  \n",
       "1            코스푸퍼,코스,푸퍼         310     310300  \n",
       "2       커버낫,숏,다운,오리털,패딩         310     310300  \n",
       "3                  더틸버리         310     310300  \n",
       "4  시눈,sinoon,패딩,프레클,스푸닝         310     310300  "
      ]
     },
     "execution_count": 6,
     "metadata": {},
     "output_type": "execute_result"
    }
   ],
   "source": [
    "df.head()"
   ]
  },
  {
   "cell_type": "code",
   "execution_count": 85,
   "id": "b8e39ae9",
   "metadata": {},
   "outputs": [
    {
     "data": {
      "application/vnd.jupyter.widget-view+json": {
       "model_id": "59227577a2b24c38bd156748dfe786e7",
       "version_major": 2,
       "version_minor": 0
      },
      "text/plain": [
       "  0%|          | 0/98360 [00:00<?, ?it/s]"
      ]
     },
     "metadata": {},
     "output_type": "display_data"
    }
   ],
   "source": [
    "# 열리지 않는 이미지를 가지고 있는 행 제거하기\n",
    "import pandas as pd\n",
    "import matplotlib.pyplot as plt\n",
    "from tqdm.notebook import tqdm\n",
    "\n",
    "# 파일이 열리는 row의 인덱스만 가져오기\n",
    "idx_list = list()\n",
    "for idx in tqdm(range(len(df))):\n",
    "    prd_id = df.loc[idx, 'product_id']\n",
    "    cat_id = df.loc[idx, 'cat_id']\n",
    "\n",
    "    image_path = f'./bungae_images_v2/{cat_id}/{prd_id}.jpg'\n",
    "    status=None\n",
    "    try:\n",
    "        plt.imread(image_path)\n",
    "        idx_list.append(idx)\n",
    "    except:\n",
    "        pass"
   ]
  }
 ],
 "metadata": {
  "kernelspec": {
   "display_name": "Python 3 (ipykernel)",
   "language": "python",
   "name": "python3"
  },
  "language_info": {
   "codemirror_mode": {
    "name": "ipython",
    "version": 3
   },
   "file_extension": ".py",
   "mimetype": "text/x-python",
   "name": "python",
   "nbconvert_exporter": "python",
   "pygments_lexer": "ipython3",
   "version": "3.11.3"
  }
 },
 "nbformat": 4,
 "nbformat_minor": 5
}
