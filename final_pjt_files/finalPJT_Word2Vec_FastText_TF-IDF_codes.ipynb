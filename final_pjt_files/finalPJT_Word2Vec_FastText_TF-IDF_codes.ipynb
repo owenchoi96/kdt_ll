{
 "cells": [
  {
   "cell_type": "markdown",
   "id": "63834443",
   "metadata": {},
   "source": [
    "***필요한 라이브러리 설치***"
   ]
  },
  {
   "cell_type": "code",
   "execution_count": 8,
   "id": "7f44fe24",
   "metadata": {},
   "outputs": [],
   "source": [
    "# !bash <(curl -s https://raw.githubusercontent.com/konlpy/konlpy/master/scripts/mecab.sh)\n",
    "# !pip3 install mecab-python3\n",
    "# !pip3 install konlpy\n",
    "# !pip install gensim\n",
    "# !conda install -c conda-forge scikit-learn --yes"
   ]
  },
  {
   "cell_type": "markdown",
   "id": "44bade2c",
   "metadata": {},
   "source": [
    "***'여성 숏패딩' 카테고리 csv 파일 하나 가져오기***"
   ]
  },
  {
   "cell_type": "code",
   "execution_count": 73,
   "id": "26260fc3",
   "metadata": {},
   "outputs": [
    {
     "data": {
      "text/html": [
       "<div>\n",
       "<style scoped>\n",
       "    .dataframe tbody tr th:only-of-type {\n",
       "        vertical-align: middle;\n",
       "    }\n",
       "\n",
       "    .dataframe tbody tr th {\n",
       "        vertical-align: top;\n",
       "    }\n",
       "\n",
       "    .dataframe thead th {\n",
       "        text-align: right;\n",
       "    }\n",
       "</style>\n",
       "<table border=\"1\" class=\"dataframe\">\n",
       "  <thead>\n",
       "    <tr style=\"text-align: right;\">\n",
       "      <th></th>\n",
       "      <th>id</th>\n",
       "      <th>name</th>\n",
       "      <th>cat_id</th>\n",
       "      <th>image_url</th>\n",
       "      <th>low_price</th>\n",
       "    </tr>\n",
       "  </thead>\n",
       "  <tbody>\n",
       "    <tr>\n",
       "      <th>0</th>\n",
       "      <td>40007698241</td>\n",
       "      <td>코튼 나일론 스트링 숏 아우터 8SECONDS 323339LY40</td>\n",
       "      <td>310090060</td>\n",
       "      <td>https://shopping-phinf.pstatic.net/main_400076...</td>\n",
       "      <td>35912</td>\n",
       "    </tr>\n",
       "    <tr>\n",
       "      <th>1</th>\n",
       "      <td>38543761083</td>\n",
       "      <td>온앤온 NC11 니트 카라 덕 다운 숏 패딩 NJP2WMA02</td>\n",
       "      <td>310090060</td>\n",
       "      <td>https://shopping-phinf.pstatic.net/main_385437...</td>\n",
       "      <td>148230</td>\n",
       "    </tr>\n",
       "    <tr>\n",
       "      <th>2</th>\n",
       "      <td>35692762113</td>\n",
       "      <td>폭스퍼 슬림 숏 덕다운 A224PWDA07</td>\n",
       "      <td>310090060</td>\n",
       "      <td>https://shopping-phinf.pstatic.net/main_356927...</td>\n",
       "      <td>125000</td>\n",
       "    </tr>\n",
       "    <tr>\n",
       "      <th>3</th>\n",
       "      <td>39838075591</td>\n",
       "      <td>컴포트핏 집업 숏 아우터 8SECONDS 323239LYC5</td>\n",
       "      <td>310090060</td>\n",
       "      <td>https://shopping-phinf.pstatic.net/main_398380...</td>\n",
       "      <td>31913</td>\n",
       "    </tr>\n",
       "    <tr>\n",
       "      <th>4</th>\n",
       "      <td>82785708214</td>\n",
       "      <td>[당일출고]오리털 여성 경량패딩 슬림 이너패딩</td>\n",
       "      <td>310090060</td>\n",
       "      <td>https://shopping-phinf.pstatic.net/main_827857...</td>\n",
       "      <td>22800</td>\n",
       "    </tr>\n",
       "  </tbody>\n",
       "</table>\n",
       "</div>"
      ],
      "text/plain": [
       "            id                                  name     cat_id  \\\n",
       "0  40007698241  코튼 나일론 스트링 숏 아우터 8SECONDS 323339LY40  310090060   \n",
       "1  38543761083    온앤온 NC11 니트 카라 덕 다운 숏 패딩 NJP2WMA02  310090060   \n",
       "2  35692762113               폭스퍼 슬림 숏 덕다운 A224PWDA07  310090060   \n",
       "3  39838075591     컴포트핏 집업 숏 아우터 8SECONDS 323239LYC5  310090060   \n",
       "4  82785708214             [당일출고]오리털 여성 경량패딩 슬림 이너패딩  310090060   \n",
       "\n",
       "                                           image_url  low_price  \n",
       "0  https://shopping-phinf.pstatic.net/main_400076...      35912  \n",
       "1  https://shopping-phinf.pstatic.net/main_385437...     148230  \n",
       "2  https://shopping-phinf.pstatic.net/main_356927...     125000  \n",
       "3  https://shopping-phinf.pstatic.net/main_398380...      31913  \n",
       "4  https://shopping-phinf.pstatic.net/main_827857...      22800  "
      ]
     },
     "execution_count": 73,
     "metadata": {},
     "output_type": "execute_result"
    }
   ],
   "source": [
    "import pandas as pd\n",
    "df = pd.read_csv('./cat_id_310090060_DF.csv')\n",
    "df.head()"
   ]
  },
  {
   "cell_type": "markdown",
   "id": "db887521",
   "metadata": {},
   "source": [
    "***Word2Vec, FastText, TF-IDF 활용***"
   ]
  },
  {
   "cell_type": "markdown",
   "id": "e07f1c81",
   "metadata": {},
   "source": [
    "- 최대한 숏패딩과 가까운 데이터를 가져옴으로서\n",
    "- 전처리 혹은 레이블링 작업 과정 수요를 더 수월하게 하기 위해서 "
   ]
  },
  {
   "cell_type": "code",
   "execution_count": 74,
   "id": "1b62a143",
   "metadata": {
    "scrolled": true
   },
   "outputs": [],
   "source": [
    "from gensim.models import Word2Vec\n",
    "from gensim.models.fasttext import FastText\n",
    "from konlpy.tag import Mecab\n",
    "import gensim"
   ]
  },
  {
   "cell_type": "markdown",
   "id": "8e1c9b08",
   "metadata": {},
   "source": [
    "**토크 나이징**"
   ]
  },
  {
   "cell_type": "code",
   "execution_count": 75,
   "id": "036e68b4",
   "metadata": {},
   "outputs": [],
   "source": [
    "# 형태 분석기 Okt, Mecab, Komoran, Hannanum, Kkma 트라이 해보기\n",
    "tokenizer = Mecab()\n",
    "\n",
    "tokens = []\n",
    "for idx in range(len(df)):\n",
    "    token = tokenizer.morphs(df.loc[idx]['name'])\n",
    "    if len(token) > 1:\n",
    "        tokens.append(token)"
   ]
  },
  {
   "cell_type": "code",
   "execution_count": 95,
   "id": "e28fb977",
   "metadata": {},
   "outputs": [],
   "source": [
    "# TF-IDF 용 리스트\n",
    "docs = list(df['name'])"
   ]
  },
  {
   "cell_type": "markdown",
   "id": "cf801ddd",
   "metadata": {},
   "source": [
    "**Word2Vec 학습**"
   ]
  },
  {
   "cell_type": "markdown",
   "id": "d00b0ae8",
   "metadata": {},
   "source": [
    "파라미터\n",
    "- sg: 0 (CBOW), 1(skip-gram)\n",
    "- vector_size : 벡터의 차원수\n",
    "- window : 현재 단어와 예측 단어 간의 거리\n",
    "- alpha : 초기 학습률\n",
    "- seed : 임의 숫자를 생성할 때 사용하는 값\n",
    "- min_count : 빈도수가 이 값보다 낮으면 그 단어를 제거 (빈도가 적은 단어들은 학습하지 않는다)\n",
    "- workers : 학습을 위한 프로세스 수"
   ]
  },
  {
   "cell_type": "code",
   "execution_count": 78,
   "id": "0af69b15",
   "metadata": {
    "scrolled": true
   },
   "outputs": [
    {
     "data": {
      "text/plain": [
       "[('조끼', 0.7213610410690308),\n",
       " ('레이어드', 0.6834876537322998),\n",
       " ('베스트', 0.682614803314209),\n",
       " ('초겨울', 0.6800909638404846),\n",
       " ('가벼운', 0.6774418950080872),\n",
       " ('오리털', 0.6633782386779785),\n",
       " ('골덴', 0.6629576683044434),\n",
       " ('스커트', 0.6586331725120544),\n",
       " ('반', 0.6576777696609497),\n",
       " ('버튼', 0.6495097875595093),\n",
       " ('수입', 0.6481094360351562),\n",
       " ('빈티지', 0.6475752592086792),\n",
       " ('레드', 0.6439412832260132),\n",
       " ('잠바', 0.6435971260070801),\n",
       " ('하이넥', 0.6399156451225281),\n",
       " ('학생', 0.6387754082679749),\n",
       " ('여친', 0.6386480331420898),\n",
       " ('금장', 0.6349058747291565),\n",
       " ('유광', 0.6346677541732788),\n",
       " ('모자', 0.6295254826545715),\n",
       " ('점퍼', 0.6289642453193665),\n",
       " ('체크', 0.6265172362327576),\n",
       " ('이너', 0.6263688802719116),\n",
       " ('박시', 0.619596004486084),\n",
       " ('항공', 0.6190775632858276),\n",
       " ('퀼팅', 0.6179395318031311),\n",
       " ('다이아', 0.6178331971168518),\n",
       " ('절기', 0.6164189577102661),\n",
       " ('베이직', 0.6161524057388306),\n",
       " ('스트링', 0.6146500110626221)]"
      ]
     },
     "execution_count": 78,
     "metadata": {},
     "output_type": "execute_result"
    }
   ],
   "source": [
    "model1 = Word2Vec(tokens, vector_size=100, window=5, min_count=5, workers=4, sg=0)\n",
    "\n",
    "model1.wv.most_similar('패딩', topn=30)\n"
   ]
  },
  {
   "cell_type": "code",
   "execution_count": 79,
   "id": "2bd64d89",
   "metadata": {},
   "outputs": [],
   "source": [
    "for _ in range(30):\n",
    "    model1 = Word2Vec(vector_size=100, min_count=5, window=5, workers=4, sg=0)\n",
    "    model1.build_vocab(tokens)\n",
    "    total_examples = model1.corpus_count\n",
    "    model1.train(tokens, total_examples=model1.corpus_count, epochs=10)"
   ]
  },
  {
   "cell_type": "code",
   "execution_count": 84,
   "id": "be238d99",
   "metadata": {
    "scrolled": true
   },
   "outputs": [
    {
     "name": "stdout",
     "output_type": "stream",
     "text": [
      "롱|레이어드|조끼|오리털|하프|퀄팅|체크|누빔|블랙|경량|잠바|골덴|가벼운|다이아|단추|파스텔|깔깔이|꽃무늬|유광|베스트\n"
     ]
    },
    {
     "data": {
      "text/plain": [
       "[('롱', 0.5765172243118286),\n",
       " ('레이어드', 0.5576663613319397),\n",
       " ('조끼', 0.5551348328590393),\n",
       " ('오리털', 0.549066960811615),\n",
       " ('하프', 0.5466918349266052),\n",
       " ('퀄팅', 0.5444952845573425),\n",
       " ('체크', 0.5442023277282715),\n",
       " ('누빔', 0.5370717644691467),\n",
       " ('블랙', 0.532168984413147),\n",
       " ('경량', 0.5258167386054993),\n",
       " ('잠바', 0.514199435710907),\n",
       " ('골덴', 0.5093244910240173),\n",
       " ('가벼운', 0.5066898465156555),\n",
       " ('다이아', 0.5041057467460632),\n",
       " ('단추', 0.49633634090423584),\n",
       " ('파스텔', 0.4796222448348999),\n",
       " ('깔깔이', 0.47543689608573914),\n",
       " ('꽃무늬', 0.4744662940502167),\n",
       " ('유광', 0.4721851646900177),\n",
       " ('베스트', 0.47175562381744385)]"
      ]
     },
     "execution_count": 84,
     "metadata": {},
     "output_type": "execute_result"
    }
   ],
   "source": [
    "results = model1.wv.most_similar(positive=['숏', '패딩'], topn=20)\n",
    "keywords_list = [result[0] for result in results]\n",
    "keywords = str('|'.join(keywords_list))\n",
    "print(keywords)\n",
    "results"
   ]
  },
  {
   "cell_type": "code",
   "execution_count": 234,
   "id": "5e1b5215",
   "metadata": {},
   "outputs": [],
   "source": [
    "del model1"
   ]
  },
  {
   "cell_type": "code",
   "execution_count": 86,
   "id": "2cdcdf59",
   "metadata": {},
   "outputs": [
    {
     "data": {
      "text/plain": [
       "4                                [당일출고]오리털 여성 경량패딩 슬림 이너패딩\n",
       "5                    숏패딩 여성 경량 패딩 오리털 퀼팅점퍼 덕다운 다이아 유니클로 대체\n",
       "14                               시슬리 구스다운 경량 숏패딩 SAPDC2161\n",
       "18                       블루페페 세이브존06 구스 경량 숏 패딩 P214PSJ841\n",
       "35                                       여성 노카라 경량 숏패딩 깔깔이\n",
       "                               ...                        \n",
       "11989    나이키 NSW 써마핏 시티 시리즈 재킷 덕다운 숏패딩 골프 경량 DH4080-601  M\n",
       "11990    나이키 NSW 써마핏 시티 시리즈 재킷 덕다운 숏패딩 골프 경량 DH4080-010  L\n",
       "11992     숏타입 경량 ERKE 패딩 야외운동 스타일 여성겨울자켓  C02- 카키  T07-4XL\n",
       "11998                        아디다스 우먼스 블랙 후드 숏 패딩 H18637  M\n",
       "11999       나이키 여성 숏패딩 Air Synthetic 화이트 블랙 DH1367-113  XL\n",
       "Name: name, Length: 5149, dtype: object"
      ]
     },
     "execution_count": 86,
     "metadata": {},
     "output_type": "execute_result"
    }
   ],
   "source": [
    "short_jumper_df = df[~df['name'].str.contains('롱|바람막이')].copy()\n",
    "short_jumper_df['name'][short_jumper_df['name'].str.contains(keywords)]"
   ]
  },
  {
   "cell_type": "markdown",
   "id": "8731449a",
   "metadata": {},
   "source": [
    "**FastText 학습**"
   ]
  },
  {
   "cell_type": "code",
   "execution_count": 88,
   "id": "fe14e21d",
   "metadata": {
    "scrolled": true
   },
   "outputs": [
    {
     "data": {
      "text/plain": [
       "[('초경량', 0.8560408353805542),\n",
       " ('퀄팅패딩', 0.8465202450752258),\n",
       " ('레이어드', 0.8432528972625732),\n",
       " ('조끼', 0.8343632817268372),\n",
       " ('경량', 0.8300626277923584),\n",
       " ('모자', 0.827700138092041),\n",
       " ('크롭', 0.8234612941741943),\n",
       " ('파스텔', 0.820763111114502),\n",
       " ('수입', 0.8203874826431274),\n",
       " ('잠바', 0.8155559301376343),\n",
       " ('초겨울', 0.8141323328018188),\n",
       " ('유광', 0.8111475706100464),\n",
       " ('여학생', 0.8028049468994141),\n",
       " ('오리', 0.7995994687080383),\n",
       " ('골덴', 0.798895537853241),\n",
       " ('중학생', 0.7966083884239197),\n",
       " ('오리털', 0.7958369851112366),\n",
       " ('버튼', 0.7913188934326172),\n",
       " ('점퍼', 0.789621889591217),\n",
       " ('외출', 0.7891978025436401),\n",
       " ('베스트', 0.7890758514404297),\n",
       " ('가벼운', 0.788623571395874),\n",
       " ('만', 0.7882905006408691),\n",
       " ('단추', 0.7872329354286194),\n",
       " ('학생', 0.7844907641410828),\n",
       " ('베이직', 0.7841367721557617),\n",
       " ('퀼팅', 0.7838664054870605),\n",
       " ('라운드', 0.7798560261726379),\n",
       " ('데이트', 0.7785240411758423),\n",
       " ('금장', 0.7771201133728027)]"
      ]
     },
     "execution_count": 88,
     "metadata": {},
     "output_type": "execute_result"
    }
   ],
   "source": [
    "model2 = FastText(tokens, vector_size=100, window=5, min_count=5, workers=4, sg=0)\n",
    "model2.wv.most_similar(['숏', '패딩'], topn=30)"
   ]
  },
  {
   "cell_type": "code",
   "execution_count": null,
   "id": "ef35beec",
   "metadata": {},
   "outputs": [],
   "source": [
    "model2.wv."
   ]
  },
  {
   "cell_type": "markdown",
   "id": "210d35df",
   "metadata": {},
   "source": [
    "**TF-IDF 학습**"
   ]
  },
  {
   "cell_type": "code",
   "execution_count": 100,
   "id": "c1f2b523",
   "metadata": {},
   "outputs": [],
   "source": [
    "from sklearn.feature_extraction.text import TfidfVectorizer\n",
    "import pandas as pd\n",
    "import numpy as np\n",
    "\n",
    "vectorizer = TfidfVectorizer(max_features=5000)\n",
    "tf_idf_vector = vectorizer.fit_transform(docs)"
   ]
  },
  {
   "cell_type": "code",
   "execution_count": 110,
   "id": "ffaa3726",
   "metadata": {},
   "outputs": [
    {
     "data": {
      "text/plain": [
       "array([[0., 0., 0., ..., 0., 0., 0.],\n",
       "       [0., 0., 0., ..., 0., 0., 0.],\n",
       "       [0., 0., 0., ..., 0., 0., 0.],\n",
       "       ...,\n",
       "       [0., 0., 0., ..., 0., 0., 0.],\n",
       "       [0., 0., 0., ..., 0., 0., 0.],\n",
       "       [0., 0., 0., ..., 0., 0., 0.]])"
      ]
     },
     "execution_count": 110,
     "metadata": {},
     "output_type": "execute_result"
    }
   ],
   "source": [
    "tf_idf_vector.toarray()"
   ]
  },
  {
   "cell_type": "code",
   "execution_count": null,
   "id": "aed0d03e",
   "metadata": {},
   "outputs": [],
   "source": []
  },
  {
   "cell_type": "code",
   "execution_count": 112,
   "id": "507c73da",
   "metadata": {},
   "outputs": [
    {
     "data": {
      "text/plain": [
       "['숏', '패딩']"
      ]
     },
     "execution_count": 112,
     "metadata": {},
     "output_type": "execute_result"
    }
   ],
   "source": [
    "mecab = Mecab()\n",
    "mecab.morphs('숏패딩')"
   ]
  },
  {
   "cell_type": "code",
   "execution_count": null,
   "id": "4af5d9cd",
   "metadata": {},
   "outputs": [],
   "source": []
  },
  {
   "cell_type": "code",
   "execution_count": null,
   "id": "d157d6cb",
   "metadata": {},
   "outputs": [],
   "source": []
  }
 ],
 "metadata": {
  "kernelspec": {
   "display_name": "Python 3 (ipykernel)",
   "language": "python",
   "name": "python3"
  },
  "language_info": {
   "codemirror_mode": {
    "name": "ipython",
    "version": 3
   },
   "file_extension": ".py",
   "mimetype": "text/x-python",
   "name": "python",
   "nbconvert_exporter": "python",
   "pygments_lexer": "ipython3",
   "version": "3.11.3"
  }
 },
 "nbformat": 4,
 "nbformat_minor": 5
}
