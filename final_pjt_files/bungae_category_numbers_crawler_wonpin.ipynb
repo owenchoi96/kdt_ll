{
 "cells": [
  {
   "cell_type": "markdown",
   "id": "4e71a2c8",
   "metadata": {},
   "source": [
    "***카테고리 별로 고유 넘버를 가져오는 크롤러***"
   ]
  },
  {
   "cell_type": "code",
   "execution_count": null,
   "id": "88e0004f",
   "metadata": {},
   "outputs": [],
   "source": [
    "import json\n",
    "import requests\n",
    "import pandas as pd\n",
    "import numpy as np\n",
    "\n",
    "def crawl_category_nums():\n",
    "    \"\"\"\n",
    "    category dictionary function \n",
    "    카테고리 번호만으로 json 파일 만들기 \n",
    "    번호만 있었을 때 나중에 상세정보 크롤링을 할 때 편리할 것으로 예상됨. \n",
    "    \n",
    "    만약 번호말고 다른 정보도 필요하다면 코드를 수정하여 \n",
    "    카테고리 이름도 가져올 수 있음. \n",
    "    \"\"\"\n",
    "    \n",
    "    base_url = 'https://api.bunjang.co.kr/api/1/categories/list.json' # 비동기 방식으로 크롤링할 때 쓰일 base url\n",
    "    headers = { \n",
    "    'User-Agent' : 'Mozilla/5.0 (Macintosh; Intel Mac OS X 10_15_7) AppleWebKit/537.36 (KHTML, like Gecko) Chrome/113.0.0.0 Safari/537.36'\n",
    "        }\n",
    "    res = requests.get(base_url, headers = headers)\n",
    "    data = res.json()\n",
    "    \n",
    "    cat_1, cat_2, cat_3 = None, None, None # 변수 초기화\n",
    "    cat_dict = {} # 최종적으로 넣어줄 category dictionary \n",
    "    \n",
    "    for cats1 in data['categories']:\n",
    "        cat_1 = cats1['id'] # 가장 상위 카테고리 cat_1\n",
    "        try: # '기타' 카테고리 이후로는 'categories'가 없음.  \n",
    "            tmp_dict = {} # 임시적으로 담아줄 dictionary\n",
    "            for cats2 in cats1['categories']: \n",
    "                cat_2 = cats2['id'] # 다음 카테고리인 cat_2\n",
    "                tmp_dict[cat_2] = [] # cat_2 이름별로 따로 빈 리스트 만들어주기 \n",
    "                try: # cat_1, cat_2 다음 cat_3가 없는 경우가 있음. \n",
    "                    for cats3 in cats2['categories']: # 다음 세부 항목 (cat_3)는 'categories' 안에 들어있음. \n",
    "                        cat_3 = cats3['id'] \n",
    "                        tmp_dict[cat_2].append(cat_3) # 아까 만들어 주었던 빈 리스트에 cat_3 항목들 넣어주기 \n",
    "                    cat_dict[cat_1] = tmp_dict\n",
    "                except:\n",
    "                    cat_3 = None # cat_3가 없는 경우 None으로 채워주기\n",
    "                    tmp_dict[cat_2].append(cat_3)\n",
    "                cat_dict[cat_1] = tmp_dict\n",
    "\n",
    "        except: # '기타' 카테고리에 걸칠 경우 break\n",
    "            break \n",
    "            \n",
    "    json_data = json.dumps(cat_dict, indent=4)  \n",
    "    with open('bungae_unique_category_numbers.json', 'w') as f: # json 파일로 내보내기 \n",
    "        f.write(json_data)\n",
    "        \n",
    "    gc.collect() \n",
    "        \n",
    "    return\n",
    "\n",
    "if __name__ == '__main__':\n",
    "    crawl_category_nums()"
   ]
  },
  {
   "cell_type": "markdown",
   "id": "8b2b489e",
   "metadata": {},
   "source": [
    "***카테고리 번호에 따라 이름을 알 수 있는 json 파일 만드는 함수***"
   ]
  },
  {
   "cell_type": "code",
   "execution_count": 15,
   "id": "6efd06d8",
   "metadata": {},
   "outputs": [],
   "source": [
    "# 생각해보니 카테고리 번호를 통해 카테고리 이름을 알고 싶은 경우가\n",
    "# 무조건 생길 것으로 예상됨\n",
    "# 그래서 카테고리 번호를 넣으면 카테고리 이름을 알려주는 크롤러 혹은 함수를 만들고자 함. \n",
    "# 나중에 이전 함수와 같이 활용되어 카테고리 분류에 사용될 것으로 예상됨. \n",
    "\n",
    "import json\n",
    "import requests\n",
    "import pandas as pd\n",
    "import numpy as np\n",
    "from collections import Counter\n",
    "\n",
    "def mapping_category_titles_and_nums() -> None:\n",
    "    \"\"\"\n",
    "    카테고리 번호를 통해 카테고리 이름을 알 수 있도록 해주는 함수. \n",
    "    \n",
    "    해당 함수는 단순히 카테고리 번호에 따라 카테고리 이름이 무엇인지 매핑하여\n",
    "    json파일로 내보내는 함수입니다. \n",
    "    \"\"\"\n",
    "    \n",
    "    base_url = 'https://api.bunjang.co.kr/api/1/categories/list.json' # 비동기 방식으로 크롤링할 때 쓰일 base url\n",
    "    headers = { \n",
    "    'User-Agent' : 'Mozilla/5.0 (Macintosh; Intel Mac OS X 10_15_7) AppleWebKit/537.36 (KHTML, like Gecko) Chrome/113.0.0.0 Safari/537.36'\n",
    "        }\n",
    "    res = requests.get(base_url, headers = headers)\n",
    "    data = res.json()\n",
    "    \n",
    "    cat_1, cat_2, cat_3 = None, None, None # 변수 초기화\n",
    "    title_1, title_2, title_3 = None, None, None\n",
    "    cat_1_dict, cat_2_dict, cat_3_dict = {}, {}, {} # 카테고리 hierachy 대로 따로 ditionary 생성\n",
    "        \n",
    "    for cats1 in data['categories']:\n",
    "        cat_1 = cats1['id'] # 가장 상위 카테고리 cat_1\n",
    "        title_1 = cats1['title'] # 가장 상위 카테고리 이름\n",
    "        cat_1_dict[cat_1] = title_1 # cat_1_dict에 넣어주기 \n",
    "        try: # '기타' 카테고리 이후로는 'categories'가 없음.  \n",
    "            for cats2 in cats1['categories']: \n",
    "                cat_2 = cats2['id'] # 다음 카테고리인 cat_2\n",
    "                title_2 = cats2['title'] # 다음 카테고리 이름\n",
    "                cat_2_dict[cat_2] = title_2 # cat_2_dict에 넣어주기 \n",
    "                try: # cat_1, cat_2 다음 cat_3가 없는 경우가 있음. \n",
    "                    for cats3 in cats2['categories']: # 다음 세부 항목 (cat_3)는 'categories' 안에 들어있음. \n",
    "                        cat_3 = cats3['id'] # 다음 카테고리인 cat_3\n",
    "                        title_3 = cats3['title'] # 카테고리명\n",
    "                        cat_3_dict[cat_3] = title_3 # cat_3_dict에 넣어주기 \n",
    "                except: # cat_3가 없는 경우\n",
    "                    continue \n",
    "\n",
    "        except: # '기타' 카테고리에 걸칠 경우 break\n",
    "            break \n",
    "        \n",
    "        final_dict = dict(cat_1_dict, **cat_2_dict, **cat_3_dict)\n",
    "        json_data = json.dumps(final_dict, indent=4)  \n",
    "        with open('bungae_mapping_category_nums_and_titles.json', 'w') as f: # json 파일로 내보내기 \n",
    "            f.write(json_data)\n",
    "        \n",
    "    return \n",
    "\n",
    "mapping_category_titles_and_nums()"
   ]
  },
  {
   "cell_type": "code",
   "execution_count": null,
   "id": "3c7c1f00",
   "metadata": {},
   "outputs": [],
   "source": []
  },
  {
   "cell_type": "code",
   "execution_count": null,
   "id": "e01b824e",
   "metadata": {},
   "outputs": [],
   "source": []
  },
  {
   "cell_type": "code",
   "execution_count": null,
   "id": "67910983",
   "metadata": {},
   "outputs": [],
   "source": []
  },
  {
   "cell_type": "code",
   "execution_count": null,
   "id": "8545af7f",
   "metadata": {},
   "outputs": [],
   "source": []
  },
  {
   "cell_type": "code",
   "execution_count": null,
   "id": "95f733a3",
   "metadata": {},
   "outputs": [],
   "source": []
  },
  {
   "cell_type": "code",
   "execution_count": null,
   "id": "2c4cb1fb",
   "metadata": {},
   "outputs": [],
   "source": []
  },
  {
   "cell_type": "markdown",
   "id": "8b3a75a6",
   "metadata": {},
   "source": [
    "***상품 상세 정보 크롤러***"
   ]
  },
  {
   "cell_type": "code",
   "execution_count": null,
   "id": "15955e8f",
   "metadata": {},
   "outputs": [],
   "source": [
    "# multiprocessing 활용\n",
    "# 위에서 카테고리 별로 고유 번호를 나눈 이유는 \n",
    "# 카테고리 별로 병렬적으로 크롤링을 해보기 위함. "
   ]
  },
  {
   "cell_type": "code",
   "execution_count": null,
   "id": "280898a4",
   "metadata": {},
   "outputs": [],
   "source": []
  },
  {
   "cell_type": "code",
   "execution_count": null,
   "id": "79b2a8a7",
   "metadata": {},
   "outputs": [],
   "source": []
  },
  {
   "cell_type": "code",
   "execution_count": null,
   "id": "6c60a7ee",
   "metadata": {},
   "outputs": [],
   "source": []
  },
  {
   "cell_type": "code",
   "execution_count": null,
   "id": "b1e99d62",
   "metadata": {},
   "outputs": [],
   "source": []
  },
  {
   "cell_type": "code",
   "execution_count": null,
   "id": "06fb4f83",
   "metadata": {},
   "outputs": [],
   "source": []
  },
  {
   "cell_type": "code",
   "execution_count": null,
   "id": "0d9141b4",
   "metadata": {},
   "outputs": [],
   "source": []
  },
  {
   "cell_type": "code",
   "execution_count": null,
   "id": "43bc07bd",
   "metadata": {},
   "outputs": [],
   "source": []
  },
  {
   "cell_type": "code",
   "execution_count": null,
   "id": "5c23d1cd",
   "metadata": {},
   "outputs": [],
   "source": []
  },
  {
   "cell_type": "code",
   "execution_count": null,
   "id": "656c0b8b",
   "metadata": {},
   "outputs": [],
   "source": []
  },
  {
   "cell_type": "code",
   "execution_count": null,
   "id": "a904481b",
   "metadata": {},
   "outputs": [],
   "source": []
  },
  {
   "cell_type": "code",
   "execution_count": null,
   "id": "a3588980",
   "metadata": {},
   "outputs": [],
   "source": []
  }
 ],
 "metadata": {
  "kernelspec": {
   "display_name": "Python 3 (ipykernel)",
   "language": "python",
   "name": "python3"
  },
  "language_info": {
   "codemirror_mode": {
    "name": "ipython",
    "version": 3
   },
   "file_extension": ".py",
   "mimetype": "text/x-python",
   "name": "python",
   "nbconvert_exporter": "python",
   "pygments_lexer": "ipython3",
   "version": "3.11.3"
  }
 },
 "nbformat": 4,
 "nbformat_minor": 5
}
