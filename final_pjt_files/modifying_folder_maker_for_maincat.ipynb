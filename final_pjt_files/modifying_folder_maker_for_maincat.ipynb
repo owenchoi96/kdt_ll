{
 "cells": [
  {
   "cell_type": "code",
   "execution_count": 13,
   "id": "7a72d380",
   "metadata": {},
   "outputs": [],
   "source": [
    "#  -- base code --\n",
    "import os\n",
    "import shutil\n",
    "\n",
    "file_source = './test_image_folder/'\n",
    "file_destination = './test_image_folder_destination/'\n",
    "\n",
    "get_source_files = os.listdir(file_source)\n",
    "get_destination_files = os.listdir(file_destination)\n",
    "\n",
    "for g in get_source_files:\n",
    "    if g[:3] in get_destination_files:\n",
    "        get_image_files = os.listdir(file_source + g)\n",
    "        for image in get_image_files:\n",
    "            shutil.move(file_source + g + '/' + image, file_destination + g[:3])"
   ]
  },
  {
   "cell_type": "code",
   "execution_count": 21,
   "id": "4f75ddff",
   "metadata": {},
   "outputs": [],
   "source": [
    "# -- code used --\n",
    "\n",
    "# 1. folder 만들기 (maincat에 따라)\n",
    "\n",
    "import os\n",
    "import pandas as pd\n",
    "\n",
    "def make_folders_for_image():\n",
    "    df = pd.read_csv('./bungae_df_for_image_crawling.csv')\n",
    "    cat_id_list = list(df['main_cat'].unique())\n",
    "    \n",
    "    for cat_id in cat_id_list:\n",
    "        # -- 폴더 이름은 원하시는 대로 변경해주세요 --\n",
    "        # -- bungae_fashion_image 부분 변경해주시면 돼요 --\n",
    "        os.makedirs(f'./test_image_folder/{cat_id}')\n",
    "        \n",
    "    return \n",
    "\n",
    "make_folders_for_image()"
   ]
  },
  {
   "cell_type": "code",
   "execution_count": 19,
   "id": "1e4ec454",
   "metadata": {
    "scrolled": true
   },
   "outputs": [],
   "source": [
    "# !conda install -c conda-forge tqdm --yes"
   ]
  },
  {
   "cell_type": "code",
   "execution_count": 23,
   "id": "453d9497",
   "metadata": {},
   "outputs": [
    {
     "data": {
      "application/vnd.jupyter.widget-view+json": {
       "model_id": "d03400c07b444b7b89364a4abca97fec",
       "version_major": 2,
       "version_minor": 0
      },
      "text/plain": [
       "  0%|          | 0/171 [00:00<?, ?it/s]"
      ]
     },
     "metadata": {},
     "output_type": "display_data"
    }
   ],
   "source": [
    "# 2. 파일 옮기기\n",
    "\n",
    "import os \n",
    "import shutil\n",
    "from tqdm.notebook import tqdm\n",
    "\n",
    "\n",
    "file_source = './bungae_fashion_image copy/'\n",
    "file_destination = './test_image_folder/'\n",
    "\n",
    "get_source_files = os.listdir(file_source)\n",
    "get_destination_files = os.listdir(file_destination)\n",
    "\n",
    "\n",
    "for g in tqdm(get_source_files):\n",
    "    if g[:3] in get_destination_files:\n",
    "        get_image_files = os.listdir(file_source + g)\n",
    "        for image in get_image_files:\n",
    "            shutil.move(file_source + g + '/' + image, file_destination + g[:3])"
   ]
  },
  {
   "cell_type": "code",
   "execution_count": 53,
   "id": "f79cc59a",
   "metadata": {},
   "outputs": [
    {
     "data": {
      "text/html": [
       "<div>\n",
       "<style scoped>\n",
       "    .dataframe tbody tr th:only-of-type {\n",
       "        vertical-align: middle;\n",
       "    }\n",
       "\n",
       "    .dataframe tbody tr th {\n",
       "        vertical-align: top;\n",
       "    }\n",
       "\n",
       "    .dataframe thead th {\n",
       "        text-align: right;\n",
       "    }\n",
       "</style>\n",
       "<table border=\"1\" class=\"dataframe\">\n",
       "  <thead>\n",
       "    <tr style=\"text-align: right;\">\n",
       "      <th></th>\n",
       "      <th>product_id</th>\n",
       "      <th>product_name</th>\n",
       "      <th>image_url</th>\n",
       "      <th>image_cnt</th>\n",
       "      <th>cat_id</th>\n",
       "      <th>main_cat</th>\n",
       "      <th>mid_cat</th>\n",
       "    </tr>\n",
       "  </thead>\n",
       "  <tbody>\n",
       "    <tr>\n",
       "      <th>0</th>\n",
       "      <td>217365207</td>\n",
       "      <td>경량롱패딩</td>\n",
       "      <td>https://media.bunjang.co.kr/product/217365207_...</td>\n",
       "      <td>3.0</td>\n",
       "      <td>310090050</td>\n",
       "      <td>310</td>\n",
       "      <td>310090</td>\n",
       "    </tr>\n",
       "    <tr>\n",
       "      <th>1</th>\n",
       "      <td>175507846</td>\n",
       "      <td>롱패딩 판매합니다</td>\n",
       "      <td>https://media.bunjang.co.kr/product/175507846_...</td>\n",
       "      <td>4.0</td>\n",
       "      <td>310090050</td>\n",
       "      <td>310</td>\n",
       "      <td>310090</td>\n",
       "    </tr>\n",
       "    <tr>\n",
       "      <th>2</th>\n",
       "      <td>213094512</td>\n",
       "      <td>피레넥스 여성 화이트 패딩 55판-69</td>\n",
       "      <td>https://media.bunjang.co.kr/product/213094512_...</td>\n",
       "      <td>10.0</td>\n",
       "      <td>310090050</td>\n",
       "      <td>310</td>\n",
       "      <td>310090</td>\n",
       "    </tr>\n",
       "    <tr>\n",
       "      <th>3</th>\n",
       "      <td>208884568</td>\n",
       "      <td>보브 다운패딩</td>\n",
       "      <td>https://media.bunjang.co.kr/product/208884568_...</td>\n",
       "      <td>2.0</td>\n",
       "      <td>310090050</td>\n",
       "      <td>310</td>\n",
       "      <td>310090</td>\n",
       "    </tr>\n",
       "    <tr>\n",
       "      <th>4</th>\n",
       "      <td>164395818</td>\n",
       "      <td>에이글 코트타입 구스 자켓 L사이즈</td>\n",
       "      <td>https://media.bunjang.co.kr/product/164395818_...</td>\n",
       "      <td>5.0</td>\n",
       "      <td>310090050</td>\n",
       "      <td>310</td>\n",
       "      <td>310090</td>\n",
       "    </tr>\n",
       "  </tbody>\n",
       "</table>\n",
       "</div>"
      ],
      "text/plain": [
       "   product_id           product_name  \\\n",
       "0   217365207                  경량롱패딩   \n",
       "1   175507846              롱패딩 판매합니다   \n",
       "2   213094512  피레넥스 여성 화이트 패딩 55판-69   \n",
       "3   208884568                보브 다운패딩   \n",
       "4   164395818    에이글 코트타입 구스 자켓 L사이즈   \n",
       "\n",
       "                                           image_url  image_cnt     cat_id  \\\n",
       "0  https://media.bunjang.co.kr/product/217365207_...        3.0  310090050   \n",
       "1  https://media.bunjang.co.kr/product/175507846_...        4.0  310090050   \n",
       "2  https://media.bunjang.co.kr/product/213094512_...       10.0  310090050   \n",
       "3  https://media.bunjang.co.kr/product/208884568_...        2.0  310090050   \n",
       "4  https://media.bunjang.co.kr/product/164395818_...        5.0  310090050   \n",
       "\n",
       "   main_cat  mid_cat  \n",
       "0       310   310090  \n",
       "1       310   310090  \n",
       "2       310   310090  \n",
       "3       310   310090  \n",
       "4       310   310090  "
      ]
     },
     "execution_count": 53,
     "metadata": {},
     "output_type": "execute_result"
    }
   ],
   "source": [
    "# 이미지 파일만 있는 데이터 로우 가져와서 새로운 데이터 프레임 만들어 주기\n",
    "\n",
    "df = pd.read_csv('./bungae_df_for_multimodal')\n",
    "df.head()"
   ]
  },
  {
   "cell_type": "code",
   "execution_count": 54,
   "id": "dd3db3ff",
   "metadata": {},
   "outputs": [
    {
     "data": {
      "text/plain": [
       "98360"
      ]
     },
     "execution_count": 54,
     "metadata": {},
     "output_type": "execute_result"
    }
   ],
   "source": [
    "len(df)"
   ]
  },
  {
   "cell_type": "code",
   "execution_count": 85,
   "id": "125abe47",
   "metadata": {},
   "outputs": [
    {
     "data": {
      "application/vnd.jupyter.widget-view+json": {
       "model_id": "59227577a2b24c38bd156748dfe786e7",
       "version_major": 2,
       "version_minor": 0
      },
      "text/plain": [
       "  0%|          | 0/98360 [00:00<?, ?it/s]"
      ]
     },
     "metadata": {},
     "output_type": "display_data"
    }
   ],
   "source": [
    "# -- 열리지 않는 이미지를 가지고 있는 행 제거하기 --\n",
    "import pandas as pd\n",
    "import matplotlib.pyplot as plt\n",
    "from tqdm.notebook import tqdm\n",
    "\n",
    "# 데이터 불러오기 \n",
    "df = pd.read_csv('./bungae_df_for_multimodal')\n",
    "df['product_id'] = df['product_id'].astype(str)\n",
    "df['cat_id'] = df['cat_id'].astype(str)\n",
    "df['main_cat'] = df['main_cat'].astype(str)\n",
    "df['mid_cat'] = df['mid_cat'].astype(str)\n",
    "df.head()\n",
    "\n",
    "# 파일이 열리는 row의 인덱스만 가져오기\n",
    "idx_list = list()\n",
    "for idx in tqdm(range(len(df))):\n",
    "    prd_id = df.loc[idx, 'product_id']\n",
    "    cat_id = df.loc[idx, 'cat_id']\n",
    "\n",
    "    image_path = f'./bungae_fashion_image/{cat_id}/{prd_id}_image.jpg'\n",
    "    status=None\n",
    "    try:\n",
    "        plt.imread(image_path)\n",
    "        idx_list.append(idx)\n",
    "    except:\n",
    "        pass"
   ]
  },
  {
   "cell_type": "code",
   "execution_count": 86,
   "id": "6e0e573d",
   "metadata": {},
   "outputs": [
    {
     "name": "stdout",
     "output_type": "stream",
     "text": [
      "<class 'pandas.core.frame.DataFrame'>\n",
      "RangeIndex: 97744 entries, 0 to 97743\n",
      "Data columns (total 7 columns):\n",
      " #   Column        Non-Null Count  Dtype  \n",
      "---  ------        --------------  -----  \n",
      " 0   product_id    97744 non-null  object \n",
      " 1   product_name  97744 non-null  object \n",
      " 2   image_url     97744 non-null  object \n",
      " 3   image_cnt     97744 non-null  float64\n",
      " 4   cat_id        97744 non-null  object \n",
      " 5   main_cat      97744 non-null  object \n",
      " 6   mid_cat       97744 non-null  object \n",
      "dtypes: float64(1), object(6)\n",
      "memory usage: 5.2+ MB\n"
     ]
    }
   ],
   "source": [
    "# -- 새로운 데이터 프레임 to_csv --\n",
    "# -- 구글 드라이브로 옮김 --\n",
    "revised_df = df.iloc[idx_list]\n",
    "revised_df = revised_df.reset_index(drop=True)\n",
    "revised_df.info()\n",
    "# revised_df.to_csv('./revised_bungae_df.csv', index=False)"
   ]
  },
  {
   "cell_type": "code",
   "execution_count": 88,
   "id": "6a7160a1",
   "metadata": {},
   "outputs": [
    {
     "data": {
      "text/plain": [
       "97744"
      ]
     },
     "execution_count": 88,
     "metadata": {},
     "output_type": "execute_result"
    }
   ],
   "source": [
    "# -- 새로운 데이터 프레임 길이 --\n",
    "len(revised_df)"
   ]
  }
 ],
 "metadata": {
  "kernelspec": {
   "display_name": "Python 3 (ipykernel)",
   "language": "python",
   "name": "python3"
  },
  "language_info": {
   "codemirror_mode": {
    "name": "ipython",
    "version": 3
   },
   "file_extension": ".py",
   "mimetype": "text/x-python",
   "name": "python",
   "nbconvert_exporter": "python",
   "pygments_lexer": "ipython3",
   "version": "3.11.3"
  }
 },
 "nbformat": 4,
 "nbformat_minor": 5
}
